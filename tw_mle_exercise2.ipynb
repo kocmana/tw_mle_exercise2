{
 "cells": [
  {
   "cell_type": "markdown",
   "metadata": {
    "collapsed": true,
    "pycharm": {
     "name": "#%% md\n"
    }
   },
   "source": [
    "# MLE - Exercise 2\n",
    "## Andreas Kocman (se19m024)\n",
    "\n",
    "## Assignment\n",
    "In this exercise, you shall experiment with a number of (simple) algorithms on several datasets. The aim is to get a feeling how well each of these algorithms works, and whether there are differences depending on the dataset.\n",
    "\n",
    "The datasets are\n",
    "* [Iris](https://archive.ics.uci.edu/ml/datasets/Iris), for Python, use http://scikit-learn.org/stable/modules/generated/sklearn.datasets.load_iris.html)\n",
    "* [Handwritten digits](https://archive.ics.uci.edu/ml/datasets/Optical+Recognition+of+Handwritten+Digits), of which we only use the test set of 1797 instances; for Python, use http://scikit-learn.org/stable/modules/generated/sklearn.datasets.load_digits.html)\n",
    "* If you are a group of three (see below): [Breast Cancer dataset](https://archive.ics.uci.edu/ml/datasets/Breast+Cancer+Wisconsin+(Diagnostic)); skip the ID field; in Python: http://scikit-learn.org/stable/modules/generated/sklearn.datasets.load_breast_cancer.html)\n",
    "\n",
    "The classifiers you shall use are\n",
    "* k-NN (with 3 different values for k)\n",
    "* Naive Bayes\n",
    "* Perceptron, and\n",
    "* Decision Trees with 3 different parameter settings (e.g. some pre-pruning setting, different split criterion, ...)\n",
    "\n",
    "For each dataset, you shall train and evaluate each classifier (with parameter variations), and then compute several evaluation metrics\n",
    "* Effectiveness: Accuracy, and 1 more of your choice (precision, recall, F1, ...\n",
    "* Efficiency: runtime for training & testing\n",
    "* As evaluation set splitting technique, you shall use once the holdout method with 2/3 training and the rest for testing, and once cross validation with 5 folds.\n",
    "\n",
    "You shall present these results in a tabular form, with one table for each dataset & splitting combination approach.\n",
    "\n",
    "Iris/5-folds | Accurcay | Precision| Training time | Testing time\n",
    "---|---|---|---|---|---\n",
    "k-NN (3-NN) | .85 | .82 | 0.1 sec | 27 sec\n",
    "Naive Bayes | .72 | .82 | 1 sec | 2 sec\n",
    "Decision Tree | .92 | .76 | 5 sec | 2 sec\n",
    "... | ... | ...| ... | ...\n",
    "\n",
    "\n",
    "Then describe the results, and analyse e.g.:\n",
    "* Which classifiers work best?\n",
    "* Are there differences between the datasets?\n",
    "* Are the differences in the efficiency measurements?\n",
    "* How is the runtime changing with the different data sets?\n",
    "* ...\n",
    "\n",
    "You can solve this exercise alone, or in a group of two students. If you form a group, you need to extend your scope, by\n",
    "* Adding a third dataset, namely breast cancer wisconsin\n",
    "* For k-NN, using 5 different values for k instead of 3, and use both weighted and uniform distance (i.e. a total of 10 combinations); for Decision Trees, also add 3 more parameter variations\n",
    "* Adding a third efficiency evaluation metric\n",
    "\n",
    "Your submission shall contain\n",
    "* The textual report\n",
    "* All code samples and\n",
    "* All data sets (if not already included in your software package, e.g. Python)"
   ]
  },
  {
   "cell_type": "code",
   "execution_count": 22,
   "outputs": [],
   "source": [
    "#General Imports\n",
    "\n",
    "import numpy as np\n",
    "from sklearn.model_selection import train_test_split\n",
    "from sklearn import datasets\n",
    "from sklearn import neighbors\n",
    "from sklearn import metrics\n",
    "from sklearn.utils import shuffle\n",
    "import pandas as pd\n",
    "import time\n",
    "import datetime\n",
    "\n",
    "#Data reporting\n",
    "from IPython.display import display, HTML\n",
    "import matplotlib.pyplot as plt"
   ],
   "metadata": {
    "collapsed": false,
    "pycharm": {
     "name": "#%%\n"
    }
   }
  },
  {
   "cell_type": "markdown",
   "source": [
    "## k-NN\n",
    "\n",
    "### Iris"
   ],
   "metadata": {
    "collapsed": false,
    "pycharm": {
     "name": "#%% md\n"
    }
   }
  },
  {
   "cell_type": "code",
   "execution_count": 23,
   "outputs": [
    {
     "data": {
      "text/plain": "   accuracy precision time training time testing\n1       0.9       0.9             0   0.00299501\n2      0.92      0.92             0   0.00299263\n3      0.94      0.94    0.00100017   0.00199223\n4      0.92      0.92   0.000997782   0.00199461\n5      0.96      0.96             0    0.0029912\n6      0.92      0.92   0.000997543   0.00199366\n7      0.96      0.96    0.00099802   0.00199389\n8      0.92      0.92   0.000997782   0.00199413\n9      0.98      0.98   0.000998259   0.00199389\n10     0.92      0.92             0   0.00199556\n11     0.92      0.92             0   0.00199437\n12     0.92      0.92             0    0.0039885\n13     0.96      0.96   0.000997305   0.00199413\n14     0.92      0.92             0   0.00199533",
      "text/html": "<div>\n<style scoped>\n    .dataframe tbody tr th:only-of-type {\n        vertical-align: middle;\n    }\n\n    .dataframe tbody tr th {\n        vertical-align: top;\n    }\n\n    .dataframe thead th {\n        text-align: right;\n    }\n</style>\n<table border=\"1\" class=\"dataframe\">\n  <thead>\n    <tr style=\"text-align: right;\">\n      <th></th>\n      <th>accuracy</th>\n      <th>precision</th>\n      <th>time training</th>\n      <th>time testing</th>\n    </tr>\n  </thead>\n  <tbody>\n    <tr>\n      <th>1</th>\n      <td>0.9</td>\n      <td>0.9</td>\n      <td>0</td>\n      <td>0.00299501</td>\n    </tr>\n    <tr>\n      <th>2</th>\n      <td>0.92</td>\n      <td>0.92</td>\n      <td>0</td>\n      <td>0.00299263</td>\n    </tr>\n    <tr>\n      <th>3</th>\n      <td>0.94</td>\n      <td>0.94</td>\n      <td>0.00100017</td>\n      <td>0.00199223</td>\n    </tr>\n    <tr>\n      <th>4</th>\n      <td>0.92</td>\n      <td>0.92</td>\n      <td>0.000997782</td>\n      <td>0.00199461</td>\n    </tr>\n    <tr>\n      <th>5</th>\n      <td>0.96</td>\n      <td>0.96</td>\n      <td>0</td>\n      <td>0.0029912</td>\n    </tr>\n    <tr>\n      <th>6</th>\n      <td>0.92</td>\n      <td>0.92</td>\n      <td>0.000997543</td>\n      <td>0.00199366</td>\n    </tr>\n    <tr>\n      <th>7</th>\n      <td>0.96</td>\n      <td>0.96</td>\n      <td>0.00099802</td>\n      <td>0.00199389</td>\n    </tr>\n    <tr>\n      <th>8</th>\n      <td>0.92</td>\n      <td>0.92</td>\n      <td>0.000997782</td>\n      <td>0.00199413</td>\n    </tr>\n    <tr>\n      <th>9</th>\n      <td>0.98</td>\n      <td>0.98</td>\n      <td>0.000998259</td>\n      <td>0.00199389</td>\n    </tr>\n    <tr>\n      <th>10</th>\n      <td>0.92</td>\n      <td>0.92</td>\n      <td>0</td>\n      <td>0.00199556</td>\n    </tr>\n    <tr>\n      <th>11</th>\n      <td>0.92</td>\n      <td>0.92</td>\n      <td>0</td>\n      <td>0.00199437</td>\n    </tr>\n    <tr>\n      <th>12</th>\n      <td>0.92</td>\n      <td>0.92</td>\n      <td>0</td>\n      <td>0.0039885</td>\n    </tr>\n    <tr>\n      <th>13</th>\n      <td>0.96</td>\n      <td>0.96</td>\n      <td>0.000997305</td>\n      <td>0.00199413</td>\n    </tr>\n    <tr>\n      <th>14</th>\n      <td>0.92</td>\n      <td>0.92</td>\n      <td>0</td>\n      <td>0.00199533</td>\n    </tr>\n  </tbody>\n</table>\n</div>"
     },
     "metadata": {},
     "output_type": "display_data"
    },
    {
     "data": {
      "text/plain": "<matplotlib.axes._subplots.AxesSubplot at 0xee10550>"
     },
     "execution_count": 23,
     "metadata": {},
     "output_type": "execute_result"
    },
    {
     "data": {
      "text/plain": "<Figure size 432x288 with 1 Axes>",
      "image/png": "[encoded data removed]"
     },
     "metadata": {
      "needs_background": "light"
     },
     "output_type": "display_data"
    }
   ],
   "source": [
    "# load the Iris dataset\n",
    "dataSet = datasets.load_iris()\n",
    "\n",
    "# Shuffle our input data\n",
    "randomState=24 # change the state with the numeric parts of your matrikelnummer; if you are in a group, use the sume of the numeric parts\n",
    "data, target = shuffle(dataSet.data, dataSet.target, random_state=randomState)\n",
    "\n",
    "testvalues = range(1,15)\n",
    "\n",
    "# Prepare dataframe for results\n",
    "knn_results_iris = pd.DataFrame(columns=['accuracy','precision','time training', 'time testing'], index=testvalues)\n",
    "\n",
    "# Prepare a train/test set split\n",
    "# split 2/3 1/3 into training & test set\n",
    "# We use the random number generator state +1; this will influence how our data is split\n",
    "X_train, X_test, y_train, y_test = train_test_split(data, target, test_size=0.33, random_state=(randomState+1))\n",
    "\n",
    "# parameters for k-NN\n",
    "n_neighbors = testvalues\n",
    "\n",
    "for n in n_neighbors:\n",
    "    # train the k-NN\n",
    "    classifier = neighbors.KNeighborsClassifier(n)\n",
    "    start_time_train = time.time()\n",
    "    classifier.fit(X_train, y_train)\n",
    "    end_time_train = time.time()\n",
    "\n",
    "    # predict the test set on our trained classifier\n",
    "    start_time_test = time.time()\n",
    "    y_test_predicted = classifier.predict(X_test)\n",
    "    end_time_test = time.time()\n",
    "\n",
    "    # Compute metrics\n",
    "    acc=metrics.accuracy_score(y_test, y_test_predicted)\n",
    "    precision=metrics.precision_score(y_test, y_test_predicted, average=\"micro\")\n",
    "\n",
    "    knn_results_iris.loc[n] = pd.Series({\n",
    "        'accuracy':acc,\n",
    "        'precision':precision,\n",
    "        'time training':end_time_train-start_time_train,\n",
    "        'time testing':end_time_test-start_time_test\n",
    "    })\n",
    "\n",
    "display(knn_results_iris)\n",
    "knn_results_iris[['accuracy','precision']].plot.line()"
   ],
   "metadata": {
    "collapsed": false,
    "pycharm": {
     "name": "#%%\n"
    }
   }
  },
  {
   "cell_type": "markdown",
   "source": [
    "### Handwritten Numbers"
   ],
   "metadata": {
    "collapsed": false,
    "pycharm": {
     "name": "#%% md\n"
    }
   }
  },
  {
   "cell_type": "code",
   "execution_count": 24,
   "outputs": [
    {
     "data": {
      "text/plain": "   accuracy precision time training time testing\n1       0.9       0.9             0    0.0030241\n2      0.92      0.92   0.000988722   0.00202179\n3      0.94      0.94             0   0.00196719\n4      0.92      0.92             0   0.00299382\n5      0.96      0.96   0.000997543   0.00199461\n6      0.92      0.92             0   0.00199509\n7      0.96      0.96             0   0.00198102\n8      0.92      0.92             0   0.00199389\n9      0.98      0.98             0    0.0019958\n10     0.92      0.92             0    0.0029912",
      "text/html": "<div>\n<style scoped>\n    .dataframe tbody tr th:only-of-type {\n        vertical-align: middle;\n    }\n\n    .dataframe tbody tr th {\n        vertical-align: top;\n    }\n\n    .dataframe thead th {\n        text-align: right;\n    }\n</style>\n<table border=\"1\" class=\"dataframe\">\n  <thead>\n    <tr style=\"text-align: right;\">\n      <th></th>\n      <th>accuracy</th>\n      <th>precision</th>\n      <th>time training</th>\n      <th>time testing</th>\n    </tr>\n  </thead>\n  <tbody>\n    <tr>\n      <th>1</th>\n      <td>0.9</td>\n      <td>0.9</td>\n      <td>0</td>\n      <td>0.0030241</td>\n    </tr>\n    <tr>\n      <th>2</th>\n      <td>0.92</td>\n      <td>0.92</td>\n      <td>0.000988722</td>\n      <td>0.00202179</td>\n    </tr>\n    <tr>\n      <th>3</th>\n      <td>0.94</td>\n      <td>0.94</td>\n      <td>0</td>\n      <td>0.00196719</td>\n    </tr>\n    <tr>\n      <th>4</th>\n      <td>0.92</td>\n      <td>0.92</td>\n      <td>0</td>\n      <td>0.00299382</td>\n    </tr>\n    <tr>\n      <th>5</th>\n      <td>0.96</td>\n      <td>0.96</td>\n      <td>0.000997543</td>\n      <td>0.00199461</td>\n    </tr>\n    <tr>\n      <th>6</th>\n      <td>0.92</td>\n      <td>0.92</td>\n      <td>0</td>\n      <td>0.00199509</td>\n    </tr>\n    <tr>\n      <th>7</th>\n      <td>0.96</td>\n      <td>0.96</td>\n      <td>0</td>\n      <td>0.00198102</td>\n    </tr>\n    <tr>\n      <th>8</th>\n      <td>0.92</td>\n      <td>0.92</td>\n      <td>0</td>\n      <td>0.00199389</td>\n    </tr>\n    <tr>\n      <th>9</th>\n      <td>0.98</td>\n      <td>0.98</td>\n      <td>0</td>\n      <td>0.0019958</td>\n    </tr>\n    <tr>\n      <th>10</th>\n      <td>0.92</td>\n      <td>0.92</td>\n      <td>0</td>\n      <td>0.0029912</td>\n    </tr>\n  </tbody>\n</table>\n</div>"
     },
     "metadata": {},
     "output_type": "display_data"
    },
    {
     "data": {
      "text/plain": "<matplotlib.axes._subplots.AxesSubplot at 0xfed8a70>"
     },
     "execution_count": 24,
     "metadata": {},
     "output_type": "execute_result"
    },
    {
     "data": {
      "text/plain": "<Figure size 432x288 with 1 Axes>",
      "image/png": "[encoded data removed]"
     },
     "metadata": {
      "needs_background": "light"
     },
     "output_type": "display_data"
    }
   ],
   "source": [
    "# load the digit dataset\n",
    "dataSet = datasets.load_iris()\n",
    "\n",
    "# Shuffle our input data\n",
    "randomState=24 # change the state with the numeric parts of your matrikelnummer; if you are in a group, use the sume of the numeric parts\n",
    "data, target = shuffle(dataSet.data, dataSet.target, random_state=randomState)\n",
    "\n",
    "testvalues = range(1,11)\n",
    "\n",
    "# Prepare dataframe for results\n",
    "knn_results_numbers = pd.DataFrame(columns=['accuracy','precision','time training', 'time testing'], index=testvalues)\n",
    "\n",
    "# Prepare a train/test set split\n",
    "# split 2/3 1/3 into training & test set\n",
    "# We use the random number generator state +1; this will influence how our data is split\n",
    "X_train, X_test, y_train, y_test = train_test_split(data, target, test_size=0.33, random_state=(randomState+1))\n",
    "\n",
    "# parameters for k-NN\n",
    "n_neighbors = testvalues\n",
    "\n",
    "for n in n_neighbors:\n",
    "    # train the k-NN\n",
    "    classifier = neighbors.KNeighborsClassifier(n)\n",
    "    start_time_train = time.time()\n",
    "    classifier.fit(X_train, y_train)\n",
    "    end_time_train = time.time()\n",
    "\n",
    "    # predict the test set on our trained classifier\n",
    "    start_time_test = time.time()\n",
    "    y_test_predicted = classifier.predict(X_test)\n",
    "    end_time_test = time.time()\n",
    "\n",
    "    # Compute metrics\n",
    "    acc=metrics.accuracy_score(y_test, y_test_predicted)\n",
    "    precision=metrics.precision_score(y_test, y_test_predicted, average=\"micro\")\n",
    "\n",
    "    knn_results_numbers.loc[n] = pd.Series({\n",
    "        'accuracy':acc,\n",
    "        'precision':precision,\n",
    "        'time training':end_time_train-start_time_train,\n",
    "        'time testing':end_time_test-start_time_test\n",
    "    })\n",
    "\n",
    "display(knn_results_numbers)\n",
    "knn_results_numbers[['accuracy','precision']].plot.line()"
   ],
   "metadata": {
    "collapsed": false,
    "pycharm": {
     "name": "#%%\n"
    }
   }
  },
  {
   "cell_type": "markdown",
   "source": [
    "# Example Code"
   ],
   "metadata": {
    "collapsed": false
   }
  },
  {
   "cell_type": "code",
   "source": [
    "# load the Iris dataset\n",
    "dataSet = datasets.load_iris()\n",
    "\n",
    "\n",
    "# Shuffle our input data\n",
    "randomState=24 # change the state with the numeric parts of your matrikelnummer; if you are in a group, use the sume of the numeric parts\n",
    "data, target = shuffle(dataSet.data, dataSet.target, random_state=randomState)\n",
    "\n",
    "# Prepare a train/test set split\n",
    "# split 2/3 1/3 into training & test set\n",
    "# We use the random number generator state +1; this will influence how our data is split\n",
    "X_train, X_test, y_train, y_test = train_test_split(data, target, test_size=0.33, random_state=(randomState+1))\n",
    "\n",
    "# parameters for k-NN\n",
    "n_neighbors = 15\n",
    "\n",
    "# train the k-NN\n",
    "classifier = neighbors.KNeighborsClassifier(n_neighbors)\n",
    "start_time_train = time.time()\n",
    "classifier.fit(X_train, y_train)\n",
    "end_time_train = time.time()\n",
    "\n",
    "# predict the test set on our trained classifier\n",
    "start_time_test = time.time()\n",
    "y_test_predicted = classifier.predict(X_test)\n",
    "end_time_test = time.time()\n",
    "\n",
    "# Compute metrics\n",
    "acc=metrics.accuracy_score(y_test, y_test_predicted)\n",
    "precision=metrics.precision_score(y_test, y_test_predicted, average=\"micro\")\n",
    "\n",
    "print(\"accuracy: \" + str(acc))\n",
    "print(\"precision: \" + str(precision))\n",
    "print(\"time training: \" + str(end_time_train-start_time_train) + \" seconds\")\n",
    "print(\"time training: \" + str(end_time_test-start_time_test) + \" seconds\")\n"
   ],
   "metadata": {
    "collapsed": false,
    "pycharm": {
     "name": "#%%\n"
    }
   },
   "execution_count": 2,
   "outputs": [
    {
     "name": "stdout",
     "output_type": "stream",
     "text": [
      "accuracy: 0.92\n",
      "precision: 0.92\n",
      "time training: 0.0009970664978027344 seconds\n",
      "time training: 0.0019943714141845703 seconds\n"
     ]
    }
   ]
  }
 ],
 "metadata": {
  "kernelspec": {
   "display_name": "Python 3",
   "language": "python",
   "name": "python3"
  },
  "language_info": {
   "codemirror_mode": {
    "name": "ipython",
    "version": 2
   },
   "file_extension": ".py",
   "mimetype": "text/x-python",
   "name": "python",
   "nbconvert_exporter": "python",
   "pygments_lexer": "ipython2",
   "version": "2.7.6"
  }
 },
 "nbformat": 4,
 "nbformat_minor": 0
}