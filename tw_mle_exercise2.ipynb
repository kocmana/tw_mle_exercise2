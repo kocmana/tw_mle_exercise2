{
 "cells": [
  {
   "cell_type": "markdown",
   "metadata": {
    "collapsed": true,
    "pycharm": {
     "name": "#%% md\n"
    }
   },
   "source": [
    "# MLE - Exercise 2 - Comparative Experimentation\n",
    "## Andreas Kocman (se19m024)\n",
    "\n",
    "## Assignment\n",
    "In this exercise, you shall experiment with a number of (simple) algorithms on several datasets. The aim is to get a feeling how well each of these algorithms works, and whether there are differences depending on the dataset.\n",
    "\n",
    "The datasets are\n",
    "* [Iris](https://archive.ics.uci.edu/ml/datasets/Iris), for Python, use http://scikit-learn.org/stable/modules/generated/sklearn.datasets.load_iris.html)\n",
    "* [Handwritten digits](https://archive.ics.uci.edu/ml/datasets/Optical+Recognition+of+Handwritten+Digits), of which we only use the test set of 1797 instances; for Python, use http://scikit-learn.org/stable/modules/generated/sklearn.datasets.load_digits.html)\n",
    "* If you are a group of three (see below): [Breast Cancer dataset](https://archive.ics.uci.edu/ml/datasets/Breast+Cancer+Wisconsin+(Diagnostic)); skip the ID field; in Python: http://scikit-learn.org/stable/modules/generated/sklearn.datasets.load_breast_cancer.html)\n",
    "\n",
    "The classifiers you shall use are\n",
    "* k-NN (with 3 different values for k)\n",
    "* Naive Bayes\n",
    "* Perceptron, and\n",
    "* Decision Trees with 3 different parameter settings (e.g. some pre-pruning setting, different split criterion, ...)\n",
    "\n",
    "For each dataset, you shall train and evaluate each classifier (with parameter variations), and then compute several evaluation metrics\n",
    "* Effectiveness: Accuracy, and 1 more of your choice (precision, recall, F1, ...\n",
    "* Efficiency: runtime for training & testing\n",
    "* As evaluation set splitting technique, you shall use once the holdout method with 2/3 training and the rest for testing, and once cross validation with 5 folds.\n",
    "\n",
    "You shall present these results in a tabular form, with one table for each dataset & splitting combination approach.\n",
    "\n",
    "Iris/5-folds | Accuracy | Precision| Training time | Testing time\n",
    "---|---|---|---|---|---\n",
    "k-NN (3-NN) | .85 | .82 | 0.1 sec | 27 sec\n",
    "Naive Bayes | .72 | .82 | 1 sec | 2 sec\n",
    "Decision Tree | .92 | .76 | 5 sec | 2 sec\n",
    "... | ... | ...| ... | ...\n",
    "\n",
    "Then describe the results, and analyse e.g.:\n",
    "* Which classifiers work best?\n",
    "* Are there differences between the datasets?\n",
    "* Are the differences in the efficiency measurements?\n",
    "* How is the runtime changing with the different data sets?\n",
    "* ...\n",
    "\n",
    "You can solve this exercise alone, or in a group of two students. If you form a group, you need to extend your scope, by\n",
    "* Adding a third dataset, namely breast cancer wisconsin\n",
    "* For k-NN, using 5 different values for k instead of 3, and use both weighted and uniform distance (i.e. a total of 10 combinations); for Decision Trees, also add 3 more parameter variations\n",
    "* Adding a third efficiency evaluation metric\n",
    "\n",
    "## Deliverables\n",
    "Your submission shall contain\n",
    "* The textual report\n",
    "* All code samples and\n",
    "* All data sets (if not already included in your software package, e.g. Python)"
   ]
  },
  {
   "cell_type": "markdown",
   "source": [
    "## Sources used\n",
    "* Scikit documentation\n",
    "* https://simonhessner.de/why-are-precision-recall-and-f1-score-equal-when-using-micro-averaging-in-a-multi-class-problem/"
   ],
   "metadata": {
    "collapsed": false,
    "pycharm": {
     "name": "#%% md\n"
    }
   }
  },
  {
   "cell_type": "code",
   "execution_count": 1,
   "outputs": [],
   "source": [
    "#General Imports\n",
    "import numpy as numpy\n",
    "from sklearn.model_selection import train_test_split\n",
    "from sklearn import datasets\n",
    "from sklearn import metrics\n",
    "from sklearn.utils import shuffle\n",
    "from sklearn.model_selection import cross_validate\n",
    "from sklearn.metrics import accuracy_score\n",
    "from sklearn.metrics import precision_score\n",
    "from sklearn.metrics import recall_score\n",
    "from sklearn.metrics import make_scorer\n",
    "import pandas as pd\n",
    "import time\n",
    "\n",
    "#Data reporting\n",
    "from IPython.display import display\n",
    "\n",
    "#Global variables\n",
    "randomState=24  # change the state with the numeric parts of your matrikelnummer; if you are in a group, use the sume of the numeric parts\n",
    "                # se19m024\n",
    "averagingApproach = 'macro'\n",
    "zero_divisionApproach = 0\n",
    "number_of_folds = 5\n",
    "scoring = {'Accuracy': make_scorer(accuracy_score),\n",
    "            'Precision': make_scorer(precision_score, average=averagingApproach, zero_division=zero_divisionApproach),\n",
    "            'Recall': make_scorer(recall_score, average=averagingApproach, zero_division=zero_divisionApproach)}\n",
    "\n",
    "#Helper funcitons\n",
    "def parse_k_fold_results(results):\n",
    "    return \"m: \" + str(numpy.average(results)) + \" std: \" + str(numpy.std(results)) # + \" values: \" + str(results)\n",
    "\n",
    "def parse_k_fold_timings(results):\n",
    "    return \"total: \" + str(numpy.sum(results)) + \" values: \" + str(results)\n"
   ],
   "metadata": {
    "collapsed": false,
    "pycharm": {
     "name": "#%%\n"
    }
   }
  },
  {
   "cell_type": "code",
   "execution_count": 2,
   "outputs": [],
   "source": [
    "from sklearn import neighbors\n",
    "\n",
    "knn_results = []\n",
    "\n",
    "# parameters for k-NN\n",
    "n_neighbors = [5,10,20]\n",
    "\n",
    "for dataset in [('iris', datasets.load_iris()),('digits', datasets.load_digits())]:\n",
    "    # Shuffle our input data\n",
    "    data, target = shuffle(dataset[1].data, dataset[1].target, random_state=randomState)\n",
    "\n",
    "    # Prepare a train/test set split\n",
    "    X_train, X_test, y_train, y_test = train_test_split(data, target, test_size=0.33, random_state=(randomState+1))\n",
    "\n",
    "    for n in n_neighbors:\n",
    "        # train the k-NN\n",
    "        classifier = neighbors.KNeighborsClassifier(n)\n",
    "        classifier.random_state = randomState\n",
    "        start_time_train = time.time()\n",
    "        classifier.fit(X_train, y_train)\n",
    "        end_time_train = time.time()\n",
    "\n",
    "        # predict the test set on our trained classifier\n",
    "        start_time_test = time.time()\n",
    "        y_test_predicted = classifier.predict(X_test)\n",
    "        end_time_test = time.time()\n",
    "\n",
    "        # Compute metrics for holdout\n",
    "        acc = metrics.accuracy_score(y_test, y_test_predicted)\n",
    "        recall=metrics.recall_score(y_test, y_test_predicted, average=averagingApproach, zero_division=zero_divisionApproach)\n",
    "        precision = metrics.precision_score(y_test, y_test_predicted, average=averagingApproach, zero_division=zero_divisionApproach)\n",
    "\n",
    "        result = pd.Series({\n",
    "            'dataset': dataset[0],\n",
    "            'approach':'kNN',\n",
    "            'arguments': 'n=' + str(n),\n",
    "            'split': 'holdout',\n",
    "            'accuracy':acc,\n",
    "            'precision':precision,\n",
    "            'recall':recall,\n",
    "            'time training':end_time_train-start_time_train,\n",
    "            'time testing':end_time_test-start_time_test\n",
    "        })\n",
    "        knn_results.append(result)\n",
    "\n",
    "        # Compute metrics for k fold\n",
    "        scores = cross_validate(classifier, data, target,\n",
    "                                scoring = scoring,\n",
    "                                cv = number_of_folds,\n",
    "                                error_score = 0 )\n",
    "        result = pd.Series({\n",
    "            'dataset': dataset[0],\n",
    "            'approach':'kNN',\n",
    "            'arguments': 'n=' + str(n),\n",
    "            'split': 'k-fold',\n",
    "            'accuracy': parse_k_fold_results(scores.get('test_Accuracy')),\n",
    "            'precision': parse_k_fold_results(scores.get('test_Precision')),\n",
    "            'recall':parse_k_fold_results(scores.get('test_Recall')),\n",
    "            'time training':parse_k_fold_timings(scores.get('fit_time')),\n",
    "            'time testing':parse_k_fold_timings(scores.get('score_time'))\n",
    "        })\n",
    "        knn_results.append(result)\n",
    "\n",
    "knn_results_df = pd.DataFrame(knn_results)"
   ],
   "metadata": {
    "collapsed": false,
    "pycharm": {
     "name": "#%%\n"
    }
   }
  },
  {
   "cell_type": "markdown",
   "source": [
    "### Iris\n",
    "The results below show extremely high accuracy for kNN  in the Iris dataset both with N values of 5, 10 and 20. However, best results were yielded for a N value of 2.\n",
    "Additionally, results of the k-fold approach show good consistency of results across 5 folds."
   ],
   "metadata": {
    "collapsed": false
   }
  },
  {
   "cell_type": "code",
   "execution_count": 3,
   "outputs": [
    {
     "data": {
      "text/plain": "  dataset approach arguments    split accuracy precision    recall  \\\n0    iris      kNN       n=5  holdout     0.96  0.958333  0.968254   \n2    iris      kNN      n=10  holdout     0.92  0.925926  0.936508   \n4    iris      kNN      n=20  holdout     0.88       0.9  0.904762   \n\n  time training time testing  \n0   0.000997305  0.000997543  \n2             0   0.00199509  \n4   0.000997782   0.00199437  ",
      "text/html": "<div>\n<style scoped>\n    .dataframe tbody tr th:only-of-type {\n        vertical-align: middle;\n    }\n\n    .dataframe tbody tr th {\n        vertical-align: top;\n    }\n\n    .dataframe thead th {\n        text-align: right;\n    }\n</style>\n<table border=\"1\" class=\"dataframe\">\n  <thead>\n    <tr style=\"text-align: right;\">\n      <th></th>\n      <th>dataset</th>\n      <th>approach</th>\n      <th>arguments</th>\n      <th>split</th>\n      <th>accuracy</th>\n      <th>precision</th>\n      <th>recall</th>\n      <th>time training</th>\n      <th>time testing</th>\n    </tr>\n  </thead>\n  <tbody>\n    <tr>\n      <th>0</th>\n      <td>iris</td>\n      <td>kNN</td>\n      <td>n=5</td>\n      <td>holdout</td>\n      <td>0.96</td>\n      <td>0.958333</td>\n      <td>0.968254</td>\n      <td>0.000997305</td>\n      <td>0.000997543</td>\n    </tr>\n    <tr>\n      <th>2</th>\n      <td>iris</td>\n      <td>kNN</td>\n      <td>n=10</td>\n      <td>holdout</td>\n      <td>0.92</td>\n      <td>0.925926</td>\n      <td>0.936508</td>\n      <td>0</td>\n      <td>0.00199509</td>\n    </tr>\n    <tr>\n      <th>4</th>\n      <td>iris</td>\n      <td>kNN</td>\n      <td>n=20</td>\n      <td>holdout</td>\n      <td>0.88</td>\n      <td>0.9</td>\n      <td>0.904762</td>\n      <td>0.000997782</td>\n      <td>0.00199437</td>\n    </tr>\n  </tbody>\n</table>\n</div>"
     },
     "metadata": {},
     "output_type": "display_data"
    },
    {
     "data": {
      "text/plain": "  dataset approach arguments   split  \\\n1    iris      kNN       n=5  k-fold   \n3    iris      kNN      n=10  k-fold   \n5    iris      kNN      n=20  k-fold   \n\n                                         accuracy  \\\n1               m: 0.96 std: 0.038873012632301994   \n3  m: 0.9733333333333334 std: 0.05333333333333332   \n5  m: 0.9466666666666667 std: 0.04521553322083511   \n\n                                         precision  \\\n1   m: 0.9610774410774411 std: 0.03826764858710283   \n3               m: 0.975 std: 0.049999999999999996   \n5  m: 0.9517676767676768 std: 0.042228383872089235   \n\n                                            recall  \\\n1                 m: 0.96 std: 0.03887301263230201   \n3  m: 0.9733333333333334 std: 0.053333333333333365   \n5   m: 0.9466666666666667 std: 0.04521553322083516   \n\n                                       time training  \\\n1  total: 0.000997304916381836 values: [0.       ...   \n3                total: 0.0 values: [0. 0. 0. 0. 0.]   \n5                total: 0.0 values: [0. 0. 0. 0. 0.]   \n\n                                        time testing  \n1  total: 0.01296544075012207 values: [0.00299215...  \n3  total: 0.014959573745727539 values: [0.0029919...  \n5  total: 0.00997304916381836 values: [0.00199437...  ",
      "text/html": "<div>\n<style scoped>\n    .dataframe tbody tr th:only-of-type {\n        vertical-align: middle;\n    }\n\n    .dataframe tbody tr th {\n        vertical-align: top;\n    }\n\n    .dataframe thead th {\n        text-align: right;\n    }\n</style>\n<table border=\"1\" class=\"dataframe\">\n  <thead>\n    <tr style=\"text-align: right;\">\n      <th></th>\n      <th>dataset</th>\n      <th>approach</th>\n      <th>arguments</th>\n      <th>split</th>\n      <th>accuracy</th>\n      <th>precision</th>\n      <th>recall</th>\n      <th>time training</th>\n      <th>time testing</th>\n    </tr>\n  </thead>\n  <tbody>\n    <tr>\n      <th>1</th>\n      <td>iris</td>\n      <td>kNN</td>\n      <td>n=5</td>\n      <td>k-fold</td>\n      <td>m: 0.96 std: 0.038873012632301994</td>\n      <td>m: 0.9610774410774411 std: 0.03826764858710283</td>\n      <td>m: 0.96 std: 0.03887301263230201</td>\n      <td>total: 0.000997304916381836 values: [0.       ...</td>\n      <td>total: 0.01296544075012207 values: [0.00299215...</td>\n    </tr>\n    <tr>\n      <th>3</th>\n      <td>iris</td>\n      <td>kNN</td>\n      <td>n=10</td>\n      <td>k-fold</td>\n      <td>m: 0.9733333333333334 std: 0.05333333333333332</td>\n      <td>m: 0.975 std: 0.049999999999999996</td>\n      <td>m: 0.9733333333333334 std: 0.053333333333333365</td>\n      <td>total: 0.0 values: [0. 0. 0. 0. 0.]</td>\n      <td>total: 0.014959573745727539 values: [0.0029919...</td>\n    </tr>\n    <tr>\n      <th>5</th>\n      <td>iris</td>\n      <td>kNN</td>\n      <td>n=20</td>\n      <td>k-fold</td>\n      <td>m: 0.9466666666666667 std: 0.04521553322083511</td>\n      <td>m: 0.9517676767676768 std: 0.042228383872089235</td>\n      <td>m: 0.9466666666666667 std: 0.04521553322083516</td>\n      <td>total: 0.0 values: [0. 0. 0. 0. 0.]</td>\n      <td>total: 0.00997304916381836 values: [0.00199437...</td>\n    </tr>\n  </tbody>\n</table>\n</div>"
     },
     "metadata": {},
     "output_type": "display_data"
    }
   ],
   "source": [
    "display(knn_results_df[(knn_results_df['dataset']=='iris') & (knn_results_df['split']=='holdout')])\n",
    "display(knn_results_df[(knn_results_df['dataset']=='iris') & (knn_results_df['split']=='k-fold')])"
   ],
   "metadata": {
    "collapsed": false,
    "pycharm": {
     "name": "#%%\n"
    }
   }
  },
  {
   "cell_type": "markdown",
   "source": [
    "### Handwritten Numbers\n",
    "Similar to the Iris dataset, the results below also show extremely high accuracy for kNN for a image recognition dataset both with N values of 5, 10 and 20. However, best results were yielded for a N value of 10.\n",
    "Additionally, results of the k-fold approach again show good consistency of results across 5 folds."
   ],
   "metadata": {
    "collapsed": false,
    "pycharm": {
     "name": "#%% md\n"
    }
   }
  },
  {
   "cell_type": "code",
   "execution_count": 4,
   "outputs": [
    {
     "data": {
      "text/plain": "   dataset approach arguments    split  accuracy precision    recall  \\\n6   digits      kNN       n=5  holdout  0.983165  0.983364  0.983174   \n8   digits      kNN      n=10  holdout  0.976431  0.976702  0.976281   \n10  digits      kNN      n=20  holdout  0.961279  0.962286  0.961089   \n\n   time training time testing  \n6      0.0159564     0.106744  \n8      0.0159283    0.0917542  \n10     0.0259006     0.109705  ",
      "text/html": "<div>\n<style scoped>\n    .dataframe tbody tr th:only-of-type {\n        vertical-align: middle;\n    }\n\n    .dataframe tbody tr th {\n        vertical-align: top;\n    }\n\n    .dataframe thead th {\n        text-align: right;\n    }\n</style>\n<table border=\"1\" class=\"dataframe\">\n  <thead>\n    <tr style=\"text-align: right;\">\n      <th></th>\n      <th>dataset</th>\n      <th>approach</th>\n      <th>arguments</th>\n      <th>split</th>\n      <th>accuracy</th>\n      <th>precision</th>\n      <th>recall</th>\n      <th>time training</th>\n      <th>time testing</th>\n    </tr>\n  </thead>\n  <tbody>\n    <tr>\n      <th>6</th>\n      <td>digits</td>\n      <td>kNN</td>\n      <td>n=5</td>\n      <td>holdout</td>\n      <td>0.983165</td>\n      <td>0.983364</td>\n      <td>0.983174</td>\n      <td>0.0159564</td>\n      <td>0.106744</td>\n    </tr>\n    <tr>\n      <th>8</th>\n      <td>digits</td>\n      <td>kNN</td>\n      <td>n=10</td>\n      <td>holdout</td>\n      <td>0.976431</td>\n      <td>0.976702</td>\n      <td>0.976281</td>\n      <td>0.0159283</td>\n      <td>0.0917542</td>\n    </tr>\n    <tr>\n      <th>10</th>\n      <td>digits</td>\n      <td>kNN</td>\n      <td>n=20</td>\n      <td>holdout</td>\n      <td>0.961279</td>\n      <td>0.962286</td>\n      <td>0.961089</td>\n      <td>0.0259006</td>\n      <td>0.109705</td>\n    </tr>\n  </tbody>\n</table>\n</div>"
     },
     "metadata": {},
     "output_type": "display_data"
    },
    {
     "data": {
      "text/plain": "   dataset approach arguments   split  \\\n7   digits      kNN       n=5  k-fold   \n9   digits      kNN      n=10  k-fold   \n11  digits      kNN      n=20  k-fold   \n\n                                           accuracy  \\\n7   m: 0.9883163107397092 std: 0.005388572629804117   \n9   m: 0.9805277004023523 std: 0.007241231361602902   \n11  m: 0.9705060352831941 std: 0.006724967766856801   \n\n                                          precision  \\\n7   m: 0.9887866449971712 std: 0.005222598238459717   \n9    m: 0.9816830468409415 std: 0.00662931853158472   \n11  m: 0.9717214434156635 std: 0.006292571449491544   \n\n                                              recall  \\\n7   m: 0.9882804905746081 std: 0.0053145264097686756   \n9     m: 0.9804048249930603 std: 0.00715395193374626   \n11    m: 0.9702434451257981 std: 0.00681107277803136   \n\n                                        time training  \\\n7   total: 0.10268950462341309 values: [0.02191734...   \n9   total: 0.10272455215454102 values: [0.01894951...   \n11  total: 0.11178374290466309 values: [0.02097678...   \n\n                                         time testing  \n7   total: 0.3243260383605957 values: [0.06796765 ...  \n9   total: 0.3530890941619873 values: [0.06386065 ...  \n11  total: 0.38193178176879883 values: [0.06678843...  ",
      "text/html": "<div>\n<style scoped>\n    .dataframe tbody tr th:only-of-type {\n        vertical-align: middle;\n    }\n\n    .dataframe tbody tr th {\n        vertical-align: top;\n    }\n\n    .dataframe thead th {\n        text-align: right;\n    }\n</style>\n<table border=\"1\" class=\"dataframe\">\n  <thead>\n    <tr style=\"text-align: right;\">\n      <th></th>\n      <th>dataset</th>\n      <th>approach</th>\n      <th>arguments</th>\n      <th>split</th>\n      <th>accuracy</th>\n      <th>precision</th>\n      <th>recall</th>\n      <th>time training</th>\n      <th>time testing</th>\n    </tr>\n  </thead>\n  <tbody>\n    <tr>\n      <th>7</th>\n      <td>digits</td>\n      <td>kNN</td>\n      <td>n=5</td>\n      <td>k-fold</td>\n      <td>m: 0.9883163107397092 std: 0.005388572629804117</td>\n      <td>m: 0.9887866449971712 std: 0.005222598238459717</td>\n      <td>m: 0.9882804905746081 std: 0.0053145264097686756</td>\n      <td>total: 0.10268950462341309 values: [0.02191734...</td>\n      <td>total: 0.3243260383605957 values: [0.06796765 ...</td>\n    </tr>\n    <tr>\n      <th>9</th>\n      <td>digits</td>\n      <td>kNN</td>\n      <td>n=10</td>\n      <td>k-fold</td>\n      <td>m: 0.9805277004023523 std: 0.007241231361602902</td>\n      <td>m: 0.9816830468409415 std: 0.00662931853158472</td>\n      <td>m: 0.9804048249930603 std: 0.00715395193374626</td>\n      <td>total: 0.10272455215454102 values: [0.01894951...</td>\n      <td>total: 0.3530890941619873 values: [0.06386065 ...</td>\n    </tr>\n    <tr>\n      <th>11</th>\n      <td>digits</td>\n      <td>kNN</td>\n      <td>n=20</td>\n      <td>k-fold</td>\n      <td>m: 0.9705060352831941 std: 0.006724967766856801</td>\n      <td>m: 0.9717214434156635 std: 0.006292571449491544</td>\n      <td>m: 0.9702434451257981 std: 0.00681107277803136</td>\n      <td>total: 0.11178374290466309 values: [0.02097678...</td>\n      <td>total: 0.38193178176879883 values: [0.06678843...</td>\n    </tr>\n  </tbody>\n</table>\n</div>"
     },
     "metadata": {},
     "output_type": "display_data"
    }
   ],
   "source": [
    "display(knn_results_df[(knn_results_df['dataset']=='digits') & (knn_results_df['split']=='holdout')])\n",
    "display(knn_results_df[(knn_results_df['dataset']=='digits') & (knn_results_df['split']=='k-fold')])"
   ],
   "metadata": {
    "collapsed": false,
    "pycharm": {
     "name": "#%%\n"
    }
   }
  },
  {
   "cell_type": "markdown",
   "source": [
    "## Naive Bayes"
   ],
   "metadata": {
    "collapsed": false
   }
  },
  {
   "cell_type": "code",
   "execution_count": 5,
   "outputs": [],
   "source": [
    "from sklearn import naive_bayes\n",
    "\n",
    "bayes_results = []\n",
    "\n",
    "for dataset in [('iris', datasets.load_iris()),('digits', datasets.load_digits())]:\n",
    "    # Shuffle our input data\n",
    "    data, target = shuffle(dataset[1].data, dataset[1].target, random_state=randomState)\n",
    "\n",
    "    # Prepare a train/test set split\n",
    "    X_train, X_test, y_train, y_test = train_test_split(data, target, test_size=0.33, random_state=(randomState+1))\n",
    "\n",
    "    # train the bayes model\n",
    "    classifier = naive_bayes.GaussianNB()\n",
    "    classifier.random_state = randomState\n",
    "    start_time_train = time.time()\n",
    "    classifier.fit(X_train, y_train)\n",
    "    end_time_train = time.time()\n",
    "\n",
    "    # predict the test set on our trained classifier\n",
    "    start_time_test = time.time()\n",
    "    y_test_predicted = classifier.predict(X_test)\n",
    "    end_time_test = time.time()\n",
    "\n",
    "    # Compute metrics for holdout\n",
    "    acc = metrics.accuracy_score(y_test, y_test_predicted)\n",
    "    recall=metrics.recall_score(y_test, y_test_predicted, average=averagingApproach, zero_division=zero_divisionApproach)\n",
    "    precision = metrics.precision_score(y_test, y_test_predicted, average=averagingApproach, zero_division=zero_divisionApproach)\n",
    "\n",
    "    result = pd.Series({\n",
    "        'dataset': dataset[0],\n",
    "        'approach':'bayes',\n",
    "        'arguments': 'none',\n",
    "        'split': 'holdout',\n",
    "        'accuracy':acc,\n",
    "        'precision':precision,\n",
    "        'recall':recall,\n",
    "        'time training':end_time_train-start_time_train,\n",
    "        'time testing':end_time_test-start_time_test\n",
    "    })\n",
    "    bayes_results.append(result)\n",
    "\n",
    "    # Compute metrics for k fold\n",
    "    scores = cross_validate(classifier, data, target,\n",
    "                        scoring = scoring,\n",
    "                        cv = number_of_folds,\n",
    "                        error_score = 0 )\n",
    "    result = pd.Series({\n",
    "        'dataset': dataset[0],\n",
    "        'approach': 'bayes',\n",
    "        'arguments': 'none',\n",
    "        'split': 'k-fold',\n",
    "        'accuracy': parse_k_fold_results(scores.get('test_Accuracy')),\n",
    "        'precision': parse_k_fold_results(scores.get('test_Precision')),\n",
    "        'recall':parse_k_fold_results(scores.get('test_Recall')),\n",
    "        'time training':parse_k_fold_timings(scores.get('fit_time')),\n",
    "        'time testing':parse_k_fold_timings(scores.get('score_time'))\n",
    "    })\n",
    "    bayes_results.append(result)\n",
    "\n",
    "bayes_results_df = pd.DataFrame(bayes_results)\n"
   ],
   "metadata": {
    "collapsed": false,
    "pycharm": {
     "name": "#%%\n"
    }
   }
  },
  {
   "cell_type": "markdown",
   "source": [
    "### Iris\n",
    "\n",
    "Results below indicate good accuracy, precision and recall for the dataset. Accuracy is a bit lower than for k-NN but still very good.\n",
    "\n",
    "Consistency of results as measured by a five fold cross validation seems good."
   ],
   "metadata": {
    "collapsed": false,
    "pycharm": {
     "name": "#%% md\n"
    }
   }
  },
  {
   "cell_type": "code",
   "execution_count": 6,
   "outputs": [
    {
     "data": {
      "text/plain": "  dataset approach arguments    split accuracy precision    recall  \\\n0    iris    bayes      none  holdout      0.9   0.90305  0.912698   \n\n  time training time testing  \n0             0            0  ",
      "text/html": "<div>\n<style scoped>\n    .dataframe tbody tr th:only-of-type {\n        vertical-align: middle;\n    }\n\n    .dataframe tbody tr th {\n        vertical-align: top;\n    }\n\n    .dataframe thead th {\n        text-align: right;\n    }\n</style>\n<table border=\"1\" class=\"dataframe\">\n  <thead>\n    <tr style=\"text-align: right;\">\n      <th></th>\n      <th>dataset</th>\n      <th>approach</th>\n      <th>arguments</th>\n      <th>split</th>\n      <th>accuracy</th>\n      <th>precision</th>\n      <th>recall</th>\n      <th>time training</th>\n      <th>time testing</th>\n    </tr>\n  </thead>\n  <tbody>\n    <tr>\n      <th>0</th>\n      <td>iris</td>\n      <td>bayes</td>\n      <td>none</td>\n      <td>holdout</td>\n      <td>0.9</td>\n      <td>0.90305</td>\n      <td>0.912698</td>\n      <td>0</td>\n      <td>0</td>\n    </tr>\n  </tbody>\n</table>\n</div>"
     },
     "metadata": {},
     "output_type": "display_data"
    },
    {
     "data": {
      "text/plain": "  dataset approach arguments   split  \\\n1    iris    bayes      none  k-fold   \n\n                                         accuracy  \\\n1  m: 0.9533333333333334 std: 0.03399346342395189   \n\n                                        precision  \\\n1  m: 0.9550168350168351 std: 0.03375719358407477   \n\n                                          recall  \\\n1  m: 0.9533333333333334 std: 0.0339934634239519   \n\n                                       time training  \\\n1  total: 0.002988100051879883 values: [0.       ...   \n\n                                        time testing  \n1  total: 0.005987405776977539 values: [0.0009973...  ",
      "text/html": "<div>\n<style scoped>\n    .dataframe tbody tr th:only-of-type {\n        vertical-align: middle;\n    }\n\n    .dataframe tbody tr th {\n        vertical-align: top;\n    }\n\n    .dataframe thead th {\n        text-align: right;\n    }\n</style>\n<table border=\"1\" class=\"dataframe\">\n  <thead>\n    <tr style=\"text-align: right;\">\n      <th></th>\n      <th>dataset</th>\n      <th>approach</th>\n      <th>arguments</th>\n      <th>split</th>\n      <th>accuracy</th>\n      <th>precision</th>\n      <th>recall</th>\n      <th>time training</th>\n      <th>time testing</th>\n    </tr>\n  </thead>\n  <tbody>\n    <tr>\n      <th>1</th>\n      <td>iris</td>\n      <td>bayes</td>\n      <td>none</td>\n      <td>k-fold</td>\n      <td>m: 0.9533333333333334 std: 0.03399346342395189</td>\n      <td>m: 0.9550168350168351 std: 0.03375719358407477</td>\n      <td>m: 0.9533333333333334 std: 0.0339934634239519</td>\n      <td>total: 0.002988100051879883 values: [0.       ...</td>\n      <td>total: 0.005987405776977539 values: [0.0009973...</td>\n    </tr>\n  </tbody>\n</table>\n</div>"
     },
     "metadata": {},
     "output_type": "display_data"
    }
   ],
   "source": [
    "display(bayes_results_df[(bayes_results_df['dataset']=='iris') & (bayes_results_df['split']=='holdout')])\n",
    "display(bayes_results_df[(bayes_results_df['dataset']=='iris') & (bayes_results_df['split']=='k-fold')])"
   ],
   "metadata": {
    "collapsed": false,
    "pycharm": {
     "name": "#%%\n"
    }
   }
  },
  {
   "cell_type": "markdown",
   "source": [
    "### Handwritten Numbers\n",
    "Similar to the Iris dataset, Bayes yielded also sufficient accuracy, precision and recall for the digits dataset. Again, accuracy is a bit lower than for k-NN but still very good.\n",
    "The difference between the Iris and Digit dataset is noteworthy however. It seems like Bayes is not a similarly good approach for this data set. This may be related to the much higher dimensionality of the digit dataset.\n",
    "Also for this dataset, consistency of results as measured by a five fold cross validation seems good."
   ],
   "metadata": {
    "collapsed": false
   }
  },
  {
   "cell_type": "code",
   "execution_count": 7,
   "outputs": [
    {
     "data": {
      "text/plain": "  dataset approach arguments    split  accuracy precision    recall  \\\n2  digits    bayes      none  holdout  0.833333  0.850641  0.833908   \n\n  time training time testing  \n2    0.00299025  0.000997305  ",
      "text/html": "<div>\n<style scoped>\n    .dataframe tbody tr th:only-of-type {\n        vertical-align: middle;\n    }\n\n    .dataframe tbody tr th {\n        vertical-align: top;\n    }\n\n    .dataframe thead th {\n        text-align: right;\n    }\n</style>\n<table border=\"1\" class=\"dataframe\">\n  <thead>\n    <tr style=\"text-align: right;\">\n      <th></th>\n      <th>dataset</th>\n      <th>approach</th>\n      <th>arguments</th>\n      <th>split</th>\n      <th>accuracy</th>\n      <th>precision</th>\n      <th>recall</th>\n      <th>time training</th>\n      <th>time testing</th>\n    </tr>\n  </thead>\n  <tbody>\n    <tr>\n      <th>2</th>\n      <td>digits</td>\n      <td>bayes</td>\n      <td>none</td>\n      <td>holdout</td>\n      <td>0.833333</td>\n      <td>0.850641</td>\n      <td>0.833908</td>\n      <td>0.00299025</td>\n      <td>0.000997305</td>\n    </tr>\n  </tbody>\n</table>\n</div>"
     },
     "metadata": {},
     "output_type": "display_data"
    },
    {
     "data": {
      "text/plain": "  dataset approach arguments   split  \\\n3  digits    bayes      none  k-fold   \n\n                                          accuracy  \\\n3  m: 0.8324945837202105 std: 0.009286635323422067   \n\n                                         precision  \\\n3  m: 0.8598088622118409 std: 0.015147678383072103   \n\n                                            recall  \\\n3  m: 0.8325454614278144 std: 0.009764788694682724   \n\n                                       time training  \\\n3  total: 0.012965917587280273 values: [0.0029923...   \n\n                                        time testing  \n3  total: 0.011965274810791016 values: [0.0019936...  ",
      "text/html": "<div>\n<style scoped>\n    .dataframe tbody tr th:only-of-type {\n        vertical-align: middle;\n    }\n\n    .dataframe tbody tr th {\n        vertical-align: top;\n    }\n\n    .dataframe thead th {\n        text-align: right;\n    }\n</style>\n<table border=\"1\" class=\"dataframe\">\n  <thead>\n    <tr style=\"text-align: right;\">\n      <th></th>\n      <th>dataset</th>\n      <th>approach</th>\n      <th>arguments</th>\n      <th>split</th>\n      <th>accuracy</th>\n      <th>precision</th>\n      <th>recall</th>\n      <th>time training</th>\n      <th>time testing</th>\n    </tr>\n  </thead>\n  <tbody>\n    <tr>\n      <th>3</th>\n      <td>digits</td>\n      <td>bayes</td>\n      <td>none</td>\n      <td>k-fold</td>\n      <td>m: 0.8324945837202105 std: 0.009286635323422067</td>\n      <td>m: 0.8598088622118409 std: 0.015147678383072103</td>\n      <td>m: 0.8325454614278144 std: 0.009764788694682724</td>\n      <td>total: 0.012965917587280273 values: [0.0029923...</td>\n      <td>total: 0.011965274810791016 values: [0.0019936...</td>\n    </tr>\n  </tbody>\n</table>\n</div>"
     },
     "metadata": {},
     "output_type": "display_data"
    }
   ],
   "source": [
    "display(bayes_results_df[(bayes_results_df['dataset']=='digits') & (bayes_results_df['split']=='holdout')])\n",
    "display(bayes_results_df[(bayes_results_df['dataset']=='digits') & (bayes_results_df['split']=='k-fold')])"
   ],
   "metadata": {
    "collapsed": false,
    "pycharm": {
     "name": "#%%\n"
    }
   }
  },
  {
   "cell_type": "markdown",
   "source": [
    "##### Results:\n",
    "* Analysis using Bayes on the *Iris* dataset show good values for accuracy, precision and recall with extremely low training and testing time.\n",
    "* Analysis using Bayes on the *Digit Dataset* show still good values for accuracy, precision and recall with extremely low training and testing time.\n",
    "\n",
    "However, compared to k NN, the results for this data set are significantly lower for Bayes. While this was similar for the Iris dataset, with lower accuracy for bayes than for the k-nn, the difference was not similarly strong.\n"
   ],
   "metadata": {
    "collapsed": false
   }
  },
  {
   "cell_type": "markdown",
   "source": [
    "## Perceptron"
   ],
   "metadata": {
    "collapsed": false
   }
  },
  {
   "cell_type": "code",
   "execution_count": 8,
   "outputs": [],
   "source": [
    "from sklearn import linear_model\n",
    "\n",
    "perceptron_results = []\n",
    "\n",
    "for dataset in [('iris', datasets.load_iris()),('digits', datasets.load_digits())]:\n",
    "    # Shuffle our input data\n",
    "    data, target = shuffle(dataset[1].data, dataset[1].target, random_state=randomState)\n",
    "\n",
    "    # Prepare a train/test set split\n",
    "    X_train, X_test, y_train, y_test = train_test_split(data, target, test_size=0.33, random_state=(randomState+1))\n",
    "\n",
    "    # train the bayes model\n",
    "    classifier = linear_model.Perceptron()\n",
    "    classifier.random_state = randomState\n",
    "    start_time_train = time.time()\n",
    "    classifier.fit(X_train, y_train)\n",
    "    end_time_train = time.time()\n",
    "\n",
    "    # predict the test set on our trained classifier\n",
    "    start_time_test = time.time()\n",
    "    y_test_predicted = classifier.predict(X_test)\n",
    "    end_time_test = time.time()\n",
    "\n",
    "    # Compute metrics for holdout\n",
    "    acc = metrics.accuracy_score(y_test, y_test_predicted)\n",
    "    recall=metrics.recall_score(y_test, y_test_predicted, average=averagingApproach, zero_division=zero_divisionApproach)\n",
    "    precision = metrics.precision_score(y_test, y_test_predicted, average=averagingApproach, zero_division=zero_divisionApproach)\n",
    "\n",
    "    result = pd.Series({\n",
    "        'dataset': dataset[0],\n",
    "        'approach':'perceptron',\n",
    "        'arguments': 'none',\n",
    "        'split': 'holdout',\n",
    "        'accuracy':acc,\n",
    "        'precision':precision,\n",
    "        'recall':recall,\n",
    "        'time training':end_time_train-start_time_train,\n",
    "        'time testing':end_time_test-start_time_test\n",
    "    })\n",
    "    perceptron_results.append(result)\n",
    "\n",
    "    # Compute metrics for k fold\n",
    "    scores = cross_validate(classifier, data, target,\n",
    "                    scoring = scoring,\n",
    "                    cv = number_of_folds,\n",
    "                    error_score = 0 )\n",
    "    result = pd.Series({\n",
    "        'dataset': dataset[0],\n",
    "        'approach': 'perceptron',\n",
    "        'arguments': 'none',\n",
    "        'split': 'k-fold',\n",
    "        'accuracy': parse_k_fold_results(scores.get('test_Accuracy')),\n",
    "        'precision': parse_k_fold_results(scores.get('test_Precision')),\n",
    "        'recall':parse_k_fold_results(scores.get('test_Recall')),\n",
    "        'time training':parse_k_fold_timings(scores.get('fit_time')),\n",
    "        'time testing':parse_k_fold_timings(scores.get('score_time'))\n",
    "    })\n",
    "    perceptron_results.append(result)\n",
    "\n",
    "perceptron_results_df = pd.DataFrame(perceptron_results)\n"
   ],
   "metadata": {
    "collapsed": false,
    "pycharm": {
     "name": "#%%\n"
    }
   }
  },
  {
   "cell_type": "markdown",
   "source": [
    "### Iris"
   ],
   "metadata": {
    "collapsed": false
   }
  },
  {
   "cell_type": "code",
   "execution_count": 9,
   "outputs": [
    {
     "data": {
      "text/plain": "  dataset    approach arguments    split accuracy precision recall  \\\n0    iris  perceptron      none  holdout     0.34  0.432624    0.4   \n\n  time training time testing  \n0    0.00199413            0  ",
      "text/html": "<div>\n<style scoped>\n    .dataframe tbody tr th:only-of-type {\n        vertical-align: middle;\n    }\n\n    .dataframe tbody tr th {\n        vertical-align: top;\n    }\n\n    .dataframe thead th {\n        text-align: right;\n    }\n</style>\n<table border=\"1\" class=\"dataframe\">\n  <thead>\n    <tr style=\"text-align: right;\">\n      <th></th>\n      <th>dataset</th>\n      <th>approach</th>\n      <th>arguments</th>\n      <th>split</th>\n      <th>accuracy</th>\n      <th>precision</th>\n      <th>recall</th>\n      <th>time training</th>\n      <th>time testing</th>\n    </tr>\n  </thead>\n  <tbody>\n    <tr>\n      <th>0</th>\n      <td>iris</td>\n      <td>perceptron</td>\n      <td>none</td>\n      <td>holdout</td>\n      <td>0.34</td>\n      <td>0.432624</td>\n      <td>0.4</td>\n      <td>0.00199413</td>\n      <td>0</td>\n    </tr>\n  </tbody>\n</table>\n</div>"
     },
     "metadata": {},
     "output_type": "display_data"
    },
    {
     "data": {
      "text/plain": "  dataset    approach arguments   split                          accuracy  \\\n1    iris  perceptron      none  k-fold  m: 0.74 std: 0.10413666234542207   \n\n                                        precision  \\\n1  m: 0.6742889463477699 std: 0.19998100699035673   \n\n                             recall  \\\n1  m: 0.74 std: 0.10413666234542203   \n\n                                       time training  \\\n1  total: 0.008975982666015625 values: [0.0019948...   \n\n                                        time testing  \n1  total: 0.004987478256225586 values: [0.0009987...  ",
      "text/html": "<div>\n<style scoped>\n    .dataframe tbody tr th:only-of-type {\n        vertical-align: middle;\n    }\n\n    .dataframe tbody tr th {\n        vertical-align: top;\n    }\n\n    .dataframe thead th {\n        text-align: right;\n    }\n</style>\n<table border=\"1\" class=\"dataframe\">\n  <thead>\n    <tr style=\"text-align: right;\">\n      <th></th>\n      <th>dataset</th>\n      <th>approach</th>\n      <th>arguments</th>\n      <th>split</th>\n      <th>accuracy</th>\n      <th>precision</th>\n      <th>recall</th>\n      <th>time training</th>\n      <th>time testing</th>\n    </tr>\n  </thead>\n  <tbody>\n    <tr>\n      <th>1</th>\n      <td>iris</td>\n      <td>perceptron</td>\n      <td>none</td>\n      <td>k-fold</td>\n      <td>m: 0.74 std: 0.10413666234542207</td>\n      <td>m: 0.6742889463477699 std: 0.19998100699035673</td>\n      <td>m: 0.74 std: 0.10413666234542203</td>\n      <td>total: 0.008975982666015625 values: [0.0019948...</td>\n      <td>total: 0.004987478256225586 values: [0.0009987...</td>\n    </tr>\n  </tbody>\n</table>\n</div>"
     },
     "metadata": {},
     "output_type": "display_data"
    }
   ],
   "source": [
    "display(perceptron_results_df[(perceptron_results_df['dataset']=='iris') & (perceptron_results_df['split']=='holdout')])\n",
    "display(perceptron_results_df[(perceptron_results_df['dataset']=='iris') & (perceptron_results_df['split']=='k-fold')])"
   ],
   "metadata": {
    "collapsed": false,
    "pycharm": {
     "name": "#%%\n"
    }
   }
  },
  {
   "cell_type": "markdown",
   "source": [
    "### Handwritten Numbers"
   ],
   "metadata": {
    "collapsed": false
   }
  },
  {
   "cell_type": "code",
   "execution_count": 10,
   "outputs": [
    {
     "data": {
      "text/plain": "  dataset    approach arguments    split  accuracy precision   recall  \\\n2  digits  perceptron      none  holdout  0.939394   0.94141  0.93962   \n\n  time training time testing  \n2     0.0239413  0.000996351  ",
      "text/html": "<div>\n<style scoped>\n    .dataframe tbody tr th:only-of-type {\n        vertical-align: middle;\n    }\n\n    .dataframe tbody tr th {\n        vertical-align: top;\n    }\n\n    .dataframe thead th {\n        text-align: right;\n    }\n</style>\n<table border=\"1\" class=\"dataframe\">\n  <thead>\n    <tr style=\"text-align: right;\">\n      <th></th>\n      <th>dataset</th>\n      <th>approach</th>\n      <th>arguments</th>\n      <th>split</th>\n      <th>accuracy</th>\n      <th>precision</th>\n      <th>recall</th>\n      <th>time training</th>\n      <th>time testing</th>\n    </tr>\n  </thead>\n  <tbody>\n    <tr>\n      <th>2</th>\n      <td>digits</td>\n      <td>perceptron</td>\n      <td>none</td>\n      <td>holdout</td>\n      <td>0.939394</td>\n      <td>0.94141</td>\n      <td>0.93962</td>\n      <td>0.0239413</td>\n      <td>0.000996351</td>\n    </tr>\n  </tbody>\n</table>\n</div>"
     },
     "metadata": {},
     "output_type": "display_data"
    },
    {
     "data": {
      "text/plain": "  dataset    approach arguments   split  \\\n3  digits  perceptron      none  k-fold   \n\n                                          accuracy  \\\n3  m: 0.9410229031259671 std: 0.015849668296257387   \n\n                                        precision  \\\n3  m: 0.9472330796425998 std: 0.01371753706347739   \n\n                                            recall  \\\n3  m: 0.9410189264895147 std: 0.015777826142176866   \n\n                                       time training  \\\n3  total: 0.15159392356872559 values: [0.02991819...   \n\n                                        time testing  \n3  total: 0.008939266204833984 values: [0.0009942...  ",
      "text/html": "<div>\n<style scoped>\n    .dataframe tbody tr th:only-of-type {\n        vertical-align: middle;\n    }\n\n    .dataframe tbody tr th {\n        vertical-align: top;\n    }\n\n    .dataframe thead th {\n        text-align: right;\n    }\n</style>\n<table border=\"1\" class=\"dataframe\">\n  <thead>\n    <tr style=\"text-align: right;\">\n      <th></th>\n      <th>dataset</th>\n      <th>approach</th>\n      <th>arguments</th>\n      <th>split</th>\n      <th>accuracy</th>\n      <th>precision</th>\n      <th>recall</th>\n      <th>time training</th>\n      <th>time testing</th>\n    </tr>\n  </thead>\n  <tbody>\n    <tr>\n      <th>3</th>\n      <td>digits</td>\n      <td>perceptron</td>\n      <td>none</td>\n      <td>k-fold</td>\n      <td>m: 0.9410229031259671 std: 0.015849668296257387</td>\n      <td>m: 0.9472330796425998 std: 0.01371753706347739</td>\n      <td>m: 0.9410189264895147 std: 0.015777826142176866</td>\n      <td>total: 0.15159392356872559 values: [0.02991819...</td>\n      <td>total: 0.008939266204833984 values: [0.0009942...</td>\n    </tr>\n  </tbody>\n</table>\n</div>"
     },
     "metadata": {},
     "output_type": "display_data"
    }
   ],
   "source": [
    "display(perceptron_results_df[(perceptron_results_df['dataset']=='digits') & (perceptron_results_df['split']=='holdout')])\n",
    "display(perceptron_results_df[(perceptron_results_df['dataset']=='digits') & (perceptron_results_df['split']=='k-fold')])"
   ],
   "metadata": {
    "collapsed": false,
    "pycharm": {
     "name": "#%%\n"
    }
   }
  },
  {
   "cell_type": "markdown",
   "source": [
    "##### Results:\n",
    "* Analysis using the Perceptron approach on the *Iris dataset* show low values for accuracy, precision and recall with extremely low training and testing time.\n",
    "Compared to both Bayes and k NN, the results for this data set are significantly lower.\n",
    "* Analysis using the Perceptron approach on the *Digits dataset* show very good values for accuracy, precision and recall with extremely low training and testing time.\n",
    "Both Bayes and kNN yielded comparable results. The difference between the Digit and Iris dataset show Perceptron's high susceptibility to the data it is used for."
   ],
   "metadata": {
    "collapsed": false
   }
  },
  {
   "cell_type": "markdown",
   "source": [
    "## Decision Tree"
   ],
   "metadata": {
    "collapsed": false
   }
  },
  {
   "cell_type": "code",
   "execution_count": 11,
   "outputs": [],
   "source": [
    "from sklearn import tree\n",
    "import itertools\n",
    "\n",
    "decision_tree_results = []\n",
    "\n",
    "# Parameters for the decision tree\n",
    "max_depth_arguments = [5,10,15]\n",
    "min_samples_leaf_arguments = [2,20,40]\n",
    "splitting_approaches_arguments = ['random', 'best']\n",
    "argumentTuples = list(itertools.product(max_depth_arguments,\n",
    "                                        min_samples_leaf_arguments,\n",
    "                                        splitting_approaches_arguments))\n",
    "\n",
    "for dataset in [('iris', datasets.load_iris()),('digits', datasets.load_digits())]:\n",
    "    # Shuffle our input data\n",
    "    data, target = shuffle(dataset[1].data, dataset[1].target, random_state=randomState)\n",
    "\n",
    "    # Prepare a train/test set split\n",
    "    X_train, X_test, y_train, y_test = train_test_split(data, target, test_size=0.33, random_state=(randomState+1))\n",
    "\n",
    "    for argumentTuple in argumentTuples:\n",
    "        max_depth = argumentTuple[0]\n",
    "        min_samples_leaf = argumentTuple[1]\n",
    "        splitting_approach = argumentTuple[2]\n",
    "\n",
    "        # train the k-NN\n",
    "        classifier = tree.DecisionTreeClassifier(criterion = 'gini',\n",
    "                                                 max_depth = max_depth,\n",
    "                                                 min_samples_leaf = min_samples_leaf,\n",
    "                                                 splitter = splitting_approach)\n",
    "\n",
    "        classifier.random_state = randomState\n",
    "        start_time_train = time.time()\n",
    "        classifier.fit(X_train, y_train)\n",
    "        end_time_train = time.time()\n",
    "\n",
    "        # predict the test set on our trained classifier\n",
    "        start_time_test = time.time()\n",
    "        y_test_predicted = classifier.predict(X_test)\n",
    "        end_time_test = time.time()\n",
    "\n",
    "        # Compute metrics for holdout\n",
    "        acc = metrics.accuracy_score(y_test, y_test_predicted)\n",
    "        recall=metrics.recall_score(y_test, y_test_predicted, average=averagingApproach, zero_division=zero_divisionApproach)\n",
    "        precision = metrics.precision_score(y_test, y_test_predicted, average=averagingApproach, zero_division=zero_divisionApproach)\n",
    "\n",
    "        result = pd.Series({\n",
    "            'dataset': dataset[0],\n",
    "            'approach':'Decision Tree Classifier',\n",
    "            'arguments': argumentTuple,\n",
    "            'split': 'holdout',\n",
    "            'accuracy':acc,\n",
    "            'precision':precision,\n",
    "            'recall':recall,\n",
    "            'time training':end_time_train-start_time_train,\n",
    "            'time testing':end_time_test-start_time_test\n",
    "        })\n",
    "        decision_tree_results.append(result)\n",
    "\n",
    "        # Compute metrics for k fold\n",
    "        scores = cross_validate(classifier, data, target,\n",
    "                                scoring = scoring,\n",
    "                                cv = number_of_folds,\n",
    "                                error_score = 0)\n",
    "\n",
    "        result = pd.Series({\n",
    "            'dataset': dataset[0],\n",
    "            'approach':'Decision Tree Classifier',\n",
    "            'arguments': argumentTuple,\n",
    "            'split': 'k-fold',\n",
    "            'accuracy': parse_k_fold_results(scores.get('test_Accuracy')),\n",
    "            'precision': parse_k_fold_results(scores.get('test_Precision')),\n",
    "            'recall':parse_k_fold_results(scores.get('test_Recall')),\n",
    "            'time training':parse_k_fold_timings(scores.get('fit_time')),\n",
    "            'time testing':parse_k_fold_timings(scores.get('score_time'))\n",
    "        })\n",
    "        decision_tree_results.append(result)\n",
    "\n",
    "decision_tree_results_df = pd.DataFrame(decision_tree_results)\n"
   ],
   "metadata": {
    "collapsed": false,
    "pycharm": {
     "name": "#%%\n"
    }
   }
  },
  {
   "cell_type": "markdown",
   "source": [
    "### Iris"
   ],
   "metadata": {
    "collapsed": false
   }
  },
  {
   "cell_type": "code",
   "execution_count": 12,
   "outputs": [
    {
     "data": {
      "text/plain": "   dataset                  approach         arguments    split accuracy  \\\n0     iris  Decision Tree Classifier    (5, 2, random)  holdout     0.88   \n2     iris  Decision Tree Classifier      (5, 2, best)  holdout      0.9   \n4     iris  Decision Tree Classifier   (5, 20, random)  holdout     0.48   \n6     iris  Decision Tree Classifier     (5, 20, best)  holdout      0.9   \n8     iris  Decision Tree Classifier   (5, 40, random)  holdout     0.28   \n10    iris  Decision Tree Classifier     (5, 40, best)  holdout     0.54   \n12    iris  Decision Tree Classifier   (10, 2, random)  holdout      0.9   \n14    iris  Decision Tree Classifier     (10, 2, best)  holdout      0.9   \n16    iris  Decision Tree Classifier  (10, 20, random)  holdout     0.48   \n18    iris  Decision Tree Classifier    (10, 20, best)  holdout      0.9   \n20    iris  Decision Tree Classifier  (10, 40, random)  holdout     0.28   \n22    iris  Decision Tree Classifier    (10, 40, best)  holdout     0.54   \n24    iris  Decision Tree Classifier   (15, 2, random)  holdout      0.9   \n26    iris  Decision Tree Classifier     (15, 2, best)  holdout      0.9   \n28    iris  Decision Tree Classifier  (15, 20, random)  holdout     0.48   \n30    iris  Decision Tree Classifier    (15, 20, best)  holdout      0.9   \n32    iris  Decision Tree Classifier  (15, 40, random)  holdout     0.28   \n34    iris  Decision Tree Classifier    (15, 40, best)  holdout     0.54   \n\n    precision    recall time training time testing  \n0    0.890278  0.865079             0            0  \n2     0.90305  0.912698             0  0.000995636  \n4        0.45  0.555556             0            0  \n6     0.90305  0.912698   0.000997782            0  \n8   0.0933333  0.333333   0.000994921            0  \n10    0.41533  0.619048             0            0  \n12   0.894956  0.904762             0            0  \n14    0.90305  0.912698             0  0.000996828  \n16       0.45  0.555556   0.000997305            0  \n18    0.90305  0.912698             0   0.00099802  \n20  0.0933333  0.333333             0            0  \n22    0.41533  0.619048   0.000997782            0  \n24   0.894956  0.904762   0.000997782            0  \n26    0.90305  0.912698   0.000998497            0  \n28       0.45  0.555556             0            0  \n30    0.90305  0.912698   0.000988245            0  \n32  0.0933333  0.333333             0            0  \n34    0.41533  0.619048    0.00102901            0  ",
      "text/html": "<div>\n<style scoped>\n    .dataframe tbody tr th:only-of-type {\n        vertical-align: middle;\n    }\n\n    .dataframe tbody tr th {\n        vertical-align: top;\n    }\n\n    .dataframe thead th {\n        text-align: right;\n    }\n</style>\n<table border=\"1\" class=\"dataframe\">\n  <thead>\n    <tr style=\"text-align: right;\">\n      <th></th>\n      <th>dataset</th>\n      <th>approach</th>\n      <th>arguments</th>\n      <th>split</th>\n      <th>accuracy</th>\n      <th>precision</th>\n      <th>recall</th>\n      <th>time training</th>\n      <th>time testing</th>\n    </tr>\n  </thead>\n  <tbody>\n    <tr>\n      <th>0</th>\n      <td>iris</td>\n      <td>Decision Tree Classifier</td>\n      <td>(5, 2, random)</td>\n      <td>holdout</td>\n      <td>0.88</td>\n      <td>0.890278</td>\n      <td>0.865079</td>\n      <td>0</td>\n      <td>0</td>\n    </tr>\n    <tr>\n      <th>2</th>\n      <td>iris</td>\n      <td>Decision Tree Classifier</td>\n      <td>(5, 2, best)</td>\n      <td>holdout</td>\n      <td>0.9</td>\n      <td>0.90305</td>\n      <td>0.912698</td>\n      <td>0</td>\n      <td>0.000995636</td>\n    </tr>\n    <tr>\n      <th>4</th>\n      <td>iris</td>\n      <td>Decision Tree Classifier</td>\n      <td>(5, 20, random)</td>\n      <td>holdout</td>\n      <td>0.48</td>\n      <td>0.45</td>\n      <td>0.555556</td>\n      <td>0</td>\n      <td>0</td>\n    </tr>\n    <tr>\n      <th>6</th>\n      <td>iris</td>\n      <td>Decision Tree Classifier</td>\n      <td>(5, 20, best)</td>\n      <td>holdout</td>\n      <td>0.9</td>\n      <td>0.90305</td>\n      <td>0.912698</td>\n      <td>0.000997782</td>\n      <td>0</td>\n    </tr>\n    <tr>\n      <th>8</th>\n      <td>iris</td>\n      <td>Decision Tree Classifier</td>\n      <td>(5, 40, random)</td>\n      <td>holdout</td>\n      <td>0.28</td>\n      <td>0.0933333</td>\n      <td>0.333333</td>\n      <td>0.000994921</td>\n      <td>0</td>\n    </tr>\n    <tr>\n      <th>10</th>\n      <td>iris</td>\n      <td>Decision Tree Classifier</td>\n      <td>(5, 40, best)</td>\n      <td>holdout</td>\n      <td>0.54</td>\n      <td>0.41533</td>\n      <td>0.619048</td>\n      <td>0</td>\n      <td>0</td>\n    </tr>\n    <tr>\n      <th>12</th>\n      <td>iris</td>\n      <td>Decision Tree Classifier</td>\n      <td>(10, 2, random)</td>\n      <td>holdout</td>\n      <td>0.9</td>\n      <td>0.894956</td>\n      <td>0.904762</td>\n      <td>0</td>\n      <td>0</td>\n    </tr>\n    <tr>\n      <th>14</th>\n      <td>iris</td>\n      <td>Decision Tree Classifier</td>\n      <td>(10, 2, best)</td>\n      <td>holdout</td>\n      <td>0.9</td>\n      <td>0.90305</td>\n      <td>0.912698</td>\n      <td>0</td>\n      <td>0.000996828</td>\n    </tr>\n    <tr>\n      <th>16</th>\n      <td>iris</td>\n      <td>Decision Tree Classifier</td>\n      <td>(10, 20, random)</td>\n      <td>holdout</td>\n      <td>0.48</td>\n      <td>0.45</td>\n      <td>0.555556</td>\n      <td>0.000997305</td>\n      <td>0</td>\n    </tr>\n    <tr>\n      <th>18</th>\n      <td>iris</td>\n      <td>Decision Tree Classifier</td>\n      <td>(10, 20, best)</td>\n      <td>holdout</td>\n      <td>0.9</td>\n      <td>0.90305</td>\n      <td>0.912698</td>\n      <td>0</td>\n      <td>0.00099802</td>\n    </tr>\n    <tr>\n      <th>20</th>\n      <td>iris</td>\n      <td>Decision Tree Classifier</td>\n      <td>(10, 40, random)</td>\n      <td>holdout</td>\n      <td>0.28</td>\n      <td>0.0933333</td>\n      <td>0.333333</td>\n      <td>0</td>\n      <td>0</td>\n    </tr>\n    <tr>\n      <th>22</th>\n      <td>iris</td>\n      <td>Decision Tree Classifier</td>\n      <td>(10, 40, best)</td>\n      <td>holdout</td>\n      <td>0.54</td>\n      <td>0.41533</td>\n      <td>0.619048</td>\n      <td>0.000997782</td>\n      <td>0</td>\n    </tr>\n    <tr>\n      <th>24</th>\n      <td>iris</td>\n      <td>Decision Tree Classifier</td>\n      <td>(15, 2, random)</td>\n      <td>holdout</td>\n      <td>0.9</td>\n      <td>0.894956</td>\n      <td>0.904762</td>\n      <td>0.000997782</td>\n      <td>0</td>\n    </tr>\n    <tr>\n      <th>26</th>\n      <td>iris</td>\n      <td>Decision Tree Classifier</td>\n      <td>(15, 2, best)</td>\n      <td>holdout</td>\n      <td>0.9</td>\n      <td>0.90305</td>\n      <td>0.912698</td>\n      <td>0.000998497</td>\n      <td>0</td>\n    </tr>\n    <tr>\n      <th>28</th>\n      <td>iris</td>\n      <td>Decision Tree Classifier</td>\n      <td>(15, 20, random)</td>\n      <td>holdout</td>\n      <td>0.48</td>\n      <td>0.45</td>\n      <td>0.555556</td>\n      <td>0</td>\n      <td>0</td>\n    </tr>\n    <tr>\n      <th>30</th>\n      <td>iris</td>\n      <td>Decision Tree Classifier</td>\n      <td>(15, 20, best)</td>\n      <td>holdout</td>\n      <td>0.9</td>\n      <td>0.90305</td>\n      <td>0.912698</td>\n      <td>0.000988245</td>\n      <td>0</td>\n    </tr>\n    <tr>\n      <th>32</th>\n      <td>iris</td>\n      <td>Decision Tree Classifier</td>\n      <td>(15, 40, random)</td>\n      <td>holdout</td>\n      <td>0.28</td>\n      <td>0.0933333</td>\n      <td>0.333333</td>\n      <td>0</td>\n      <td>0</td>\n    </tr>\n    <tr>\n      <th>34</th>\n      <td>iris</td>\n      <td>Decision Tree Classifier</td>\n      <td>(15, 40, best)</td>\n      <td>holdout</td>\n      <td>0.54</td>\n      <td>0.41533</td>\n      <td>0.619048</td>\n      <td>0.00102901</td>\n      <td>0</td>\n    </tr>\n  </tbody>\n</table>\n</div>"
     },
     "metadata": {},
     "output_type": "display_data"
    },
    {
     "data": {
      "text/plain": "   dataset                  approach         arguments   split  \\\n1     iris  Decision Tree Classifier    (5, 2, random)  k-fold   \n3     iris  Decision Tree Classifier      (5, 2, best)  k-fold   \n5     iris  Decision Tree Classifier   (5, 20, random)  k-fold   \n7     iris  Decision Tree Classifier     (5, 20, best)  k-fold   \n9     iris  Decision Tree Classifier   (5, 40, random)  k-fold   \n11    iris  Decision Tree Classifier     (5, 40, best)  k-fold   \n13    iris  Decision Tree Classifier   (10, 2, random)  k-fold   \n15    iris  Decision Tree Classifier     (10, 2, best)  k-fold   \n17    iris  Decision Tree Classifier  (10, 20, random)  k-fold   \n19    iris  Decision Tree Classifier    (10, 20, best)  k-fold   \n21    iris  Decision Tree Classifier  (10, 40, random)  k-fold   \n23    iris  Decision Tree Classifier    (10, 40, best)  k-fold   \n25    iris  Decision Tree Classifier   (15, 2, random)  k-fold   \n27    iris  Decision Tree Classifier     (15, 2, best)  k-fold   \n29    iris  Decision Tree Classifier  (15, 20, random)  k-fold   \n31    iris  Decision Tree Classifier    (15, 20, best)  k-fold   \n33    iris  Decision Tree Classifier  (15, 40, random)  k-fold   \n35    iris  Decision Tree Classifier    (15, 40, best)  k-fold   \n\n                                           accuracy  \\\n1    m: 0.8800000000000001 std: 0.05416025603090639   \n3    m: 0.9400000000000001 std: 0.04422166387140532   \n5   m: 0.5599999999999999 std: 0.024944382578492935   \n7    m: 0.9266666666666667 std: 0.04422166387140532   \n9                    m: 0.3333333333333333 std: 0.0   \n11   m: 0.7666666666666666 std: 0.12292725943057185   \n13   m: 0.9199999999999999 std: 0.04521553322083511   \n15   m: 0.9400000000000001 std: 0.04422166387140532   \n17  m: 0.5599999999999999 std: 0.024944382578492935   \n19   m: 0.9266666666666667 std: 0.04422166387140532   \n21                   m: 0.3333333333333333 std: 0.0   \n23   m: 0.7666666666666666 std: 0.12292725943057185   \n25   m: 0.9199999999999999 std: 0.04521553322083511   \n27   m: 0.9400000000000001 std: 0.04422166387140532   \n29  m: 0.5599999999999999 std: 0.024944382578492935   \n31   m: 0.9266666666666667 std: 0.04422166387140532   \n33                   m: 0.3333333333333333 std: 0.0   \n35   m: 0.7666666666666666 std: 0.12292725943057185   \n\n                                            precision  \\\n1      m: 0.9151709401709403 std: 0.02856862378351845   \n3      m: 0.9444949494949496 std: 0.04164152899506982   \n5    m: 0.47716293368467283 std: 0.004696804926703416   \n7      m: 0.9332491582491583 std: 0.04255264892173636   \n9   m: 0.11111111111111112 std: 1.3877787807814457...   \n11     m: 0.6693602693602694 std: 0.20784967494940076   \n13     m: 0.9307840307840308 std: 0.03813348030226439   \n15     m: 0.9444949494949496 std: 0.04164152899506982   \n17   m: 0.47716293368467283 std: 0.004696804926703416   \n19     m: 0.9332491582491583 std: 0.04255264892173636   \n21  m: 0.11111111111111112 std: 1.3877787807814457...   \n23     m: 0.6693602693602694 std: 0.20784967494940076   \n25     m: 0.9307840307840308 std: 0.03813348030226439   \n27     m: 0.9444949494949496 std: 0.04164152899506982   \n29   m: 0.47716293368467283 std: 0.004696804926703416   \n31     m: 0.9332491582491583 std: 0.04255264892173636   \n33  m: 0.11111111111111112 std: 1.3877787807814457...   \n35     m: 0.6693602693602694 std: 0.20784967494940076   \n\n                                             recall  \\\n1    m: 0.8799999999999999 std: 0.05416025603090637   \n3   m: 0.9400000000000001 std: 0.044221663871405366   \n5   m: 0.5599999999999999 std: 0.024944382578492935   \n7   m: 0.9266666666666665 std: 0.044221663871405345   \n9                    m: 0.3333333333333333 std: 0.0   \n11   m: 0.7666666666666666 std: 0.12292725943057183   \n13    m: 0.9199999999999999 std: 0.0452155332208351   \n15  m: 0.9400000000000001 std: 0.044221663871405366   \n17  m: 0.5599999999999999 std: 0.024944382578492935   \n19  m: 0.9266666666666665 std: 0.044221663871405345   \n21                   m: 0.3333333333333333 std: 0.0   \n23   m: 0.7666666666666666 std: 0.12292725943057183   \n25    m: 0.9199999999999999 std: 0.0452155332208351   \n27  m: 0.9400000000000001 std: 0.044221663871405366   \n29  m: 0.5599999999999999 std: 0.024944382578492935   \n31  m: 0.9266666666666665 std: 0.044221663871405345   \n33                   m: 0.3333333333333333 std: 0.0   \n35   m: 0.7666666666666666 std: 0.12292725943057183   \n\n                                        time training  \\\n1   total: 0.0029909610748291016 values: [0.000996...   \n3   total: 0.0039899349212646484 values: [0.000997...   \n5   total: 0.0009984970092773438 values: [0.      ...   \n7   total: 0.002992391586303711 values: [0.0009975...   \n9   total: 0.0029954910278320312 values: [0.001002...   \n11  total: 0.00498652458190918 values: [0.00099707...   \n13  total: 0.0029916763305664062 values: [0.000997...   \n15  total: 0.0009970664978027344 values: [0.      ...   \n17  total: 0.003989219665527344 values: [0.       ...   \n19  total: 0.002992391586303711 values: [0.       ...   \n21  total: 0.003988981246948242 values: [0.0009977...   \n23  total: 0.004987239837646484 values: [0.0009973...   \n25                total: 0.0 values: [0. 0. 0. 0. 0.]   \n27  total: 0.004975557327270508 values: [0.0009937...   \n29  total: 0.002956390380859375 values: [0.0009946...   \n31  total: 0.002009868621826172 values: [0.       ...   \n33  total: 0.0039103031158447266 values: [0.000969...   \n35  total: 0.0029611587524414062 values: [0.000965...   \n\n                                         time testing  \n1   total: 0.006982088088989258 values: [0.0009975...  \n3   total: 0.005985736846923828 values: [0.0009982...  \n5   total: 0.008977174758911133 values: [0.0019943...  \n7   total: 0.006968021392822266 values: [0.0009968...  \n9   total: 0.006973743438720703 values: [0.0009920...  \n11  total: 0.004986286163330078 values: [0.0009973...  \n13  total: 0.004986763000488281 values: [0.0009973...  \n15  total: 0.004986763000488281 values: [0.0009970...  \n17  total: 0.00498652458190918 values: [0.00099754...  \n19  total: 0.004985809326171875 values: [0.0009970...  \n21  total: 0.005984306335449219 values: [0.0009973...  \n23  total: 0.004987478256225586 values: [0.0009975...  \n25  total: 0.010005712509155273 values: [0.0019946...  \n27  total: 0.004998445510864258 values: [0.0009985...  \n29  total: 0.007015705108642578 values: [0.0009989...  \n31  total: 0.008897542953491211 values: [0.0009658...  \n33  total: 0.007031679153442383 values: [0.0020077...  \n35  total: 0.0050389766693115234 values: [0.001024...  ",
      "text/html": "<div>\n<style scoped>\n    .dataframe tbody tr th:only-of-type {\n        vertical-align: middle;\n    }\n\n    .dataframe tbody tr th {\n        vertical-align: top;\n    }\n\n    .dataframe thead th {\n        text-align: right;\n    }\n</style>\n<table border=\"1\" class=\"dataframe\">\n  <thead>\n    <tr style=\"text-align: right;\">\n      <th></th>\n      <th>dataset</th>\n      <th>approach</th>\n      <th>arguments</th>\n      <th>split</th>\n      <th>accuracy</th>\n      <th>precision</th>\n      <th>recall</th>\n      <th>time training</th>\n      <th>time testing</th>\n    </tr>\n  </thead>\n  <tbody>\n    <tr>\n      <th>1</th>\n      <td>iris</td>\n      <td>Decision Tree Classifier</td>\n      <td>(5, 2, random)</td>\n      <td>k-fold</td>\n      <td>m: 0.8800000000000001 std: 0.05416025603090639</td>\n      <td>m: 0.9151709401709403 std: 0.02856862378351845</td>\n      <td>m: 0.8799999999999999 std: 0.05416025603090637</td>\n      <td>total: 0.0029909610748291016 values: [0.000996...</td>\n      <td>total: 0.006982088088989258 values: [0.0009975...</td>\n    </tr>\n    <tr>\n      <th>3</th>\n      <td>iris</td>\n      <td>Decision Tree Classifier</td>\n      <td>(5, 2, best)</td>\n      <td>k-fold</td>\n      <td>m: 0.9400000000000001 std: 0.04422166387140532</td>\n      <td>m: 0.9444949494949496 std: 0.04164152899506982</td>\n      <td>m: 0.9400000000000001 std: 0.044221663871405366</td>\n      <td>total: 0.0039899349212646484 values: [0.000997...</td>\n      <td>total: 0.005985736846923828 values: [0.0009982...</td>\n    </tr>\n    <tr>\n      <th>5</th>\n      <td>iris</td>\n      <td>Decision Tree Classifier</td>\n      <td>(5, 20, random)</td>\n      <td>k-fold</td>\n      <td>m: 0.5599999999999999 std: 0.024944382578492935</td>\n      <td>m: 0.47716293368467283 std: 0.004696804926703416</td>\n      <td>m: 0.5599999999999999 std: 0.024944382578492935</td>\n      <td>total: 0.0009984970092773438 values: [0.      ...</td>\n      <td>total: 0.008977174758911133 values: [0.0019943...</td>\n    </tr>\n    <tr>\n      <th>7</th>\n      <td>iris</td>\n      <td>Decision Tree Classifier</td>\n      <td>(5, 20, best)</td>\n      <td>k-fold</td>\n      <td>m: 0.9266666666666667 std: 0.04422166387140532</td>\n      <td>m: 0.9332491582491583 std: 0.04255264892173636</td>\n      <td>m: 0.9266666666666665 std: 0.044221663871405345</td>\n      <td>total: 0.002992391586303711 values: [0.0009975...</td>\n      <td>total: 0.006968021392822266 values: [0.0009968...</td>\n    </tr>\n    <tr>\n      <th>9</th>\n      <td>iris</td>\n      <td>Decision Tree Classifier</td>\n      <td>(5, 40, random)</td>\n      <td>k-fold</td>\n      <td>m: 0.3333333333333333 std: 0.0</td>\n      <td>m: 0.11111111111111112 std: 1.3877787807814457...</td>\n      <td>m: 0.3333333333333333 std: 0.0</td>\n      <td>total: 0.0029954910278320312 values: [0.001002...</td>\n      <td>total: 0.006973743438720703 values: [0.0009920...</td>\n    </tr>\n    <tr>\n      <th>11</th>\n      <td>iris</td>\n      <td>Decision Tree Classifier</td>\n      <td>(5, 40, best)</td>\n      <td>k-fold</td>\n      <td>m: 0.7666666666666666 std: 0.12292725943057185</td>\n      <td>m: 0.6693602693602694 std: 0.20784967494940076</td>\n      <td>m: 0.7666666666666666 std: 0.12292725943057183</td>\n      <td>total: 0.00498652458190918 values: [0.00099707...</td>\n      <td>total: 0.004986286163330078 values: [0.0009973...</td>\n    </tr>\n    <tr>\n      <th>13</th>\n      <td>iris</td>\n      <td>Decision Tree Classifier</td>\n      <td>(10, 2, random)</td>\n      <td>k-fold</td>\n      <td>m: 0.9199999999999999 std: 0.04521553322083511</td>\n      <td>m: 0.9307840307840308 std: 0.03813348030226439</td>\n      <td>m: 0.9199999999999999 std: 0.0452155332208351</td>\n      <td>total: 0.0029916763305664062 values: [0.000997...</td>\n      <td>total: 0.004986763000488281 values: [0.0009973...</td>\n    </tr>\n    <tr>\n      <th>15</th>\n      <td>iris</td>\n      <td>Decision Tree Classifier</td>\n      <td>(10, 2, best)</td>\n      <td>k-fold</td>\n      <td>m: 0.9400000000000001 std: 0.04422166387140532</td>\n      <td>m: 0.9444949494949496 std: 0.04164152899506982</td>\n      <td>m: 0.9400000000000001 std: 0.044221663871405366</td>\n      <td>total: 0.0009970664978027344 values: [0.      ...</td>\n      <td>total: 0.004986763000488281 values: [0.0009970...</td>\n    </tr>\n    <tr>\n      <th>17</th>\n      <td>iris</td>\n      <td>Decision Tree Classifier</td>\n      <td>(10, 20, random)</td>\n      <td>k-fold</td>\n      <td>m: 0.5599999999999999 std: 0.024944382578492935</td>\n      <td>m: 0.47716293368467283 std: 0.004696804926703416</td>\n      <td>m: 0.5599999999999999 std: 0.024944382578492935</td>\n      <td>total: 0.003989219665527344 values: [0.       ...</td>\n      <td>total: 0.00498652458190918 values: [0.00099754...</td>\n    </tr>\n    <tr>\n      <th>19</th>\n      <td>iris</td>\n      <td>Decision Tree Classifier</td>\n      <td>(10, 20, best)</td>\n      <td>k-fold</td>\n      <td>m: 0.9266666666666667 std: 0.04422166387140532</td>\n      <td>m: 0.9332491582491583 std: 0.04255264892173636</td>\n      <td>m: 0.9266666666666665 std: 0.044221663871405345</td>\n      <td>total: 0.002992391586303711 values: [0.       ...</td>\n      <td>total: 0.004985809326171875 values: [0.0009970...</td>\n    </tr>\n    <tr>\n      <th>21</th>\n      <td>iris</td>\n      <td>Decision Tree Classifier</td>\n      <td>(10, 40, random)</td>\n      <td>k-fold</td>\n      <td>m: 0.3333333333333333 std: 0.0</td>\n      <td>m: 0.11111111111111112 std: 1.3877787807814457...</td>\n      <td>m: 0.3333333333333333 std: 0.0</td>\n      <td>total: 0.003988981246948242 values: [0.0009977...</td>\n      <td>total: 0.005984306335449219 values: [0.0009973...</td>\n    </tr>\n    <tr>\n      <th>23</th>\n      <td>iris</td>\n      <td>Decision Tree Classifier</td>\n      <td>(10, 40, best)</td>\n      <td>k-fold</td>\n      <td>m: 0.7666666666666666 std: 0.12292725943057185</td>\n      <td>m: 0.6693602693602694 std: 0.20784967494940076</td>\n      <td>m: 0.7666666666666666 std: 0.12292725943057183</td>\n      <td>total: 0.004987239837646484 values: [0.0009973...</td>\n      <td>total: 0.004987478256225586 values: [0.0009975...</td>\n    </tr>\n    <tr>\n      <th>25</th>\n      <td>iris</td>\n      <td>Decision Tree Classifier</td>\n      <td>(15, 2, random)</td>\n      <td>k-fold</td>\n      <td>m: 0.9199999999999999 std: 0.04521553322083511</td>\n      <td>m: 0.9307840307840308 std: 0.03813348030226439</td>\n      <td>m: 0.9199999999999999 std: 0.0452155332208351</td>\n      <td>total: 0.0 values: [0. 0. 0. 0. 0.]</td>\n      <td>total: 0.010005712509155273 values: [0.0019946...</td>\n    </tr>\n    <tr>\n      <th>27</th>\n      <td>iris</td>\n      <td>Decision Tree Classifier</td>\n      <td>(15, 2, best)</td>\n      <td>k-fold</td>\n      <td>m: 0.9400000000000001 std: 0.04422166387140532</td>\n      <td>m: 0.9444949494949496 std: 0.04164152899506982</td>\n      <td>m: 0.9400000000000001 std: 0.044221663871405366</td>\n      <td>total: 0.004975557327270508 values: [0.0009937...</td>\n      <td>total: 0.004998445510864258 values: [0.0009985...</td>\n    </tr>\n    <tr>\n      <th>29</th>\n      <td>iris</td>\n      <td>Decision Tree Classifier</td>\n      <td>(15, 20, random)</td>\n      <td>k-fold</td>\n      <td>m: 0.5599999999999999 std: 0.024944382578492935</td>\n      <td>m: 0.47716293368467283 std: 0.004696804926703416</td>\n      <td>m: 0.5599999999999999 std: 0.024944382578492935</td>\n      <td>total: 0.002956390380859375 values: [0.0009946...</td>\n      <td>total: 0.007015705108642578 values: [0.0009989...</td>\n    </tr>\n    <tr>\n      <th>31</th>\n      <td>iris</td>\n      <td>Decision Tree Classifier</td>\n      <td>(15, 20, best)</td>\n      <td>k-fold</td>\n      <td>m: 0.9266666666666667 std: 0.04422166387140532</td>\n      <td>m: 0.9332491582491583 std: 0.04255264892173636</td>\n      <td>m: 0.9266666666666665 std: 0.044221663871405345</td>\n      <td>total: 0.002009868621826172 values: [0.       ...</td>\n      <td>total: 0.008897542953491211 values: [0.0009658...</td>\n    </tr>\n    <tr>\n      <th>33</th>\n      <td>iris</td>\n      <td>Decision Tree Classifier</td>\n      <td>(15, 40, random)</td>\n      <td>k-fold</td>\n      <td>m: 0.3333333333333333 std: 0.0</td>\n      <td>m: 0.11111111111111112 std: 1.3877787807814457...</td>\n      <td>m: 0.3333333333333333 std: 0.0</td>\n      <td>total: 0.0039103031158447266 values: [0.000969...</td>\n      <td>total: 0.007031679153442383 values: [0.0020077...</td>\n    </tr>\n    <tr>\n      <th>35</th>\n      <td>iris</td>\n      <td>Decision Tree Classifier</td>\n      <td>(15, 40, best)</td>\n      <td>k-fold</td>\n      <td>m: 0.7666666666666666 std: 0.12292725943057185</td>\n      <td>m: 0.6693602693602694 std: 0.20784967494940076</td>\n      <td>m: 0.7666666666666666 std: 0.12292725943057183</td>\n      <td>total: 0.0029611587524414062 values: [0.000965...</td>\n      <td>total: 0.0050389766693115234 values: [0.001024...</td>\n    </tr>\n  </tbody>\n</table>\n</div>"
     },
     "metadata": {},
     "output_type": "display_data"
    },
    {
     "data": {
      "text/plain": "<Figure size 432x288 with 1 Axes>",
      "image/png": "[encoded data removed]"
     },
     "metadata": {
      "needs_background": "light"
     },
     "output_type": "display_data"
    }
   ],
   "source": [
    "datasetIris = datasets.load_iris();\n",
    "classifier = tree.DecisionTreeClassifier(criterion = 'gini',\n",
    "                                         max_depth = 10,\n",
    "                                         min_samples_leaf = 20,\n",
    "                                         splitter = 'best')\n",
    "tree.plot_tree(classifier.fit(datasetIris.data, datasetIris.target),max_depth=5)\n",
    "display(decision_tree_results_df[(decision_tree_results_df['dataset']=='iris') & (decision_tree_results_df['split']=='holdout')])\n",
    "display(decision_tree_results_df[(decision_tree_results_df['dataset']=='iris') & (decision_tree_results_df['split']=='k-fold')])"
   ],
   "metadata": {
    "collapsed": false,
    "pycharm": {
     "name": "#%%\n"
    }
   }
  },
  {
   "cell_type": "markdown",
   "source": [
    "### Handwritten Numbers"
   ],
   "metadata": {
    "collapsed": false
   }
  },
  {
   "cell_type": "code",
   "execution_count": 13,
   "outputs": [
    {
     "data": {
      "text/plain": "   dataset                  approach         arguments    split  accuracy  \\\n36  digits  Decision Tree Classifier    (5, 2, random)  holdout  0.673401   \n38  digits  Decision Tree Classifier      (5, 2, best)  holdout    0.6633   \n40  digits  Decision Tree Classifier   (5, 20, random)  holdout  0.643098   \n42  digits  Decision Tree Classifier     (5, 20, best)  holdout  0.658249   \n44  digits  Decision Tree Classifier   (5, 40, random)  holdout  0.624579   \n46  digits  Decision Tree Classifier     (5, 40, best)  holdout  0.607744   \n48  digits  Decision Tree Classifier   (10, 2, random)  holdout  0.821549   \n50  digits  Decision Tree Classifier     (10, 2, best)  holdout  0.833333   \n52  digits  Decision Tree Classifier  (10, 20, random)  holdout  0.742424   \n54  digits  Decision Tree Classifier    (10, 20, best)  holdout  0.794613   \n56  digits  Decision Tree Classifier  (10, 40, random)  holdout  0.621212   \n58  digits  Decision Tree Classifier    (10, 40, best)  holdout  0.734007   \n60  digits  Decision Tree Classifier   (15, 2, random)  holdout  0.826599   \n62  digits  Decision Tree Classifier     (15, 2, best)  holdout   0.83165   \n64  digits  Decision Tree Classifier  (15, 20, random)  holdout  0.742424   \n66  digits  Decision Tree Classifier    (15, 20, best)  holdout  0.794613   \n68  digits  Decision Tree Classifier  (15, 40, random)  holdout  0.621212   \n70  digits  Decision Tree Classifier    (15, 40, best)  holdout  0.734007   \n\n   precision    recall time training time testing  \n36  0.717454  0.677103    0.00299382            0  \n38  0.746121  0.663671    0.00900841            0  \n40  0.637573  0.641345    0.00399446  0.000993967  \n42  0.720075  0.657125    0.00897002  0.000971794  \n44  0.595066  0.623683    0.00299263            0  \n46   0.59806  0.604756    0.00797749  0.000996828  \n48  0.827151  0.822762    0.00598502  0.000996113  \n50   0.84214  0.836688     0.0139637            0  \n52  0.749126  0.743035    0.00398827            0  \n54   0.80054  0.797709    0.00997877  0.000995874  \n56  0.649174  0.622869    0.00299239  0.000998497  \n58  0.764335   0.73374     0.0109711  0.000998259  \n60  0.832276  0.828587    0.00498438            0  \n62  0.839983  0.835681     0.0149601            0  \n64  0.749126  0.743035    0.00598431            0  \n66   0.80054  0.797709     0.0119667            0  \n68  0.649174  0.622869    0.00299263  0.000997782  \n70  0.764335   0.73374    0.00997281            0  ",
      "text/html": "<div>\n<style scoped>\n    .dataframe tbody tr th:only-of-type {\n        vertical-align: middle;\n    }\n\n    .dataframe tbody tr th {\n        vertical-align: top;\n    }\n\n    .dataframe thead th {\n        text-align: right;\n    }\n</style>\n<table border=\"1\" class=\"dataframe\">\n  <thead>\n    <tr style=\"text-align: right;\">\n      <th></th>\n      <th>dataset</th>\n      <th>approach</th>\n      <th>arguments</th>\n      <th>split</th>\n      <th>accuracy</th>\n      <th>precision</th>\n      <th>recall</th>\n      <th>time training</th>\n      <th>time testing</th>\n    </tr>\n  </thead>\n  <tbody>\n    <tr>\n      <th>36</th>\n      <td>digits</td>\n      <td>Decision Tree Classifier</td>\n      <td>(5, 2, random)</td>\n      <td>holdout</td>\n      <td>0.673401</td>\n      <td>0.717454</td>\n      <td>0.677103</td>\n      <td>0.00299382</td>\n      <td>0</td>\n    </tr>\n    <tr>\n      <th>38</th>\n      <td>digits</td>\n      <td>Decision Tree Classifier</td>\n      <td>(5, 2, best)</td>\n      <td>holdout</td>\n      <td>0.6633</td>\n      <td>0.746121</td>\n      <td>0.663671</td>\n      <td>0.00900841</td>\n      <td>0</td>\n    </tr>\n    <tr>\n      <th>40</th>\n      <td>digits</td>\n      <td>Decision Tree Classifier</td>\n      <td>(5, 20, random)</td>\n      <td>holdout</td>\n      <td>0.643098</td>\n      <td>0.637573</td>\n      <td>0.641345</td>\n      <td>0.00399446</td>\n      <td>0.000993967</td>\n    </tr>\n    <tr>\n      <th>42</th>\n      <td>digits</td>\n      <td>Decision Tree Classifier</td>\n      <td>(5, 20, best)</td>\n      <td>holdout</td>\n      <td>0.658249</td>\n      <td>0.720075</td>\n      <td>0.657125</td>\n      <td>0.00897002</td>\n      <td>0.000971794</td>\n    </tr>\n    <tr>\n      <th>44</th>\n      <td>digits</td>\n      <td>Decision Tree Classifier</td>\n      <td>(5, 40, random)</td>\n      <td>holdout</td>\n      <td>0.624579</td>\n      <td>0.595066</td>\n      <td>0.623683</td>\n      <td>0.00299263</td>\n      <td>0</td>\n    </tr>\n    <tr>\n      <th>46</th>\n      <td>digits</td>\n      <td>Decision Tree Classifier</td>\n      <td>(5, 40, best)</td>\n      <td>holdout</td>\n      <td>0.607744</td>\n      <td>0.59806</td>\n      <td>0.604756</td>\n      <td>0.00797749</td>\n      <td>0.000996828</td>\n    </tr>\n    <tr>\n      <th>48</th>\n      <td>digits</td>\n      <td>Decision Tree Classifier</td>\n      <td>(10, 2, random)</td>\n      <td>holdout</td>\n      <td>0.821549</td>\n      <td>0.827151</td>\n      <td>0.822762</td>\n      <td>0.00598502</td>\n      <td>0.000996113</td>\n    </tr>\n    <tr>\n      <th>50</th>\n      <td>digits</td>\n      <td>Decision Tree Classifier</td>\n      <td>(10, 2, best)</td>\n      <td>holdout</td>\n      <td>0.833333</td>\n      <td>0.84214</td>\n      <td>0.836688</td>\n      <td>0.0139637</td>\n      <td>0</td>\n    </tr>\n    <tr>\n      <th>52</th>\n      <td>digits</td>\n      <td>Decision Tree Classifier</td>\n      <td>(10, 20, random)</td>\n      <td>holdout</td>\n      <td>0.742424</td>\n      <td>0.749126</td>\n      <td>0.743035</td>\n      <td>0.00398827</td>\n      <td>0</td>\n    </tr>\n    <tr>\n      <th>54</th>\n      <td>digits</td>\n      <td>Decision Tree Classifier</td>\n      <td>(10, 20, best)</td>\n      <td>holdout</td>\n      <td>0.794613</td>\n      <td>0.80054</td>\n      <td>0.797709</td>\n      <td>0.00997877</td>\n      <td>0.000995874</td>\n    </tr>\n    <tr>\n      <th>56</th>\n      <td>digits</td>\n      <td>Decision Tree Classifier</td>\n      <td>(10, 40, random)</td>\n      <td>holdout</td>\n      <td>0.621212</td>\n      <td>0.649174</td>\n      <td>0.622869</td>\n      <td>0.00299239</td>\n      <td>0.000998497</td>\n    </tr>\n    <tr>\n      <th>58</th>\n      <td>digits</td>\n      <td>Decision Tree Classifier</td>\n      <td>(10, 40, best)</td>\n      <td>holdout</td>\n      <td>0.734007</td>\n      <td>0.764335</td>\n      <td>0.73374</td>\n      <td>0.0109711</td>\n      <td>0.000998259</td>\n    </tr>\n    <tr>\n      <th>60</th>\n      <td>digits</td>\n      <td>Decision Tree Classifier</td>\n      <td>(15, 2, random)</td>\n      <td>holdout</td>\n      <td>0.826599</td>\n      <td>0.832276</td>\n      <td>0.828587</td>\n      <td>0.00498438</td>\n      <td>0</td>\n    </tr>\n    <tr>\n      <th>62</th>\n      <td>digits</td>\n      <td>Decision Tree Classifier</td>\n      <td>(15, 2, best)</td>\n      <td>holdout</td>\n      <td>0.83165</td>\n      <td>0.839983</td>\n      <td>0.835681</td>\n      <td>0.0149601</td>\n      <td>0</td>\n    </tr>\n    <tr>\n      <th>64</th>\n      <td>digits</td>\n      <td>Decision Tree Classifier</td>\n      <td>(15, 20, random)</td>\n      <td>holdout</td>\n      <td>0.742424</td>\n      <td>0.749126</td>\n      <td>0.743035</td>\n      <td>0.00598431</td>\n      <td>0</td>\n    </tr>\n    <tr>\n      <th>66</th>\n      <td>digits</td>\n      <td>Decision Tree Classifier</td>\n      <td>(15, 20, best)</td>\n      <td>holdout</td>\n      <td>0.794613</td>\n      <td>0.80054</td>\n      <td>0.797709</td>\n      <td>0.0119667</td>\n      <td>0</td>\n    </tr>\n    <tr>\n      <th>68</th>\n      <td>digits</td>\n      <td>Decision Tree Classifier</td>\n      <td>(15, 40, random)</td>\n      <td>holdout</td>\n      <td>0.621212</td>\n      <td>0.649174</td>\n      <td>0.622869</td>\n      <td>0.00299263</td>\n      <td>0.000997782</td>\n    </tr>\n    <tr>\n      <th>70</th>\n      <td>digits</td>\n      <td>Decision Tree Classifier</td>\n      <td>(15, 40, best)</td>\n      <td>holdout</td>\n      <td>0.734007</td>\n      <td>0.764335</td>\n      <td>0.73374</td>\n      <td>0.00997281</td>\n      <td>0</td>\n    </tr>\n  </tbody>\n</table>\n</div>"
     },
     "metadata": {},
     "output_type": "display_data"
    },
    {
     "data": {
      "text/plain": "   dataset                  approach         arguments   split  \\\n37  digits  Decision Tree Classifier    (5, 2, random)  k-fold   \n39  digits  Decision Tree Classifier      (5, 2, best)  k-fold   \n41  digits  Decision Tree Classifier   (5, 20, random)  k-fold   \n43  digits  Decision Tree Classifier     (5, 20, best)  k-fold   \n45  digits  Decision Tree Classifier   (5, 40, random)  k-fold   \n47  digits  Decision Tree Classifier     (5, 40, best)  k-fold   \n49  digits  Decision Tree Classifier   (10, 2, random)  k-fold   \n51  digits  Decision Tree Classifier     (10, 2, best)  k-fold   \n53  digits  Decision Tree Classifier  (10, 20, random)  k-fold   \n55  digits  Decision Tree Classifier    (10, 20, best)  k-fold   \n57  digits  Decision Tree Classifier  (10, 40, random)  k-fold   \n59  digits  Decision Tree Classifier    (10, 40, best)  k-fold   \n61  digits  Decision Tree Classifier   (15, 2, random)  k-fold   \n63  digits  Decision Tree Classifier     (15, 2, best)  k-fold   \n65  digits  Decision Tree Classifier  (15, 20, random)  k-fold   \n67  digits  Decision Tree Classifier    (15, 20, best)  k-fold   \n69  digits  Decision Tree Classifier  (15, 40, random)  k-fold   \n71  digits  Decision Tree Classifier    (15, 40, best)  k-fold   \n\n                                           accuracy  \\\n37     m: 0.682799442896936 std: 0.0225789955736832   \n39  m: 0.6521990095945527 std: 0.029293764851288196   \n41  m: 0.6750278551532034 std: 0.040755563742608684   \n43   m: 0.642189724543485 std: 0.026859596447899876   \n45   m: 0.6282559579077684 std: 0.04962782791262363   \n47  m: 0.6271649644073042 std: 0.022340010709646117   \n49  m: 0.8492169606932837 std: 0.024701250873822116   \n51  m: 0.8497415660786135 std: 0.016289255420700997   \n53  m: 0.7334292788610337 std: 0.020905478914734647   \n55   m: 0.7879712163416899 std: 0.01638106112774851   \n57  m: 0.6956360259981429 std: 0.030311998503533933   \n59   m: 0.7551593933766635 std: 0.02118747834909684   \n61    m: 0.8480857319715259 std: 0.0160451900425344   \n63  m: 0.8503002166511916 std: 0.009784061096593345   \n65  m: 0.7334292788610337 std: 0.020905478914734647   \n67   m: 0.7879712163416899 std: 0.01638106112774851   \n69  m: 0.6956360259981429 std: 0.030311998503533933   \n71   m: 0.7551593933766635 std: 0.02118747834909684   \n\n                                          precision  \\\n37   m: 0.717660567564935 std: 0.026132446284686445   \n39   m: 0.7298174310895975 std: 0.01717008365700091   \n41  m: 0.6950497115958991 std: 0.061857032803490745   \n43    m: 0.703735266738326 std: 0.01501969790860612   \n45   m: 0.6253692157304211 std: 0.05839129334704999   \n47   m: 0.6660513441822741 std: 0.02980445680574132   \n49  m: 0.8535964619626707 std: 0.024247845316340284   \n51  m: 0.8559045305923447 std: 0.016949978229067093   \n53   m: 0.7394966477817702 std: 0.02134785363906439   \n55  m: 0.7966323249656977 std: 0.019183878519583475   \n57   m: 0.7156065230428587 std: 0.03517987997097763   \n59  m: 0.7708872928512271 std: 0.018327983630086836   \n61  m: 0.8518270691602231 std: 0.014618370518263432   \n63  m: 0.8570756527976207 std: 0.010812556072823007   \n65   m: 0.7394966477817702 std: 0.02134785363906439   \n67  m: 0.7966323249656977 std: 0.019183878519583475   \n69   m: 0.7156065230428587 std: 0.03517987997097763   \n71  m: 0.7708872928512271 std: 0.018327983630086836   \n\n                                             recall  \\\n37  m: 0.6822451106568753 std: 0.022306835943359964   \n39  m: 0.6520541549953315 std: 0.028721061472361847   \n41    m: 0.674860019683549 std: 0.04133979548873456   \n43  m: 0.6420215509627274 std: 0.026807715646732715   \n45  m: 0.6283112019582608 std: 0.050742761166004666   \n47  m: 0.6270297019708784 std: 0.022343553593636677   \n49   m: 0.848803896333308 std: 0.024983989383474584   \n51  m: 0.8496446109975521 std: 0.016132101050840803   \n53   m: 0.7331400055517703 std: 0.02089872408546371   \n55    m: 0.7882291114644057 std: 0.0162673398542481   \n57   m: 0.6946652282534636 std: 0.03080685318605075   \n59   m: 0.754918641330406 std: 0.021705452983571242   \n61   m: 0.847657531481061 std: 0.016500416901784897   \n63  m: 0.8501242334771746 std: 0.009676746964727485   \n65   m: 0.7331400055517703 std: 0.02089872408546371   \n67    m: 0.7882291114644057 std: 0.0162673398542481   \n69   m: 0.6946652282534636 std: 0.03080685318605075   \n71   m: 0.754918641330406 std: 0.021705452983571242   \n\n                                        time training  \\\n37  total: 0.02091217041015625 values: [0.00398803...   \n39  total: 0.05185675621032715 values: [0.00997257...   \n41  total: 0.024979591369628906 values: [0.0049858...   \n43  total: 0.06183505058288574 values: [0.01296616...   \n45  total: 0.022940874099731445 values: [0.0049877...   \n47  total: 0.054849863052368164 values: [0.0119662...   \n49  total: 0.035906076431274414 values: [0.0079789...   \n51  total: 0.08380770683288574 values: [0.01895046...   \n53  total: 0.024934053421020508 values: [0.004987 ...   \n55  total: 0.0777595043182373 values: [0.0149591  ...   \n57  total: 0.026928424835205078 values: [0.0059833...   \n59  total: 0.0688161849975586 values: [0.01396251 ...   \n61  total: 0.03790116310119629 values: [0.00698161...   \n63  total: 0.10072803497314453 values: [0.01894808...   \n65  total: 0.02891850471496582 values: [0.00498486...   \n67  total: 0.07380175590515137 values: [0.01396275...   \n69  total: 0.025930166244506836 values: [0.0049872...   \n71  total: 0.06183338165283203 values: [0.01196599...   \n\n                                         time testing  \n37  total: 0.007982969284057617 values: [0.0019989...  \n39  total: 0.009945154190063477 values: [0.0019941...  \n41  total: 0.010895013809204102 values: [0.001966 ...  \n43  total: 0.008976459503173828 values: [0.0009968...  \n45  total: 0.011968612670898438 values: [0.0029923...  \n47  total: 0.00897359848022461 values: [0.00099683...  \n49  total: 0.011968135833740234 values: [0.0029931...  \n51  total: 0.009973764419555664 values: [0.0019934...  \n53  total: 0.00797724723815918 values: [0.00199437...  \n55  total: 0.011968374252319336 values: [0.0019946...  \n57  total: 0.009973287582397461 values: [0.0019948...  \n59  total: 0.009972810745239258 values: [0.0019938...  \n61  total: 0.010967731475830078 values: [0.0019941...  \n63  total: 0.010973691940307617 values: [0.0019955...  \n65  total: 0.010972976684570312 values: [0.0019950...  \n67  total: 0.011967658996582031 values: [0.0039889...  \n69  total: 0.009973287582397461 values: [0.0019929...  \n71  total: 0.00997304916381836 values: [0.00199509...  ",
      "text/html": "<div>\n<style scoped>\n    .dataframe tbody tr th:only-of-type {\n        vertical-align: middle;\n    }\n\n    .dataframe tbody tr th {\n        vertical-align: top;\n    }\n\n    .dataframe thead th {\n        text-align: right;\n    }\n</style>\n<table border=\"1\" class=\"dataframe\">\n  <thead>\n    <tr style=\"text-align: right;\">\n      <th></th>\n      <th>dataset</th>\n      <th>approach</th>\n      <th>arguments</th>\n      <th>split</th>\n      <th>accuracy</th>\n      <th>precision</th>\n      <th>recall</th>\n      <th>time training</th>\n      <th>time testing</th>\n    </tr>\n  </thead>\n  <tbody>\n    <tr>\n      <th>37</th>\n      <td>digits</td>\n      <td>Decision Tree Classifier</td>\n      <td>(5, 2, random)</td>\n      <td>k-fold</td>\n      <td>m: 0.682799442896936 std: 0.0225789955736832</td>\n      <td>m: 0.717660567564935 std: 0.026132446284686445</td>\n      <td>m: 0.6822451106568753 std: 0.022306835943359964</td>\n      <td>total: 0.02091217041015625 values: [0.00398803...</td>\n      <td>total: 0.007982969284057617 values: [0.0019989...</td>\n    </tr>\n    <tr>\n      <th>39</th>\n      <td>digits</td>\n      <td>Decision Tree Classifier</td>\n      <td>(5, 2, best)</td>\n      <td>k-fold</td>\n      <td>m: 0.6521990095945527 std: 0.029293764851288196</td>\n      <td>m: 0.7298174310895975 std: 0.01717008365700091</td>\n      <td>m: 0.6520541549953315 std: 0.028721061472361847</td>\n      <td>total: 0.05185675621032715 values: [0.00997257...</td>\n      <td>total: 0.009945154190063477 values: [0.0019941...</td>\n    </tr>\n    <tr>\n      <th>41</th>\n      <td>digits</td>\n      <td>Decision Tree Classifier</td>\n      <td>(5, 20, random)</td>\n      <td>k-fold</td>\n      <td>m: 0.6750278551532034 std: 0.040755563742608684</td>\n      <td>m: 0.6950497115958991 std: 0.061857032803490745</td>\n      <td>m: 0.674860019683549 std: 0.04133979548873456</td>\n      <td>total: 0.024979591369628906 values: [0.0049858...</td>\n      <td>total: 0.010895013809204102 values: [0.001966 ...</td>\n    </tr>\n    <tr>\n      <th>43</th>\n      <td>digits</td>\n      <td>Decision Tree Classifier</td>\n      <td>(5, 20, best)</td>\n      <td>k-fold</td>\n      <td>m: 0.642189724543485 std: 0.026859596447899876</td>\n      <td>m: 0.703735266738326 std: 0.01501969790860612</td>\n      <td>m: 0.6420215509627274 std: 0.026807715646732715</td>\n      <td>total: 0.06183505058288574 values: [0.01296616...</td>\n      <td>total: 0.008976459503173828 values: [0.0009968...</td>\n    </tr>\n    <tr>\n      <th>45</th>\n      <td>digits</td>\n      <td>Decision Tree Classifier</td>\n      <td>(5, 40, random)</td>\n      <td>k-fold</td>\n      <td>m: 0.6282559579077684 std: 0.04962782791262363</td>\n      <td>m: 0.6253692157304211 std: 0.05839129334704999</td>\n      <td>m: 0.6283112019582608 std: 0.050742761166004666</td>\n      <td>total: 0.022940874099731445 values: [0.0049877...</td>\n      <td>total: 0.011968612670898438 values: [0.0029923...</td>\n    </tr>\n    <tr>\n      <th>47</th>\n      <td>digits</td>\n      <td>Decision Tree Classifier</td>\n      <td>(5, 40, best)</td>\n      <td>k-fold</td>\n      <td>m: 0.6271649644073042 std: 0.022340010709646117</td>\n      <td>m: 0.6660513441822741 std: 0.02980445680574132</td>\n      <td>m: 0.6270297019708784 std: 0.022343553593636677</td>\n      <td>total: 0.054849863052368164 values: [0.0119662...</td>\n      <td>total: 0.00897359848022461 values: [0.00099683...</td>\n    </tr>\n    <tr>\n      <th>49</th>\n      <td>digits</td>\n      <td>Decision Tree Classifier</td>\n      <td>(10, 2, random)</td>\n      <td>k-fold</td>\n      <td>m: 0.8492169606932837 std: 0.024701250873822116</td>\n      <td>m: 0.8535964619626707 std: 0.024247845316340284</td>\n      <td>m: 0.848803896333308 std: 0.024983989383474584</td>\n      <td>total: 0.035906076431274414 values: [0.0079789...</td>\n      <td>total: 0.011968135833740234 values: [0.0029931...</td>\n    </tr>\n    <tr>\n      <th>51</th>\n      <td>digits</td>\n      <td>Decision Tree Classifier</td>\n      <td>(10, 2, best)</td>\n      <td>k-fold</td>\n      <td>m: 0.8497415660786135 std: 0.016289255420700997</td>\n      <td>m: 0.8559045305923447 std: 0.016949978229067093</td>\n      <td>m: 0.8496446109975521 std: 0.016132101050840803</td>\n      <td>total: 0.08380770683288574 values: [0.01895046...</td>\n      <td>total: 0.009973764419555664 values: [0.0019934...</td>\n    </tr>\n    <tr>\n      <th>53</th>\n      <td>digits</td>\n      <td>Decision Tree Classifier</td>\n      <td>(10, 20, random)</td>\n      <td>k-fold</td>\n      <td>m: 0.7334292788610337 std: 0.020905478914734647</td>\n      <td>m: 0.7394966477817702 std: 0.02134785363906439</td>\n      <td>m: 0.7331400055517703 std: 0.02089872408546371</td>\n      <td>total: 0.024934053421020508 values: [0.004987 ...</td>\n      <td>total: 0.00797724723815918 values: [0.00199437...</td>\n    </tr>\n    <tr>\n      <th>55</th>\n      <td>digits</td>\n      <td>Decision Tree Classifier</td>\n      <td>(10, 20, best)</td>\n      <td>k-fold</td>\n      <td>m: 0.7879712163416899 std: 0.01638106112774851</td>\n      <td>m: 0.7966323249656977 std: 0.019183878519583475</td>\n      <td>m: 0.7882291114644057 std: 0.0162673398542481</td>\n      <td>total: 0.0777595043182373 values: [0.0149591  ...</td>\n      <td>total: 0.011968374252319336 values: [0.0019946...</td>\n    </tr>\n    <tr>\n      <th>57</th>\n      <td>digits</td>\n      <td>Decision Tree Classifier</td>\n      <td>(10, 40, random)</td>\n      <td>k-fold</td>\n      <td>m: 0.6956360259981429 std: 0.030311998503533933</td>\n      <td>m: 0.7156065230428587 std: 0.03517987997097763</td>\n      <td>m: 0.6946652282534636 std: 0.03080685318605075</td>\n      <td>total: 0.026928424835205078 values: [0.0059833...</td>\n      <td>total: 0.009973287582397461 values: [0.0019948...</td>\n    </tr>\n    <tr>\n      <th>59</th>\n      <td>digits</td>\n      <td>Decision Tree Classifier</td>\n      <td>(10, 40, best)</td>\n      <td>k-fold</td>\n      <td>m: 0.7551593933766635 std: 0.02118747834909684</td>\n      <td>m: 0.7708872928512271 std: 0.018327983630086836</td>\n      <td>m: 0.754918641330406 std: 0.021705452983571242</td>\n      <td>total: 0.0688161849975586 values: [0.01396251 ...</td>\n      <td>total: 0.009972810745239258 values: [0.0019938...</td>\n    </tr>\n    <tr>\n      <th>61</th>\n      <td>digits</td>\n      <td>Decision Tree Classifier</td>\n      <td>(15, 2, random)</td>\n      <td>k-fold</td>\n      <td>m: 0.8480857319715259 std: 0.0160451900425344</td>\n      <td>m: 0.8518270691602231 std: 0.014618370518263432</td>\n      <td>m: 0.847657531481061 std: 0.016500416901784897</td>\n      <td>total: 0.03790116310119629 values: [0.00698161...</td>\n      <td>total: 0.010967731475830078 values: [0.0019941...</td>\n    </tr>\n    <tr>\n      <th>63</th>\n      <td>digits</td>\n      <td>Decision Tree Classifier</td>\n      <td>(15, 2, best)</td>\n      <td>k-fold</td>\n      <td>m: 0.8503002166511916 std: 0.009784061096593345</td>\n      <td>m: 0.8570756527976207 std: 0.010812556072823007</td>\n      <td>m: 0.8501242334771746 std: 0.009676746964727485</td>\n      <td>total: 0.10072803497314453 values: [0.01894808...</td>\n      <td>total: 0.010973691940307617 values: [0.0019955...</td>\n    </tr>\n    <tr>\n      <th>65</th>\n      <td>digits</td>\n      <td>Decision Tree Classifier</td>\n      <td>(15, 20, random)</td>\n      <td>k-fold</td>\n      <td>m: 0.7334292788610337 std: 0.020905478914734647</td>\n      <td>m: 0.7394966477817702 std: 0.02134785363906439</td>\n      <td>m: 0.7331400055517703 std: 0.02089872408546371</td>\n      <td>total: 0.02891850471496582 values: [0.00498486...</td>\n      <td>total: 0.010972976684570312 values: [0.0019950...</td>\n    </tr>\n    <tr>\n      <th>67</th>\n      <td>digits</td>\n      <td>Decision Tree Classifier</td>\n      <td>(15, 20, best)</td>\n      <td>k-fold</td>\n      <td>m: 0.7879712163416899 std: 0.01638106112774851</td>\n      <td>m: 0.7966323249656977 std: 0.019183878519583475</td>\n      <td>m: 0.7882291114644057 std: 0.0162673398542481</td>\n      <td>total: 0.07380175590515137 values: [0.01396275...</td>\n      <td>total: 0.011967658996582031 values: [0.0039889...</td>\n    </tr>\n    <tr>\n      <th>69</th>\n      <td>digits</td>\n      <td>Decision Tree Classifier</td>\n      <td>(15, 40, random)</td>\n      <td>k-fold</td>\n      <td>m: 0.6956360259981429 std: 0.030311998503533933</td>\n      <td>m: 0.7156065230428587 std: 0.03517987997097763</td>\n      <td>m: 0.6946652282534636 std: 0.03080685318605075</td>\n      <td>total: 0.025930166244506836 values: [0.0049872...</td>\n      <td>total: 0.009973287582397461 values: [0.0019929...</td>\n    </tr>\n    <tr>\n      <th>71</th>\n      <td>digits</td>\n      <td>Decision Tree Classifier</td>\n      <td>(15, 40, best)</td>\n      <td>k-fold</td>\n      <td>m: 0.7551593933766635 std: 0.02118747834909684</td>\n      <td>m: 0.7708872928512271 std: 0.018327983630086836</td>\n      <td>m: 0.754918641330406 std: 0.021705452983571242</td>\n      <td>total: 0.06183338165283203 values: [0.01196599...</td>\n      <td>total: 0.00997304916381836 values: [0.00199509...</td>\n    </tr>\n  </tbody>\n</table>\n</div>"
     },
     "metadata": {},
     "output_type": "display_data"
    },
    {
     "data": {
      "text/plain": "<Figure size 432x288 with 1 Axes>",
      "image/png": "[encoded data removed]"
     },
     "metadata": {
      "needs_background": "light"
     },
     "output_type": "display_data"
    }
   ],
   "source": [
    "datasetDigits = datasets.load_digits();\n",
    "classifier = tree.DecisionTreeClassifier(criterion = 'gini',\n",
    "                                         max_depth = 10,\n",
    "                                         min_samples_leaf = 20,\n",
    "                                         splitter = 'best')\n",
    "tree.plot_tree(classifier.fit(datasetDigits.data, datasetDigits.target),max_depth=5)\n",
    "\n",
    "display(decision_tree_results_df[(decision_tree_results_df['dataset']=='digits') & (decision_tree_results_df['split']=='holdout')])\n",
    "display(decision_tree_results_df[(decision_tree_results_df['dataset']=='digits') & (decision_tree_results_df['split']=='k-fold')])"
   ],
   "metadata": {
    "collapsed": false,
    "pycharm": {
     "name": "#%%\n"
    }
   }
  },
  {
   "cell_type": "markdown",
   "source": [
    "##### Results:\n",
    "* Random and Best Splitting Approach for the Decision Tree on both the Iris and Digits Dataset:\n",
    "The overall results indicate that the \"best\" splitting parameter yields by far superior results compared to the \"random\" approach.\n",
    "* Min Sample Leaf Values: Additional analyses of the results from the previous step show that there is overfitting after a max depth of 2 with only limited benefits of additional splits.\n",
    "To counteract the creation of additional nodes, min_samples_leaf was added as parameter for an extensive high maximum depth (30).\n",
    "* Analysis using the Decision Tree approach on the Digits Dataset show a high relevance of the defined max tree depth for accuracy, precision and recall with extremely low training and testing time. For a max depth of 7, the resulting tree yields good results with limited overfitting. Potential subsequent pruning could further reduce overfitting."
   ],
   "metadata": {
    "collapsed": false
   }
  },
  {
   "cell_type": "markdown",
   "source": [
    "# Overall Results"
   ],
   "metadata": {
    "collapsed": false,
    "pycharm": {
     "name": "#%% md\n"
    }
   }
  },
  {
   "cell_type": "code",
   "execution_count": 14,
   "outputs": [],
   "source": [
    "overall_results = knn_results + bayes_results + perceptron_results + decision_tree_results\n",
    "overall_results_df = pd.DataFrame(overall_results)"
   ],
   "metadata": {
    "collapsed": false,
    "pycharm": {
     "name": "#%%\n"
    }
   }
  },
  {
   "cell_type": "markdown",
   "source": [
    "## Iris Dataset\n",
    "### Holdout"
   ],
   "metadata": {
    "collapsed": false,
    "pycharm": {
     "name": "#%% md\n"
    }
   }
  },
  {
   "cell_type": "code",
   "execution_count": 15,
   "outputs": [
    {
     "data": {
      "text/plain": "   dataset                  approach         arguments    split accuracy  \\\n0     iris                       kNN               n=5  holdout     0.96   \n2     iris                       kNN              n=10  holdout     0.92   \n4     iris                       kNN              n=20  holdout     0.88   \n12    iris                     bayes              none  holdout      0.9   \n16    iris                perceptron              none  holdout     0.34   \n20    iris  Decision Tree Classifier    (5, 2, random)  holdout     0.88   \n22    iris  Decision Tree Classifier      (5, 2, best)  holdout      0.9   \n24    iris  Decision Tree Classifier   (5, 20, random)  holdout     0.48   \n26    iris  Decision Tree Classifier     (5, 20, best)  holdout      0.9   \n28    iris  Decision Tree Classifier   (5, 40, random)  holdout     0.28   \n30    iris  Decision Tree Classifier     (5, 40, best)  holdout     0.54   \n32    iris  Decision Tree Classifier   (10, 2, random)  holdout      0.9   \n34    iris  Decision Tree Classifier     (10, 2, best)  holdout      0.9   \n36    iris  Decision Tree Classifier  (10, 20, random)  holdout     0.48   \n38    iris  Decision Tree Classifier    (10, 20, best)  holdout      0.9   \n40    iris  Decision Tree Classifier  (10, 40, random)  holdout     0.28   \n42    iris  Decision Tree Classifier    (10, 40, best)  holdout     0.54   \n44    iris  Decision Tree Classifier   (15, 2, random)  holdout      0.9   \n46    iris  Decision Tree Classifier     (15, 2, best)  holdout      0.9   \n48    iris  Decision Tree Classifier  (15, 20, random)  holdout     0.48   \n50    iris  Decision Tree Classifier    (15, 20, best)  holdout      0.9   \n52    iris  Decision Tree Classifier  (15, 40, random)  holdout     0.28   \n54    iris  Decision Tree Classifier    (15, 40, best)  holdout     0.54   \n\n    precision    recall time training time testing  \n0    0.958333  0.968254   0.000997305  0.000997543  \n2    0.925926  0.936508             0   0.00199509  \n4         0.9  0.904762   0.000997782   0.00199437  \n12    0.90305  0.912698             0            0  \n16   0.432624       0.4    0.00199413            0  \n20   0.890278  0.865079             0            0  \n22    0.90305  0.912698             0  0.000995636  \n24       0.45  0.555556             0            0  \n26    0.90305  0.912698   0.000997782            0  \n28  0.0933333  0.333333   0.000994921            0  \n30    0.41533  0.619048             0            0  \n32   0.894956  0.904762             0            0  \n34    0.90305  0.912698             0  0.000996828  \n36       0.45  0.555556   0.000997305            0  \n38    0.90305  0.912698             0   0.00099802  \n40  0.0933333  0.333333             0            0  \n42    0.41533  0.619048   0.000997782            0  \n44   0.894956  0.904762   0.000997782            0  \n46    0.90305  0.912698   0.000998497            0  \n48       0.45  0.555556             0            0  \n50    0.90305  0.912698   0.000988245            0  \n52  0.0933333  0.333333             0            0  \n54    0.41533  0.619048    0.00102901            0  ",
      "text/html": "<div>\n<style scoped>\n    .dataframe tbody tr th:only-of-type {\n        vertical-align: middle;\n    }\n\n    .dataframe tbody tr th {\n        vertical-align: top;\n    }\n\n    .dataframe thead th {\n        text-align: right;\n    }\n</style>\n<table border=\"1\" class=\"dataframe\">\n  <thead>\n    <tr style=\"text-align: right;\">\n      <th></th>\n      <th>dataset</th>\n      <th>approach</th>\n      <th>arguments</th>\n      <th>split</th>\n      <th>accuracy</th>\n      <th>precision</th>\n      <th>recall</th>\n      <th>time training</th>\n      <th>time testing</th>\n    </tr>\n  </thead>\n  <tbody>\n    <tr>\n      <th>0</th>\n      <td>iris</td>\n      <td>kNN</td>\n      <td>n=5</td>\n      <td>holdout</td>\n      <td>0.96</td>\n      <td>0.958333</td>\n      <td>0.968254</td>\n      <td>0.000997305</td>\n      <td>0.000997543</td>\n    </tr>\n    <tr>\n      <th>2</th>\n      <td>iris</td>\n      <td>kNN</td>\n      <td>n=10</td>\n      <td>holdout</td>\n      <td>0.92</td>\n      <td>0.925926</td>\n      <td>0.936508</td>\n      <td>0</td>\n      <td>0.00199509</td>\n    </tr>\n    <tr>\n      <th>4</th>\n      <td>iris</td>\n      <td>kNN</td>\n      <td>n=20</td>\n      <td>holdout</td>\n      <td>0.88</td>\n      <td>0.9</td>\n      <td>0.904762</td>\n      <td>0.000997782</td>\n      <td>0.00199437</td>\n    </tr>\n    <tr>\n      <th>12</th>\n      <td>iris</td>\n      <td>bayes</td>\n      <td>none</td>\n      <td>holdout</td>\n      <td>0.9</td>\n      <td>0.90305</td>\n      <td>0.912698</td>\n      <td>0</td>\n      <td>0</td>\n    </tr>\n    <tr>\n      <th>16</th>\n      <td>iris</td>\n      <td>perceptron</td>\n      <td>none</td>\n      <td>holdout</td>\n      <td>0.34</td>\n      <td>0.432624</td>\n      <td>0.4</td>\n      <td>0.00199413</td>\n      <td>0</td>\n    </tr>\n    <tr>\n      <th>20</th>\n      <td>iris</td>\n      <td>Decision Tree Classifier</td>\n      <td>(5, 2, random)</td>\n      <td>holdout</td>\n      <td>0.88</td>\n      <td>0.890278</td>\n      <td>0.865079</td>\n      <td>0</td>\n      <td>0</td>\n    </tr>\n    <tr>\n      <th>22</th>\n      <td>iris</td>\n      <td>Decision Tree Classifier</td>\n      <td>(5, 2, best)</td>\n      <td>holdout</td>\n      <td>0.9</td>\n      <td>0.90305</td>\n      <td>0.912698</td>\n      <td>0</td>\n      <td>0.000995636</td>\n    </tr>\n    <tr>\n      <th>24</th>\n      <td>iris</td>\n      <td>Decision Tree Classifier</td>\n      <td>(5, 20, random)</td>\n      <td>holdout</td>\n      <td>0.48</td>\n      <td>0.45</td>\n      <td>0.555556</td>\n      <td>0</td>\n      <td>0</td>\n    </tr>\n    <tr>\n      <th>26</th>\n      <td>iris</td>\n      <td>Decision Tree Classifier</td>\n      <td>(5, 20, best)</td>\n      <td>holdout</td>\n      <td>0.9</td>\n      <td>0.90305</td>\n      <td>0.912698</td>\n      <td>0.000997782</td>\n      <td>0</td>\n    </tr>\n    <tr>\n      <th>28</th>\n      <td>iris</td>\n      <td>Decision Tree Classifier</td>\n      <td>(5, 40, random)</td>\n      <td>holdout</td>\n      <td>0.28</td>\n      <td>0.0933333</td>\n      <td>0.333333</td>\n      <td>0.000994921</td>\n      <td>0</td>\n    </tr>\n    <tr>\n      <th>30</th>\n      <td>iris</td>\n      <td>Decision Tree Classifier</td>\n      <td>(5, 40, best)</td>\n      <td>holdout</td>\n      <td>0.54</td>\n      <td>0.41533</td>\n      <td>0.619048</td>\n      <td>0</td>\n      <td>0</td>\n    </tr>\n    <tr>\n      <th>32</th>\n      <td>iris</td>\n      <td>Decision Tree Classifier</td>\n      <td>(10, 2, random)</td>\n      <td>holdout</td>\n      <td>0.9</td>\n      <td>0.894956</td>\n      <td>0.904762</td>\n      <td>0</td>\n      <td>0</td>\n    </tr>\n    <tr>\n      <th>34</th>\n      <td>iris</td>\n      <td>Decision Tree Classifier</td>\n      <td>(10, 2, best)</td>\n      <td>holdout</td>\n      <td>0.9</td>\n      <td>0.90305</td>\n      <td>0.912698</td>\n      <td>0</td>\n      <td>0.000996828</td>\n    </tr>\n    <tr>\n      <th>36</th>\n      <td>iris</td>\n      <td>Decision Tree Classifier</td>\n      <td>(10, 20, random)</td>\n      <td>holdout</td>\n      <td>0.48</td>\n      <td>0.45</td>\n      <td>0.555556</td>\n      <td>0.000997305</td>\n      <td>0</td>\n    </tr>\n    <tr>\n      <th>38</th>\n      <td>iris</td>\n      <td>Decision Tree Classifier</td>\n      <td>(10, 20, best)</td>\n      <td>holdout</td>\n      <td>0.9</td>\n      <td>0.90305</td>\n      <td>0.912698</td>\n      <td>0</td>\n      <td>0.00099802</td>\n    </tr>\n    <tr>\n      <th>40</th>\n      <td>iris</td>\n      <td>Decision Tree Classifier</td>\n      <td>(10, 40, random)</td>\n      <td>holdout</td>\n      <td>0.28</td>\n      <td>0.0933333</td>\n      <td>0.333333</td>\n      <td>0</td>\n      <td>0</td>\n    </tr>\n    <tr>\n      <th>42</th>\n      <td>iris</td>\n      <td>Decision Tree Classifier</td>\n      <td>(10, 40, best)</td>\n      <td>holdout</td>\n      <td>0.54</td>\n      <td>0.41533</td>\n      <td>0.619048</td>\n      <td>0.000997782</td>\n      <td>0</td>\n    </tr>\n    <tr>\n      <th>44</th>\n      <td>iris</td>\n      <td>Decision Tree Classifier</td>\n      <td>(15, 2, random)</td>\n      <td>holdout</td>\n      <td>0.9</td>\n      <td>0.894956</td>\n      <td>0.904762</td>\n      <td>0.000997782</td>\n      <td>0</td>\n    </tr>\n    <tr>\n      <th>46</th>\n      <td>iris</td>\n      <td>Decision Tree Classifier</td>\n      <td>(15, 2, best)</td>\n      <td>holdout</td>\n      <td>0.9</td>\n      <td>0.90305</td>\n      <td>0.912698</td>\n      <td>0.000998497</td>\n      <td>0</td>\n    </tr>\n    <tr>\n      <th>48</th>\n      <td>iris</td>\n      <td>Decision Tree Classifier</td>\n      <td>(15, 20, random)</td>\n      <td>holdout</td>\n      <td>0.48</td>\n      <td>0.45</td>\n      <td>0.555556</td>\n      <td>0</td>\n      <td>0</td>\n    </tr>\n    <tr>\n      <th>50</th>\n      <td>iris</td>\n      <td>Decision Tree Classifier</td>\n      <td>(15, 20, best)</td>\n      <td>holdout</td>\n      <td>0.9</td>\n      <td>0.90305</td>\n      <td>0.912698</td>\n      <td>0.000988245</td>\n      <td>0</td>\n    </tr>\n    <tr>\n      <th>52</th>\n      <td>iris</td>\n      <td>Decision Tree Classifier</td>\n      <td>(15, 40, random)</td>\n      <td>holdout</td>\n      <td>0.28</td>\n      <td>0.0933333</td>\n      <td>0.333333</td>\n      <td>0</td>\n      <td>0</td>\n    </tr>\n    <tr>\n      <th>54</th>\n      <td>iris</td>\n      <td>Decision Tree Classifier</td>\n      <td>(15, 40, best)</td>\n      <td>holdout</td>\n      <td>0.54</td>\n      <td>0.41533</td>\n      <td>0.619048</td>\n      <td>0.00102901</td>\n      <td>0</td>\n    </tr>\n  </tbody>\n</table>\n</div>"
     },
     "metadata": {},
     "output_type": "display_data"
    }
   ],
   "source": [
    "display(overall_results_df[\n",
    "            (overall_results_df['dataset']=='iris') &\n",
    "            (overall_results_df['split']=='holdout')])"
   ],
   "metadata": {
    "collapsed": false,
    "pycharm": {
     "name": "#%%\n"
    }
   }
  },
  {
   "cell_type": "markdown",
   "source": [
    "### K Fold"
   ],
   "metadata": {
    "collapsed": false
   }
  },
  {
   "cell_type": "code",
   "execution_count": 16,
   "outputs": [
    {
     "data": {
      "text/plain": "   dataset                  approach         arguments   split  \\\n1     iris                       kNN               n=5  k-fold   \n3     iris                       kNN              n=10  k-fold   \n5     iris                       kNN              n=20  k-fold   \n13    iris                     bayes              none  k-fold   \n17    iris                perceptron              none  k-fold   \n21    iris  Decision Tree Classifier    (5, 2, random)  k-fold   \n23    iris  Decision Tree Classifier      (5, 2, best)  k-fold   \n25    iris  Decision Tree Classifier   (5, 20, random)  k-fold   \n27    iris  Decision Tree Classifier     (5, 20, best)  k-fold   \n29    iris  Decision Tree Classifier   (5, 40, random)  k-fold   \n31    iris  Decision Tree Classifier     (5, 40, best)  k-fold   \n33    iris  Decision Tree Classifier   (10, 2, random)  k-fold   \n35    iris  Decision Tree Classifier     (10, 2, best)  k-fold   \n37    iris  Decision Tree Classifier  (10, 20, random)  k-fold   \n39    iris  Decision Tree Classifier    (10, 20, best)  k-fold   \n41    iris  Decision Tree Classifier  (10, 40, random)  k-fold   \n43    iris  Decision Tree Classifier    (10, 40, best)  k-fold   \n45    iris  Decision Tree Classifier   (15, 2, random)  k-fold   \n47    iris  Decision Tree Classifier     (15, 2, best)  k-fold   \n49    iris  Decision Tree Classifier  (15, 20, random)  k-fold   \n51    iris  Decision Tree Classifier    (15, 20, best)  k-fold   \n53    iris  Decision Tree Classifier  (15, 40, random)  k-fold   \n55    iris  Decision Tree Classifier    (15, 40, best)  k-fold   \n\n                                           accuracy  \\\n1                 m: 0.96 std: 0.038873012632301994   \n3    m: 0.9733333333333334 std: 0.05333333333333332   \n5    m: 0.9466666666666667 std: 0.04521553322083511   \n13   m: 0.9533333333333334 std: 0.03399346342395189   \n17                 m: 0.74 std: 0.10413666234542207   \n21   m: 0.8800000000000001 std: 0.05416025603090639   \n23   m: 0.9400000000000001 std: 0.04422166387140532   \n25  m: 0.5599999999999999 std: 0.024944382578492935   \n27   m: 0.9266666666666667 std: 0.04422166387140532   \n29                   m: 0.3333333333333333 std: 0.0   \n31   m: 0.7666666666666666 std: 0.12292725943057185   \n33   m: 0.9199999999999999 std: 0.04521553322083511   \n35   m: 0.9400000000000001 std: 0.04422166387140532   \n37  m: 0.5599999999999999 std: 0.024944382578492935   \n39   m: 0.9266666666666667 std: 0.04422166387140532   \n41                   m: 0.3333333333333333 std: 0.0   \n43   m: 0.7666666666666666 std: 0.12292725943057185   \n45   m: 0.9199999999999999 std: 0.04521553322083511   \n47   m: 0.9400000000000001 std: 0.04422166387140532   \n49  m: 0.5599999999999999 std: 0.024944382578492935   \n51   m: 0.9266666666666667 std: 0.04422166387140532   \n53                   m: 0.3333333333333333 std: 0.0   \n55   m: 0.7666666666666666 std: 0.12292725943057185   \n\n                                            precision  \\\n1      m: 0.9610774410774411 std: 0.03826764858710283   \n3                  m: 0.975 std: 0.049999999999999996   \n5     m: 0.9517676767676768 std: 0.042228383872089235   \n13     m: 0.9550168350168351 std: 0.03375719358407477   \n17     m: 0.6742889463477699 std: 0.19998100699035673   \n21     m: 0.9151709401709403 std: 0.02856862378351845   \n23     m: 0.9444949494949496 std: 0.04164152899506982   \n25   m: 0.47716293368467283 std: 0.004696804926703416   \n27     m: 0.9332491582491583 std: 0.04255264892173636   \n29  m: 0.11111111111111112 std: 1.3877787807814457...   \n31     m: 0.6693602693602694 std: 0.20784967494940076   \n33     m: 0.9307840307840308 std: 0.03813348030226439   \n35     m: 0.9444949494949496 std: 0.04164152899506982   \n37   m: 0.47716293368467283 std: 0.004696804926703416   \n39     m: 0.9332491582491583 std: 0.04255264892173636   \n41  m: 0.11111111111111112 std: 1.3877787807814457...   \n43     m: 0.6693602693602694 std: 0.20784967494940076   \n45     m: 0.9307840307840308 std: 0.03813348030226439   \n47     m: 0.9444949494949496 std: 0.04164152899506982   \n49   m: 0.47716293368467283 std: 0.004696804926703416   \n51     m: 0.9332491582491583 std: 0.04255264892173636   \n53  m: 0.11111111111111112 std: 1.3877787807814457...   \n55     m: 0.6693602693602694 std: 0.20784967494940076   \n\n                                             recall  \\\n1                  m: 0.96 std: 0.03887301263230201   \n3   m: 0.9733333333333334 std: 0.053333333333333365   \n5    m: 0.9466666666666667 std: 0.04521553322083516   \n13    m: 0.9533333333333334 std: 0.0339934634239519   \n17                 m: 0.74 std: 0.10413666234542203   \n21   m: 0.8799999999999999 std: 0.05416025603090637   \n23  m: 0.9400000000000001 std: 0.044221663871405366   \n25  m: 0.5599999999999999 std: 0.024944382578492935   \n27  m: 0.9266666666666665 std: 0.044221663871405345   \n29                   m: 0.3333333333333333 std: 0.0   \n31   m: 0.7666666666666666 std: 0.12292725943057183   \n33    m: 0.9199999999999999 std: 0.0452155332208351   \n35  m: 0.9400000000000001 std: 0.044221663871405366   \n37  m: 0.5599999999999999 std: 0.024944382578492935   \n39  m: 0.9266666666666665 std: 0.044221663871405345   \n41                   m: 0.3333333333333333 std: 0.0   \n43   m: 0.7666666666666666 std: 0.12292725943057183   \n45    m: 0.9199999999999999 std: 0.0452155332208351   \n47  m: 0.9400000000000001 std: 0.044221663871405366   \n49  m: 0.5599999999999999 std: 0.024944382578492935   \n51  m: 0.9266666666666665 std: 0.044221663871405345   \n53                   m: 0.3333333333333333 std: 0.0   \n55   m: 0.7666666666666666 std: 0.12292725943057183   \n\n                                        time training  \\\n1   total: 0.000997304916381836 values: [0.       ...   \n3                 total: 0.0 values: [0. 0. 0. 0. 0.]   \n5                 total: 0.0 values: [0. 0. 0. 0. 0.]   \n13  total: 0.002988100051879883 values: [0.       ...   \n17  total: 0.008975982666015625 values: [0.0019948...   \n21  total: 0.0029909610748291016 values: [0.000996...   \n23  total: 0.0039899349212646484 values: [0.000997...   \n25  total: 0.0009984970092773438 values: [0.      ...   \n27  total: 0.002992391586303711 values: [0.0009975...   \n29  total: 0.0029954910278320312 values: [0.001002...   \n31  total: 0.00498652458190918 values: [0.00099707...   \n33  total: 0.0029916763305664062 values: [0.000997...   \n35  total: 0.0009970664978027344 values: [0.      ...   \n37  total: 0.003989219665527344 values: [0.       ...   \n39  total: 0.002992391586303711 values: [0.       ...   \n41  total: 0.003988981246948242 values: [0.0009977...   \n43  total: 0.004987239837646484 values: [0.0009973...   \n45                total: 0.0 values: [0. 0. 0. 0. 0.]   \n47  total: 0.004975557327270508 values: [0.0009937...   \n49  total: 0.002956390380859375 values: [0.0009946...   \n51  total: 0.002009868621826172 values: [0.       ...   \n53  total: 0.0039103031158447266 values: [0.000969...   \n55  total: 0.0029611587524414062 values: [0.000965...   \n\n                                         time testing  \n1   total: 0.01296544075012207 values: [0.00299215...  \n3   total: 0.014959573745727539 values: [0.0029919...  \n5   total: 0.00997304916381836 values: [0.00199437...  \n13  total: 0.005987405776977539 values: [0.0009973...  \n17  total: 0.004987478256225586 values: [0.0009987...  \n21  total: 0.006982088088989258 values: [0.0009975...  \n23  total: 0.005985736846923828 values: [0.0009982...  \n25  total: 0.008977174758911133 values: [0.0019943...  \n27  total: 0.006968021392822266 values: [0.0009968...  \n29  total: 0.006973743438720703 values: [0.0009920...  \n31  total: 0.004986286163330078 values: [0.0009973...  \n33  total: 0.004986763000488281 values: [0.0009973...  \n35  total: 0.004986763000488281 values: [0.0009970...  \n37  total: 0.00498652458190918 values: [0.00099754...  \n39  total: 0.004985809326171875 values: [0.0009970...  \n41  total: 0.005984306335449219 values: [0.0009973...  \n43  total: 0.004987478256225586 values: [0.0009975...  \n45  total: 0.010005712509155273 values: [0.0019946...  \n47  total: 0.004998445510864258 values: [0.0009985...  \n49  total: 0.007015705108642578 values: [0.0009989...  \n51  total: 0.008897542953491211 values: [0.0009658...  \n53  total: 0.007031679153442383 values: [0.0020077...  \n55  total: 0.0050389766693115234 values: [0.001024...  ",
      "text/html": "<div>\n<style scoped>\n    .dataframe tbody tr th:only-of-type {\n        vertical-align: middle;\n    }\n\n    .dataframe tbody tr th {\n        vertical-align: top;\n    }\n\n    .dataframe thead th {\n        text-align: right;\n    }\n</style>\n<table border=\"1\" class=\"dataframe\">\n  <thead>\n    <tr style=\"text-align: right;\">\n      <th></th>\n      <th>dataset</th>\n      <th>approach</th>\n      <th>arguments</th>\n      <th>split</th>\n      <th>accuracy</th>\n      <th>precision</th>\n      <th>recall</th>\n      <th>time training</th>\n      <th>time testing</th>\n    </tr>\n  </thead>\n  <tbody>\n    <tr>\n      <th>1</th>\n      <td>iris</td>\n      <td>kNN</td>\n      <td>n=5</td>\n      <td>k-fold</td>\n      <td>m: 0.96 std: 0.038873012632301994</td>\n      <td>m: 0.9610774410774411 std: 0.03826764858710283</td>\n      <td>m: 0.96 std: 0.03887301263230201</td>\n      <td>total: 0.000997304916381836 values: [0.       ...</td>\n      <td>total: 0.01296544075012207 values: [0.00299215...</td>\n    </tr>\n    <tr>\n      <th>3</th>\n      <td>iris</td>\n      <td>kNN</td>\n      <td>n=10</td>\n      <td>k-fold</td>\n      <td>m: 0.9733333333333334 std: 0.05333333333333332</td>\n      <td>m: 0.975 std: 0.049999999999999996</td>\n      <td>m: 0.9733333333333334 std: 0.053333333333333365</td>\n      <td>total: 0.0 values: [0. 0. 0. 0. 0.]</td>\n      <td>total: 0.014959573745727539 values: [0.0029919...</td>\n    </tr>\n    <tr>\n      <th>5</th>\n      <td>iris</td>\n      <td>kNN</td>\n      <td>n=20</td>\n      <td>k-fold</td>\n      <td>m: 0.9466666666666667 std: 0.04521553322083511</td>\n      <td>m: 0.9517676767676768 std: 0.042228383872089235</td>\n      <td>m: 0.9466666666666667 std: 0.04521553322083516</td>\n      <td>total: 0.0 values: [0. 0. 0. 0. 0.]</td>\n      <td>total: 0.00997304916381836 values: [0.00199437...</td>\n    </tr>\n    <tr>\n      <th>13</th>\n      <td>iris</td>\n      <td>bayes</td>\n      <td>none</td>\n      <td>k-fold</td>\n      <td>m: 0.9533333333333334 std: 0.03399346342395189</td>\n      <td>m: 0.9550168350168351 std: 0.03375719358407477</td>\n      <td>m: 0.9533333333333334 std: 0.0339934634239519</td>\n      <td>total: 0.002988100051879883 values: [0.       ...</td>\n      <td>total: 0.005987405776977539 values: [0.0009973...</td>\n    </tr>\n    <tr>\n      <th>17</th>\n      <td>iris</td>\n      <td>perceptron</td>\n      <td>none</td>\n      <td>k-fold</td>\n      <td>m: 0.74 std: 0.10413666234542207</td>\n      <td>m: 0.6742889463477699 std: 0.19998100699035673</td>\n      <td>m: 0.74 std: 0.10413666234542203</td>\n      <td>total: 0.008975982666015625 values: [0.0019948...</td>\n      <td>total: 0.004987478256225586 values: [0.0009987...</td>\n    </tr>\n    <tr>\n      <th>21</th>\n      <td>iris</td>\n      <td>Decision Tree Classifier</td>\n      <td>(5, 2, random)</td>\n      <td>k-fold</td>\n      <td>m: 0.8800000000000001 std: 0.05416025603090639</td>\n      <td>m: 0.9151709401709403 std: 0.02856862378351845</td>\n      <td>m: 0.8799999999999999 std: 0.05416025603090637</td>\n      <td>total: 0.0029909610748291016 values: [0.000996...</td>\n      <td>total: 0.006982088088989258 values: [0.0009975...</td>\n    </tr>\n    <tr>\n      <th>23</th>\n      <td>iris</td>\n      <td>Decision Tree Classifier</td>\n      <td>(5, 2, best)</td>\n      <td>k-fold</td>\n      <td>m: 0.9400000000000001 std: 0.04422166387140532</td>\n      <td>m: 0.9444949494949496 std: 0.04164152899506982</td>\n      <td>m: 0.9400000000000001 std: 0.044221663871405366</td>\n      <td>total: 0.0039899349212646484 values: [0.000997...</td>\n      <td>total: 0.005985736846923828 values: [0.0009982...</td>\n    </tr>\n    <tr>\n      <th>25</th>\n      <td>iris</td>\n      <td>Decision Tree Classifier</td>\n      <td>(5, 20, random)</td>\n      <td>k-fold</td>\n      <td>m: 0.5599999999999999 std: 0.024944382578492935</td>\n      <td>m: 0.47716293368467283 std: 0.004696804926703416</td>\n      <td>m: 0.5599999999999999 std: 0.024944382578492935</td>\n      <td>total: 0.0009984970092773438 values: [0.      ...</td>\n      <td>total: 0.008977174758911133 values: [0.0019943...</td>\n    </tr>\n    <tr>\n      <th>27</th>\n      <td>iris</td>\n      <td>Decision Tree Classifier</td>\n      <td>(5, 20, best)</td>\n      <td>k-fold</td>\n      <td>m: 0.9266666666666667 std: 0.04422166387140532</td>\n      <td>m: 0.9332491582491583 std: 0.04255264892173636</td>\n      <td>m: 0.9266666666666665 std: 0.044221663871405345</td>\n      <td>total: 0.002992391586303711 values: [0.0009975...</td>\n      <td>total: 0.006968021392822266 values: [0.0009968...</td>\n    </tr>\n    <tr>\n      <th>29</th>\n      <td>iris</td>\n      <td>Decision Tree Classifier</td>\n      <td>(5, 40, random)</td>\n      <td>k-fold</td>\n      <td>m: 0.3333333333333333 std: 0.0</td>\n      <td>m: 0.11111111111111112 std: 1.3877787807814457...</td>\n      <td>m: 0.3333333333333333 std: 0.0</td>\n      <td>total: 0.0029954910278320312 values: [0.001002...</td>\n      <td>total: 0.006973743438720703 values: [0.0009920...</td>\n    </tr>\n    <tr>\n      <th>31</th>\n      <td>iris</td>\n      <td>Decision Tree Classifier</td>\n      <td>(5, 40, best)</td>\n      <td>k-fold</td>\n      <td>m: 0.7666666666666666 std: 0.12292725943057185</td>\n      <td>m: 0.6693602693602694 std: 0.20784967494940076</td>\n      <td>m: 0.7666666666666666 std: 0.12292725943057183</td>\n      <td>total: 0.00498652458190918 values: [0.00099707...</td>\n      <td>total: 0.004986286163330078 values: [0.0009973...</td>\n    </tr>\n    <tr>\n      <th>33</th>\n      <td>iris</td>\n      <td>Decision Tree Classifier</td>\n      <td>(10, 2, random)</td>\n      <td>k-fold</td>\n      <td>m: 0.9199999999999999 std: 0.04521553322083511</td>\n      <td>m: 0.9307840307840308 std: 0.03813348030226439</td>\n      <td>m: 0.9199999999999999 std: 0.0452155332208351</td>\n      <td>total: 0.0029916763305664062 values: [0.000997...</td>\n      <td>total: 0.004986763000488281 values: [0.0009973...</td>\n    </tr>\n    <tr>\n      <th>35</th>\n      <td>iris</td>\n      <td>Decision Tree Classifier</td>\n      <td>(10, 2, best)</td>\n      <td>k-fold</td>\n      <td>m: 0.9400000000000001 std: 0.04422166387140532</td>\n      <td>m: 0.9444949494949496 std: 0.04164152899506982</td>\n      <td>m: 0.9400000000000001 std: 0.044221663871405366</td>\n      <td>total: 0.0009970664978027344 values: [0.      ...</td>\n      <td>total: 0.004986763000488281 values: [0.0009970...</td>\n    </tr>\n    <tr>\n      <th>37</th>\n      <td>iris</td>\n      <td>Decision Tree Classifier</td>\n      <td>(10, 20, random)</td>\n      <td>k-fold</td>\n      <td>m: 0.5599999999999999 std: 0.024944382578492935</td>\n      <td>m: 0.47716293368467283 std: 0.004696804926703416</td>\n      <td>m: 0.5599999999999999 std: 0.024944382578492935</td>\n      <td>total: 0.003989219665527344 values: [0.       ...</td>\n      <td>total: 0.00498652458190918 values: [0.00099754...</td>\n    </tr>\n    <tr>\n      <th>39</th>\n      <td>iris</td>\n      <td>Decision Tree Classifier</td>\n      <td>(10, 20, best)</td>\n      <td>k-fold</td>\n      <td>m: 0.9266666666666667 std: 0.04422166387140532</td>\n      <td>m: 0.9332491582491583 std: 0.04255264892173636</td>\n      <td>m: 0.9266666666666665 std: 0.044221663871405345</td>\n      <td>total: 0.002992391586303711 values: [0.       ...</td>\n      <td>total: 0.004985809326171875 values: [0.0009970...</td>\n    </tr>\n    <tr>\n      <th>41</th>\n      <td>iris</td>\n      <td>Decision Tree Classifier</td>\n      <td>(10, 40, random)</td>\n      <td>k-fold</td>\n      <td>m: 0.3333333333333333 std: 0.0</td>\n      <td>m: 0.11111111111111112 std: 1.3877787807814457...</td>\n      <td>m: 0.3333333333333333 std: 0.0</td>\n      <td>total: 0.003988981246948242 values: [0.0009977...</td>\n      <td>total: 0.005984306335449219 values: [0.0009973...</td>\n    </tr>\n    <tr>\n      <th>43</th>\n      <td>iris</td>\n      <td>Decision Tree Classifier</td>\n      <td>(10, 40, best)</td>\n      <td>k-fold</td>\n      <td>m: 0.7666666666666666 std: 0.12292725943057185</td>\n      <td>m: 0.6693602693602694 std: 0.20784967494940076</td>\n      <td>m: 0.7666666666666666 std: 0.12292725943057183</td>\n      <td>total: 0.004987239837646484 values: [0.0009973...</td>\n      <td>total: 0.004987478256225586 values: [0.0009975...</td>\n    </tr>\n    <tr>\n      <th>45</th>\n      <td>iris</td>\n      <td>Decision Tree Classifier</td>\n      <td>(15, 2, random)</td>\n      <td>k-fold</td>\n      <td>m: 0.9199999999999999 std: 0.04521553322083511</td>\n      <td>m: 0.9307840307840308 std: 0.03813348030226439</td>\n      <td>m: 0.9199999999999999 std: 0.0452155332208351</td>\n      <td>total: 0.0 values: [0. 0. 0. 0. 0.]</td>\n      <td>total: 0.010005712509155273 values: [0.0019946...</td>\n    </tr>\n    <tr>\n      <th>47</th>\n      <td>iris</td>\n      <td>Decision Tree Classifier</td>\n      <td>(15, 2, best)</td>\n      <td>k-fold</td>\n      <td>m: 0.9400000000000001 std: 0.04422166387140532</td>\n      <td>m: 0.9444949494949496 std: 0.04164152899506982</td>\n      <td>m: 0.9400000000000001 std: 0.044221663871405366</td>\n      <td>total: 0.004975557327270508 values: [0.0009937...</td>\n      <td>total: 0.004998445510864258 values: [0.0009985...</td>\n    </tr>\n    <tr>\n      <th>49</th>\n      <td>iris</td>\n      <td>Decision Tree Classifier</td>\n      <td>(15, 20, random)</td>\n      <td>k-fold</td>\n      <td>m: 0.5599999999999999 std: 0.024944382578492935</td>\n      <td>m: 0.47716293368467283 std: 0.004696804926703416</td>\n      <td>m: 0.5599999999999999 std: 0.024944382578492935</td>\n      <td>total: 0.002956390380859375 values: [0.0009946...</td>\n      <td>total: 0.007015705108642578 values: [0.0009989...</td>\n    </tr>\n    <tr>\n      <th>51</th>\n      <td>iris</td>\n      <td>Decision Tree Classifier</td>\n      <td>(15, 20, best)</td>\n      <td>k-fold</td>\n      <td>m: 0.9266666666666667 std: 0.04422166387140532</td>\n      <td>m: 0.9332491582491583 std: 0.04255264892173636</td>\n      <td>m: 0.9266666666666665 std: 0.044221663871405345</td>\n      <td>total: 0.002009868621826172 values: [0.       ...</td>\n      <td>total: 0.008897542953491211 values: [0.0009658...</td>\n    </tr>\n    <tr>\n      <th>53</th>\n      <td>iris</td>\n      <td>Decision Tree Classifier</td>\n      <td>(15, 40, random)</td>\n      <td>k-fold</td>\n      <td>m: 0.3333333333333333 std: 0.0</td>\n      <td>m: 0.11111111111111112 std: 1.3877787807814457...</td>\n      <td>m: 0.3333333333333333 std: 0.0</td>\n      <td>total: 0.0039103031158447266 values: [0.000969...</td>\n      <td>total: 0.007031679153442383 values: [0.0020077...</td>\n    </tr>\n    <tr>\n      <th>55</th>\n      <td>iris</td>\n      <td>Decision Tree Classifier</td>\n      <td>(15, 40, best)</td>\n      <td>k-fold</td>\n      <td>m: 0.7666666666666666 std: 0.12292725943057185</td>\n      <td>m: 0.6693602693602694 std: 0.20784967494940076</td>\n      <td>m: 0.7666666666666666 std: 0.12292725943057183</td>\n      <td>total: 0.0029611587524414062 values: [0.000965...</td>\n      <td>total: 0.0050389766693115234 values: [0.001024...</td>\n    </tr>\n  </tbody>\n</table>\n</div>"
     },
     "metadata": {},
     "output_type": "display_data"
    }
   ],
   "source": [
    "display(overall_results_df[\n",
    "            (overall_results_df['dataset']=='iris') &\n",
    "            (overall_results_df['split']=='k-fold')])\n"
   ],
   "metadata": {
    "collapsed": false,
    "pycharm": {
     "name": "#%%\n"
    }
   }
  },
  {
   "cell_type": "markdown",
   "source": [
    "### Effectiveness\n",
    "Despite the heterogenous approaches used, acccuracy, precision and recall were good across most approaches with the notable exception of the Perceptron.\n",
    "\n",
    "The data set may hence be prone to ceiling effects for measuring effectiveness for such numerical categorization tasks.\n",
    "\n",
    "### Efficiency\n",
    "In the datasets used as well as in the approaches applied, the training and testing time measured were low to non-measurable.\n",
    "\n",
    "Benchmarking with these limited differences across approaches would be too prone to additional confounding variables such as running background tasks and other effects not associated with the machine learning tasks."
   ],
   "metadata": {
    "collapsed": false
   }
  },
  {
   "cell_type": "markdown",
   "source": [
    "## Handwritten Numbers Dataset\n",
    "### Holdout"
   ],
   "metadata": {
    "collapsed": false
   }
  },
  {
   "cell_type": "code",
   "execution_count": 17,
   "outputs": [
    {
     "data": {
      "text/plain": "   dataset                  approach         arguments    split  accuracy  \\\n6   digits                       kNN               n=5  holdout  0.983165   \n8   digits                       kNN              n=10  holdout  0.976431   \n10  digits                       kNN              n=20  holdout  0.961279   \n14  digits                     bayes              none  holdout  0.833333   \n18  digits                perceptron              none  holdout  0.939394   \n56  digits  Decision Tree Classifier    (5, 2, random)  holdout  0.673401   \n58  digits  Decision Tree Classifier      (5, 2, best)  holdout    0.6633   \n60  digits  Decision Tree Classifier   (5, 20, random)  holdout  0.643098   \n62  digits  Decision Tree Classifier     (5, 20, best)  holdout  0.658249   \n64  digits  Decision Tree Classifier   (5, 40, random)  holdout  0.624579   \n66  digits  Decision Tree Classifier     (5, 40, best)  holdout  0.607744   \n68  digits  Decision Tree Classifier   (10, 2, random)  holdout  0.821549   \n70  digits  Decision Tree Classifier     (10, 2, best)  holdout  0.833333   \n72  digits  Decision Tree Classifier  (10, 20, random)  holdout  0.742424   \n74  digits  Decision Tree Classifier    (10, 20, best)  holdout  0.794613   \n76  digits  Decision Tree Classifier  (10, 40, random)  holdout  0.621212   \n78  digits  Decision Tree Classifier    (10, 40, best)  holdout  0.734007   \n80  digits  Decision Tree Classifier   (15, 2, random)  holdout  0.826599   \n82  digits  Decision Tree Classifier     (15, 2, best)  holdout   0.83165   \n84  digits  Decision Tree Classifier  (15, 20, random)  holdout  0.742424   \n86  digits  Decision Tree Classifier    (15, 20, best)  holdout  0.794613   \n88  digits  Decision Tree Classifier  (15, 40, random)  holdout  0.621212   \n90  digits  Decision Tree Classifier    (15, 40, best)  holdout  0.734007   \n\n   precision    recall time training time testing  \n6   0.983364  0.983174     0.0159564     0.106744  \n8   0.976702  0.976281     0.0159283    0.0917542  \n10  0.962286  0.961089     0.0259006     0.109705  \n14  0.850641  0.833908    0.00299025  0.000997305  \n18   0.94141   0.93962     0.0239413  0.000996351  \n56  0.717454  0.677103    0.00299382            0  \n58  0.746121  0.663671    0.00900841            0  \n60  0.637573  0.641345    0.00399446  0.000993967  \n62  0.720075  0.657125    0.00897002  0.000971794  \n64  0.595066  0.623683    0.00299263            0  \n66   0.59806  0.604756    0.00797749  0.000996828  \n68  0.827151  0.822762    0.00598502  0.000996113  \n70   0.84214  0.836688     0.0139637            0  \n72  0.749126  0.743035    0.00398827            0  \n74   0.80054  0.797709    0.00997877  0.000995874  \n76  0.649174  0.622869    0.00299239  0.000998497  \n78  0.764335   0.73374     0.0109711  0.000998259  \n80  0.832276  0.828587    0.00498438            0  \n82  0.839983  0.835681     0.0149601            0  \n84  0.749126  0.743035    0.00598431            0  \n86   0.80054  0.797709     0.0119667            0  \n88  0.649174  0.622869    0.00299263  0.000997782  \n90  0.764335   0.73374    0.00997281            0  ",
      "text/html": "<div>\n<style scoped>\n    .dataframe tbody tr th:only-of-type {\n        vertical-align: middle;\n    }\n\n    .dataframe tbody tr th {\n        vertical-align: top;\n    }\n\n    .dataframe thead th {\n        text-align: right;\n    }\n</style>\n<table border=\"1\" class=\"dataframe\">\n  <thead>\n    <tr style=\"text-align: right;\">\n      <th></th>\n      <th>dataset</th>\n      <th>approach</th>\n      <th>arguments</th>\n      <th>split</th>\n      <th>accuracy</th>\n      <th>precision</th>\n      <th>recall</th>\n      <th>time training</th>\n      <th>time testing</th>\n    </tr>\n  </thead>\n  <tbody>\n    <tr>\n      <th>6</th>\n      <td>digits</td>\n      <td>kNN</td>\n      <td>n=5</td>\n      <td>holdout</td>\n      <td>0.983165</td>\n      <td>0.983364</td>\n      <td>0.983174</td>\n      <td>0.0159564</td>\n      <td>0.106744</td>\n    </tr>\n    <tr>\n      <th>8</th>\n      <td>digits</td>\n      <td>kNN</td>\n      <td>n=10</td>\n      <td>holdout</td>\n      <td>0.976431</td>\n      <td>0.976702</td>\n      <td>0.976281</td>\n      <td>0.0159283</td>\n      <td>0.0917542</td>\n    </tr>\n    <tr>\n      <th>10</th>\n      <td>digits</td>\n      <td>kNN</td>\n      <td>n=20</td>\n      <td>holdout</td>\n      <td>0.961279</td>\n      <td>0.962286</td>\n      <td>0.961089</td>\n      <td>0.0259006</td>\n      <td>0.109705</td>\n    </tr>\n    <tr>\n      <th>14</th>\n      <td>digits</td>\n      <td>bayes</td>\n      <td>none</td>\n      <td>holdout</td>\n      <td>0.833333</td>\n      <td>0.850641</td>\n      <td>0.833908</td>\n      <td>0.00299025</td>\n      <td>0.000997305</td>\n    </tr>\n    <tr>\n      <th>18</th>\n      <td>digits</td>\n      <td>perceptron</td>\n      <td>none</td>\n      <td>holdout</td>\n      <td>0.939394</td>\n      <td>0.94141</td>\n      <td>0.93962</td>\n      <td>0.0239413</td>\n      <td>0.000996351</td>\n    </tr>\n    <tr>\n      <th>56</th>\n      <td>digits</td>\n      <td>Decision Tree Classifier</td>\n      <td>(5, 2, random)</td>\n      <td>holdout</td>\n      <td>0.673401</td>\n      <td>0.717454</td>\n      <td>0.677103</td>\n      <td>0.00299382</td>\n      <td>0</td>\n    </tr>\n    <tr>\n      <th>58</th>\n      <td>digits</td>\n      <td>Decision Tree Classifier</td>\n      <td>(5, 2, best)</td>\n      <td>holdout</td>\n      <td>0.6633</td>\n      <td>0.746121</td>\n      <td>0.663671</td>\n      <td>0.00900841</td>\n      <td>0</td>\n    </tr>\n    <tr>\n      <th>60</th>\n      <td>digits</td>\n      <td>Decision Tree Classifier</td>\n      <td>(5, 20, random)</td>\n      <td>holdout</td>\n      <td>0.643098</td>\n      <td>0.637573</td>\n      <td>0.641345</td>\n      <td>0.00399446</td>\n      <td>0.000993967</td>\n    </tr>\n    <tr>\n      <th>62</th>\n      <td>digits</td>\n      <td>Decision Tree Classifier</td>\n      <td>(5, 20, best)</td>\n      <td>holdout</td>\n      <td>0.658249</td>\n      <td>0.720075</td>\n      <td>0.657125</td>\n      <td>0.00897002</td>\n      <td>0.000971794</td>\n    </tr>\n    <tr>\n      <th>64</th>\n      <td>digits</td>\n      <td>Decision Tree Classifier</td>\n      <td>(5, 40, random)</td>\n      <td>holdout</td>\n      <td>0.624579</td>\n      <td>0.595066</td>\n      <td>0.623683</td>\n      <td>0.00299263</td>\n      <td>0</td>\n    </tr>\n    <tr>\n      <th>66</th>\n      <td>digits</td>\n      <td>Decision Tree Classifier</td>\n      <td>(5, 40, best)</td>\n      <td>holdout</td>\n      <td>0.607744</td>\n      <td>0.59806</td>\n      <td>0.604756</td>\n      <td>0.00797749</td>\n      <td>0.000996828</td>\n    </tr>\n    <tr>\n      <th>68</th>\n      <td>digits</td>\n      <td>Decision Tree Classifier</td>\n      <td>(10, 2, random)</td>\n      <td>holdout</td>\n      <td>0.821549</td>\n      <td>0.827151</td>\n      <td>0.822762</td>\n      <td>0.00598502</td>\n      <td>0.000996113</td>\n    </tr>\n    <tr>\n      <th>70</th>\n      <td>digits</td>\n      <td>Decision Tree Classifier</td>\n      <td>(10, 2, best)</td>\n      <td>holdout</td>\n      <td>0.833333</td>\n      <td>0.84214</td>\n      <td>0.836688</td>\n      <td>0.0139637</td>\n      <td>0</td>\n    </tr>\n    <tr>\n      <th>72</th>\n      <td>digits</td>\n      <td>Decision Tree Classifier</td>\n      <td>(10, 20, random)</td>\n      <td>holdout</td>\n      <td>0.742424</td>\n      <td>0.749126</td>\n      <td>0.743035</td>\n      <td>0.00398827</td>\n      <td>0</td>\n    </tr>\n    <tr>\n      <th>74</th>\n      <td>digits</td>\n      <td>Decision Tree Classifier</td>\n      <td>(10, 20, best)</td>\n      <td>holdout</td>\n      <td>0.794613</td>\n      <td>0.80054</td>\n      <td>0.797709</td>\n      <td>0.00997877</td>\n      <td>0.000995874</td>\n    </tr>\n    <tr>\n      <th>76</th>\n      <td>digits</td>\n      <td>Decision Tree Classifier</td>\n      <td>(10, 40, random)</td>\n      <td>holdout</td>\n      <td>0.621212</td>\n      <td>0.649174</td>\n      <td>0.622869</td>\n      <td>0.00299239</td>\n      <td>0.000998497</td>\n    </tr>\n    <tr>\n      <th>78</th>\n      <td>digits</td>\n      <td>Decision Tree Classifier</td>\n      <td>(10, 40, best)</td>\n      <td>holdout</td>\n      <td>0.734007</td>\n      <td>0.764335</td>\n      <td>0.73374</td>\n      <td>0.0109711</td>\n      <td>0.000998259</td>\n    </tr>\n    <tr>\n      <th>80</th>\n      <td>digits</td>\n      <td>Decision Tree Classifier</td>\n      <td>(15, 2, random)</td>\n      <td>holdout</td>\n      <td>0.826599</td>\n      <td>0.832276</td>\n      <td>0.828587</td>\n      <td>0.00498438</td>\n      <td>0</td>\n    </tr>\n    <tr>\n      <th>82</th>\n      <td>digits</td>\n      <td>Decision Tree Classifier</td>\n      <td>(15, 2, best)</td>\n      <td>holdout</td>\n      <td>0.83165</td>\n      <td>0.839983</td>\n      <td>0.835681</td>\n      <td>0.0149601</td>\n      <td>0</td>\n    </tr>\n    <tr>\n      <th>84</th>\n      <td>digits</td>\n      <td>Decision Tree Classifier</td>\n      <td>(15, 20, random)</td>\n      <td>holdout</td>\n      <td>0.742424</td>\n      <td>0.749126</td>\n      <td>0.743035</td>\n      <td>0.00598431</td>\n      <td>0</td>\n    </tr>\n    <tr>\n      <th>86</th>\n      <td>digits</td>\n      <td>Decision Tree Classifier</td>\n      <td>(15, 20, best)</td>\n      <td>holdout</td>\n      <td>0.794613</td>\n      <td>0.80054</td>\n      <td>0.797709</td>\n      <td>0.0119667</td>\n      <td>0</td>\n    </tr>\n    <tr>\n      <th>88</th>\n      <td>digits</td>\n      <td>Decision Tree Classifier</td>\n      <td>(15, 40, random)</td>\n      <td>holdout</td>\n      <td>0.621212</td>\n      <td>0.649174</td>\n      <td>0.622869</td>\n      <td>0.00299263</td>\n      <td>0.000997782</td>\n    </tr>\n    <tr>\n      <th>90</th>\n      <td>digits</td>\n      <td>Decision Tree Classifier</td>\n      <td>(15, 40, best)</td>\n      <td>holdout</td>\n      <td>0.734007</td>\n      <td>0.764335</td>\n      <td>0.73374</td>\n      <td>0.00997281</td>\n      <td>0</td>\n    </tr>\n  </tbody>\n</table>\n</div>"
     },
     "metadata": {},
     "output_type": "display_data"
    }
   ],
   "source": [
    "display(overall_results_df[\n",
    "            (overall_results_df['dataset']=='digits') &\n",
    "            (overall_results_df['split']=='holdout')])"
   ],
   "metadata": {
    "collapsed": false,
    "pycharm": {
     "name": "#%%\n"
    }
   }
  },
  {
   "cell_type": "markdown",
   "source": [
    "### K Fold"
   ],
   "metadata": {
    "collapsed": false
   }
  },
  {
   "cell_type": "code",
   "execution_count": 18,
   "outputs": [
    {
     "data": {
      "text/plain": "   dataset                  approach         arguments   split  \\\n7   digits                       kNN               n=5  k-fold   \n9   digits                       kNN              n=10  k-fold   \n11  digits                       kNN              n=20  k-fold   \n15  digits                     bayes              none  k-fold   \n19  digits                perceptron              none  k-fold   \n57  digits  Decision Tree Classifier    (5, 2, random)  k-fold   \n59  digits  Decision Tree Classifier      (5, 2, best)  k-fold   \n61  digits  Decision Tree Classifier   (5, 20, random)  k-fold   \n63  digits  Decision Tree Classifier     (5, 20, best)  k-fold   \n65  digits  Decision Tree Classifier   (5, 40, random)  k-fold   \n67  digits  Decision Tree Classifier     (5, 40, best)  k-fold   \n69  digits  Decision Tree Classifier   (10, 2, random)  k-fold   \n71  digits  Decision Tree Classifier     (10, 2, best)  k-fold   \n73  digits  Decision Tree Classifier  (10, 20, random)  k-fold   \n75  digits  Decision Tree Classifier    (10, 20, best)  k-fold   \n77  digits  Decision Tree Classifier  (10, 40, random)  k-fold   \n79  digits  Decision Tree Classifier    (10, 40, best)  k-fold   \n81  digits  Decision Tree Classifier   (15, 2, random)  k-fold   \n83  digits  Decision Tree Classifier     (15, 2, best)  k-fold   \n85  digits  Decision Tree Classifier  (15, 20, random)  k-fold   \n87  digits  Decision Tree Classifier    (15, 20, best)  k-fold   \n89  digits  Decision Tree Classifier  (15, 40, random)  k-fold   \n91  digits  Decision Tree Classifier    (15, 40, best)  k-fold   \n\n                                           accuracy  \\\n7   m: 0.9883163107397092 std: 0.005388572629804117   \n9   m: 0.9805277004023523 std: 0.007241231361602902   \n11  m: 0.9705060352831941 std: 0.006724967766856801   \n15  m: 0.8324945837202105 std: 0.009286635323422067   \n19  m: 0.9410229031259671 std: 0.015849668296257387   \n57     m: 0.682799442896936 std: 0.0225789955736832   \n59  m: 0.6521990095945527 std: 0.029293764851288196   \n61  m: 0.6750278551532034 std: 0.040755563742608684   \n63   m: 0.642189724543485 std: 0.026859596447899876   \n65   m: 0.6282559579077684 std: 0.04962782791262363   \n67  m: 0.6271649644073042 std: 0.022340010709646117   \n69  m: 0.8492169606932837 std: 0.024701250873822116   \n71  m: 0.8497415660786135 std: 0.016289255420700997   \n73  m: 0.7334292788610337 std: 0.020905478914734647   \n75   m: 0.7879712163416899 std: 0.01638106112774851   \n77  m: 0.6956360259981429 std: 0.030311998503533933   \n79   m: 0.7551593933766635 std: 0.02118747834909684   \n81    m: 0.8480857319715259 std: 0.0160451900425344   \n83  m: 0.8503002166511916 std: 0.009784061096593345   \n85  m: 0.7334292788610337 std: 0.020905478914734647   \n87   m: 0.7879712163416899 std: 0.01638106112774851   \n89  m: 0.6956360259981429 std: 0.030311998503533933   \n91   m: 0.7551593933766635 std: 0.02118747834909684   \n\n                                          precision  \\\n7   m: 0.9887866449971712 std: 0.005222598238459717   \n9    m: 0.9816830468409415 std: 0.00662931853158472   \n11  m: 0.9717214434156635 std: 0.006292571449491544   \n15  m: 0.8598088622118409 std: 0.015147678383072103   \n19   m: 0.9472330796425998 std: 0.01371753706347739   \n57   m: 0.717660567564935 std: 0.026132446284686445   \n59   m: 0.7298174310895975 std: 0.01717008365700091   \n61  m: 0.6950497115958991 std: 0.061857032803490745   \n63    m: 0.703735266738326 std: 0.01501969790860612   \n65   m: 0.6253692157304211 std: 0.05839129334704999   \n67   m: 0.6660513441822741 std: 0.02980445680574132   \n69  m: 0.8535964619626707 std: 0.024247845316340284   \n71  m: 0.8559045305923447 std: 0.016949978229067093   \n73   m: 0.7394966477817702 std: 0.02134785363906439   \n75  m: 0.7966323249656977 std: 0.019183878519583475   \n77   m: 0.7156065230428587 std: 0.03517987997097763   \n79  m: 0.7708872928512271 std: 0.018327983630086836   \n81  m: 0.8518270691602231 std: 0.014618370518263432   \n83  m: 0.8570756527976207 std: 0.010812556072823007   \n85   m: 0.7394966477817702 std: 0.02134785363906439   \n87  m: 0.7966323249656977 std: 0.019183878519583475   \n89   m: 0.7156065230428587 std: 0.03517987997097763   \n91  m: 0.7708872928512271 std: 0.018327983630086836   \n\n                                              recall  \\\n7   m: 0.9882804905746081 std: 0.0053145264097686756   \n9     m: 0.9804048249930603 std: 0.00715395193374626   \n11    m: 0.9702434451257981 std: 0.00681107277803136   \n15   m: 0.8325454614278144 std: 0.009764788694682724   \n19   m: 0.9410189264895147 std: 0.015777826142176866   \n57   m: 0.6822451106568753 std: 0.022306835943359964   \n59   m: 0.6520541549953315 std: 0.028721061472361847   \n61     m: 0.674860019683549 std: 0.04133979548873456   \n63   m: 0.6420215509627274 std: 0.026807715646732715   \n65   m: 0.6283112019582608 std: 0.050742761166004666   \n67   m: 0.6270297019708784 std: 0.022343553593636677   \n69    m: 0.848803896333308 std: 0.024983989383474584   \n71   m: 0.8496446109975521 std: 0.016132101050840803   \n73    m: 0.7331400055517703 std: 0.02089872408546371   \n75     m: 0.7882291114644057 std: 0.0162673398542481   \n77    m: 0.6946652282534636 std: 0.03080685318605075   \n79    m: 0.754918641330406 std: 0.021705452983571242   \n81    m: 0.847657531481061 std: 0.016500416901784897   \n83   m: 0.8501242334771746 std: 0.009676746964727485   \n85    m: 0.7331400055517703 std: 0.02089872408546371   \n87     m: 0.7882291114644057 std: 0.0162673398542481   \n89    m: 0.6946652282534636 std: 0.03080685318605075   \n91    m: 0.754918641330406 std: 0.021705452983571242   \n\n                                        time training  \\\n7   total: 0.10268950462341309 values: [0.02191734...   \n9   total: 0.10272455215454102 values: [0.01894951...   \n11  total: 0.11178374290466309 values: [0.02097678...   \n15  total: 0.012965917587280273 values: [0.0029923...   \n19  total: 0.15159392356872559 values: [0.02991819...   \n57  total: 0.02091217041015625 values: [0.00398803...   \n59  total: 0.05185675621032715 values: [0.00997257...   \n61  total: 0.024979591369628906 values: [0.0049858...   \n63  total: 0.06183505058288574 values: [0.01296616...   \n65  total: 0.022940874099731445 values: [0.0049877...   \n67  total: 0.054849863052368164 values: [0.0119662...   \n69  total: 0.035906076431274414 values: [0.0079789...   \n71  total: 0.08380770683288574 values: [0.01895046...   \n73  total: 0.024934053421020508 values: [0.004987 ...   \n75  total: 0.0777595043182373 values: [0.0149591  ...   \n77  total: 0.026928424835205078 values: [0.0059833...   \n79  total: 0.0688161849975586 values: [0.01396251 ...   \n81  total: 0.03790116310119629 values: [0.00698161...   \n83  total: 0.10072803497314453 values: [0.01894808...   \n85  total: 0.02891850471496582 values: [0.00498486...   \n87  total: 0.07380175590515137 values: [0.01396275...   \n89  total: 0.025930166244506836 values: [0.0049872...   \n91  total: 0.06183338165283203 values: [0.01196599...   \n\n                                         time testing  \n7   total: 0.3243260383605957 values: [0.06796765 ...  \n9   total: 0.3530890941619873 values: [0.06386065 ...  \n11  total: 0.38193178176879883 values: [0.06678843...  \n15  total: 0.011965274810791016 values: [0.0019936...  \n19  total: 0.008939266204833984 values: [0.0009942...  \n57  total: 0.007982969284057617 values: [0.0019989...  \n59  total: 0.009945154190063477 values: [0.0019941...  \n61  total: 0.010895013809204102 values: [0.001966 ...  \n63  total: 0.008976459503173828 values: [0.0009968...  \n65  total: 0.011968612670898438 values: [0.0029923...  \n67  total: 0.00897359848022461 values: [0.00099683...  \n69  total: 0.011968135833740234 values: [0.0029931...  \n71  total: 0.009973764419555664 values: [0.0019934...  \n73  total: 0.00797724723815918 values: [0.00199437...  \n75  total: 0.011968374252319336 values: [0.0019946...  \n77  total: 0.009973287582397461 values: [0.0019948...  \n79  total: 0.009972810745239258 values: [0.0019938...  \n81  total: 0.010967731475830078 values: [0.0019941...  \n83  total: 0.010973691940307617 values: [0.0019955...  \n85  total: 0.010972976684570312 values: [0.0019950...  \n87  total: 0.011967658996582031 values: [0.0039889...  \n89  total: 0.009973287582397461 values: [0.0019929...  \n91  total: 0.00997304916381836 values: [0.00199509...  ",
      "text/html": "<div>\n<style scoped>\n    .dataframe tbody tr th:only-of-type {\n        vertical-align: middle;\n    }\n\n    .dataframe tbody tr th {\n        vertical-align: top;\n    }\n\n    .dataframe thead th {\n        text-align: right;\n    }\n</style>\n<table border=\"1\" class=\"dataframe\">\n  <thead>\n    <tr style=\"text-align: right;\">\n      <th></th>\n      <th>dataset</th>\n      <th>approach</th>\n      <th>arguments</th>\n      <th>split</th>\n      <th>accuracy</th>\n      <th>precision</th>\n      <th>recall</th>\n      <th>time training</th>\n      <th>time testing</th>\n    </tr>\n  </thead>\n  <tbody>\n    <tr>\n      <th>7</th>\n      <td>digits</td>\n      <td>kNN</td>\n      <td>n=5</td>\n      <td>k-fold</td>\n      <td>m: 0.9883163107397092 std: 0.005388572629804117</td>\n      <td>m: 0.9887866449971712 std: 0.005222598238459717</td>\n      <td>m: 0.9882804905746081 std: 0.0053145264097686756</td>\n      <td>total: 0.10268950462341309 values: [0.02191734...</td>\n      <td>total: 0.3243260383605957 values: [0.06796765 ...</td>\n    </tr>\n    <tr>\n      <th>9</th>\n      <td>digits</td>\n      <td>kNN</td>\n      <td>n=10</td>\n      <td>k-fold</td>\n      <td>m: 0.9805277004023523 std: 0.007241231361602902</td>\n      <td>m: 0.9816830468409415 std: 0.00662931853158472</td>\n      <td>m: 0.9804048249930603 std: 0.00715395193374626</td>\n      <td>total: 0.10272455215454102 values: [0.01894951...</td>\n      <td>total: 0.3530890941619873 values: [0.06386065 ...</td>\n    </tr>\n    <tr>\n      <th>11</th>\n      <td>digits</td>\n      <td>kNN</td>\n      <td>n=20</td>\n      <td>k-fold</td>\n      <td>m: 0.9705060352831941 std: 0.006724967766856801</td>\n      <td>m: 0.9717214434156635 std: 0.006292571449491544</td>\n      <td>m: 0.9702434451257981 std: 0.00681107277803136</td>\n      <td>total: 0.11178374290466309 values: [0.02097678...</td>\n      <td>total: 0.38193178176879883 values: [0.06678843...</td>\n    </tr>\n    <tr>\n      <th>15</th>\n      <td>digits</td>\n      <td>bayes</td>\n      <td>none</td>\n      <td>k-fold</td>\n      <td>m: 0.8324945837202105 std: 0.009286635323422067</td>\n      <td>m: 0.8598088622118409 std: 0.015147678383072103</td>\n      <td>m: 0.8325454614278144 std: 0.009764788694682724</td>\n      <td>total: 0.012965917587280273 values: [0.0029923...</td>\n      <td>total: 0.011965274810791016 values: [0.0019936...</td>\n    </tr>\n    <tr>\n      <th>19</th>\n      <td>digits</td>\n      <td>perceptron</td>\n      <td>none</td>\n      <td>k-fold</td>\n      <td>m: 0.9410229031259671 std: 0.015849668296257387</td>\n      <td>m: 0.9472330796425998 std: 0.01371753706347739</td>\n      <td>m: 0.9410189264895147 std: 0.015777826142176866</td>\n      <td>total: 0.15159392356872559 values: [0.02991819...</td>\n      <td>total: 0.008939266204833984 values: [0.0009942...</td>\n    </tr>\n    <tr>\n      <th>57</th>\n      <td>digits</td>\n      <td>Decision Tree Classifier</td>\n      <td>(5, 2, random)</td>\n      <td>k-fold</td>\n      <td>m: 0.682799442896936 std: 0.0225789955736832</td>\n      <td>m: 0.717660567564935 std: 0.026132446284686445</td>\n      <td>m: 0.6822451106568753 std: 0.022306835943359964</td>\n      <td>total: 0.02091217041015625 values: [0.00398803...</td>\n      <td>total: 0.007982969284057617 values: [0.0019989...</td>\n    </tr>\n    <tr>\n      <th>59</th>\n      <td>digits</td>\n      <td>Decision Tree Classifier</td>\n      <td>(5, 2, best)</td>\n      <td>k-fold</td>\n      <td>m: 0.6521990095945527 std: 0.029293764851288196</td>\n      <td>m: 0.7298174310895975 std: 0.01717008365700091</td>\n      <td>m: 0.6520541549953315 std: 0.028721061472361847</td>\n      <td>total: 0.05185675621032715 values: [0.00997257...</td>\n      <td>total: 0.009945154190063477 values: [0.0019941...</td>\n    </tr>\n    <tr>\n      <th>61</th>\n      <td>digits</td>\n      <td>Decision Tree Classifier</td>\n      <td>(5, 20, random)</td>\n      <td>k-fold</td>\n      <td>m: 0.6750278551532034 std: 0.040755563742608684</td>\n      <td>m: 0.6950497115958991 std: 0.061857032803490745</td>\n      <td>m: 0.674860019683549 std: 0.04133979548873456</td>\n      <td>total: 0.024979591369628906 values: [0.0049858...</td>\n      <td>total: 0.010895013809204102 values: [0.001966 ...</td>\n    </tr>\n    <tr>\n      <th>63</th>\n      <td>digits</td>\n      <td>Decision Tree Classifier</td>\n      <td>(5, 20, best)</td>\n      <td>k-fold</td>\n      <td>m: 0.642189724543485 std: 0.026859596447899876</td>\n      <td>m: 0.703735266738326 std: 0.01501969790860612</td>\n      <td>m: 0.6420215509627274 std: 0.026807715646732715</td>\n      <td>total: 0.06183505058288574 values: [0.01296616...</td>\n      <td>total: 0.008976459503173828 values: [0.0009968...</td>\n    </tr>\n    <tr>\n      <th>65</th>\n      <td>digits</td>\n      <td>Decision Tree Classifier</td>\n      <td>(5, 40, random)</td>\n      <td>k-fold</td>\n      <td>m: 0.6282559579077684 std: 0.04962782791262363</td>\n      <td>m: 0.6253692157304211 std: 0.05839129334704999</td>\n      <td>m: 0.6283112019582608 std: 0.050742761166004666</td>\n      <td>total: 0.022940874099731445 values: [0.0049877...</td>\n      <td>total: 0.011968612670898438 values: [0.0029923...</td>\n    </tr>\n    <tr>\n      <th>67</th>\n      <td>digits</td>\n      <td>Decision Tree Classifier</td>\n      <td>(5, 40, best)</td>\n      <td>k-fold</td>\n      <td>m: 0.6271649644073042 std: 0.022340010709646117</td>\n      <td>m: 0.6660513441822741 std: 0.02980445680574132</td>\n      <td>m: 0.6270297019708784 std: 0.022343553593636677</td>\n      <td>total: 0.054849863052368164 values: [0.0119662...</td>\n      <td>total: 0.00897359848022461 values: [0.00099683...</td>\n    </tr>\n    <tr>\n      <th>69</th>\n      <td>digits</td>\n      <td>Decision Tree Classifier</td>\n      <td>(10, 2, random)</td>\n      <td>k-fold</td>\n      <td>m: 0.8492169606932837 std: 0.024701250873822116</td>\n      <td>m: 0.8535964619626707 std: 0.024247845316340284</td>\n      <td>m: 0.848803896333308 std: 0.024983989383474584</td>\n      <td>total: 0.035906076431274414 values: [0.0079789...</td>\n      <td>total: 0.011968135833740234 values: [0.0029931...</td>\n    </tr>\n    <tr>\n      <th>71</th>\n      <td>digits</td>\n      <td>Decision Tree Classifier</td>\n      <td>(10, 2, best)</td>\n      <td>k-fold</td>\n      <td>m: 0.8497415660786135 std: 0.016289255420700997</td>\n      <td>m: 0.8559045305923447 std: 0.016949978229067093</td>\n      <td>m: 0.8496446109975521 std: 0.016132101050840803</td>\n      <td>total: 0.08380770683288574 values: [0.01895046...</td>\n      <td>total: 0.009973764419555664 values: [0.0019934...</td>\n    </tr>\n    <tr>\n      <th>73</th>\n      <td>digits</td>\n      <td>Decision Tree Classifier</td>\n      <td>(10, 20, random)</td>\n      <td>k-fold</td>\n      <td>m: 0.7334292788610337 std: 0.020905478914734647</td>\n      <td>m: 0.7394966477817702 std: 0.02134785363906439</td>\n      <td>m: 0.7331400055517703 std: 0.02089872408546371</td>\n      <td>total: 0.024934053421020508 values: [0.004987 ...</td>\n      <td>total: 0.00797724723815918 values: [0.00199437...</td>\n    </tr>\n    <tr>\n      <th>75</th>\n      <td>digits</td>\n      <td>Decision Tree Classifier</td>\n      <td>(10, 20, best)</td>\n      <td>k-fold</td>\n      <td>m: 0.7879712163416899 std: 0.01638106112774851</td>\n      <td>m: 0.7966323249656977 std: 0.019183878519583475</td>\n      <td>m: 0.7882291114644057 std: 0.0162673398542481</td>\n      <td>total: 0.0777595043182373 values: [0.0149591  ...</td>\n      <td>total: 0.011968374252319336 values: [0.0019946...</td>\n    </tr>\n    <tr>\n      <th>77</th>\n      <td>digits</td>\n      <td>Decision Tree Classifier</td>\n      <td>(10, 40, random)</td>\n      <td>k-fold</td>\n      <td>m: 0.6956360259981429 std: 0.030311998503533933</td>\n      <td>m: 0.7156065230428587 std: 0.03517987997097763</td>\n      <td>m: 0.6946652282534636 std: 0.03080685318605075</td>\n      <td>total: 0.026928424835205078 values: [0.0059833...</td>\n      <td>total: 0.009973287582397461 values: [0.0019948...</td>\n    </tr>\n    <tr>\n      <th>79</th>\n      <td>digits</td>\n      <td>Decision Tree Classifier</td>\n      <td>(10, 40, best)</td>\n      <td>k-fold</td>\n      <td>m: 0.7551593933766635 std: 0.02118747834909684</td>\n      <td>m: 0.7708872928512271 std: 0.018327983630086836</td>\n      <td>m: 0.754918641330406 std: 0.021705452983571242</td>\n      <td>total: 0.0688161849975586 values: [0.01396251 ...</td>\n      <td>total: 0.009972810745239258 values: [0.0019938...</td>\n    </tr>\n    <tr>\n      <th>81</th>\n      <td>digits</td>\n      <td>Decision Tree Classifier</td>\n      <td>(15, 2, random)</td>\n      <td>k-fold</td>\n      <td>m: 0.8480857319715259 std: 0.0160451900425344</td>\n      <td>m: 0.8518270691602231 std: 0.014618370518263432</td>\n      <td>m: 0.847657531481061 std: 0.016500416901784897</td>\n      <td>total: 0.03790116310119629 values: [0.00698161...</td>\n      <td>total: 0.010967731475830078 values: [0.0019941...</td>\n    </tr>\n    <tr>\n      <th>83</th>\n      <td>digits</td>\n      <td>Decision Tree Classifier</td>\n      <td>(15, 2, best)</td>\n      <td>k-fold</td>\n      <td>m: 0.8503002166511916 std: 0.009784061096593345</td>\n      <td>m: 0.8570756527976207 std: 0.010812556072823007</td>\n      <td>m: 0.8501242334771746 std: 0.009676746964727485</td>\n      <td>total: 0.10072803497314453 values: [0.01894808...</td>\n      <td>total: 0.010973691940307617 values: [0.0019955...</td>\n    </tr>\n    <tr>\n      <th>85</th>\n      <td>digits</td>\n      <td>Decision Tree Classifier</td>\n      <td>(15, 20, random)</td>\n      <td>k-fold</td>\n      <td>m: 0.7334292788610337 std: 0.020905478914734647</td>\n      <td>m: 0.7394966477817702 std: 0.02134785363906439</td>\n      <td>m: 0.7331400055517703 std: 0.02089872408546371</td>\n      <td>total: 0.02891850471496582 values: [0.00498486...</td>\n      <td>total: 0.010972976684570312 values: [0.0019950...</td>\n    </tr>\n    <tr>\n      <th>87</th>\n      <td>digits</td>\n      <td>Decision Tree Classifier</td>\n      <td>(15, 20, best)</td>\n      <td>k-fold</td>\n      <td>m: 0.7879712163416899 std: 0.01638106112774851</td>\n      <td>m: 0.7966323249656977 std: 0.019183878519583475</td>\n      <td>m: 0.7882291114644057 std: 0.0162673398542481</td>\n      <td>total: 0.07380175590515137 values: [0.01396275...</td>\n      <td>total: 0.011967658996582031 values: [0.0039889...</td>\n    </tr>\n    <tr>\n      <th>89</th>\n      <td>digits</td>\n      <td>Decision Tree Classifier</td>\n      <td>(15, 40, random)</td>\n      <td>k-fold</td>\n      <td>m: 0.6956360259981429 std: 0.030311998503533933</td>\n      <td>m: 0.7156065230428587 std: 0.03517987997097763</td>\n      <td>m: 0.6946652282534636 std: 0.03080685318605075</td>\n      <td>total: 0.025930166244506836 values: [0.0049872...</td>\n      <td>total: 0.009973287582397461 values: [0.0019929...</td>\n    </tr>\n    <tr>\n      <th>91</th>\n      <td>digits</td>\n      <td>Decision Tree Classifier</td>\n      <td>(15, 40, best)</td>\n      <td>k-fold</td>\n      <td>m: 0.7551593933766635 std: 0.02118747834909684</td>\n      <td>m: 0.7708872928512271 std: 0.018327983630086836</td>\n      <td>m: 0.754918641330406 std: 0.021705452983571242</td>\n      <td>total: 0.06183338165283203 values: [0.01196599...</td>\n      <td>total: 0.00997304916381836 values: [0.00199509...</td>\n    </tr>\n  </tbody>\n</table>\n</div>"
     },
     "metadata": {},
     "output_type": "display_data"
    }
   ],
   "source": [
    "display(overall_results_df[\n",
    "            (overall_results_df['dataset']=='digits') &\n",
    "            (overall_results_df['split']=='k-fold')])"
   ],
   "metadata": {
    "collapsed": false,
    "pycharm": {
     "name": "#%%\n"
    }
   }
  },
  {
   "cell_type": "markdown",
   "source": [
    "### Effectiveness\n",
    "Again,  acccuracy, precision and recall were good across all approaches.\n",
    "In this specific case, also the perceptron yielded notable better results.\n",
    "\n",
    "Again, the data set may  be prone to ceiling effects for measuring effectiveness for such image recognition tasks.\n",
    "\n",
    "### Efficiency\n",
    "Similar to the Iris dataset the training and testing time measured were low to non-measurable.\n",
    "\n",
    "Benchmarking with these limited differences across approaches would be too prone to additional confounding variables such as running background tasks and other effects not associated with the machine learning tasks.\n",
    "Larger and more complex datasets would yield more meaningful results in terms of efficiency."
   ],
   "metadata": {
    "collapsed": false
   }
  }
 ],
 "metadata": {
  "kernelspec": {
   "display_name": "Python 3",
   "language": "python",
   "name": "python3"
  },
  "language_info": {
   "codemirror_mode": {
    "name": "ipython",
    "version": 2
   },
   "file_extension": ".py",
   "mimetype": "text/x-python",
   "name": "python",
   "nbconvert_exporter": "python",
   "pygments_lexer": "ipython2",
   "version": "2.7.6"
  }
 },
 "nbformat": 4,
 "nbformat_minor": 0
}