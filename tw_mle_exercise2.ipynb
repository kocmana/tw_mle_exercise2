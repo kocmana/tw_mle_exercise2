{
 "cells": [
  {
   "cell_type": "markdown",
   "metadata": {
    "collapsed": true,
    "pycharm": {
     "name": "#%% md\n"
    }
   },
   "source": [
    "# MLE - Exercise 2\n",
    "## Andreas Kocman (se19m024)\n",
    "\n",
    "## Assignment\n",
    "In this exercise, you shall experiment with a number of (simple) algorithms on several datasets. The aim is to get a feeling how well each of these algorithms works, and whether there are differences depending on the dataset.\n",
    "\n",
    "The datasets are\n",
    "* [Iris](https://archive.ics.uci.edu/ml/datasets/Iris), for Python, use http://scikit-learn.org/stable/modules/generated/sklearn.datasets.load_iris.html)\n",
    "* [Handwritten digits](https://archive.ics.uci.edu/ml/datasets/Optical+Recognition+of+Handwritten+Digits), of which we only use the test set of 1797 instances; for Python, use http://scikit-learn.org/stable/modules/generated/sklearn.datasets.load_digits.html)\n",
    "* If you are a group of three (see below): [Breast Cancer dataset](https://archive.ics.uci.edu/ml/datasets/Breast+Cancer+Wisconsin+(Diagnostic)); skip the ID field; in Python: http://scikit-learn.org/stable/modules/generated/sklearn.datasets.load_breast_cancer.html)\n",
    "\n",
    "The classifiers you shall use are\n",
    "* k-NN (with 3 different values for k)\n",
    "* Naive Bayes\n",
    "* Perceptron, and\n",
    "* Decision Trees with 3 different parameter settings (e.g. some pre-pruning setting, different split criterion, ...)\n",
    "\n",
    "For each dataset, you shall train and evaluate each classifier (with parameter variations), and then compute several evaluation metrics\n",
    "* Effectiveness: Accuracy, and 1 more of your choice (precision, recall, F1, ...\n",
    "* Efficiency: runtime for training & testing\n",
    "* As evaluation set splitting technique, you shall use once the holdout method with 2/3 training and the rest for testing, and once cross validation with 5 folds.\n",
    "\n",
    "You shall present these results in a tabular form, with one table for each dataset & splitting combination approach.\n",
    "\n",
    "Iris/5-folds | Accuracy | Precision| Training time | Testing time\n",
    "---|---|---|---|---|---\n",
    "k-NN (3-NN) | .85 | .82 | 0.1 sec | 27 sec\n",
    "Naive Bayes | .72 | .82 | 1 sec | 2 sec\n",
    "Decision Tree | .92 | .76 | 5 sec | 2 sec\n",
    "... | ... | ...| ... | ...\n",
    "\n",
    "\n",
    "Then describe the results, and analyse e.g.:\n",
    "* Which classifiers work best?\n",
    "* Are there differences between the datasets?\n",
    "* Are the differences in the efficiency measurements?\n",
    "* How is the runtime changing with the different data sets?\n",
    "* ...\n",
    "\n",
    "You can solve this exercise alone, or in a group of two students. If you form a group, you need to extend your scope, by\n",
    "* Adding a third dataset, namely breast cancer wisconsin\n",
    "* For k-NN, using 5 different values for k instead of 3, and use both weighted and uniform distance (i.e. a total of 10 combinations); for Decision Trees, also add 3 more parameter variations\n",
    "* Adding a third efficiency evaluation metric\n",
    "\n",
    "Your submission shall contain\n",
    "* The textual report\n",
    "* All code samples and\n",
    "* All data sets (if not already included in your software package, e.g. Python)"
   ]
  },
  {
   "cell_type": "code",
   "execution_count": 114,
   "outputs": [],
   "source": [
    "#General Imports\n",
    "\n",
    "import numpy as np\n",
    "from sklearn.model_selection import train_test_split\n",
    "from sklearn import datasets\n",
    "from sklearn import metrics\n",
    "from sklearn.utils import shuffle\n",
    "import pandas as pd\n",
    "import time\n",
    "import datetime\n",
    "\n",
    "#Data reporting\n",
    "from IPython.display import display, HTML\n",
    "import matplotlib.pyplot as plt"
   ],
   "metadata": {
    "collapsed": false,
    "pycharm": {
     "name": "#%%\n"
    }
   }
  },
  {
   "cell_type": "markdown",
   "source": [
    "## k-NN\n",
    "\n",
    "### Iris"
   ],
   "metadata": {
    "collapsed": false,
    "pycharm": {
     "name": "#%% md\n"
    }
   }
  },
  {
   "cell_type": "code",
   "execution_count": 106,
   "outputs": [
    {
     "data": {
      "text/plain": "   accuracy precision time training time testing\n1       0.9       0.9    0.00099802   0.00199461\n2      0.92      0.92    0.00099802   0.00199413\n3      0.94      0.94   0.000997305   0.00199413\n4      0.92      0.92             0   0.00199413\n5      0.96      0.96   0.000996828  0.000997305\n6      0.92      0.92             0   0.00199485\n7      0.96      0.96             0   0.00199461\n8      0.92      0.92             0   0.00199461\n9      0.98      0.98   0.000997782  0.000996828\n10     0.92      0.92             0   0.00199389\n11     0.92      0.92   0.000997782  0.000996828\n12     0.92      0.92             0   0.00199437\n13     0.96      0.96             0   0.00199461\n14     0.92      0.92             0   0.00199413\n15     0.92      0.92             0   0.00199413\n16      0.9       0.9   0.000997066  0.000997782\n17      0.9       0.9             0   0.00199509\n18     0.88      0.88             0   0.00199461\n19      0.9       0.9             0   0.00299191\n20     0.88      0.88             0   0.00199461\n21     0.88      0.88             0   0.00199795\n22     0.88      0.88             0   0.00199437\n23     0.86      0.86             0   0.00199533\n24     0.86      0.86             0   0.00199413\n25     0.88      0.88             0   0.00199485\n26     0.88      0.88   0.000997305  0.000997543\n27     0.88      0.88             0   0.00199437\n28     0.86      0.86             0   0.00199485\n29     0.88      0.88             0   0.00299191\n30     0.86      0.86   0.000997782  0.000997066\n31     0.86      0.86             0   0.00199461\n32     0.86      0.86             0   0.00199461\n33     0.86      0.86   0.000997782   0.00199485\n34     0.86      0.86   0.000997305   0.00199413\n35     0.86      0.86    0.00099659   0.00199509\n36     0.86      0.86             0   0.00199461\n37     0.84      0.84             0   0.00299144\n38     0.84      0.84    0.00100851   0.00198293\n39     0.84      0.84             0   0.00199413\n40     0.84      0.84   0.000997305   0.00199533\n41     0.84      0.84   0.000997782   0.00199413\n42     0.84      0.84   0.000997543   0.00199437\n43     0.84      0.84             0   0.00199461\n44     0.84      0.84             0   0.00199461\n45     0.84      0.84             0   0.00299191\n46     0.86      0.86             0   0.00299168\n47     0.86      0.86             0   0.00199437\n48     0.84      0.84             0   0.00199437\n49     0.84      0.84             0   0.00299191",
      "text/html": "<div>\n<style scoped>\n    .dataframe tbody tr th:only-of-type {\n        vertical-align: middle;\n    }\n\n    .dataframe tbody tr th {\n        vertical-align: top;\n    }\n\n    .dataframe thead th {\n        text-align: right;\n    }\n</style>\n<table border=\"1\" class=\"dataframe\">\n  <thead>\n    <tr style=\"text-align: right;\">\n      <th></th>\n      <th>accuracy</th>\n      <th>precision</th>\n      <th>time training</th>\n      <th>time testing</th>\n    </tr>\n  </thead>\n  <tbody>\n    <tr>\n      <th>1</th>\n      <td>0.9</td>\n      <td>0.9</td>\n      <td>0.00099802</td>\n      <td>0.00199461</td>\n    </tr>\n    <tr>\n      <th>2</th>\n      <td>0.92</td>\n      <td>0.92</td>\n      <td>0.00099802</td>\n      <td>0.00199413</td>\n    </tr>\n    <tr>\n      <th>3</th>\n      <td>0.94</td>\n      <td>0.94</td>\n      <td>0.000997305</td>\n      <td>0.00199413</td>\n    </tr>\n    <tr>\n      <th>4</th>\n      <td>0.92</td>\n      <td>0.92</td>\n      <td>0</td>\n      <td>0.00199413</td>\n    </tr>\n    <tr>\n      <th>5</th>\n      <td>0.96</td>\n      <td>0.96</td>\n      <td>0.000996828</td>\n      <td>0.000997305</td>\n    </tr>\n    <tr>\n      <th>6</th>\n      <td>0.92</td>\n      <td>0.92</td>\n      <td>0</td>\n      <td>0.00199485</td>\n    </tr>\n    <tr>\n      <th>7</th>\n      <td>0.96</td>\n      <td>0.96</td>\n      <td>0</td>\n      <td>0.00199461</td>\n    </tr>\n    <tr>\n      <th>8</th>\n      <td>0.92</td>\n      <td>0.92</td>\n      <td>0</td>\n      <td>0.00199461</td>\n    </tr>\n    <tr>\n      <th>9</th>\n      <td>0.98</td>\n      <td>0.98</td>\n      <td>0.000997782</td>\n      <td>0.000996828</td>\n    </tr>\n    <tr>\n      <th>10</th>\n      <td>0.92</td>\n      <td>0.92</td>\n      <td>0</td>\n      <td>0.00199389</td>\n    </tr>\n    <tr>\n      <th>11</th>\n      <td>0.92</td>\n      <td>0.92</td>\n      <td>0.000997782</td>\n      <td>0.000996828</td>\n    </tr>\n    <tr>\n      <th>12</th>\n      <td>0.92</td>\n      <td>0.92</td>\n      <td>0</td>\n      <td>0.00199437</td>\n    </tr>\n    <tr>\n      <th>13</th>\n      <td>0.96</td>\n      <td>0.96</td>\n      <td>0</td>\n      <td>0.00199461</td>\n    </tr>\n    <tr>\n      <th>14</th>\n      <td>0.92</td>\n      <td>0.92</td>\n      <td>0</td>\n      <td>0.00199413</td>\n    </tr>\n    <tr>\n      <th>15</th>\n      <td>0.92</td>\n      <td>0.92</td>\n      <td>0</td>\n      <td>0.00199413</td>\n    </tr>\n    <tr>\n      <th>16</th>\n      <td>0.9</td>\n      <td>0.9</td>\n      <td>0.000997066</td>\n      <td>0.000997782</td>\n    </tr>\n    <tr>\n      <th>17</th>\n      <td>0.9</td>\n      <td>0.9</td>\n      <td>0</td>\n      <td>0.00199509</td>\n    </tr>\n    <tr>\n      <th>18</th>\n      <td>0.88</td>\n      <td>0.88</td>\n      <td>0</td>\n      <td>0.00199461</td>\n    </tr>\n    <tr>\n      <th>19</th>\n      <td>0.9</td>\n      <td>0.9</td>\n      <td>0</td>\n      <td>0.00299191</td>\n    </tr>\n    <tr>\n      <th>20</th>\n      <td>0.88</td>\n      <td>0.88</td>\n      <td>0</td>\n      <td>0.00199461</td>\n    </tr>\n    <tr>\n      <th>21</th>\n      <td>0.88</td>\n      <td>0.88</td>\n      <td>0</td>\n      <td>0.00199795</td>\n    </tr>\n    <tr>\n      <th>22</th>\n      <td>0.88</td>\n      <td>0.88</td>\n      <td>0</td>\n      <td>0.00199437</td>\n    </tr>\n    <tr>\n      <th>23</th>\n      <td>0.86</td>\n      <td>0.86</td>\n      <td>0</td>\n      <td>0.00199533</td>\n    </tr>\n    <tr>\n      <th>24</th>\n      <td>0.86</td>\n      <td>0.86</td>\n      <td>0</td>\n      <td>0.00199413</td>\n    </tr>\n    <tr>\n      <th>25</th>\n      <td>0.88</td>\n      <td>0.88</td>\n      <td>0</td>\n      <td>0.00199485</td>\n    </tr>\n    <tr>\n      <th>26</th>\n      <td>0.88</td>\n      <td>0.88</td>\n      <td>0.000997305</td>\n      <td>0.000997543</td>\n    </tr>\n    <tr>\n      <th>27</th>\n      <td>0.88</td>\n      <td>0.88</td>\n      <td>0</td>\n      <td>0.00199437</td>\n    </tr>\n    <tr>\n      <th>28</th>\n      <td>0.86</td>\n      <td>0.86</td>\n      <td>0</td>\n      <td>0.00199485</td>\n    </tr>\n    <tr>\n      <th>29</th>\n      <td>0.88</td>\n      <td>0.88</td>\n      <td>0</td>\n      <td>0.00299191</td>\n    </tr>\n    <tr>\n      <th>30</th>\n      <td>0.86</td>\n      <td>0.86</td>\n      <td>0.000997782</td>\n      <td>0.000997066</td>\n    </tr>\n    <tr>\n      <th>31</th>\n      <td>0.86</td>\n      <td>0.86</td>\n      <td>0</td>\n      <td>0.00199461</td>\n    </tr>\n    <tr>\n      <th>32</th>\n      <td>0.86</td>\n      <td>0.86</td>\n      <td>0</td>\n      <td>0.00199461</td>\n    </tr>\n    <tr>\n      <th>33</th>\n      <td>0.86</td>\n      <td>0.86</td>\n      <td>0.000997782</td>\n      <td>0.00199485</td>\n    </tr>\n    <tr>\n      <th>34</th>\n      <td>0.86</td>\n      <td>0.86</td>\n      <td>0.000997305</td>\n      <td>0.00199413</td>\n    </tr>\n    <tr>\n      <th>35</th>\n      <td>0.86</td>\n      <td>0.86</td>\n      <td>0.00099659</td>\n      <td>0.00199509</td>\n    </tr>\n    <tr>\n      <th>36</th>\n      <td>0.86</td>\n      <td>0.86</td>\n      <td>0</td>\n      <td>0.00199461</td>\n    </tr>\n    <tr>\n      <th>37</th>\n      <td>0.84</td>\n      <td>0.84</td>\n      <td>0</td>\n      <td>0.00299144</td>\n    </tr>\n    <tr>\n      <th>38</th>\n      <td>0.84</td>\n      <td>0.84</td>\n      <td>0.00100851</td>\n      <td>0.00198293</td>\n    </tr>\n    <tr>\n      <th>39</th>\n      <td>0.84</td>\n      <td>0.84</td>\n      <td>0</td>\n      <td>0.00199413</td>\n    </tr>\n    <tr>\n      <th>40</th>\n      <td>0.84</td>\n      <td>0.84</td>\n      <td>0.000997305</td>\n      <td>0.00199533</td>\n    </tr>\n    <tr>\n      <th>41</th>\n      <td>0.84</td>\n      <td>0.84</td>\n      <td>0.000997782</td>\n      <td>0.00199413</td>\n    </tr>\n    <tr>\n      <th>42</th>\n      <td>0.84</td>\n      <td>0.84</td>\n      <td>0.000997543</td>\n      <td>0.00199437</td>\n    </tr>\n    <tr>\n      <th>43</th>\n      <td>0.84</td>\n      <td>0.84</td>\n      <td>0</td>\n      <td>0.00199461</td>\n    </tr>\n    <tr>\n      <th>44</th>\n      <td>0.84</td>\n      <td>0.84</td>\n      <td>0</td>\n      <td>0.00199461</td>\n    </tr>\n    <tr>\n      <th>45</th>\n      <td>0.84</td>\n      <td>0.84</td>\n      <td>0</td>\n      <td>0.00299191</td>\n    </tr>\n    <tr>\n      <th>46</th>\n      <td>0.86</td>\n      <td>0.86</td>\n      <td>0</td>\n      <td>0.00299168</td>\n    </tr>\n    <tr>\n      <th>47</th>\n      <td>0.86</td>\n      <td>0.86</td>\n      <td>0</td>\n      <td>0.00199437</td>\n    </tr>\n    <tr>\n      <th>48</th>\n      <td>0.84</td>\n      <td>0.84</td>\n      <td>0</td>\n      <td>0.00199437</td>\n    </tr>\n    <tr>\n      <th>49</th>\n      <td>0.84</td>\n      <td>0.84</td>\n      <td>0</td>\n      <td>0.00299191</td>\n    </tr>\n  </tbody>\n</table>\n</div>"
     },
     "metadata": {},
     "output_type": "display_data"
    },
    {
     "data": {
      "text/plain": "<matplotlib.axes._subplots.AxesSubplot at 0x140930f0>"
     },
     "execution_count": 106,
     "metadata": {},
     "output_type": "execute_result"
    },
    {
     "data": {
      "text/plain": "<Figure size 432x288 with 1 Axes>",
      "image/png": "[encoded data removed]"
     },
     "metadata": {
      "needs_background": "light"
     },
     "output_type": "display_data"
    }
   ],
   "source": [
    "from sklearn import neighbors\n",
    "\n",
    "# load the Iris dataset\n",
    "dataSet = datasets.load_iris()\n",
    "\n",
    "# Shuffle our input data\n",
    "randomState=24  # change the state with the numeric parts of your matrikelnummer; if you are in a group, use the sume of the numeric parts\n",
    "                # se19m024\n",
    "data, target = shuffle(dataSet.data, dataSet.target, random_state=randomState)\n",
    "\n",
    "testvalues = range(1,50)\n",
    "\n",
    "# Prepare dataframe for results\n",
    "knn_results_iris = pd.DataFrame(columns=['accuracy','precision','time training', 'time testing'], index=testvalues)\n",
    "\n",
    "# Prepare a train/test set split\n",
    "# split 2/3 1/3 into training & test set\n",
    "# We use the random number generator state +1; this will influence how our data is split\n",
    "X_train, X_test, y_train, y_test = train_test_split(data, target, test_size=0.33, random_state=(randomState+1))\n",
    "\n",
    "# parameters for k-NN\n",
    "n_neighbors = testvalues\n",
    "\n",
    "for n in n_neighbors:\n",
    "    # train the k-NN\n",
    "    classifier = neighbors.KNeighborsClassifier(n)\n",
    "    start_time_train = time.time()\n",
    "    classifier.fit(X_train, y_train)\n",
    "    end_time_train = time.time()\n",
    "\n",
    "    # predict the test set on our trained classifier\n",
    "    start_time_test = time.time()\n",
    "    y_test_predicted = classifier.predict(X_test)\n",
    "    end_time_test = time.time()\n",
    "\n",
    "    # Compute metrics\n",
    "    acc=metrics.accuracy_score(y_test, y_test_predicted)\n",
    "    precision=metrics.precision_score(y_test, y_test_predicted, average=\"micro\")\n",
    "\n",
    "    knn_results_iris.loc[n] = pd.Series({\n",
    "        'accuracy':acc,\n",
    "        'precision':precision,\n",
    "        'time training':end_time_train-start_time_train,\n",
    "        'time testing':end_time_test-start_time_test\n",
    "    })\n",
    "\n",
    "display(knn_results_iris)\n",
    "knn_results_iris[['accuracy','precision']].plot.line()"
   ],
   "metadata": {
    "collapsed": false,
    "pycharm": {
     "name": "#%%\n"
    }
   }
  },
  {
   "cell_type": "markdown",
   "source": [
    "### Handwritten Numbers"
   ],
   "metadata": {
    "collapsed": false,
    "pycharm": {
     "name": "#%% md\n"
    }
   }
  },
  {
   "cell_type": "code",
   "execution_count": 107,
   "outputs": [
    {
     "data": {
      "text/plain": "    accuracy precision time training time testing\n1   0.989899  0.989899     0.0169539    0.0867956\n2   0.984848  0.984848     0.0169539    0.0897593\n3   0.991582  0.991582      0.016923    0.0907857\n4   0.984848  0.984848     0.0169585     0.093715\n5   0.983165  0.983165     0.0169833     0.106714\n6   0.981481  0.981481     0.0219452     0.110706\n7   0.984848  0.984848     0.0199156     0.109706\n8   0.984848  0.984848     0.0189483     0.102726\n9   0.979798  0.979798     0.0199468     0.114693\n10  0.976431  0.976431     0.0189495     0.111701\n11  0.978114  0.978114     0.0199471     0.100766\n12  0.974747  0.974747     0.0169225     0.115692\n13   0.97138   0.97138     0.0179522      0.11968\n14   0.97138   0.97138     0.0179522     0.118684\n15  0.969697  0.969697     0.0189478     0.122673\n16  0.969697  0.969697     0.0189383     0.105717\n17   0.96633   0.96633     0.0169821     0.100703\n18  0.964646  0.964646     0.0179524     0.109707\n19  0.962963  0.962963     0.0189495     0.100729\n20  0.961279  0.961279     0.0159848     0.099705\n21  0.961279  0.961279     0.0169821      0.10569\n22  0.962963  0.962963     0.0169547    0.0997338\n23  0.961279  0.961279     0.0199461     0.105718\n24  0.959596  0.959596      0.017982    0.0997307\n25  0.962963  0.962963     0.0169618     0.119648\n26  0.957912  0.957912      0.017952     0.112699\n27  0.959596  0.959596     0.0169544     0.110705\n28  0.956229  0.956229     0.0189488     0.109707\n29  0.957912  0.957912      0.016953     0.100731\n30  0.956229  0.956229     0.0179515     0.458775\n31  0.957912  0.957912     0.0189486      0.10472\n32  0.956229  0.956229     0.0169537    0.0997674\n33  0.956229  0.956229     0.0169499     0.101728\n34  0.956229  0.956229     0.0169275     0.101756\n35  0.951178  0.951178     0.0159616     0.100699\n36  0.956229  0.956229     0.0159564     0.102726\n37  0.951178  0.951178     0.0159571     0.101728\n38  0.947811  0.947811     0.0169544     0.101728\n39  0.946128  0.946128     0.0169547     0.100759\n40  0.944444  0.944444     0.0169544     0.100703\n41  0.942761  0.942761     0.0169554     0.103694\n42  0.942761  0.942761     0.0169537     0.101761\n43  0.939394  0.939394     0.0169187     0.102725\n44  0.939394  0.939394     0.0169544     0.103736\n45   0.93771   0.93771     0.0169559     0.101728\n46  0.939394  0.939394     0.0169537     0.101727\n47   0.93771   0.93771     0.0169523     0.102698\n48  0.939394  0.939394     0.0159566     0.101728\n49   0.93771   0.93771     0.0159574     0.103753",
      "text/html": "<div>\n<style scoped>\n    .dataframe tbody tr th:only-of-type {\n        vertical-align: middle;\n    }\n\n    .dataframe tbody tr th {\n        vertical-align: top;\n    }\n\n    .dataframe thead th {\n        text-align: right;\n    }\n</style>\n<table border=\"1\" class=\"dataframe\">\n  <thead>\n    <tr style=\"text-align: right;\">\n      <th></th>\n      <th>accuracy</th>\n      <th>precision</th>\n      <th>time training</th>\n      <th>time testing</th>\n    </tr>\n  </thead>\n  <tbody>\n    <tr>\n      <th>1</th>\n      <td>0.989899</td>\n      <td>0.989899</td>\n      <td>0.0169539</td>\n      <td>0.0867956</td>\n    </tr>\n    <tr>\n      <th>2</th>\n      <td>0.984848</td>\n      <td>0.984848</td>\n      <td>0.0169539</td>\n      <td>0.0897593</td>\n    </tr>\n    <tr>\n      <th>3</th>\n      <td>0.991582</td>\n      <td>0.991582</td>\n      <td>0.016923</td>\n      <td>0.0907857</td>\n    </tr>\n    <tr>\n      <th>4</th>\n      <td>0.984848</td>\n      <td>0.984848</td>\n      <td>0.0169585</td>\n      <td>0.093715</td>\n    </tr>\n    <tr>\n      <th>5</th>\n      <td>0.983165</td>\n      <td>0.983165</td>\n      <td>0.0169833</td>\n      <td>0.106714</td>\n    </tr>\n    <tr>\n      <th>6</th>\n      <td>0.981481</td>\n      <td>0.981481</td>\n      <td>0.0219452</td>\n      <td>0.110706</td>\n    </tr>\n    <tr>\n      <th>7</th>\n      <td>0.984848</td>\n      <td>0.984848</td>\n      <td>0.0199156</td>\n      <td>0.109706</td>\n    </tr>\n    <tr>\n      <th>8</th>\n      <td>0.984848</td>\n      <td>0.984848</td>\n      <td>0.0189483</td>\n      <td>0.102726</td>\n    </tr>\n    <tr>\n      <th>9</th>\n      <td>0.979798</td>\n      <td>0.979798</td>\n      <td>0.0199468</td>\n      <td>0.114693</td>\n    </tr>\n    <tr>\n      <th>10</th>\n      <td>0.976431</td>\n      <td>0.976431</td>\n      <td>0.0189495</td>\n      <td>0.111701</td>\n    </tr>\n    <tr>\n      <th>11</th>\n      <td>0.978114</td>\n      <td>0.978114</td>\n      <td>0.0199471</td>\n      <td>0.100766</td>\n    </tr>\n    <tr>\n      <th>12</th>\n      <td>0.974747</td>\n      <td>0.974747</td>\n      <td>0.0169225</td>\n      <td>0.115692</td>\n    </tr>\n    <tr>\n      <th>13</th>\n      <td>0.97138</td>\n      <td>0.97138</td>\n      <td>0.0179522</td>\n      <td>0.11968</td>\n    </tr>\n    <tr>\n      <th>14</th>\n      <td>0.97138</td>\n      <td>0.97138</td>\n      <td>0.0179522</td>\n      <td>0.118684</td>\n    </tr>\n    <tr>\n      <th>15</th>\n      <td>0.969697</td>\n      <td>0.969697</td>\n      <td>0.0189478</td>\n      <td>0.122673</td>\n    </tr>\n    <tr>\n      <th>16</th>\n      <td>0.969697</td>\n      <td>0.969697</td>\n      <td>0.0189383</td>\n      <td>0.105717</td>\n    </tr>\n    <tr>\n      <th>17</th>\n      <td>0.96633</td>\n      <td>0.96633</td>\n      <td>0.0169821</td>\n      <td>0.100703</td>\n    </tr>\n    <tr>\n      <th>18</th>\n      <td>0.964646</td>\n      <td>0.964646</td>\n      <td>0.0179524</td>\n      <td>0.109707</td>\n    </tr>\n    <tr>\n      <th>19</th>\n      <td>0.962963</td>\n      <td>0.962963</td>\n      <td>0.0189495</td>\n      <td>0.100729</td>\n    </tr>\n    <tr>\n      <th>20</th>\n      <td>0.961279</td>\n      <td>0.961279</td>\n      <td>0.0159848</td>\n      <td>0.099705</td>\n    </tr>\n    <tr>\n      <th>21</th>\n      <td>0.961279</td>\n      <td>0.961279</td>\n      <td>0.0169821</td>\n      <td>0.10569</td>\n    </tr>\n    <tr>\n      <th>22</th>\n      <td>0.962963</td>\n      <td>0.962963</td>\n      <td>0.0169547</td>\n      <td>0.0997338</td>\n    </tr>\n    <tr>\n      <th>23</th>\n      <td>0.961279</td>\n      <td>0.961279</td>\n      <td>0.0199461</td>\n      <td>0.105718</td>\n    </tr>\n    <tr>\n      <th>24</th>\n      <td>0.959596</td>\n      <td>0.959596</td>\n      <td>0.017982</td>\n      <td>0.0997307</td>\n    </tr>\n    <tr>\n      <th>25</th>\n      <td>0.962963</td>\n      <td>0.962963</td>\n      <td>0.0169618</td>\n      <td>0.119648</td>\n    </tr>\n    <tr>\n      <th>26</th>\n      <td>0.957912</td>\n      <td>0.957912</td>\n      <td>0.017952</td>\n      <td>0.112699</td>\n    </tr>\n    <tr>\n      <th>27</th>\n      <td>0.959596</td>\n      <td>0.959596</td>\n      <td>0.0169544</td>\n      <td>0.110705</td>\n    </tr>\n    <tr>\n      <th>28</th>\n      <td>0.956229</td>\n      <td>0.956229</td>\n      <td>0.0189488</td>\n      <td>0.109707</td>\n    </tr>\n    <tr>\n      <th>29</th>\n      <td>0.957912</td>\n      <td>0.957912</td>\n      <td>0.016953</td>\n      <td>0.100731</td>\n    </tr>\n    <tr>\n      <th>30</th>\n      <td>0.956229</td>\n      <td>0.956229</td>\n      <td>0.0179515</td>\n      <td>0.458775</td>\n    </tr>\n    <tr>\n      <th>31</th>\n      <td>0.957912</td>\n      <td>0.957912</td>\n      <td>0.0189486</td>\n      <td>0.10472</td>\n    </tr>\n    <tr>\n      <th>32</th>\n      <td>0.956229</td>\n      <td>0.956229</td>\n      <td>0.0169537</td>\n      <td>0.0997674</td>\n    </tr>\n    <tr>\n      <th>33</th>\n      <td>0.956229</td>\n      <td>0.956229</td>\n      <td>0.0169499</td>\n      <td>0.101728</td>\n    </tr>\n    <tr>\n      <th>34</th>\n      <td>0.956229</td>\n      <td>0.956229</td>\n      <td>0.0169275</td>\n      <td>0.101756</td>\n    </tr>\n    <tr>\n      <th>35</th>\n      <td>0.951178</td>\n      <td>0.951178</td>\n      <td>0.0159616</td>\n      <td>0.100699</td>\n    </tr>\n    <tr>\n      <th>36</th>\n      <td>0.956229</td>\n      <td>0.956229</td>\n      <td>0.0159564</td>\n      <td>0.102726</td>\n    </tr>\n    <tr>\n      <th>37</th>\n      <td>0.951178</td>\n      <td>0.951178</td>\n      <td>0.0159571</td>\n      <td>0.101728</td>\n    </tr>\n    <tr>\n      <th>38</th>\n      <td>0.947811</td>\n      <td>0.947811</td>\n      <td>0.0169544</td>\n      <td>0.101728</td>\n    </tr>\n    <tr>\n      <th>39</th>\n      <td>0.946128</td>\n      <td>0.946128</td>\n      <td>0.0169547</td>\n      <td>0.100759</td>\n    </tr>\n    <tr>\n      <th>40</th>\n      <td>0.944444</td>\n      <td>0.944444</td>\n      <td>0.0169544</td>\n      <td>0.100703</td>\n    </tr>\n    <tr>\n      <th>41</th>\n      <td>0.942761</td>\n      <td>0.942761</td>\n      <td>0.0169554</td>\n      <td>0.103694</td>\n    </tr>\n    <tr>\n      <th>42</th>\n      <td>0.942761</td>\n      <td>0.942761</td>\n      <td>0.0169537</td>\n      <td>0.101761</td>\n    </tr>\n    <tr>\n      <th>43</th>\n      <td>0.939394</td>\n      <td>0.939394</td>\n      <td>0.0169187</td>\n      <td>0.102725</td>\n    </tr>\n    <tr>\n      <th>44</th>\n      <td>0.939394</td>\n      <td>0.939394</td>\n      <td>0.0169544</td>\n      <td>0.103736</td>\n    </tr>\n    <tr>\n      <th>45</th>\n      <td>0.93771</td>\n      <td>0.93771</td>\n      <td>0.0169559</td>\n      <td>0.101728</td>\n    </tr>\n    <tr>\n      <th>46</th>\n      <td>0.939394</td>\n      <td>0.939394</td>\n      <td>0.0169537</td>\n      <td>0.101727</td>\n    </tr>\n    <tr>\n      <th>47</th>\n      <td>0.93771</td>\n      <td>0.93771</td>\n      <td>0.0169523</td>\n      <td>0.102698</td>\n    </tr>\n    <tr>\n      <th>48</th>\n      <td>0.939394</td>\n      <td>0.939394</td>\n      <td>0.0159566</td>\n      <td>0.101728</td>\n    </tr>\n    <tr>\n      <th>49</th>\n      <td>0.93771</td>\n      <td>0.93771</td>\n      <td>0.0159574</td>\n      <td>0.103753</td>\n    </tr>\n  </tbody>\n</table>\n</div>"
     },
     "metadata": {},
     "output_type": "display_data"
    },
    {
     "data": {
      "text/plain": "<matplotlib.axes._subplots.AxesSubplot at 0x142f5f10>"
     },
     "execution_count": 107,
     "metadata": {},
     "output_type": "execute_result"
    },
    {
     "data": {
      "text/plain": "<Figure size 432x288 with 1 Axes>",
      "image/png": "[encoded data removed]"
     },
     "metadata": {
      "needs_background": "light"
     },
     "output_type": "display_data"
    }
   ],
   "source": [
    "from sklearn import neighbors\n",
    "\n",
    "# load the digit dataset\n",
    "dataSet = datasets.load_digits()\n",
    "\n",
    "# Shuffle our input data\n",
    "randomState=24 # change the state with the numeric parts of your matrikelnummer; if you are in a group, use the sume of the numeric parts\n",
    "data, target = shuffle(dataSet.data, dataSet.target, random_state=randomState)\n",
    "\n",
    "testvalues = range(1,50)\n",
    "\n",
    "# Prepare dataframe for results\n",
    "knn_results_numbers = pd.DataFrame(columns=['accuracy','precision','time training', 'time testing'], index=testvalues)\n",
    "\n",
    "# Prepare a train/test set split\n",
    "# split 2/3 1/3 into training & test set\n",
    "# We use the random number generator state +1; this will influence how our data is split\n",
    "X_train, X_test, y_train, y_test = train_test_split(data, target, test_size=0.33, random_state=(randomState+1))\n",
    "\n",
    "# parameters for k-NN\n",
    "n_neighbors = testvalues\n",
    "\n",
    "for n in n_neighbors:\n",
    "    # train the k-NN\n",
    "    classifier = neighbors.KNeighborsClassifier(n)\n",
    "    start_time_train = time.time()\n",
    "    classifier.fit(X_train, y_train)\n",
    "    end_time_train = time.time()\n",
    "\n",
    "    # predict the test set on our trained classifier\n",
    "    start_time_test = time.time()\n",
    "    y_test_predicted = classifier.predict(X_test)\n",
    "    end_time_test = time.time()\n",
    "\n",
    "    # Compute metrics\n",
    "    acc=metrics.accuracy_score(y_test, y_test_predicted)\n",
    "    precision=metrics.precision_score(y_test, y_test_predicted, average=\"micro\")\n",
    "\n",
    "    knn_results_numbers.loc[n] = pd.Series({\n",
    "        'accuracy':acc,\n",
    "        'precision':precision,\n",
    "        'time training':end_time_train-start_time_train,\n",
    "        'time testing':end_time_test-start_time_test\n",
    "    })\n",
    "\n",
    "display(knn_results_numbers)\n",
    "knn_results_numbers[['accuracy','precision']].plot.line()"
   ],
   "metadata": {
    "collapsed": false,
    "pycharm": {
     "name": "#%%\n"
    }
   }
  },
  {
   "cell_type": "markdown",
   "source": [
    "## Naive Bayes\n",
    "\n",
    "### Iris"
   ],
   "metadata": {
    "collapsed": false
   }
  },
  {
   "cell_type": "code",
   "execution_count": 108,
   "outputs": [
    {
     "data": {
      "text/plain": "  accuracy precision time training time testing\n1      0.9       0.9   0.000996828            0",
      "text/html": "<div>\n<style scoped>\n    .dataframe tbody tr th:only-of-type {\n        vertical-align: middle;\n    }\n\n    .dataframe tbody tr th {\n        vertical-align: top;\n    }\n\n    .dataframe thead th {\n        text-align: right;\n    }\n</style>\n<table border=\"1\" class=\"dataframe\">\n  <thead>\n    <tr style=\"text-align: right;\">\n      <th></th>\n      <th>accuracy</th>\n      <th>precision</th>\n      <th>time training</th>\n      <th>time testing</th>\n    </tr>\n  </thead>\n  <tbody>\n    <tr>\n      <th>1</th>\n      <td>0.9</td>\n      <td>0.9</td>\n      <td>0.000996828</td>\n      <td>0</td>\n    </tr>\n  </tbody>\n</table>\n</div>"
     },
     "metadata": {},
     "output_type": "display_data"
    }
   ],
   "source": [
    "from sklearn import naive_bayes\n",
    "\n",
    "# load the Iris dataset\n",
    "dataSet = datasets.load_iris()\n",
    "\n",
    "# Shuffle our input data\n",
    "randomState=24  # change the state with the numeric parts of your matrikelnummer; if you are in a group, use the sume of the numeric parts\n",
    "                # se19m024\n",
    "data, target = shuffle(dataSet.data, dataSet.target, random_state=randomState)\n",
    "\n",
    "# Prepare dataframe for results\n",
    "bayes_results_iris = pd.DataFrame(columns=['accuracy','precision','time training', 'time testing'], index=[1])\n",
    "\n",
    "# Prepare a train/test set split\n",
    "# split 2/3 1/3 into training & test set\n",
    "# We use the random number generator state +1; this will influence how our data is split\n",
    "X_train, X_test, y_train, y_test = train_test_split(data, target, test_size=0.33, random_state=(randomState+1))\n",
    "\n",
    "classifier = naive_bayes.GaussianNB()\n",
    "start_time_train = time.time()\n",
    "classifier.fit(X_train, y_train)\n",
    "end_time_train = time.time()\n",
    "\n",
    "# predict the test set on our trained classifier\n",
    "start_time_test = time.time()\n",
    "y_test_predicted = classifier.predict(X_test)\n",
    "end_time_test = time.time()\n",
    "\n",
    "# Compute metrics\n",
    "acc=metrics.accuracy_score(y_test, y_test_predicted)\n",
    "precision=metrics.precision_score(y_test, y_test_predicted, average=\"micro\")\n",
    "\n",
    "bayes_results_iris.loc[1] = pd.Series({\n",
    "    'accuracy':acc,\n",
    "    'precision':precision,\n",
    "    'time training':end_time_train-start_time_train,\n",
    "    'time testing':end_time_test-start_time_test\n",
    "})\n",
    "\n",
    "display(bayes_results_iris)"
   ],
   "metadata": {
    "collapsed": false,
    "pycharm": {
     "name": "#%%\n"
    }
   }
  },
  {
   "cell_type": "markdown",
   "source": [
    "### Digits\n"
   ],
   "metadata": {
    "collapsed": false,
    "pycharm": {
     "name": "#%% md\n"
    }
   }
  },
  {
   "cell_type": "code",
   "execution_count": 109,
   "outputs": [
    {
     "data": {
      "text/plain": "   accuracy precision time training time testing\n1  0.833333  0.833333    0.00403309   0.00195098",
      "text/html": "<div>\n<style scoped>\n    .dataframe tbody tr th:only-of-type {\n        vertical-align: middle;\n    }\n\n    .dataframe tbody tr th {\n        vertical-align: top;\n    }\n\n    .dataframe thead th {\n        text-align: right;\n    }\n</style>\n<table border=\"1\" class=\"dataframe\">\n  <thead>\n    <tr style=\"text-align: right;\">\n      <th></th>\n      <th>accuracy</th>\n      <th>precision</th>\n      <th>time training</th>\n      <th>time testing</th>\n    </tr>\n  </thead>\n  <tbody>\n    <tr>\n      <th>1</th>\n      <td>0.833333</td>\n      <td>0.833333</td>\n      <td>0.00403309</td>\n      <td>0.00195098</td>\n    </tr>\n  </tbody>\n</table>\n</div>"
     },
     "metadata": {},
     "output_type": "display_data"
    }
   ],
   "source": [
    "from sklearn import naive_bayes\n",
    "\n",
    "# load the digit dataset\n",
    "dataSet = datasets.load_digits()\n",
    "\n",
    "# Shuffle our input data\n",
    "randomState=24  # change the state with the numeric parts of your matrikelnummer; if you are in a group, use the sume of the numeric parts\n",
    "                # se19m024\n",
    "data, target = shuffle(dataSet.data, dataSet.target, random_state=randomState)\n",
    "\n",
    "# Prepare dataframe for results\n",
    "bayes_results_digits = pd.DataFrame(columns=['accuracy','precision','time training', 'time testing'], index=[1])\n",
    "\n",
    "# Prepare a train/test set split\n",
    "# split 2/3 1/3 into training & test set\n",
    "# We use the random number generator state +1; this will influence how our data is split\n",
    "X_train, X_test, y_train, y_test = train_test_split(data, target, test_size=0.33, random_state=(randomState+1))\n",
    "\n",
    "classifier = naive_bayes.GaussianNB()\n",
    "start_time_train = time.time()\n",
    "classifier.fit(X_train, y_train)\n",
    "end_time_train = time.time()\n",
    "\n",
    "# predict the test set on our trained classifier\n",
    "start_time_test = time.time()\n",
    "y_test_predicted = classifier.predict(X_test)\n",
    "end_time_test = time.time()\n",
    "\n",
    "# Compute metrics\n",
    "acc=metrics.accuracy_score(y_test, y_test_predicted)\n",
    "precision=metrics.precision_score(y_test, y_test_predicted, average=\"micro\")\n",
    "\n",
    "bayes_results_digits.loc[1] = pd.Series({\n",
    "    'accuracy':acc,\n",
    "    'precision':precision,\n",
    "    'time training':end_time_train-start_time_train,\n",
    "    'time testing':end_time_test-start_time_test\n",
    "})\n",
    "\n",
    "display(bayes_results_digits)"
   ],
   "metadata": {
    "collapsed": false,
    "pycharm": {
     "name": "#%%\n"
    }
   }
  },
  {
   "cell_type": "markdown",
   "source": [
    "## Perceptron\n",
    "\n",
    "### Iris"
   ],
   "metadata": {
    "collapsed": false
   }
  },
  {
   "cell_type": "code",
   "execution_count": 110,
   "outputs": [
    {
     "data": {
      "text/plain": "  accuracy precision time training time testing\n1     0.34      0.34     0.0029912            0",
      "text/html": "<div>\n<style scoped>\n    .dataframe tbody tr th:only-of-type {\n        vertical-align: middle;\n    }\n\n    .dataframe tbody tr th {\n        vertical-align: top;\n    }\n\n    .dataframe thead th {\n        text-align: right;\n    }\n</style>\n<table border=\"1\" class=\"dataframe\">\n  <thead>\n    <tr style=\"text-align: right;\">\n      <th></th>\n      <th>accuracy</th>\n      <th>precision</th>\n      <th>time training</th>\n      <th>time testing</th>\n    </tr>\n  </thead>\n  <tbody>\n    <tr>\n      <th>1</th>\n      <td>0.34</td>\n      <td>0.34</td>\n      <td>0.0029912</td>\n      <td>0</td>\n    </tr>\n  </tbody>\n</table>\n</div>"
     },
     "metadata": {},
     "output_type": "display_data"
    }
   ],
   "source": [
    "from sklearn import linear_model\n",
    "\n",
    "# load the Iris dataset\n",
    "dataSet = datasets.load_iris()\n",
    "\n",
    "# Shuffle our input data\n",
    "randomState=24  # change the state with the numeric parts of your matrikelnummer; if you are in a group, use the sume of the numeric parts\n",
    "                # se19m024\n",
    "data, target = shuffle(dataSet.data, dataSet.target, random_state=randomState)\n",
    "\n",
    "# Prepare dataframe for results\n",
    "perceptron_results_iris = pd.DataFrame(columns=['accuracy','precision','time training', 'time testing'], index=[1])\n",
    "\n",
    "# Prepare a train/test set split\n",
    "# split 2/3 1/3 into training & test set\n",
    "# We use the random number generator state +1; this will influence how our data is split\n",
    "X_train, X_test, y_train, y_test = train_test_split(data, target, test_size=0.33, random_state=(randomState+1))\n",
    "\n",
    "classifier = linear_model.Perceptron()\n",
    "classifier.random_state = randomState\n",
    "start_time_train = time.time()\n",
    "classifier.fit(X_train, y_train)\n",
    "end_time_train = time.time()\n",
    "\n",
    "# predict the test set on our trained classifier\n",
    "start_time_test = time.time()\n",
    "y_test_predicted = classifier.predict(X_test)\n",
    "end_time_test = time.time()\n",
    "\n",
    "# Compute metrics\n",
    "acc=metrics.accuracy_score(y_test, y_test_predicted)\n",
    "precision=metrics.precision_score(y_test, y_test_predicted, average=\"micro\")\n",
    "\n",
    "perceptron_results_iris.loc[1] = pd.Series({\n",
    "    'accuracy':acc,\n",
    "    'precision':precision,\n",
    "    'time training':end_time_train-start_time_train,\n",
    "    'time testing':end_time_test-start_time_test\n",
    "})\n",
    "\n",
    "display(perceptron_results_iris)"
   ],
   "metadata": {
    "collapsed": false,
    "pycharm": {
     "name": "#%%\n"
    }
   }
  },
  {
   "cell_type": "markdown",
   "source": [
    "### Digits"
   ],
   "metadata": {
    "collapsed": false
   }
  },
  {
   "cell_type": "code",
   "execution_count": 111,
   "outputs": [
    {
     "data": {
      "text/plain": "   accuracy precision time training time testing\n1  0.939394  0.939394     0.0289218   0.00099802",
      "text/html": "<div>\n<style scoped>\n    .dataframe tbody tr th:only-of-type {\n        vertical-align: middle;\n    }\n\n    .dataframe tbody tr th {\n        vertical-align: top;\n    }\n\n    .dataframe thead th {\n        text-align: right;\n    }\n</style>\n<table border=\"1\" class=\"dataframe\">\n  <thead>\n    <tr style=\"text-align: right;\">\n      <th></th>\n      <th>accuracy</th>\n      <th>precision</th>\n      <th>time training</th>\n      <th>time testing</th>\n    </tr>\n  </thead>\n  <tbody>\n    <tr>\n      <th>1</th>\n      <td>0.939394</td>\n      <td>0.939394</td>\n      <td>0.0289218</td>\n      <td>0.00099802</td>\n    </tr>\n  </tbody>\n</table>\n</div>"
     },
     "metadata": {},
     "output_type": "display_data"
    }
   ],
   "source": [
    "from sklearn import linear_model\n",
    "\n",
    "# load the digit dataset\n",
    "dataSet = datasets.load_digits()\n",
    "\n",
    "# Shuffle our input data\n",
    "randomState=24  # change the state with the numeric parts of your matrikelnummer; if you are in a group, use the sume of the numeric parts\n",
    "                # se19m024\n",
    "data, target = shuffle(dataSet.data, dataSet.target, random_state=randomState)\n",
    "\n",
    "# Prepare dataframe for results\n",
    "perceptron_results_digits = pd.DataFrame(columns=['accuracy','precision','time training', 'time testing'], index=[1])\n",
    "\n",
    "# Prepare a train/test set split\n",
    "# split 2/3 1/3 into training & test set\n",
    "# We use the random number generator state +1; this will influence how our data is split\n",
    "X_train, X_test, y_train, y_test = train_test_split(data, target, test_size=0.33, random_state=(randomState+1))\n",
    "\n",
    "classifier = linear_model.Perceptron()\n",
    "classifier.random_state = randomState\n",
    "start_time_train = time.time()\n",
    "classifier.fit(X_train, y_train)\n",
    "end_time_train = time.time()\n",
    "\n",
    "# predict the test set on our trained classifier\n",
    "start_time_test = time.time()\n",
    "y_test_predicted = classifier.predict(X_test)\n",
    "end_time_test = time.time()\n",
    "\n",
    "# Compute metrics\n",
    "acc=metrics.accuracy_score(y_test, y_test_predicted)\n",
    "precision=metrics.precision_score(y_test, y_test_predicted, average=\"micro\")\n",
    "\n",
    "perceptron_results_digits.loc[1] = pd.Series({\n",
    "    'accuracy':acc,\n",
    "    'precision':precision,\n",
    "    'time training':end_time_train-start_time_train,\n",
    "    'time testing':end_time_test-start_time_test\n",
    "})\n",
    "\n",
    "display(perceptron_results_digits)"
   ],
   "metadata": {
    "collapsed": false,
    "pycharm": {
     "name": "#%%\n"
    }
   }
  },
  {
   "cell_type": "markdown",
   "source": [
    "## Decision Tree\n",
    "\n",
    "### Iris"
   ],
   "metadata": {
    "collapsed": false
   }
  },
  {
   "cell_type": "code",
   "execution_count": 112,
   "outputs": [
    {
     "data": {
      "text/plain": "  accuracy precision time training time testing\n1     0.58      0.58             0  0.000998259\n2      0.9       0.9   0.000997305            0\n3     0.92      0.92   0.000998497            0\n4     0.92      0.92    0.00097394            0\n5     0.92      0.92   0.000971079            0\n6     0.92      0.92             0            0\n7     0.92      0.92   0.000997066            0\n8     0.92      0.92             0            0\n9     0.92      0.92             0            0",
      "text/html": "<div>\n<style scoped>\n    .dataframe tbody tr th:only-of-type {\n        vertical-align: middle;\n    }\n\n    .dataframe tbody tr th {\n        vertical-align: top;\n    }\n\n    .dataframe thead th {\n        text-align: right;\n    }\n</style>\n<table border=\"1\" class=\"dataframe\">\n  <thead>\n    <tr style=\"text-align: right;\">\n      <th></th>\n      <th>accuracy</th>\n      <th>precision</th>\n      <th>time training</th>\n      <th>time testing</th>\n    </tr>\n  </thead>\n  <tbody>\n    <tr>\n      <th>1</th>\n      <td>0.58</td>\n      <td>0.58</td>\n      <td>0</td>\n      <td>0.000998259</td>\n    </tr>\n    <tr>\n      <th>2</th>\n      <td>0.9</td>\n      <td>0.9</td>\n      <td>0.000997305</td>\n      <td>0</td>\n    </tr>\n    <tr>\n      <th>3</th>\n      <td>0.92</td>\n      <td>0.92</td>\n      <td>0.000998497</td>\n      <td>0</td>\n    </tr>\n    <tr>\n      <th>4</th>\n      <td>0.92</td>\n      <td>0.92</td>\n      <td>0.00097394</td>\n      <td>0</td>\n    </tr>\n    <tr>\n      <th>5</th>\n      <td>0.92</td>\n      <td>0.92</td>\n      <td>0.000971079</td>\n      <td>0</td>\n    </tr>\n    <tr>\n      <th>6</th>\n      <td>0.92</td>\n      <td>0.92</td>\n      <td>0</td>\n      <td>0</td>\n    </tr>\n    <tr>\n      <th>7</th>\n      <td>0.92</td>\n      <td>0.92</td>\n      <td>0.000997066</td>\n      <td>0</td>\n    </tr>\n    <tr>\n      <th>8</th>\n      <td>0.92</td>\n      <td>0.92</td>\n      <td>0</td>\n      <td>0</td>\n    </tr>\n    <tr>\n      <th>9</th>\n      <td>0.92</td>\n      <td>0.92</td>\n      <td>0</td>\n      <td>0</td>\n    </tr>\n  </tbody>\n</table>\n</div>"
     },
     "metadata": {},
     "output_type": "display_data"
    },
    {
     "data": {
      "text/plain": "<matplotlib.axes._subplots.AxesSubplot at 0x13e6de30>"
     },
     "execution_count": 112,
     "metadata": {},
     "output_type": "execute_result"
    },
    {
     "data": {
      "text/plain": "<Figure size 432x288 with 1 Axes>",
      "image/png": "[encoded data removed]"
     },
     "metadata": {
      "needs_background": "light"
     },
     "output_type": "display_data"
    },
    {
     "data": {
      "text/plain": "<Figure size 432x288 with 1 Axes>",
      "image/png": "[encoded data removed]"
     },
     "metadata": {
      "needs_background": "light"
     },
     "output_type": "display_data"
    }
   ],
   "source": [
    "from sklearn import tree\n",
    "\n",
    "# load the Iris dataset\n",
    "dataSet = datasets.load_iris()\n",
    "\n",
    "# Shuffle our input data\n",
    "randomState=24  # change the state with the numeric parts of your matrikelnummer; if you are in a group, use the sume of the numeric parts\n",
    "                # se19m024\n",
    "\n",
    "# max depth values\n",
    "max_depth_values = range(1,10)\n",
    "\n",
    "data, target = shuffle(dataSet.data, dataSet.target, random_state=randomState)\n",
    "\n",
    "# Prepare dataframe for results\n",
    "decision_tree_results_iris = pd.DataFrame(columns=['accuracy','precision','time training', 'time testing'], index=max_depth_values)\n",
    "\n",
    "\n",
    "# Prepare a train/test set split\n",
    "# split 2/3 1/3 into training & test set\n",
    "# We use the random number generator state +1; this will influence how our data is split\n",
    "X_train, X_test, y_train, y_test = train_test_split(data, target, test_size=0.33, random_state=(randomState+1))\n",
    "\n",
    "for max_depth in max_depth_values:\n",
    "    classifier = tree.DecisionTreeClassifier(criterion='gini', max_depth=max_depth)\n",
    "    classifier.random_state = randomState\n",
    "    start_time_train = time.time()\n",
    "    classifier.fit(X_train, y_train)\n",
    "    end_time_train = time.time()\n",
    "\n",
    "    # predict the test set on our trained classifier\n",
    "    start_time_test = time.time()\n",
    "    y_test_predicted = classifier.predict(X_test)\n",
    "    end_time_test = time.time()\n",
    "\n",
    "    # Compute metrics\n",
    "    acc=metrics.accuracy_score(y_test, y_test_predicted)\n",
    "    precision=metrics.precision_score(y_test, y_test_predicted, average=\"micro\")\n",
    "\n",
    "    tree.plot_tree(classifier.fit(dataSet.data, dataSet.target))\n",
    "\n",
    "    decision_tree_results_iris.loc[max_depth] = pd.Series({\n",
    "        'accuracy':acc,\n",
    "        'precision':precision,\n",
    "        'time training':end_time_train-start_time_train,\n",
    "        'time testing':end_time_test-start_time_test\n",
    "    })\n",
    "\n",
    "display(decision_tree_results_iris)\n",
    "decision_tree_results_iris[['accuracy','precision']].plot.line()"
   ],
   "metadata": {
    "collapsed": false,
    "pycharm": {
     "name": "#%%\n"
    }
   }
  },
  {
   "cell_type": "markdown",
   "source": [
    "### Digits"
   ],
   "metadata": {
    "collapsed": false
   }
  },
  {
   "cell_type": "code",
   "execution_count": 113,
   "outputs": [
    {
     "data": {
      "text/plain": "    accuracy precision time training time testing\n1   0.183502  0.183502    0.00299239            0\n2   0.294613  0.294613    0.00498629            0\n3   0.462963  0.462963    0.00498629            0\n4   0.550505  0.550505    0.00794768            0\n5   0.664983  0.664983    0.00897598            0\n6   0.750842  0.750842      0.141621   0.00099802\n7   0.801347  0.801347     0.0109384            0\n8   0.826599  0.826599     0.0119624            0\n9   0.838384  0.838384     0.0149591            0\n10  0.851852  0.851852     0.0169544            0\n11  0.856902  0.856902     0.0139923  0.000994921\n12  0.855219  0.855219     0.0139618            0\n13  0.851852  0.851852     0.0129941            0\n14  0.853535  0.853535     0.0149603            0\n15  0.853535  0.853535     0.0149589            0\n16  0.853535  0.853535     0.0139625            0\n17  0.853535  0.853535     0.0139627            0\n18  0.853535  0.853535     0.0129309  0.000997782\n19  0.853535  0.853535     0.0149593            0",
      "text/html": "<div>\n<style scoped>\n    .dataframe tbody tr th:only-of-type {\n        vertical-align: middle;\n    }\n\n    .dataframe tbody tr th {\n        vertical-align: top;\n    }\n\n    .dataframe thead th {\n        text-align: right;\n    }\n</style>\n<table border=\"1\" class=\"dataframe\">\n  <thead>\n    <tr style=\"text-align: right;\">\n      <th></th>\n      <th>accuracy</th>\n      <th>precision</th>\n      <th>time training</th>\n      <th>time testing</th>\n    </tr>\n  </thead>\n  <tbody>\n    <tr>\n      <th>1</th>\n      <td>0.183502</td>\n      <td>0.183502</td>\n      <td>0.00299239</td>\n      <td>0</td>\n    </tr>\n    <tr>\n      <th>2</th>\n      <td>0.294613</td>\n      <td>0.294613</td>\n      <td>0.00498629</td>\n      <td>0</td>\n    </tr>\n    <tr>\n      <th>3</th>\n      <td>0.462963</td>\n      <td>0.462963</td>\n      <td>0.00498629</td>\n      <td>0</td>\n    </tr>\n    <tr>\n      <th>4</th>\n      <td>0.550505</td>\n      <td>0.550505</td>\n      <td>0.00794768</td>\n      <td>0</td>\n    </tr>\n    <tr>\n      <th>5</th>\n      <td>0.664983</td>\n      <td>0.664983</td>\n      <td>0.00897598</td>\n      <td>0</td>\n    </tr>\n    <tr>\n      <th>6</th>\n      <td>0.750842</td>\n      <td>0.750842</td>\n      <td>0.141621</td>\n      <td>0.00099802</td>\n    </tr>\n    <tr>\n      <th>7</th>\n      <td>0.801347</td>\n      <td>0.801347</td>\n      <td>0.0109384</td>\n      <td>0</td>\n    </tr>\n    <tr>\n      <th>8</th>\n      <td>0.826599</td>\n      <td>0.826599</td>\n      <td>0.0119624</td>\n      <td>0</td>\n    </tr>\n    <tr>\n      <th>9</th>\n      <td>0.838384</td>\n      <td>0.838384</td>\n      <td>0.0149591</td>\n      <td>0</td>\n    </tr>\n    <tr>\n      <th>10</th>\n      <td>0.851852</td>\n      <td>0.851852</td>\n      <td>0.0169544</td>\n      <td>0</td>\n    </tr>\n    <tr>\n      <th>11</th>\n      <td>0.856902</td>\n      <td>0.856902</td>\n      <td>0.0139923</td>\n      <td>0.000994921</td>\n    </tr>\n    <tr>\n      <th>12</th>\n      <td>0.855219</td>\n      <td>0.855219</td>\n      <td>0.0139618</td>\n      <td>0</td>\n    </tr>\n    <tr>\n      <th>13</th>\n      <td>0.851852</td>\n      <td>0.851852</td>\n      <td>0.0129941</td>\n      <td>0</td>\n    </tr>\n    <tr>\n      <th>14</th>\n      <td>0.853535</td>\n      <td>0.853535</td>\n      <td>0.0149603</td>\n      <td>0</td>\n    </tr>\n    <tr>\n      <th>15</th>\n      <td>0.853535</td>\n      <td>0.853535</td>\n      <td>0.0149589</td>\n      <td>0</td>\n    </tr>\n    <tr>\n      <th>16</th>\n      <td>0.853535</td>\n      <td>0.853535</td>\n      <td>0.0139625</td>\n      <td>0</td>\n    </tr>\n    <tr>\n      <th>17</th>\n      <td>0.853535</td>\n      <td>0.853535</td>\n      <td>0.0139627</td>\n      <td>0</td>\n    </tr>\n    <tr>\n      <th>18</th>\n      <td>0.853535</td>\n      <td>0.853535</td>\n      <td>0.0129309</td>\n      <td>0.000997782</td>\n    </tr>\n    <tr>\n      <th>19</th>\n      <td>0.853535</td>\n      <td>0.853535</td>\n      <td>0.0149593</td>\n      <td>0</td>\n    </tr>\n  </tbody>\n</table>\n</div>"
     },
     "metadata": {},
     "output_type": "display_data"
    },
    {
     "data": {
      "text/plain": "<matplotlib.axes._subplots.AxesSubplot at 0x10dabdb0>"
     },
     "execution_count": 113,
     "metadata": {},
     "output_type": "execute_result"
    },
    {
     "data": {
      "text/plain": "<Figure size 432x288 with 1 Axes>",
      "image/png": "[encoded data removed]"
     },
     "metadata": {
      "needs_background": "light"
     },
     "output_type": "display_data"
    },
    {
     "data": {
      "text/plain": "<Figure size 432x288 with 1 Axes>",
      "image/png": "[encoded data removed]"
     },
     "metadata": {
      "needs_background": "light"
     },
     "output_type": "display_data"
    }
   ],
   "source": [
    "from sklearn import tree\n",
    "\n",
    "# load the digit dataset\n",
    "dataSet = datasets.load_digits()\n",
    "\n",
    "# Shuffle our input data\n",
    "randomState=24  # change the state with the numeric parts of your matrikelnummer; if you are in a group, use the sume of the numeric parts\n",
    "                # se19m024\n",
    "\n",
    "# max depth values\n",
    "max_depth_values = range(1,20)\n",
    "\n",
    "data, target = shuffle(dataSet.data, dataSet.target, random_state=randomState)\n",
    "\n",
    "# Prepare dataframe for results\n",
    "decision_tree_results_digits = pd.DataFrame(columns=['accuracy','precision','time training', 'time testing'], index=max_depth_values)\n",
    "\n",
    "\n",
    "# Prepare a train/test set split\n",
    "# split 2/3 1/3 into training & test set\n",
    "# We use the random number generator state +1; this will influence how our data is split\n",
    "X_train, X_test, y_train, y_test = train_test_split(data, target, test_size=0.33, random_state=(randomState+1))\n",
    "\n",
    "for max_depth in max_depth_values:\n",
    "    classifier = tree.DecisionTreeClassifier(criterion='gini', max_depth=max_depth)\n",
    "    classifier.random_state = randomState\n",
    "    start_time_train = time.time()\n",
    "    classifier.fit(X_train, y_train)\n",
    "    end_time_train = time.time()\n",
    "\n",
    "    # predict the test set on our trained classifier\n",
    "    start_time_test = time.time()\n",
    "    y_test_predicted = classifier.predict(X_test)\n",
    "    end_time_test = time.time()\n",
    "\n",
    "    # Compute metrics\n",
    "    acc=metrics.accuracy_score(y_test, y_test_predicted)\n",
    "    precision=metrics.precision_score(y_test, y_test_predicted, average=\"micro\")\n",
    "\n",
    "    tree.plot_tree(classifier.fit(dataSet.data, dataSet.target))\n",
    "\n",
    "    decision_tree_results_digits.loc[max_depth] = pd.Series({\n",
    "        'accuracy':acc,\n",
    "        'precision':precision,\n",
    "        'time training':end_time_train-start_time_train,\n",
    "        'time testing':end_time_test-start_time_test\n",
    "    })\n",
    "\n",
    "display(decision_tree_results_digits)\n",
    "decision_tree_results_digits[['accuracy','precision']].plot.line()"
   ],
   "metadata": {
    "collapsed": false,
    "pycharm": {
     "name": "#%%\n"
    }
   }
  },
  {
   "cell_type": "markdown",
   "source": [
    "# Example Code"
   ],
   "metadata": {
    "collapsed": false
   }
  },
  {
   "cell_type": "code",
   "source": [
    "# load the Iris dataset\n",
    "dataSet = datasets.load_iris()\n",
    "\n",
    "\n",
    "# Shuffle our input data\n",
    "randomState=24 # change the state with the numeric parts of your matrikelnummer; if you are in a group, use the sume of the numeric parts\n",
    "data, target = shuffle(dataSet.data, dataSet.target, random_state=randomState)\n",
    "\n",
    "# Prepare a train/test set split\n",
    "# split 2/3 1/3 into training & test set\n",
    "# We use the random number generator state +1; this will influence how our data is split\n",
    "X_train, X_test, y_train, y_test = train_test_split(data, target, test_size=0.33, random_state=(randomState+1))\n",
    "\n",
    "# parameters for k-NN\n",
    "n_neighbors = 15\n",
    "\n",
    "# train the k-NN\n",
    "classifier = neighbors.KNeighborsClassifier(n_neighbors)\n",
    "start_time_train = time.time()\n",
    "classifier.fit(X_train, y_train)\n",
    "end_time_train = time.time()\n",
    "\n",
    "# predict the test set on our trained classifier\n",
    "start_time_test = time.time()\n",
    "y_test_predicted = classifier.predict(X_test)\n",
    "end_time_test = time.time()\n",
    "\n",
    "# Compute metrics\n",
    "acc=metrics.accuracy_score(y_test, y_test_predicted)\n",
    "precision=metrics.precision_score(y_test, y_test_predicted, average=\"micro\")\n",
    "\n",
    "print(\"accuracy: \" + str(acc))\n",
    "print(\"precision: \" + str(precision))\n",
    "print(\"time training: \" + str(end_time_train-start_time_train) + \" seconds\")\n",
    "print(\"time training: \" + str(end_time_test-start_time_test) + \" seconds\")\n"
   ],
   "metadata": {
    "collapsed": false,
    "pycharm": {
     "name": "#%%\n"
    }
   },
   "execution_count": 101,
   "outputs": [
    {
     "name": "stdout",
     "output_type": "stream",
     "text": [
      "accuracy: 0.92\n",
      "precision: 0.92\n",
      "time training: 0.0009975433349609375 seconds\n",
      "time training: 0.0019948482513427734 seconds\n"
     ]
    }
   ]
  }
 ],
 "metadata": {
  "kernelspec": {
   "display_name": "Python 3",
   "language": "python",
   "name": "python3"
  },
  "language_info": {
   "codemirror_mode": {
    "name": "ipython",
    "version": 2
   },
   "file_extension": ".py",
   "mimetype": "text/x-python",
   "name": "python",
   "nbconvert_exporter": "python",
   "pygments_lexer": "ipython2",
   "version": "2.7.6"
  }
 },
 "nbformat": 4,
 "nbformat_minor": 0
}