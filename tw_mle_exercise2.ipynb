{
 "cells": [
  {
   "cell_type": "markdown",
   "metadata": {
    "collapsed": true,
    "pycharm": {
     "name": "#%% md\n"
    }
   },
   "source": [
    "# MLE - Exercise 2 - Comparative Experimentation\n",
    "## Andreas Kocman (se19m024)\n",
    "\n",
    "## Assignment\n",
    "In this exercise, you shall experiment with a number of (simple) algorithms on several datasets. The aim is to get a feeling how well each of these algorithms works, and whether there are differences depending on the dataset.\n",
    "\n",
    "The datasets are\n",
    "* [Iris](https://archive.ics.uci.edu/ml/datasets/Iris), for Python, use http://scikit-learn.org/stable/modules/generated/sklearn.datasets.load_iris.html)\n",
    "* [Handwritten digits](https://archive.ics.uci.edu/ml/datasets/Optical+Recognition+of+Handwritten+Digits), of which we only use the test set of 1797 instances; for Python, use http://scikit-learn.org/stable/modules/generated/sklearn.datasets.load_digits.html)\n",
    "* If you are a group of three (see below): [Breast Cancer dataset](https://archive.ics.uci.edu/ml/datasets/Breast+Cancer+Wisconsin+(Diagnostic)); skip the ID field; in Python: http://scikit-learn.org/stable/modules/generated/sklearn.datasets.load_breast_cancer.html)\n",
    "\n",
    "The classifiers you shall use are\n",
    "* k-NN (with 3 different values for k)\n",
    "* Naive Bayes\n",
    "* Perceptron, and\n",
    "* Decision Trees with 3 different parameter settings (e.g. some pre-pruning setting, different split criterion, ...)\n",
    "\n",
    "For each dataset, you shall train and evaluate each classifier (with parameter variations), and then compute several evaluation metrics\n",
    "* Effectiveness: Accuracy, and 1 more of your choice (precision, recall, F1, ...\n",
    "* Efficiency: runtime for training & testing\n",
    "* As evaluation set splitting technique, you shall use once the holdout method with 2/3 training and the rest for testing, and once cross validation with 5 folds.\n",
    "\n",
    "You shall present these results in a tabular form, with one table for each dataset & splitting combination approach.\n",
    "\n",
    "Iris/5-folds | Accuracy | Precision| Training time | Testing time\n",
    "---|---|---|---|---|---\n",
    "k-NN (3-NN) | .85 | .82 | 0.1 sec | 27 sec\n",
    "Naive Bayes | .72 | .82 | 1 sec | 2 sec\n",
    "Decision Tree | .92 | .76 | 5 sec | 2 sec\n",
    "... | ... | ...| ... | ...\n",
    "\n",
    "Then describe the results, and analyse e.g.:\n",
    "* Which classifiers work best?\n",
    "* Are there differences between the datasets?\n",
    "* Are the differences in the efficiency measurements?\n",
    "* How is the runtime changing with the different data sets?\n",
    "* ...\n",
    "\n",
    "You can solve this exercise alone, or in a group of two students. If you form a group, you need to extend your scope, by\n",
    "* Adding a third dataset, namely breast cancer wisconsin\n",
    "* For k-NN, using 5 different values for k instead of 3, and use both weighted and uniform distance (i.e. a total of 10 combinations); for Decision Trees, also add 3 more parameter variations\n",
    "* Adding a third efficiency evaluation metric\n",
    "\n",
    "## Deliverables\n",
    "Your submission shall contain\n",
    "* The textual report\n",
    "* All code samples and\n",
    "* All data sets (if not already included in your software package, e.g. Python)"
   ]
  },
  {
   "cell_type": "markdown",
   "source": [
    "## Sources used\n",
    "* Scikit documentation\n",
    "* https://simonhessner.de/why-are-precision-recall-and-f1-score-equal-when-using-micro-averaging-in-a-multi-class-problem/"
   ],
   "metadata": {
    "collapsed": false,
    "pycharm": {
     "name": "#%% md\n"
    }
   }
  },
  {
   "cell_type": "code",
   "execution_count": 1,
   "outputs": [],
   "source": [
    "#General Imports\n",
    "from sklearn.model_selection import train_test_split\n",
    "from sklearn import datasets\n",
    "from sklearn import metrics\n",
    "from sklearn.utils import shuffle\n",
    "from sklearn.model_selection import cross_val_score\n",
    "import pandas as pd\n",
    "import time\n",
    "\n",
    "#Data reporting\n",
    "from IPython.display import display\n",
    "\n",
    "#Global variables\n",
    "randomState=24  # change the state with the numeric parts of your matrikelnummer; if you are in a group, use the sume of the numeric parts\n",
    "                # se19m024\n",
    "averagingApproach = 'macro'\n",
    "zero_divisionApproach = 0\n",
    "\n",
    "#Overall report\n",
    "ml_approaches = ['k-NN', 'bayes', 'perceptron', 'decision tree']\n",
    "resultColumns = ['accuracy','precision','recall','time training', 'time testing']\n",
    "overall_results_iris = pd.DataFrame(columns=resultColumns, index=ml_approaches)\n",
    "overall_results_digits = pd.DataFrame(columns=resultColumns, index=ml_approaches)"
   ],
   "metadata": {
    "collapsed": false,
    "pycharm": {
     "name": "#%%\n"
    }
   }
  },
  {
   "cell_type": "markdown",
   "source": [
    "## k-NN\n",
    "\n",
    "### Iris"
   ],
   "metadata": {
    "collapsed": false,
    "pycharm": {
     "name": "#%% md\n"
    }
   }
  },
  {
   "cell_type": "code",
   "execution_count": 2,
   "outputs": [
    {
     "name": "stdout",
     "output_type": "stream",
     "text": [
      "5 Fold Verification with N: 1\n",
      "Accuracy: 0.96 (+/- 0.05)\n",
      "5 Fold Verification with N: 2\n",
      "Accuracy: 0.95 (+/- 0.07)\n",
      "5 Fold Verification with N: 3\n",
      "Accuracy: 0.96 (+/- 0.05)\n",
      "5 Fold Verification with N: 4\n",
      "Accuracy: 0.95 (+/- 0.07)\n",
      "5 Fold Verification with N: 5\n",
      "Accuracy: 0.96 (+/- 0.08)\n",
      "5 Fold Verification with N: 6\n",
      "Accuracy: 0.95 (+/- 0.09)\n",
      "5 Fold Verification with N: 7\n",
      "Accuracy: 0.95 (+/- 0.10)\n",
      "5 Fold Verification with N: 8\n",
      "Accuracy: 0.96 (+/- 0.10)\n",
      "5 Fold Verification with N: 9\n",
      "Accuracy: 0.97 (+/- 0.08)\n",
      "5 Fold Verification with N: 10\n",
      "Accuracy: 0.97 (+/- 0.11)\n",
      "5 Fold Verification with N: 11\n",
      "Accuracy: 0.98 (+/- 0.05)\n",
      "5 Fold Verification with N: 12\n",
      "Accuracy: 0.97 (+/- 0.08)\n",
      "5 Fold Verification with N: 13\n",
      "Accuracy: 0.97 (+/- 0.05)\n",
      "5 Fold Verification with N: 14\n",
      "Accuracy: 0.97 (+/- 0.10)\n",
      "5 Fold Verification with N: 15\n",
      "Accuracy: 0.97 (+/- 0.08)\n",
      "5 Fold Verification with N: 16\n",
      "Accuracy: 0.97 (+/- 0.10)\n",
      "5 Fold Verification with N: 17\n",
      "Accuracy: 0.97 (+/- 0.08)\n",
      "5 Fold Verification with N: 18\n",
      "Accuracy: 0.95 (+/- 0.10)\n",
      "5 Fold Verification with N: 19\n",
      "Accuracy: 0.96 (+/- 0.08)\n",
      "5 Fold Verification with N: 20\n",
      "Accuracy: 0.95 (+/- 0.09)\n",
      "5 Fold Verification with N: 21\n",
      "Accuracy: 0.95 (+/- 0.10)\n",
      "5 Fold Verification with N: 22\n",
      "Accuracy: 0.95 (+/- 0.09)\n",
      "5 Fold Verification with N: 23\n",
      "Accuracy: 0.95 (+/- 0.09)\n",
      "5 Fold Verification with N: 24\n",
      "Accuracy: 0.95 (+/- 0.09)\n",
      "5 Fold Verification with N: 25\n",
      "Accuracy: 0.95 (+/- 0.10)\n",
      "5 Fold Verification with N: 26\n",
      "Accuracy: 0.95 (+/- 0.09)\n",
      "5 Fold Verification with N: 27\n",
      "Accuracy: 0.97 (+/- 0.07)\n",
      "5 Fold Verification with N: 28\n",
      "Accuracy: 0.95 (+/- 0.09)\n",
      "5 Fold Verification with N: 29\n",
      "Accuracy: 0.97 (+/- 0.07)\n",
      "5 Fold Verification with N: 30\n",
      "Accuracy: 0.95 (+/- 0.09)\n",
      "5 Fold Verification with N: 31\n",
      "Accuracy: 0.96 (+/- 0.07)\n",
      "5 Fold Verification with N: 32\n",
      "Accuracy: 0.95 (+/- 0.05)\n",
      "5 Fold Verification with N: 33\n",
      "Accuracy: 0.95 (+/- 0.05)\n",
      "5 Fold Verification with N: 34\n",
      "Accuracy: 0.96 (+/- 0.03)\n",
      "5 Fold Verification with N: 35\n",
      "Accuracy: 0.96 (+/- 0.03)\n",
      "5 Fold Verification with N: 36\n",
      "Accuracy: 0.95 (+/- 0.05)\n",
      "5 Fold Verification with N: 37\n",
      "Accuracy: 0.95 (+/- 0.05)\n",
      "5 Fold Verification with N: 38\n",
      "Accuracy: 0.95 (+/- 0.05)\n",
      "5 Fold Verification with N: 39\n",
      "Accuracy: 0.93 (+/- 0.07)\n",
      "5 Fold Verification with N: 40\n",
      "Accuracy: 0.93 (+/- 0.07)\n",
      "5 Fold Verification with N: 41\n",
      "Accuracy: 0.93 (+/- 0.07)\n",
      "5 Fold Verification with N: 42\n",
      "Accuracy: 0.94 (+/- 0.05)\n",
      "5 Fold Verification with N: 43\n",
      "Accuracy: 0.94 (+/- 0.05)\n",
      "5 Fold Verification with N: 44\n",
      "Accuracy: 0.94 (+/- 0.05)\n",
      "5 Fold Verification with N: 45\n",
      "Accuracy: 0.93 (+/- 0.10)\n",
      "5 Fold Verification with N: 46\n",
      "Accuracy: 0.94 (+/- 0.05)\n",
      "5 Fold Verification with N: 47\n",
      "Accuracy: 0.94 (+/- 0.05)\n",
      "5 Fold Verification with N: 48\n",
      "Accuracy: 0.93 (+/- 0.06)\n",
      "5 Fold Verification with N: 49\n",
      "Accuracy: 0.93 (+/- 0.07)\n",
      "Holdout Result for Iris Dataset and k-NN by Iterating over N values:\n"
     ]
    },
    {
     "data": {
      "text/plain": "   accuracy precision    recall time training time testing\n1       0.9   0.90305  0.912698   0.000997305   0.00199461\n2      0.92  0.925926  0.936508   0.000968218   0.00202489\n3      0.94  0.941176  0.952381             0   0.00196934\n4      0.92  0.925926  0.936508             0   0.00199461\n5      0.96  0.958333  0.968254             0   0.00199389\n6      0.92  0.925926  0.936508   0.000997305   0.00202751\n7      0.96  0.958333  0.968254             0   0.00296092\n8      0.92  0.925926  0.936508             0   0.00300026\n9      0.98  0.977778  0.984127   0.000997543   0.00199366\n10     0.92  0.925926  0.936508   0.000997782    0.0020225\n11     0.92  0.925926  0.936508   0.000971317   0.00199366\n12     0.92  0.925926  0.936508             0   0.00296068\n13     0.96  0.958333  0.968254             0   0.00296068\n14     0.92  0.925926  0.936508             0   0.00200176\n15     0.92  0.925926  0.936508    0.00296474   0.00299191\n16      0.9  0.912281  0.920635             0   0.00199056\n17      0.9  0.912281  0.920635             0   0.00199413\n18     0.88       0.9  0.904762             0   0.00199008\n19      0.9  0.912281  0.920635   0.000997543   0.00202322\n20     0.88       0.9  0.904762   0.000995636   0.00102592\n21     0.88       0.9  0.904762   0.000967979   0.00199437\n22     0.88       0.9  0.904762             0   0.00199533\n23     0.86  0.873904  0.880952             0   0.00295877\n24     0.86  0.888889  0.888889             0   0.00196719\n25     0.88       0.9  0.904762             0   0.00199556\n26     0.88       0.9  0.904762             0    0.0020256\n27     0.88       0.9  0.904762             0   0.00196719\n28     0.86  0.888889  0.888889             0   0.00299311\n29     0.88       0.9  0.904762             0   0.00296474\n30     0.86  0.888889  0.888889             0   0.00299263\n31     0.86  0.888889  0.888889   0.000966072   0.00202203\n32     0.86  0.888889  0.888889   0.000967979   0.00199389\n33     0.86  0.888889  0.888889             0   0.00202155\n34     0.86  0.888889  0.888889   0.000965834     0.003021\n35     0.86  0.888889  0.888889   0.000997305   0.00202179\n36     0.86  0.888889  0.888889             0    0.0019927\n37     0.84  0.861111  0.865079             0   0.00199175\n38     0.84  0.861111  0.865079   0.000968933   0.00202179\n39     0.84  0.861111  0.865079             0   0.00199533\n40     0.84  0.861111  0.865079             0   0.00199723\n41     0.84  0.861111  0.865079             0    0.0029633\n42     0.84  0.861111  0.865079             0   0.00202298\n43     0.84  0.861111  0.865079   0.000966787   0.00202227\n44     0.84  0.861111  0.865079   0.000970364   0.00202346\n45     0.84  0.861111  0.865079             0   0.00201845\n46     0.86  0.888889  0.888889   0.000997305   0.00202227\n47     0.86  0.888889  0.888889             0   0.00199461\n48     0.84  0.878788  0.873016    0.00099802   0.00102425\n49     0.84  0.878788  0.873016             0   0.00299191",
      "text/html": "<div>\n<style scoped>\n    .dataframe tbody tr th:only-of-type {\n        vertical-align: middle;\n    }\n\n    .dataframe tbody tr th {\n        vertical-align: top;\n    }\n\n    .dataframe thead th {\n        text-align: right;\n    }\n</style>\n<table border=\"1\" class=\"dataframe\">\n  <thead>\n    <tr style=\"text-align: right;\">\n      <th></th>\n      <th>accuracy</th>\n      <th>precision</th>\n      <th>recall</th>\n      <th>time training</th>\n      <th>time testing</th>\n    </tr>\n  </thead>\n  <tbody>\n    <tr>\n      <th>1</th>\n      <td>0.9</td>\n      <td>0.90305</td>\n      <td>0.912698</td>\n      <td>0.000997305</td>\n      <td>0.00199461</td>\n    </tr>\n    <tr>\n      <th>2</th>\n      <td>0.92</td>\n      <td>0.925926</td>\n      <td>0.936508</td>\n      <td>0.000968218</td>\n      <td>0.00202489</td>\n    </tr>\n    <tr>\n      <th>3</th>\n      <td>0.94</td>\n      <td>0.941176</td>\n      <td>0.952381</td>\n      <td>0</td>\n      <td>0.00196934</td>\n    </tr>\n    <tr>\n      <th>4</th>\n      <td>0.92</td>\n      <td>0.925926</td>\n      <td>0.936508</td>\n      <td>0</td>\n      <td>0.00199461</td>\n    </tr>\n    <tr>\n      <th>5</th>\n      <td>0.96</td>\n      <td>0.958333</td>\n      <td>0.968254</td>\n      <td>0</td>\n      <td>0.00199389</td>\n    </tr>\n    <tr>\n      <th>6</th>\n      <td>0.92</td>\n      <td>0.925926</td>\n      <td>0.936508</td>\n      <td>0.000997305</td>\n      <td>0.00202751</td>\n    </tr>\n    <tr>\n      <th>7</th>\n      <td>0.96</td>\n      <td>0.958333</td>\n      <td>0.968254</td>\n      <td>0</td>\n      <td>0.00296092</td>\n    </tr>\n    <tr>\n      <th>8</th>\n      <td>0.92</td>\n      <td>0.925926</td>\n      <td>0.936508</td>\n      <td>0</td>\n      <td>0.00300026</td>\n    </tr>\n    <tr>\n      <th>9</th>\n      <td>0.98</td>\n      <td>0.977778</td>\n      <td>0.984127</td>\n      <td>0.000997543</td>\n      <td>0.00199366</td>\n    </tr>\n    <tr>\n      <th>10</th>\n      <td>0.92</td>\n      <td>0.925926</td>\n      <td>0.936508</td>\n      <td>0.000997782</td>\n      <td>0.0020225</td>\n    </tr>\n    <tr>\n      <th>11</th>\n      <td>0.92</td>\n      <td>0.925926</td>\n      <td>0.936508</td>\n      <td>0.000971317</td>\n      <td>0.00199366</td>\n    </tr>\n    <tr>\n      <th>12</th>\n      <td>0.92</td>\n      <td>0.925926</td>\n      <td>0.936508</td>\n      <td>0</td>\n      <td>0.00296068</td>\n    </tr>\n    <tr>\n      <th>13</th>\n      <td>0.96</td>\n      <td>0.958333</td>\n      <td>0.968254</td>\n      <td>0</td>\n      <td>0.00296068</td>\n    </tr>\n    <tr>\n      <th>14</th>\n      <td>0.92</td>\n      <td>0.925926</td>\n      <td>0.936508</td>\n      <td>0</td>\n      <td>0.00200176</td>\n    </tr>\n    <tr>\n      <th>15</th>\n      <td>0.92</td>\n      <td>0.925926</td>\n      <td>0.936508</td>\n      <td>0.00296474</td>\n      <td>0.00299191</td>\n    </tr>\n    <tr>\n      <th>16</th>\n      <td>0.9</td>\n      <td>0.912281</td>\n      <td>0.920635</td>\n      <td>0</td>\n      <td>0.00199056</td>\n    </tr>\n    <tr>\n      <th>17</th>\n      <td>0.9</td>\n      <td>0.912281</td>\n      <td>0.920635</td>\n      <td>0</td>\n      <td>0.00199413</td>\n    </tr>\n    <tr>\n      <th>18</th>\n      <td>0.88</td>\n      <td>0.9</td>\n      <td>0.904762</td>\n      <td>0</td>\n      <td>0.00199008</td>\n    </tr>\n    <tr>\n      <th>19</th>\n      <td>0.9</td>\n      <td>0.912281</td>\n      <td>0.920635</td>\n      <td>0.000997543</td>\n      <td>0.00202322</td>\n    </tr>\n    <tr>\n      <th>20</th>\n      <td>0.88</td>\n      <td>0.9</td>\n      <td>0.904762</td>\n      <td>0.000995636</td>\n      <td>0.00102592</td>\n    </tr>\n    <tr>\n      <th>21</th>\n      <td>0.88</td>\n      <td>0.9</td>\n      <td>0.904762</td>\n      <td>0.000967979</td>\n      <td>0.00199437</td>\n    </tr>\n    <tr>\n      <th>22</th>\n      <td>0.88</td>\n      <td>0.9</td>\n      <td>0.904762</td>\n      <td>0</td>\n      <td>0.00199533</td>\n    </tr>\n    <tr>\n      <th>23</th>\n      <td>0.86</td>\n      <td>0.873904</td>\n      <td>0.880952</td>\n      <td>0</td>\n      <td>0.00295877</td>\n    </tr>\n    <tr>\n      <th>24</th>\n      <td>0.86</td>\n      <td>0.888889</td>\n      <td>0.888889</td>\n      <td>0</td>\n      <td>0.00196719</td>\n    </tr>\n    <tr>\n      <th>25</th>\n      <td>0.88</td>\n      <td>0.9</td>\n      <td>0.904762</td>\n      <td>0</td>\n      <td>0.00199556</td>\n    </tr>\n    <tr>\n      <th>26</th>\n      <td>0.88</td>\n      <td>0.9</td>\n      <td>0.904762</td>\n      <td>0</td>\n      <td>0.0020256</td>\n    </tr>\n    <tr>\n      <th>27</th>\n      <td>0.88</td>\n      <td>0.9</td>\n      <td>0.904762</td>\n      <td>0</td>\n      <td>0.00196719</td>\n    </tr>\n    <tr>\n      <th>28</th>\n      <td>0.86</td>\n      <td>0.888889</td>\n      <td>0.888889</td>\n      <td>0</td>\n      <td>0.00299311</td>\n    </tr>\n    <tr>\n      <th>29</th>\n      <td>0.88</td>\n      <td>0.9</td>\n      <td>0.904762</td>\n      <td>0</td>\n      <td>0.00296474</td>\n    </tr>\n    <tr>\n      <th>30</th>\n      <td>0.86</td>\n      <td>0.888889</td>\n      <td>0.888889</td>\n      <td>0</td>\n      <td>0.00299263</td>\n    </tr>\n    <tr>\n      <th>31</th>\n      <td>0.86</td>\n      <td>0.888889</td>\n      <td>0.888889</td>\n      <td>0.000966072</td>\n      <td>0.00202203</td>\n    </tr>\n    <tr>\n      <th>32</th>\n      <td>0.86</td>\n      <td>0.888889</td>\n      <td>0.888889</td>\n      <td>0.000967979</td>\n      <td>0.00199389</td>\n    </tr>\n    <tr>\n      <th>33</th>\n      <td>0.86</td>\n      <td>0.888889</td>\n      <td>0.888889</td>\n      <td>0</td>\n      <td>0.00202155</td>\n    </tr>\n    <tr>\n      <th>34</th>\n      <td>0.86</td>\n      <td>0.888889</td>\n      <td>0.888889</td>\n      <td>0.000965834</td>\n      <td>0.003021</td>\n    </tr>\n    <tr>\n      <th>35</th>\n      <td>0.86</td>\n      <td>0.888889</td>\n      <td>0.888889</td>\n      <td>0.000997305</td>\n      <td>0.00202179</td>\n    </tr>\n    <tr>\n      <th>36</th>\n      <td>0.86</td>\n      <td>0.888889</td>\n      <td>0.888889</td>\n      <td>0</td>\n      <td>0.0019927</td>\n    </tr>\n    <tr>\n      <th>37</th>\n      <td>0.84</td>\n      <td>0.861111</td>\n      <td>0.865079</td>\n      <td>0</td>\n      <td>0.00199175</td>\n    </tr>\n    <tr>\n      <th>38</th>\n      <td>0.84</td>\n      <td>0.861111</td>\n      <td>0.865079</td>\n      <td>0.000968933</td>\n      <td>0.00202179</td>\n    </tr>\n    <tr>\n      <th>39</th>\n      <td>0.84</td>\n      <td>0.861111</td>\n      <td>0.865079</td>\n      <td>0</td>\n      <td>0.00199533</td>\n    </tr>\n    <tr>\n      <th>40</th>\n      <td>0.84</td>\n      <td>0.861111</td>\n      <td>0.865079</td>\n      <td>0</td>\n      <td>0.00199723</td>\n    </tr>\n    <tr>\n      <th>41</th>\n      <td>0.84</td>\n      <td>0.861111</td>\n      <td>0.865079</td>\n      <td>0</td>\n      <td>0.0029633</td>\n    </tr>\n    <tr>\n      <th>42</th>\n      <td>0.84</td>\n      <td>0.861111</td>\n      <td>0.865079</td>\n      <td>0</td>\n      <td>0.00202298</td>\n    </tr>\n    <tr>\n      <th>43</th>\n      <td>0.84</td>\n      <td>0.861111</td>\n      <td>0.865079</td>\n      <td>0.000966787</td>\n      <td>0.00202227</td>\n    </tr>\n    <tr>\n      <th>44</th>\n      <td>0.84</td>\n      <td>0.861111</td>\n      <td>0.865079</td>\n      <td>0.000970364</td>\n      <td>0.00202346</td>\n    </tr>\n    <tr>\n      <th>45</th>\n      <td>0.84</td>\n      <td>0.861111</td>\n      <td>0.865079</td>\n      <td>0</td>\n      <td>0.00201845</td>\n    </tr>\n    <tr>\n      <th>46</th>\n      <td>0.86</td>\n      <td>0.888889</td>\n      <td>0.888889</td>\n      <td>0.000997305</td>\n      <td>0.00202227</td>\n    </tr>\n    <tr>\n      <th>47</th>\n      <td>0.86</td>\n      <td>0.888889</td>\n      <td>0.888889</td>\n      <td>0</td>\n      <td>0.00199461</td>\n    </tr>\n    <tr>\n      <th>48</th>\n      <td>0.84</td>\n      <td>0.878788</td>\n      <td>0.873016</td>\n      <td>0.00099802</td>\n      <td>0.00102425</td>\n    </tr>\n    <tr>\n      <th>49</th>\n      <td>0.84</td>\n      <td>0.878788</td>\n      <td>0.873016</td>\n      <td>0</td>\n      <td>0.00299191</td>\n    </tr>\n  </tbody>\n</table>\n</div>"
     },
     "metadata": {},
     "output_type": "display_data"
    },
    {
     "data": {
      "text/plain": "<Figure size 432x288 with 1 Axes>",
      "image/png": "[encoded data removed]"
     },
     "metadata": {
      "needs_background": "light"
     },
     "output_type": "display_data"
    }
   ],
   "source": [
    "from sklearn import neighbors\n",
    "\n",
    "# load the Iris dataset\n",
    "dataSet = datasets.load_iris()\n",
    "\n",
    "# Shuffle our input data\n",
    "data, target = shuffle(dataSet.data, dataSet.target, random_state=randomState)\n",
    "\n",
    "testvalues = range(1,50)\n",
    "\n",
    "# Prepare dataframe for results\n",
    "knn_results_iris = pd.DataFrame(columns=resultColumns, index=testvalues)\n",
    "\n",
    "# Prepare a train/test set split\n",
    "X_train, X_test, y_train, y_test = train_test_split(data, target, test_size=0.33, random_state=(randomState+1))\n",
    "\n",
    "# parameters for k-NN\n",
    "n_neighbors = testvalues\n",
    "\n",
    "for n in n_neighbors:\n",
    "    # train the k-NN\n",
    "    classifier = neighbors.KNeighborsClassifier(n)\n",
    "    classifier.random_state = randomState\n",
    "    start_time_train = time.time()\n",
    "    classifier.fit(X_train, y_train)\n",
    "    end_time_train = time.time()\n",
    "\n",
    "    # predict the test set on our trained classifier\n",
    "    start_time_test = time.time()\n",
    "    y_test_predicted = classifier.predict(X_test)\n",
    "    end_time_test = time.time()\n",
    "\n",
    "    # Compute metrics\n",
    "    acc = metrics.accuracy_score(y_test, y_test_predicted)\n",
    "    recall=metrics.recall_score(y_test, y_test_predicted, average=averagingApproach, zero_division=zero_divisionApproach)\n",
    "    precision = metrics.precision_score(y_test, y_test_predicted, average=averagingApproach, zero_division=zero_divisionApproach)\n",
    "\n",
    "    scores = cross_val_score(classifier, data, target, cv=5)\n",
    "    print(\"5 Fold Verification with N: \" + str(n))\n",
    "    print(\"Accuracy: %0.2f (+/- %0.2f)\" % (scores.mean(), scores.std() * 2))\n",
    "\n",
    "    result = pd.Series({\n",
    "        'accuracy':acc,\n",
    "        'precision':precision,\n",
    "        'recall':recall,\n",
    "        'time training':end_time_train-start_time_train,\n",
    "        'time testing':end_time_test-start_time_test\n",
    "    })\n",
    "    knn_results_iris.loc[n] = result\n",
    "\n",
    "print(\"Holdout Result for Iris Dataset and k-NN by Iterating over N values:\")\n",
    "display(knn_results_iris)\n",
    "knn_results_iris[['accuracy','precision', 'recall']].plot.line()\n",
    "\n",
    "#Store result with best accuracy in overall results dataframe\n",
    "best_result = knn_results_iris[knn_results_iris['accuracy']==knn_results_iris['accuracy'].max()]\n",
    "overall_results_iris.loc['k-NN']=best_result.loc[best_result.last_valid_index()]"
   ],
   "metadata": {
    "collapsed": false,
    "pycharm": {
     "name": "#%%\n"
    }
   }
  },
  {
   "cell_type": "markdown",
   "source": [
    "##### Results:\n",
    "The results indicate a best fit of a solution for n=9."
   ],
   "metadata": {
    "collapsed": false
   }
  },
  {
   "cell_type": "markdown",
   "source": [
    "### Handwritten Numbers"
   ],
   "metadata": {
    "collapsed": false
   }
  },
  {
   "cell_type": "code",
   "execution_count": 4,
   "outputs": [
    {
     "name": "stdout",
     "output_type": "stream",
     "text": [
      "N: 1\n",
      "Accuracy: 0.99 (+/- 0.01)\n",
      "N: 2\n",
      "Accuracy: 0.99 (+/- 0.01)\n",
      "N: 3\n",
      "Accuracy: 0.99 (+/- 0.01)\n",
      "N: 4\n",
      "Accuracy: 0.99 (+/- 0.01)\n",
      "N: 5\n",
      "Accuracy: 0.99 (+/- 0.01)\n",
      "N: 6\n",
      "Accuracy: 0.99 (+/- 0.01)\n",
      "N: 7\n",
      "Accuracy: 0.99 (+/- 0.01)\n",
      "N: 8\n",
      "Accuracy: 0.98 (+/- 0.02)\n",
      "N: 9\n",
      "Accuracy: 0.98 (+/- 0.01)\n",
      "N: 10\n",
      "Accuracy: 0.98 (+/- 0.01)\n",
      "N: 11\n",
      "Accuracy: 0.98 (+/- 0.02)\n",
      "N: 12\n",
      "Accuracy: 0.98 (+/- 0.02)\n",
      "N: 13\n",
      "Accuracy: 0.98 (+/- 0.02)\n",
      "N: 14\n",
      "Accuracy: 0.98 (+/- 0.02)\n",
      "N: 15\n",
      "Accuracy: 0.98 (+/- 0.02)\n",
      "N: 16\n",
      "Accuracy: 0.98 (+/- 0.01)\n",
      "N: 17\n",
      "Accuracy: 0.97 (+/- 0.01)\n",
      "N: 18\n",
      "Accuracy: 0.97 (+/- 0.01)\n",
      "N: 19\n",
      "Accuracy: 0.97 (+/- 0.01)\n",
      "N: 20\n",
      "Accuracy: 0.97 (+/- 0.01)\n",
      "N: 21\n",
      "Accuracy: 0.97 (+/- 0.01)\n",
      "N: 22\n",
      "Accuracy: 0.97 (+/- 0.01)\n",
      "N: 23\n",
      "Accuracy: 0.97 (+/- 0.01)\n",
      "N: 24\n",
      "Accuracy: 0.97 (+/- 0.01)\n",
      "N: 25\n",
      "Accuracy: 0.97 (+/- 0.02)\n",
      "N: 26\n",
      "Accuracy: 0.97 (+/- 0.02)\n",
      "N: 27\n",
      "Accuracy: 0.97 (+/- 0.02)\n",
      "N: 28\n",
      "Accuracy: 0.97 (+/- 0.01)\n",
      "N: 29\n",
      "Accuracy: 0.96 (+/- 0.01)\n",
      "N: 30\n",
      "Accuracy: 0.96 (+/- 0.01)\n",
      "N: 31\n",
      "Accuracy: 0.96 (+/- 0.02)\n",
      "N: 32\n",
      "Accuracy: 0.96 (+/- 0.01)\n",
      "N: 33\n",
      "Accuracy: 0.96 (+/- 0.01)\n",
      "N: 34\n",
      "Accuracy: 0.96 (+/- 0.01)\n",
      "N: 35\n",
      "Accuracy: 0.96 (+/- 0.01)\n",
      "N: 36\n",
      "Accuracy: 0.96 (+/- 0.01)\n",
      "N: 37\n",
      "Accuracy: 0.96 (+/- 0.01)\n",
      "N: 38\n",
      "Accuracy: 0.96 (+/- 0.01)\n",
      "N: 39\n",
      "Accuracy: 0.96 (+/- 0.01)\n",
      "N: 40\n",
      "Accuracy: 0.96 (+/- 0.01)\n",
      "N: 41\n",
      "Accuracy: 0.96 (+/- 0.01)\n",
      "N: 42\n",
      "Accuracy: 0.96 (+/- 0.02)\n",
      "N: 43\n",
      "Accuracy: 0.95 (+/- 0.01)\n",
      "N: 44\n",
      "Accuracy: 0.95 (+/- 0.01)\n",
      "N: 45\n",
      "Accuracy: 0.95 (+/- 0.01)\n",
      "N: 46\n",
      "Accuracy: 0.95 (+/- 0.02)\n",
      "N: 47\n",
      "Accuracy: 0.95 (+/- 0.02)\n",
      "N: 48\n",
      "Accuracy: 0.95 (+/- 0.02)\n",
      "N: 49\n",
      "Accuracy: 0.95 (+/- 0.02)\n",
      "Holdout Results for Digits Dataset and k-NN by Iterating over N values:\n"
     ]
    },
    {
     "data": {
      "text/plain": "    accuracy precision    recall time training time testing\n1   0.989899  0.989997  0.989852     0.0159576    0.0867667\n2   0.984848  0.984988  0.984678     0.0169854    0.0917544\n3   0.991582   0.99161  0.991301     0.0169542    0.0917544\n4   0.984848  0.985395  0.984528     0.0159557    0.0947745\n5   0.983165  0.983364  0.983174     0.0169477      0.09677\n6   0.981481  0.981826  0.981325     0.0169816    0.0967145\n7   0.984848  0.985164  0.984689      0.015985    0.0967131\n8   0.984848  0.985439  0.984708      0.015964    0.0977421\n9   0.979798  0.979669  0.979679     0.0169554    0.0987339\n10  0.976431  0.976702  0.976281     0.0179477    0.0967457\n11  0.978114   0.97824  0.978066      0.015959    0.0997279\n12  0.974747  0.975138  0.974463     0.0169871     0.100698\n13   0.97138  0.971771  0.971129     0.0159881    0.0987043\n14   0.97138  0.971669  0.970949     0.0169492    0.0987337\n15  0.969697  0.969727  0.969164     0.0159891    0.0997014\n16  0.969697  0.969727  0.969164     0.0169861    0.0997329\n17   0.96633  0.966796  0.966133     0.0169857     0.100699\n18  0.964646  0.965418  0.964521     0.0169563    0.0977385\n19  0.962963  0.963729  0.962702     0.0169539    0.0967412\n20  0.961279  0.962286  0.961089     0.0159295    0.0997643\n21  0.961279  0.962117  0.960816     0.0159261    0.0987673\n22  0.962963  0.964227  0.962536     0.0169542     0.108709\n23  0.961279  0.961548  0.960816     0.0169539     0.099761\n24  0.959596  0.960169  0.959203     0.0159895     0.100698\n25  0.962963  0.963291  0.962331     0.0169542     0.100731\n26  0.957912  0.959167   0.95759     0.0169268     0.098736\n27  0.959596  0.960767  0.959105     0.0159252    0.0997334\n28  0.956229  0.957381  0.955977     0.0159571     0.101728\n29  0.957912    0.9588  0.957351     0.0159569    0.0997331\n30  0.956229  0.958022  0.955977     0.0159569    0.0997331\n31  0.957912  0.960128  0.957556     0.0169542    0.0997331\n32  0.956229   0.95842  0.955738     0.0169134     0.100762\n33  0.956229   0.95842  0.955738     0.0169206    0.0997336\n34  0.956229   0.95842  0.955738     0.0169544     0.100763\n35  0.951178  0.953461  0.950612     0.0169547    0.0987363\n36  0.956229  0.957857   0.95593     0.0169234     0.100731\n37  0.951178  0.952924   0.95047     0.0169547     0.100731\n38  0.947811  0.950016  0.947342     0.0169542     0.103755\n39  0.946128  0.947996  0.945348     0.0159569     0.102759\n40  0.944444  0.946458  0.943833     0.0169547    0.0997331\n41  0.942761  0.944757  0.942079     0.0169542     0.102758\n42  0.942761  0.944973   0.94216     0.0169227     0.101728\n43  0.939394    0.9417   0.93889     0.0169175     0.100731\n44  0.939394    0.9417   0.93889     0.0169201     0.101728\n45   0.93771  0.940714  0.937344     0.0169542     0.101696\n46  0.939394  0.941996  0.938859      0.015928     0.101728\n47   0.93771  0.940087  0.937105     0.0159254     0.103723\n48  0.939394  0.941996  0.938859     0.0159256     0.104748\n49   0.93771  0.940087  0.937105     0.0169146     0.103723",
      "text/html": "<div>\n<style scoped>\n    .dataframe tbody tr th:only-of-type {\n        vertical-align: middle;\n    }\n\n    .dataframe tbody tr th {\n        vertical-align: top;\n    }\n\n    .dataframe thead th {\n        text-align: right;\n    }\n</style>\n<table border=\"1\" class=\"dataframe\">\n  <thead>\n    <tr style=\"text-align: right;\">\n      <th></th>\n      <th>accuracy</th>\n      <th>precision</th>\n      <th>recall</th>\n      <th>time training</th>\n      <th>time testing</th>\n    </tr>\n  </thead>\n  <tbody>\n    <tr>\n      <th>1</th>\n      <td>0.989899</td>\n      <td>0.989997</td>\n      <td>0.989852</td>\n      <td>0.0159576</td>\n      <td>0.0867667</td>\n    </tr>\n    <tr>\n      <th>2</th>\n      <td>0.984848</td>\n      <td>0.984988</td>\n      <td>0.984678</td>\n      <td>0.0169854</td>\n      <td>0.0917544</td>\n    </tr>\n    <tr>\n      <th>3</th>\n      <td>0.991582</td>\n      <td>0.99161</td>\n      <td>0.991301</td>\n      <td>0.0169542</td>\n      <td>0.0917544</td>\n    </tr>\n    <tr>\n      <th>4</th>\n      <td>0.984848</td>\n      <td>0.985395</td>\n      <td>0.984528</td>\n      <td>0.0159557</td>\n      <td>0.0947745</td>\n    </tr>\n    <tr>\n      <th>5</th>\n      <td>0.983165</td>\n      <td>0.983364</td>\n      <td>0.983174</td>\n      <td>0.0169477</td>\n      <td>0.09677</td>\n    </tr>\n    <tr>\n      <th>6</th>\n      <td>0.981481</td>\n      <td>0.981826</td>\n      <td>0.981325</td>\n      <td>0.0169816</td>\n      <td>0.0967145</td>\n    </tr>\n    <tr>\n      <th>7</th>\n      <td>0.984848</td>\n      <td>0.985164</td>\n      <td>0.984689</td>\n      <td>0.015985</td>\n      <td>0.0967131</td>\n    </tr>\n    <tr>\n      <th>8</th>\n      <td>0.984848</td>\n      <td>0.985439</td>\n      <td>0.984708</td>\n      <td>0.015964</td>\n      <td>0.0977421</td>\n    </tr>\n    <tr>\n      <th>9</th>\n      <td>0.979798</td>\n      <td>0.979669</td>\n      <td>0.979679</td>\n      <td>0.0169554</td>\n      <td>0.0987339</td>\n    </tr>\n    <tr>\n      <th>10</th>\n      <td>0.976431</td>\n      <td>0.976702</td>\n      <td>0.976281</td>\n      <td>0.0179477</td>\n      <td>0.0967457</td>\n    </tr>\n    <tr>\n      <th>11</th>\n      <td>0.978114</td>\n      <td>0.97824</td>\n      <td>0.978066</td>\n      <td>0.015959</td>\n      <td>0.0997279</td>\n    </tr>\n    <tr>\n      <th>12</th>\n      <td>0.974747</td>\n      <td>0.975138</td>\n      <td>0.974463</td>\n      <td>0.0169871</td>\n      <td>0.100698</td>\n    </tr>\n    <tr>\n      <th>13</th>\n      <td>0.97138</td>\n      <td>0.971771</td>\n      <td>0.971129</td>\n      <td>0.0159881</td>\n      <td>0.0987043</td>\n    </tr>\n    <tr>\n      <th>14</th>\n      <td>0.97138</td>\n      <td>0.971669</td>\n      <td>0.970949</td>\n      <td>0.0169492</td>\n      <td>0.0987337</td>\n    </tr>\n    <tr>\n      <th>15</th>\n      <td>0.969697</td>\n      <td>0.969727</td>\n      <td>0.969164</td>\n      <td>0.0159891</td>\n      <td>0.0997014</td>\n    </tr>\n    <tr>\n      <th>16</th>\n      <td>0.969697</td>\n      <td>0.969727</td>\n      <td>0.969164</td>\n      <td>0.0169861</td>\n      <td>0.0997329</td>\n    </tr>\n    <tr>\n      <th>17</th>\n      <td>0.96633</td>\n      <td>0.966796</td>\n      <td>0.966133</td>\n      <td>0.0169857</td>\n      <td>0.100699</td>\n    </tr>\n    <tr>\n      <th>18</th>\n      <td>0.964646</td>\n      <td>0.965418</td>\n      <td>0.964521</td>\n      <td>0.0169563</td>\n      <td>0.0977385</td>\n    </tr>\n    <tr>\n      <th>19</th>\n      <td>0.962963</td>\n      <td>0.963729</td>\n      <td>0.962702</td>\n      <td>0.0169539</td>\n      <td>0.0967412</td>\n    </tr>\n    <tr>\n      <th>20</th>\n      <td>0.961279</td>\n      <td>0.962286</td>\n      <td>0.961089</td>\n      <td>0.0159295</td>\n      <td>0.0997643</td>\n    </tr>\n    <tr>\n      <th>21</th>\n      <td>0.961279</td>\n      <td>0.962117</td>\n      <td>0.960816</td>\n      <td>0.0159261</td>\n      <td>0.0987673</td>\n    </tr>\n    <tr>\n      <th>22</th>\n      <td>0.962963</td>\n      <td>0.964227</td>\n      <td>0.962536</td>\n      <td>0.0169542</td>\n      <td>0.108709</td>\n    </tr>\n    <tr>\n      <th>23</th>\n      <td>0.961279</td>\n      <td>0.961548</td>\n      <td>0.960816</td>\n      <td>0.0169539</td>\n      <td>0.099761</td>\n    </tr>\n    <tr>\n      <th>24</th>\n      <td>0.959596</td>\n      <td>0.960169</td>\n      <td>0.959203</td>\n      <td>0.0159895</td>\n      <td>0.100698</td>\n    </tr>\n    <tr>\n      <th>25</th>\n      <td>0.962963</td>\n      <td>0.963291</td>\n      <td>0.962331</td>\n      <td>0.0169542</td>\n      <td>0.100731</td>\n    </tr>\n    <tr>\n      <th>26</th>\n      <td>0.957912</td>\n      <td>0.959167</td>\n      <td>0.95759</td>\n      <td>0.0169268</td>\n      <td>0.098736</td>\n    </tr>\n    <tr>\n      <th>27</th>\n      <td>0.959596</td>\n      <td>0.960767</td>\n      <td>0.959105</td>\n      <td>0.0159252</td>\n      <td>0.0997334</td>\n    </tr>\n    <tr>\n      <th>28</th>\n      <td>0.956229</td>\n      <td>0.957381</td>\n      <td>0.955977</td>\n      <td>0.0159571</td>\n      <td>0.101728</td>\n    </tr>\n    <tr>\n      <th>29</th>\n      <td>0.957912</td>\n      <td>0.9588</td>\n      <td>0.957351</td>\n      <td>0.0159569</td>\n      <td>0.0997331</td>\n    </tr>\n    <tr>\n      <th>30</th>\n      <td>0.956229</td>\n      <td>0.958022</td>\n      <td>0.955977</td>\n      <td>0.0159569</td>\n      <td>0.0997331</td>\n    </tr>\n    <tr>\n      <th>31</th>\n      <td>0.957912</td>\n      <td>0.960128</td>\n      <td>0.957556</td>\n      <td>0.0169542</td>\n      <td>0.0997331</td>\n    </tr>\n    <tr>\n      <th>32</th>\n      <td>0.956229</td>\n      <td>0.95842</td>\n      <td>0.955738</td>\n      <td>0.0169134</td>\n      <td>0.100762</td>\n    </tr>\n    <tr>\n      <th>33</th>\n      <td>0.956229</td>\n      <td>0.95842</td>\n      <td>0.955738</td>\n      <td>0.0169206</td>\n      <td>0.0997336</td>\n    </tr>\n    <tr>\n      <th>34</th>\n      <td>0.956229</td>\n      <td>0.95842</td>\n      <td>0.955738</td>\n      <td>0.0169544</td>\n      <td>0.100763</td>\n    </tr>\n    <tr>\n      <th>35</th>\n      <td>0.951178</td>\n      <td>0.953461</td>\n      <td>0.950612</td>\n      <td>0.0169547</td>\n      <td>0.0987363</td>\n    </tr>\n    <tr>\n      <th>36</th>\n      <td>0.956229</td>\n      <td>0.957857</td>\n      <td>0.95593</td>\n      <td>0.0169234</td>\n      <td>0.100731</td>\n    </tr>\n    <tr>\n      <th>37</th>\n      <td>0.951178</td>\n      <td>0.952924</td>\n      <td>0.95047</td>\n      <td>0.0169547</td>\n      <td>0.100731</td>\n    </tr>\n    <tr>\n      <th>38</th>\n      <td>0.947811</td>\n      <td>0.950016</td>\n      <td>0.947342</td>\n      <td>0.0169542</td>\n      <td>0.103755</td>\n    </tr>\n    <tr>\n      <th>39</th>\n      <td>0.946128</td>\n      <td>0.947996</td>\n      <td>0.945348</td>\n      <td>0.0159569</td>\n      <td>0.102759</td>\n    </tr>\n    <tr>\n      <th>40</th>\n      <td>0.944444</td>\n      <td>0.946458</td>\n      <td>0.943833</td>\n      <td>0.0169547</td>\n      <td>0.0997331</td>\n    </tr>\n    <tr>\n      <th>41</th>\n      <td>0.942761</td>\n      <td>0.944757</td>\n      <td>0.942079</td>\n      <td>0.0169542</td>\n      <td>0.102758</td>\n    </tr>\n    <tr>\n      <th>42</th>\n      <td>0.942761</td>\n      <td>0.944973</td>\n      <td>0.94216</td>\n      <td>0.0169227</td>\n      <td>0.101728</td>\n    </tr>\n    <tr>\n      <th>43</th>\n      <td>0.939394</td>\n      <td>0.9417</td>\n      <td>0.93889</td>\n      <td>0.0169175</td>\n      <td>0.100731</td>\n    </tr>\n    <tr>\n      <th>44</th>\n      <td>0.939394</td>\n      <td>0.9417</td>\n      <td>0.93889</td>\n      <td>0.0169201</td>\n      <td>0.101728</td>\n    </tr>\n    <tr>\n      <th>45</th>\n      <td>0.93771</td>\n      <td>0.940714</td>\n      <td>0.937344</td>\n      <td>0.0169542</td>\n      <td>0.101696</td>\n    </tr>\n    <tr>\n      <th>46</th>\n      <td>0.939394</td>\n      <td>0.941996</td>\n      <td>0.938859</td>\n      <td>0.015928</td>\n      <td>0.101728</td>\n    </tr>\n    <tr>\n      <th>47</th>\n      <td>0.93771</td>\n      <td>0.940087</td>\n      <td>0.937105</td>\n      <td>0.0159254</td>\n      <td>0.103723</td>\n    </tr>\n    <tr>\n      <th>48</th>\n      <td>0.939394</td>\n      <td>0.941996</td>\n      <td>0.938859</td>\n      <td>0.0159256</td>\n      <td>0.104748</td>\n    </tr>\n    <tr>\n      <th>49</th>\n      <td>0.93771</td>\n      <td>0.940087</td>\n      <td>0.937105</td>\n      <td>0.0169146</td>\n      <td>0.103723</td>\n    </tr>\n  </tbody>\n</table>\n</div>"
     },
     "metadata": {},
     "output_type": "display_data"
    },
    {
     "data": {
      "text/plain": "<Figure size 432x288 with 1 Axes>",
      "image/png": "[encoded data removed]"
     },
     "metadata": {
      "needs_background": "light"
     },
     "output_type": "display_data"
    }
   ],
   "source": [
    "from sklearn import neighbors\n",
    "\n",
    "# load the digit dataset\n",
    "dataSet = datasets.load_digits()\n",
    "\n",
    "data, target = shuffle(dataSet.data, dataSet.target, random_state=randomState)\n",
    "\n",
    "# Prepare dataframe for results\n",
    "knn_results_digits = pd.DataFrame(columns=resultColumns, index=testvalues)\n",
    "\n",
    "# Prepare a train/test set split\n",
    "X_train, X_test, y_train, y_test = train_test_split(data, target, test_size=0.33, random_state=(randomState+1))\n",
    "\n",
    "# parameters for k-NN\n",
    "n_neighbors = testvalues\n",
    "\n",
    "for n in n_neighbors:\n",
    "    # train the k-NN\n",
    "    classifier = neighbors.KNeighborsClassifier(n)\n",
    "    classifier.random_state = randomState\n",
    "\n",
    "    start_time_train = time.time()\n",
    "    classifier.fit(X_train, y_train)\n",
    "    end_time_train = time.time()\n",
    "\n",
    "    # predict the test set on our trained classifier\n",
    "    start_time_test = time.time()\n",
    "    y_test_predicted = classifier.predict(X_test)\n",
    "    end_time_test = time.time()\n",
    "\n",
    "    # Compute metrics\n",
    "    acc=metrics.accuracy_score(y_test, y_test_predicted)\n",
    "    precision=metrics.precision_score(y_test, y_test_predicted, average=averagingApproach, zero_division=zero_divisionApproach)\n",
    "    recall=metrics.recall_score(y_test, y_test_predicted, average=averagingApproach, zero_division=zero_divisionApproach)\n",
    "\n",
    "    # Report results of five fold validation metrics\n",
    "    scores = cross_val_score(classifier, data, target, cv=5)\n",
    "    print(\"N: \" + str(n))\n",
    "    print(\"Accuracy: %0.2f (+/- %0.2f)\" % (scores.mean(), scores.std() * 2))\n",
    "\n",
    "    knn_results_digits.loc[n] = pd.Series({\n",
    "        'accuracy':acc,\n",
    "        'precision':precision,\n",
    "        'recall':recall,\n",
    "        'time training':end_time_train-start_time_train,\n",
    "        'time testing':end_time_test-start_time_test\n",
    "    })\n",
    "\n",
    "print(\"Holdout Results for Digits Dataset and k-NN by Iterating over N values:\")\n",
    "display(knn_results_digits)\n",
    "knn_results_digits[['accuracy','precision', 'recall']].plot.line()\n",
    "\n",
    "#Store result with best accuracy in overall results dataframe\n",
    "best_result = knn_results_digits[knn_results_digits['accuracy']==knn_results_digits['accuracy'].max()]\n",
    "overall_results_digits.loc['k-NN']=best_result.loc[best_result.last_valid_index()]"
   ],
   "metadata": {
    "collapsed": false,
    "pycharm": {
     "name": "#%%\n"
    }
   }
  },
  {
   "cell_type": "markdown",
   "source": [
    "#### Results\n",
    "The results indicate good fits for models across n parameters, with decreasing results for higher n numbers."
   ],
   "metadata": {
    "collapsed": false,
    "pycharm": {
     "name": "#%% md\n"
    }
   }
  },
  {
   "cell_type": "markdown",
   "source": [
    "## Naive Bayes\n",
    "\n",
    "### Iris"
   ],
   "metadata": {
    "collapsed": false
   }
  },
  {
   "cell_type": "code",
   "execution_count": 5,
   "outputs": [
    {
     "name": "stdout",
     "output_type": "stream",
     "text": [
      "5 Fold verification for Iris and Bayes\n",
      "Accuracy: 0.95 (+/- 0.07)\n",
      "Holdout Results for Iris Dataset and Bayes:\n"
     ]
    },
    {
     "data": {
      "text/plain": "  accuracy precision    recall time training time testing\n1      0.9   0.90305  0.912698    0.00099802            0",
      "text/html": "<div>\n<style scoped>\n    .dataframe tbody tr th:only-of-type {\n        vertical-align: middle;\n    }\n\n    .dataframe tbody tr th {\n        vertical-align: top;\n    }\n\n    .dataframe thead th {\n        text-align: right;\n    }\n</style>\n<table border=\"1\" class=\"dataframe\">\n  <thead>\n    <tr style=\"text-align: right;\">\n      <th></th>\n      <th>accuracy</th>\n      <th>precision</th>\n      <th>recall</th>\n      <th>time training</th>\n      <th>time testing</th>\n    </tr>\n  </thead>\n  <tbody>\n    <tr>\n      <th>1</th>\n      <td>0.9</td>\n      <td>0.90305</td>\n      <td>0.912698</td>\n      <td>0.00099802</td>\n      <td>0</td>\n    </tr>\n  </tbody>\n</table>\n</div>"
     },
     "metadata": {},
     "output_type": "display_data"
    }
   ],
   "source": [
    "from sklearn import naive_bayes\n",
    "\n",
    "# load the Iris dataset\n",
    "dataSet = datasets.load_iris()\n",
    "\n",
    "data, target = shuffle(dataSet.data, dataSet.target, random_state=randomState)\n",
    "\n",
    "# Prepare dataframe for results\n",
    "bayes_results_iris = pd.DataFrame(columns=resultColumns, index=[1])\n",
    "\n",
    "# Prepare a train/test set split\n",
    "X_train, X_test, y_train, y_test = train_test_split(data, target, test_size=0.33, random_state=(randomState+1))\n",
    "\n",
    "classifier = naive_bayes.GaussianNB()\n",
    "classifier.random_state=randomState\n",
    "\n",
    "start_time_train = time.time()\n",
    "classifier.fit(X_train, y_train)\n",
    "end_time_train = time.time()\n",
    "\n",
    "# predict the test set on our trained classifier\n",
    "start_time_test = time.time()\n",
    "y_test_predicted = classifier.predict(X_test)\n",
    "end_time_test = time.time()\n",
    "\n",
    "# Compute metrics\n",
    "acc=metrics.accuracy_score(y_test, y_test_predicted)\n",
    "precision=metrics.precision_score(y_test, y_test_predicted, average=averagingApproach, zero_division=zero_divisionApproach)\n",
    "recall=metrics.recall_score(y_test, y_test_predicted, average=averagingApproach, zero_division=zero_divisionApproach)\n",
    "\n",
    "# Report results of five fold validation metrics\n",
    "scores = cross_val_score(classifier, data, target, cv=5)\n",
    "print(\"5 Fold verification for Iris and Bayes\")\n",
    "print(\"Accuracy: %0.2f (+/- %0.2f)\" % (scores.mean(), scores.std() * 2))\n",
    "\n",
    "bayes_results_iris.loc[1] = pd.Series({\n",
    "    'accuracy':acc,\n",
    "    'precision':precision,\n",
    "    'recall':recall,\n",
    "    'time training':end_time_train-start_time_train,\n",
    "    'time testing':end_time_test-start_time_test\n",
    "})\n",
    "\n",
    "print(\"Holdout Results for Iris Dataset and Bayes:\")\n",
    "display(bayes_results_iris)\n",
    "\n",
    "#Store result with best accuracy in overall results dataframe\n",
    "overall_results_iris.loc['bayes']=bayes_results_iris.loc[1]"
   ],
   "metadata": {
    "collapsed": false,
    "pycharm": {
     "name": "#%%\n"
    }
   }
  },
  {
   "cell_type": "markdown",
   "source": [
    "#### Results\n",
    "Analysis using Bayes on the Iris dataset show good values for accuracy, precision and recall with extremely low training and testing time."
   ],
   "metadata": {
    "collapsed": false,
    "pycharm": {
     "name": "#%% md\n"
    }
   }
  },
  {
   "cell_type": "markdown",
   "source": [
    "### Digits\n"
   ],
   "metadata": {
    "collapsed": false,
    "pycharm": {
     "name": "#%% md\n"
    }
   }
  },
  {
   "cell_type": "code",
   "execution_count": 6,
   "outputs": [
    {
     "name": "stdout",
     "output_type": "stream",
     "text": [
      "5 Fold verification for Digits and Bayes\n",
      "Accuracy: 0.83 (+/- 0.02)\n",
      "Holdout Results for Digits Dataset and Bayes:\n"
     ]
    },
    {
     "data": {
      "text/plain": "   accuracy precision    recall time training time testing\n1  0.833333  0.850641  0.833908    0.00199437   0.00299287",
      "text/html": "<div>\n<style scoped>\n    .dataframe tbody tr th:only-of-type {\n        vertical-align: middle;\n    }\n\n    .dataframe tbody tr th {\n        vertical-align: top;\n    }\n\n    .dataframe thead th {\n        text-align: right;\n    }\n</style>\n<table border=\"1\" class=\"dataframe\">\n  <thead>\n    <tr style=\"text-align: right;\">\n      <th></th>\n      <th>accuracy</th>\n      <th>precision</th>\n      <th>recall</th>\n      <th>time training</th>\n      <th>time testing</th>\n    </tr>\n  </thead>\n  <tbody>\n    <tr>\n      <th>1</th>\n      <td>0.833333</td>\n      <td>0.850641</td>\n      <td>0.833908</td>\n      <td>0.00199437</td>\n      <td>0.00299287</td>\n    </tr>\n  </tbody>\n</table>\n</div>"
     },
     "metadata": {},
     "output_type": "display_data"
    }
   ],
   "source": [
    "from sklearn import naive_bayes\n",
    "\n",
    "# load the digit dataset\n",
    "dataSet = datasets.load_digits()\n",
    "\n",
    "data, target = shuffle(dataSet.data, dataSet.target, random_state=randomState)\n",
    "\n",
    "# Prepare dataframe for results\n",
    "bayes_results_digits = pd.DataFrame(columns=resultColumns, index=[1])\n",
    "\n",
    "# Prepare a train/test set split\n",
    "X_train, X_test, y_train, y_test = train_test_split(data, target, test_size=0.33, random_state=(randomState+1))\n",
    "\n",
    "classifier = naive_bayes.GaussianNB()\n",
    "classifier.random_state=randomState\n",
    "\n",
    "start_time_train = time.time()\n",
    "classifier.fit(X_train, y_train)\n",
    "end_time_train = time.time()\n",
    "\n",
    "# predict the test set on our trained classifier\n",
    "start_time_test = time.time()\n",
    "y_test_predicted = classifier.predict(X_test)\n",
    "end_time_test = time.time()\n",
    "\n",
    "# Compute metrics\n",
    "acc=metrics.accuracy_score(y_test, y_test_predicted)\n",
    "precision=metrics.precision_score(y_test, y_test_predicted, average=averagingApproach, zero_division=zero_divisionApproach)\n",
    "recall=metrics.recall_score(y_test, y_test_predicted, average=averagingApproach, zero_division=zero_divisionApproach)\n",
    "\n",
    "# Report results of five fold validation metrics\n",
    "scores = cross_val_score(classifier, data, target, cv=5)\n",
    "print(\"5 Fold verification for Digits and Bayes\")\n",
    "print(\"Accuracy: %0.2f (+/- %0.2f)\" % (scores.mean(), scores.std() * 2))\n",
    "\n",
    "bayes_results_digits.loc[1] = pd.Series({\n",
    "    'accuracy':acc,\n",
    "    'precision':precision,\n",
    "    'recall':recall,\n",
    "    'time training':end_time_train-start_time_train,\n",
    "    'time testing':end_time_test-start_time_test\n",
    "})\n",
    "\n",
    "print(\"Holdout Results for Digits Dataset and Bayes:\")\n",
    "display(bayes_results_digits)\n",
    "\n",
    "#Store result with best accuracy in overall results dataframe\n",
    "overall_results_digits.loc['bayes']=bayes_results_digits.loc[1]\n"
   ],
   "metadata": {
    "collapsed": false,
    "pycharm": {
     "name": "#%%\n"
    }
   }
  },
  {
   "cell_type": "markdown",
   "source": [
    "#### Results for Bayes on the Digit Dataset\n",
    "Analysis using Bayes on the Digit Dataset show still good values for accuracy, precision and recall with extremely low training and testing time.\n",
    "\n",
    "However, compared to k NN, the results for this data set are significantly lower for Bayes. While this was similar for the Iris dataset, with lower accuracy for bayes than for the k-nn, the difference was not similarly strong."
   ],
   "metadata": {
    "collapsed": false
   }
  },
  {
   "cell_type": "markdown",
   "source": [
    "## Perceptron\n",
    "\n",
    "### Iris"
   ],
   "metadata": {
    "collapsed": false
   }
  },
  {
   "cell_type": "code",
   "execution_count": 7,
   "outputs": [
    {
     "name": "stdout",
     "output_type": "stream",
     "text": [
      "5 Fold verification for the Perceptron and the Iris Dataset\n",
      "Accuracy: 0.74 (+/- 0.21)\n",
      "Holdout Results for Iris Dataset and Perceptron:\n"
     ]
    },
    {
     "data": {
      "text/plain": "  accuracy precision recall time training time testing\n1     0.34  0.432624    0.4    0.00299144            0",
      "text/html": "<div>\n<style scoped>\n    .dataframe tbody tr th:only-of-type {\n        vertical-align: middle;\n    }\n\n    .dataframe tbody tr th {\n        vertical-align: top;\n    }\n\n    .dataframe thead th {\n        text-align: right;\n    }\n</style>\n<table border=\"1\" class=\"dataframe\">\n  <thead>\n    <tr style=\"text-align: right;\">\n      <th></th>\n      <th>accuracy</th>\n      <th>precision</th>\n      <th>recall</th>\n      <th>time training</th>\n      <th>time testing</th>\n    </tr>\n  </thead>\n  <tbody>\n    <tr>\n      <th>1</th>\n      <td>0.34</td>\n      <td>0.432624</td>\n      <td>0.4</td>\n      <td>0.00299144</td>\n      <td>0</td>\n    </tr>\n  </tbody>\n</table>\n</div>"
     },
     "metadata": {},
     "output_type": "display_data"
    }
   ],
   "source": [
    "from sklearn import linear_model\n",
    "\n",
    "# load the Iris dataset\n",
    "dataSet = datasets.load_iris()\n",
    "\n",
    "data, target = shuffle(dataSet.data, dataSet.target, random_state=randomState)\n",
    "\n",
    "# Prepare dataframe for results\n",
    "perceptron_results_iris = pd.DataFrame(columns=resultColumns, index=[1])\n",
    "\n",
    "# Prepare a train/test set split\n",
    "X_train, X_test, y_train, y_test = train_test_split(data, target, test_size=0.33, random_state=(randomState+1))\n",
    "\n",
    "classifier = linear_model.Perceptron()\n",
    "classifier.random_state = randomState\n",
    "start_time_train = time.time()\n",
    "classifier.fit(X_train, y_train)\n",
    "end_time_train = time.time()\n",
    "\n",
    "# predict the test set on our trained classifier\n",
    "start_time_test = time.time()\n",
    "y_test_predicted = classifier.predict(X_test)\n",
    "end_time_test = time.time()\n",
    "\n",
    "# Compute metrics\n",
    "acc=metrics.accuracy_score(y_test, y_test_predicted)\n",
    "precision=metrics.precision_score(y_test, y_test_predicted, average=averagingApproach, zero_division=zero_divisionApproach)\n",
    "recall=metrics.recall_score(y_test, y_test_predicted, average=averagingApproach, zero_division=zero_divisionApproach)\n",
    "\n",
    "# Report results of five fold validation metrics\n",
    "scores = cross_val_score(classifier, data, target, cv=5)\n",
    "print(\"5 Fold verification for the Perceptron and the Iris Dataset\")\n",
    "print(\"Accuracy: %0.2f (+/- %0.2f)\" % (scores.mean(), scores.std() * 2))\n",
    "\n",
    "perceptron_results_iris.loc[1] = pd.Series({\n",
    "    'accuracy':acc,\n",
    "    'precision':precision,\n",
    "    'recall':recall,\n",
    "    'time training':end_time_train-start_time_train,\n",
    "    'time testing':end_time_test-start_time_test\n",
    "})\n",
    "\n",
    "print(\"Holdout Results for Iris Dataset and Perceptron:\")\n",
    "display(perceptron_results_iris)\n",
    "\n",
    "#Store result with best accuracy in overall results dataframe\n",
    "overall_results_iris.loc['perceptron']=perceptron_results_iris.loc[1]"
   ],
   "metadata": {
    "collapsed": false,
    "pycharm": {
     "name": "#%%\n"
    }
   }
  },
  {
   "cell_type": "markdown",
   "source": [
    "#### Results for Perceptron on the Iris Dataset\n",
    "Analysis using the Perceptron approach on the Iris Dataset show low values for accuracy, precision and recall with extremely low training and testing time.\n",
    "\n",
    "Compared to both Bayes and k NN, the results for this data set are significantly lower."
   ],
   "metadata": {
    "collapsed": false
   }
  },
  {
   "cell_type": "markdown",
   "source": [
    "### Digits"
   ],
   "metadata": {
    "collapsed": false
   }
  },
  {
   "cell_type": "code",
   "execution_count": 8,
   "outputs": [
    {
     "name": "stdout",
     "output_type": "stream",
     "text": [
      "5 Fold verification for the Perceptron and the Digits Dataset\n",
      "Accuracy: 0.94 (+/- 0.03)\n",
      "Holdout Results for Digits Dataset and Perceptron:\n"
     ]
    },
    {
     "data": {
      "text/plain": "   accuracy precision   recall time training time testing\n1  0.939394   0.94141  0.93962     0.0229361  0.000970125",
      "text/html": "<div>\n<style scoped>\n    .dataframe tbody tr th:only-of-type {\n        vertical-align: middle;\n    }\n\n    .dataframe tbody tr th {\n        vertical-align: top;\n    }\n\n    .dataframe thead th {\n        text-align: right;\n    }\n</style>\n<table border=\"1\" class=\"dataframe\">\n  <thead>\n    <tr style=\"text-align: right;\">\n      <th></th>\n      <th>accuracy</th>\n      <th>precision</th>\n      <th>recall</th>\n      <th>time training</th>\n      <th>time testing</th>\n    </tr>\n  </thead>\n  <tbody>\n    <tr>\n      <th>1</th>\n      <td>0.939394</td>\n      <td>0.94141</td>\n      <td>0.93962</td>\n      <td>0.0229361</td>\n      <td>0.000970125</td>\n    </tr>\n  </tbody>\n</table>\n</div>"
     },
     "metadata": {},
     "output_type": "display_data"
    }
   ],
   "source": [
    "from sklearn import linear_model\n",
    "\n",
    "# load the digit dataset\n",
    "dataSet = datasets.load_digits()\n",
    "\n",
    "data, target = shuffle(dataSet.data, dataSet.target, random_state=randomState)\n",
    "\n",
    "# Prepare dataframe for results\n",
    "perceptron_results_digits = pd.DataFrame(columns=resultColumns, index=[1])\n",
    "\n",
    "# Prepare a train/test set split\n",
    "X_train, X_test, y_train, y_test = train_test_split(data, target, test_size=0.33, random_state=(randomState+1))\n",
    "\n",
    "classifier = linear_model.Perceptron()\n",
    "classifier.random_state = randomState\n",
    "\n",
    "start_time_train = time.time()\n",
    "classifier.fit(X_train, y_train)\n",
    "end_time_train = time.time()\n",
    "\n",
    "# predict the test set on our trained classifier\n",
    "start_time_test = time.time()\n",
    "y_test_predicted = classifier.predict(X_test)\n",
    "end_time_test = time.time()\n",
    "\n",
    "# Compute metrics\n",
    "acc=metrics.accuracy_score(y_test, y_test_predicted)\n",
    "precision=metrics.precision_score(y_test, y_test_predicted, average=averagingApproach, zero_division=zero_divisionApproach)\n",
    "recall=metrics.recall_score(y_test, y_test_predicted, average=averagingApproach, zero_division=zero_divisionApproach)\n",
    "\n",
    "# Report results of five fold validation metrics\n",
    "scores = cross_val_score(classifier, data, target, cv=5)\n",
    "print(\"5 Fold verification for the Perceptron and the Digits Dataset\")\n",
    "print(\"Accuracy: %0.2f (+/- %0.2f)\" % (scores.mean(), scores.std() * 2))\n",
    "\n",
    "perceptron_results_digits.loc[1] = pd.Series({\n",
    "    'accuracy':acc,\n",
    "    'precision':precision,\n",
    "    'recall':recall,\n",
    "    'time training':end_time_train-start_time_train,\n",
    "    'time testing':end_time_test-start_time_test\n",
    "})\n",
    "\n",
    "print(\"Holdout Results for Digits Dataset and Perceptron:\")\n",
    "display(perceptron_results_digits)\n",
    "\n",
    "#Store result with best accuracy in overall results dataframe\n",
    "overall_results_digits.loc['perceptron']=perceptron_results_digits.loc[1]"
   ],
   "metadata": {
    "collapsed": false,
    "pycharm": {
     "name": "#%%\n"
    }
   }
  },
  {
   "cell_type": "markdown",
   "source": [
    "#### Results for Perceptron on the Digits Dataset\n",
    "Analysis using the Perceptron approach on the Digits Dataset show very good values for accuracy, precision and recall with extremely low training and testing time.\n",
    "\n",
    "Both Bayes and kNN yielded comparable results. The difference between the Digit and Iris dataset show Perceptron's high susceptibility to the data it is used for."
   ],
   "metadata": {
    "collapsed": false
   }
  },
  {
   "cell_type": "markdown",
   "source": [
    "## Decision Tree\n",
    "\n",
    "### Iris"
   ],
   "metadata": {
    "collapsed": false
   }
  },
  {
   "cell_type": "code",
   "execution_count": 9,
   "outputs": [
    {
     "name": "stdout",
     "output_type": "stream",
     "text": [
      "5 Fold Results for Splitting Approach: random and  max_depth: 1\n",
      "Accuracy: 0.56 (+/- 0.05)\n",
      "5 Fold Results for Splitting Approach: random and  max_depth: 2\n",
      "Accuracy: 0.59 (+/- 0.05)\n",
      "5 Fold Results for Splitting Approach: random and  max_depth: 3\n",
      "Accuracy: 0.64 (+/- 0.11)\n",
      "5 Fold Results for Splitting Approach: random and  max_depth: 4\n",
      "Accuracy: 0.83 (+/- 0.11)\n",
      "5 Fold Results for Splitting Approach: random and  max_depth: 5\n",
      "Accuracy: 0.88 (+/- 0.11)\n",
      "5 Fold Results for Splitting Approach: random and  max_depth: 6\n",
      "Accuracy: 0.91 (+/- 0.08)\n",
      "5 Fold Results for Splitting Approach: random and  max_depth: 7\n",
      "Accuracy: 0.93 (+/- 0.08)\n",
      "5 Fold Results for Splitting Approach: random and  max_depth: 8\n",
      "Accuracy: 0.91 (+/- 0.05)\n",
      "5 Fold Results for Splitting Approach: random and  max_depth: 9\n",
      "Accuracy: 0.92 (+/- 0.03)\n",
      "5 Fold Results for Splitting Approach: best and  max_depth: 1\n",
      "Accuracy: 0.67 (+/- 0.00)\n",
      "5 Fold Results for Splitting Approach: best and  max_depth: 2\n",
      "Accuracy: 0.93 (+/- 0.09)\n",
      "5 Fold Results for Splitting Approach: best and  max_depth: 3\n",
      "Accuracy: 0.94 (+/- 0.09)\n",
      "5 Fold Results for Splitting Approach: best and  max_depth: 4\n",
      "Accuracy: 0.95 (+/- 0.09)\n",
      "5 Fold Results for Splitting Approach: best and  max_depth: 5\n",
      "Accuracy: 0.95 (+/- 0.09)\n",
      "5 Fold Results for Splitting Approach: best and  max_depth: 6\n",
      "Accuracy: 0.95 (+/- 0.09)\n",
      "5 Fold Results for Splitting Approach: best and  max_depth: 7\n",
      "Accuracy: 0.95 (+/- 0.09)\n",
      "5 Fold Results for Splitting Approach: best and  max_depth: 8\n",
      "Accuracy: 0.95 (+/- 0.09)\n",
      "5 Fold Results for Splitting Approach: best and  max_depth: 9\n",
      "Accuracy: 0.95 (+/- 0.09)\n"
     ]
    },
    {
     "data": {
      "text/plain": "'Holdout Results for Iris Dataset and Decision Tree when Iterating over Max Tree Depth with splitter random'"
     },
     "metadata": {},
     "output_type": "display_data"
    },
    {
     "data": {
      "text/plain": "  accuracy precision    recall time training time testing\n1     0.48      0.45  0.555556   0.000997305            0\n2      0.5  0.786325  0.571429             0            0\n3      0.5  0.686782  0.563492   0.000999451            0\n4     0.74  0.819167  0.785714             0            0\n5     0.88  0.890278  0.865079             0            0\n6      0.9  0.894956  0.904762             0            0\n7     0.88  0.877315  0.888889   0.000997066            0\n8     0.88  0.877315  0.888889   0.000997066            0\n9     0.88  0.877315  0.888889   0.000997543            0",
      "text/html": "<div>\n<style scoped>\n    .dataframe tbody tr th:only-of-type {\n        vertical-align: middle;\n    }\n\n    .dataframe tbody tr th {\n        vertical-align: top;\n    }\n\n    .dataframe thead th {\n        text-align: right;\n    }\n</style>\n<table border=\"1\" class=\"dataframe\">\n  <thead>\n    <tr style=\"text-align: right;\">\n      <th></th>\n      <th>accuracy</th>\n      <th>precision</th>\n      <th>recall</th>\n      <th>time training</th>\n      <th>time testing</th>\n    </tr>\n  </thead>\n  <tbody>\n    <tr>\n      <th>1</th>\n      <td>0.48</td>\n      <td>0.45</td>\n      <td>0.555556</td>\n      <td>0.000997305</td>\n      <td>0</td>\n    </tr>\n    <tr>\n      <th>2</th>\n      <td>0.5</td>\n      <td>0.786325</td>\n      <td>0.571429</td>\n      <td>0</td>\n      <td>0</td>\n    </tr>\n    <tr>\n      <th>3</th>\n      <td>0.5</td>\n      <td>0.686782</td>\n      <td>0.563492</td>\n      <td>0.000999451</td>\n      <td>0</td>\n    </tr>\n    <tr>\n      <th>4</th>\n      <td>0.74</td>\n      <td>0.819167</td>\n      <td>0.785714</td>\n      <td>0</td>\n      <td>0</td>\n    </tr>\n    <tr>\n      <th>5</th>\n      <td>0.88</td>\n      <td>0.890278</td>\n      <td>0.865079</td>\n      <td>0</td>\n      <td>0</td>\n    </tr>\n    <tr>\n      <th>6</th>\n      <td>0.9</td>\n      <td>0.894956</td>\n      <td>0.904762</td>\n      <td>0</td>\n      <td>0</td>\n    </tr>\n    <tr>\n      <th>7</th>\n      <td>0.88</td>\n      <td>0.877315</td>\n      <td>0.888889</td>\n      <td>0.000997066</td>\n      <td>0</td>\n    </tr>\n    <tr>\n      <th>8</th>\n      <td>0.88</td>\n      <td>0.877315</td>\n      <td>0.888889</td>\n      <td>0.000997066</td>\n      <td>0</td>\n    </tr>\n    <tr>\n      <th>9</th>\n      <td>0.88</td>\n      <td>0.877315</td>\n      <td>0.888889</td>\n      <td>0.000997543</td>\n      <td>0</td>\n    </tr>\n  </tbody>\n</table>\n</div>"
     },
     "metadata": {},
     "output_type": "display_data"
    },
    {
     "data": {
      "text/plain": "'Holdout Results for Iris Dataset and Decision Tree when Iterating over Max Tree Depth with splitter best'"
     },
     "metadata": {},
     "output_type": "display_data"
    },
    {
     "data": {
      "text/plain": "  accuracy precision    recall time training time testing\n1     0.58  0.466667  0.666667    0.00098896            0\n2      0.9   0.90305  0.912698    0.00099659            0\n3     0.92  0.919956  0.928571   0.000985861            0\n4     0.92  0.919956  0.928571    0.00100255            0\n5     0.92  0.919956  0.928571   0.000997543            0\n6     0.92  0.919956  0.928571    0.00099802            0\n7     0.92  0.919956  0.928571     0.0010035            0\n8     0.92  0.919956  0.928571   0.000997066            0\n9     0.92  0.919956  0.928571             0  0.000997305",
      "text/html": "<div>\n<style scoped>\n    .dataframe tbody tr th:only-of-type {\n        vertical-align: middle;\n    }\n\n    .dataframe tbody tr th {\n        vertical-align: top;\n    }\n\n    .dataframe thead th {\n        text-align: right;\n    }\n</style>\n<table border=\"1\" class=\"dataframe\">\n  <thead>\n    <tr style=\"text-align: right;\">\n      <th></th>\n      <th>accuracy</th>\n      <th>precision</th>\n      <th>recall</th>\n      <th>time training</th>\n      <th>time testing</th>\n    </tr>\n  </thead>\n  <tbody>\n    <tr>\n      <th>1</th>\n      <td>0.58</td>\n      <td>0.466667</td>\n      <td>0.666667</td>\n      <td>0.00098896</td>\n      <td>0</td>\n    </tr>\n    <tr>\n      <th>2</th>\n      <td>0.9</td>\n      <td>0.90305</td>\n      <td>0.912698</td>\n      <td>0.00099659</td>\n      <td>0</td>\n    </tr>\n    <tr>\n      <th>3</th>\n      <td>0.92</td>\n      <td>0.919956</td>\n      <td>0.928571</td>\n      <td>0.000985861</td>\n      <td>0</td>\n    </tr>\n    <tr>\n      <th>4</th>\n      <td>0.92</td>\n      <td>0.919956</td>\n      <td>0.928571</td>\n      <td>0.00100255</td>\n      <td>0</td>\n    </tr>\n    <tr>\n      <th>5</th>\n      <td>0.92</td>\n      <td>0.919956</td>\n      <td>0.928571</td>\n      <td>0.000997543</td>\n      <td>0</td>\n    </tr>\n    <tr>\n      <th>6</th>\n      <td>0.92</td>\n      <td>0.919956</td>\n      <td>0.928571</td>\n      <td>0.00099802</td>\n      <td>0</td>\n    </tr>\n    <tr>\n      <th>7</th>\n      <td>0.92</td>\n      <td>0.919956</td>\n      <td>0.928571</td>\n      <td>0.0010035</td>\n      <td>0</td>\n    </tr>\n    <tr>\n      <th>8</th>\n      <td>0.92</td>\n      <td>0.919956</td>\n      <td>0.928571</td>\n      <td>0.000997066</td>\n      <td>0</td>\n    </tr>\n    <tr>\n      <th>9</th>\n      <td>0.92</td>\n      <td>0.919956</td>\n      <td>0.928571</td>\n      <td>0</td>\n      <td>0.000997305</td>\n    </tr>\n  </tbody>\n</table>\n</div>"
     },
     "metadata": {},
     "output_type": "display_data"
    },
    {
     "data": {
      "text/plain": "[Text(167.4, 199.32, 'X[3] <= 0.8\\ngini = 0.667\\nsamples = 150\\nvalue = [50, 50, 50]'),\n Text(141.64615384615385, 163.07999999999998, 'gini = 0.0\\nsamples = 50\\nvalue = [50, 0, 0]'),\n Text(193.15384615384616, 163.07999999999998, 'X[3] <= 1.75\\ngini = 0.5\\nsamples = 100\\nvalue = [0, 50, 50]'),\n Text(103.01538461538462, 126.83999999999999, 'X[2] <= 4.95\\ngini = 0.168\\nsamples = 54\\nvalue = [0, 49, 5]'),\n Text(51.50769230769231, 90.6, 'X[3] <= 1.65\\ngini = 0.041\\nsamples = 48\\nvalue = [0, 47, 1]'),\n Text(25.753846153846155, 54.359999999999985, 'gini = 0.0\\nsamples = 47\\nvalue = [0, 47, 0]'),\n Text(77.26153846153846, 54.359999999999985, 'gini = 0.0\\nsamples = 1\\nvalue = [0, 0, 1]'),\n Text(154.52307692307693, 90.6, 'X[3] <= 1.55\\ngini = 0.444\\nsamples = 6\\nvalue = [0, 2, 4]'),\n Text(128.76923076923077, 54.359999999999985, 'gini = 0.0\\nsamples = 3\\nvalue = [0, 0, 3]'),\n Text(180.27692307692308, 54.359999999999985, 'X[2] <= 5.45\\ngini = 0.444\\nsamples = 3\\nvalue = [0, 2, 1]'),\n Text(154.52307692307693, 18.119999999999976, 'gini = 0.0\\nsamples = 2\\nvalue = [0, 2, 0]'),\n Text(206.03076923076924, 18.119999999999976, 'gini = 0.0\\nsamples = 1\\nvalue = [0, 0, 1]'),\n Text(283.2923076923077, 126.83999999999999, 'X[2] <= 4.85\\ngini = 0.043\\nsamples = 46\\nvalue = [0, 1, 45]'),\n Text(257.53846153846155, 90.6, 'X[0] <= 5.95\\ngini = 0.444\\nsamples = 3\\nvalue = [0, 1, 2]'),\n Text(231.7846153846154, 54.359999999999985, 'gini = 0.0\\nsamples = 1\\nvalue = [0, 1, 0]'),\n Text(283.2923076923077, 54.359999999999985, 'gini = 0.0\\nsamples = 2\\nvalue = [0, 0, 2]'),\n Text(309.04615384615386, 90.6, 'gini = 0.0\\nsamples = 43\\nvalue = [0, 0, 43]')]"
     },
     "execution_count": 9,
     "metadata": {},
     "output_type": "execute_result"
    },
    {
     "data": {
      "text/plain": "<Figure size 432x288 with 1 Axes>",
      "image/png": "[encoded data removed]"
     },
     "metadata": {
      "needs_background": "light"
     },
     "output_type": "display_data"
    }
   ],
   "source": [
    "from sklearn import tree\n",
    "\n",
    "# load the Iris dataset\n",
    "dataSet = datasets.load_iris()\n",
    "\n",
    "# max depth values\n",
    "max_depth_values = range(1,10)\n",
    "\n",
    "# Splitting approach\n",
    "splitting_approaches = ['random', 'best']\n",
    "\n",
    "data, target = shuffle(dataSet.data, dataSet.target, random_state=randomState)\n",
    "\n",
    "# Prepare dataframe for results\n",
    "decision_tree_results_iris = pd.DataFrame(columns=resultColumns, index=max_depth_values)\n",
    "\n",
    "# Prepare a train/test set split\n",
    "X_train, X_test, y_train, y_test = train_test_split(data, target, test_size=0.33, random_state=(randomState+1))\n",
    "\n",
    "for splitting_approach in splitting_approaches:\n",
    "    for max_depth in max_depth_values:\n",
    "        classifier = tree.DecisionTreeClassifier(criterion='gini', max_depth=max_depth, splitter=splitting_approach)\n",
    "        classifier.random_state = randomState\n",
    "\n",
    "        start_time_train = time.time()\n",
    "        classifier.fit(X_train, y_train)\n",
    "        end_time_train = time.time()\n",
    "\n",
    "        # predict the test set on our trained classifier\n",
    "        start_time_test = time.time()\n",
    "        y_test_predicted = classifier.predict(X_test)\n",
    "        end_time_test = time.time()\n",
    "\n",
    "        # Compute metrics\n",
    "        acc=metrics.accuracy_score(y_test, y_test_predicted)\n",
    "        precision=metrics.precision_score(y_test, y_test_predicted, average=averagingApproach, zero_division=zero_divisionApproach)\n",
    "        recall=metrics.recall_score(y_test, y_test_predicted, average=averagingApproach, zero_division=zero_divisionApproach)\n",
    "\n",
    "        # Report results of five fold validation metrics\n",
    "        scores = cross_val_score(classifier, data, target, cv=5)\n",
    "        print(\"5 Fold Results for Splitting Approach: \" + splitting_approach + \" and  max_depth: \" + str(max_depth))\n",
    "        print(\"Accuracy: %0.2f (+/- %0.2f)\" % (scores.mean(), scores.std() * 2))\n",
    "\n",
    "        decision_tree_results_iris.loc[max_depth] = pd.Series({\n",
    "            'accuracy':acc,\n",
    "            'precision':precision,\n",
    "            'recall':recall,\n",
    "            'time training':end_time_train-start_time_train,\n",
    "            'time testing':end_time_test-start_time_test\n",
    "        })\n",
    "\n",
    "    display(\"Holdout Results for Iris Dataset and Decision Tree when Iterating over Max Tree Depth with splitter \" + splitting_approach,\n",
    "            decision_tree_results_iris)\n",
    "\n",
    "#Store result with best accuracy in overall results dataframe\n",
    "best_result = decision_tree_results_iris[decision_tree_results_iris['accuracy']==decision_tree_results_iris['accuracy'].max()]\n",
    "overall_results_iris.loc['decision tree']=best_result.loc[best_result.last_valid_index()]\n",
    "\n",
    "decision_tree_results_iris[['accuracy','precision','recall']].plot.line()\n",
    "tree.plot_tree(classifier.fit(dataSet.data, dataSet.target),max_depth=5)"
   ],
   "metadata": {
    "collapsed": false,
    "pycharm": {
     "name": "#%%\n"
    }
   }
  },
  {
   "cell_type": "markdown",
   "source": [
    "#### Random and Best Splitting Approach for the Decision Tree on the Iris Dataset\n",
    "The overall results indicate that the \"best\" splitting parameter yields by far superior results compared to the \"random\" approach.\n",
    "\n",
    "Hence, for further analyses in this exercise this approach will be used.\n"
   ],
   "metadata": {
    "collapsed": false,
    "pycharm": {
     "name": "#%% md\n"
    }
   }
  },
  {
   "cell_type": "markdown",
   "source": [
    "#### Min Sample Leaf Values\n",
    "Additional analyses of the results from the previous step show that there is overfitting after a max depth of 2 with only limited benefits of additional splits.\n",
    "To counteract the creation of additional nodes, min_samples_leaf is added as parameter for an extensive high maximum depth (30)."
   ],
   "metadata": {
    "collapsed": false,
    "pycharm": {
     "name": "#%% md\n"
    }
   }
  },
  {
   "cell_type": "code",
   "execution_count": 10,
   "outputs": [
    {
     "name": "stdout",
     "output_type": "stream",
     "text": [
      "5 Fold Results for Decision Tree and Iris with min_sample_leaf: 2\n",
      "Accuracy: 0.94 (+/- 0.09)\n",
      "5 Fold Results for Decision Tree and Iris with min_sample_leaf: 3\n",
      "Accuracy: 0.93 (+/- 0.08)\n",
      "5 Fold Results for Decision Tree and Iris with min_sample_leaf: 4\n",
      "Accuracy: 0.93 (+/- 0.09)\n",
      "5 Fold Results for Decision Tree and Iris with min_sample_leaf: 5\n",
      "Accuracy: 0.93 (+/- 0.09)\n",
      "5 Fold Results for Decision Tree and Iris with min_sample_leaf: 6\n",
      "Accuracy: 0.93 (+/- 0.09)\n",
      "5 Fold Results for Decision Tree and Iris with min_sample_leaf: 7\n",
      "Accuracy: 0.93 (+/- 0.09)\n",
      "5 Fold Results for Decision Tree and Iris with min_sample_leaf: 8\n",
      "Accuracy: 0.93 (+/- 0.09)\n",
      "5 Fold Results for Decision Tree and Iris with min_sample_leaf: 9\n",
      "Accuracy: 0.93 (+/- 0.09)\n",
      "5 Fold Results for Decision Tree and Iris with min_sample_leaf: 10\n",
      "Accuracy: 0.93 (+/- 0.09)\n",
      "5 Fold Results for Decision Tree and Iris with min_sample_leaf: 11\n",
      "Accuracy: 0.93 (+/- 0.09)\n",
      "5 Fold Results for Decision Tree and Iris with min_sample_leaf: 12\n",
      "Accuracy: 0.93 (+/- 0.09)\n",
      "5 Fold Results for Decision Tree and Iris with min_sample_leaf: 13\n",
      "Accuracy: 0.93 (+/- 0.09)\n",
      "5 Fold Results for Decision Tree and Iris with min_sample_leaf: 14\n",
      "Accuracy: 0.93 (+/- 0.09)\n",
      "5 Fold Results for Decision Tree and Iris with min_sample_leaf: 15\n",
      "Accuracy: 0.93 (+/- 0.09)\n",
      "5 Fold Results for Decision Tree and Iris with min_sample_leaf: 16\n",
      "Accuracy: 0.93 (+/- 0.09)\n",
      "5 Fold Results for Decision Tree and Iris with min_sample_leaf: 17\n",
      "Accuracy: 0.93 (+/- 0.09)\n",
      "5 Fold Results for Decision Tree and Iris with min_sample_leaf: 18\n",
      "Accuracy: 0.93 (+/- 0.09)\n",
      "5 Fold Results for Decision Tree and Iris with min_sample_leaf: 19\n",
      "Accuracy: 0.93 (+/- 0.09)\n",
      "Holdout Results for Iris Dataset and Decision Tree when Iterating over Minimum Samples per Leaf Parameter:\n"
     ]
    },
    {
     "data": {
      "text/plain": "   accuracy precision    recall time training time testing\n2       0.9   0.90305  0.912698             0  0.000966072\n3       0.9   0.90305  0.912698    0.00198865            0\n4       0.9   0.90305  0.912698             0            0\n5       0.9   0.90305  0.912698   0.000996828            0\n6       0.9   0.90305  0.912698    0.00098896            0\n7       0.9   0.90305  0.912698   0.000997305            0\n8       0.9   0.90305  0.912698    0.00100541            0\n9       0.9   0.90305  0.912698   0.000998497            0\n10      0.9   0.90305  0.912698    0.00100851            0\n11      0.9   0.90305  0.912698   0.000997543            0\n12      0.9   0.90305  0.912698   0.000997066            0\n13      0.9   0.90305  0.912698             0            0\n14      0.9   0.90305  0.912698             0            0\n15      0.9   0.90305  0.912698    0.00100446            0\n16      0.9   0.90305  0.912698   0.000997305            0\n17      0.9   0.90305  0.912698   0.000997543            0\n18      0.9   0.90305  0.912698   0.000997305            0\n19      0.9   0.90305  0.912698    0.00100875  0.000985861",
      "text/html": "<div>\n<style scoped>\n    .dataframe tbody tr th:only-of-type {\n        vertical-align: middle;\n    }\n\n    .dataframe tbody tr th {\n        vertical-align: top;\n    }\n\n    .dataframe thead th {\n        text-align: right;\n    }\n</style>\n<table border=\"1\" class=\"dataframe\">\n  <thead>\n    <tr style=\"text-align: right;\">\n      <th></th>\n      <th>accuracy</th>\n      <th>precision</th>\n      <th>recall</th>\n      <th>time training</th>\n      <th>time testing</th>\n    </tr>\n  </thead>\n  <tbody>\n    <tr>\n      <th>2</th>\n      <td>0.9</td>\n      <td>0.90305</td>\n      <td>0.912698</td>\n      <td>0</td>\n      <td>0.000966072</td>\n    </tr>\n    <tr>\n      <th>3</th>\n      <td>0.9</td>\n      <td>0.90305</td>\n      <td>0.912698</td>\n      <td>0.00198865</td>\n      <td>0</td>\n    </tr>\n    <tr>\n      <th>4</th>\n      <td>0.9</td>\n      <td>0.90305</td>\n      <td>0.912698</td>\n      <td>0</td>\n      <td>0</td>\n    </tr>\n    <tr>\n      <th>5</th>\n      <td>0.9</td>\n      <td>0.90305</td>\n      <td>0.912698</td>\n      <td>0.000996828</td>\n      <td>0</td>\n    </tr>\n    <tr>\n      <th>6</th>\n      <td>0.9</td>\n      <td>0.90305</td>\n      <td>0.912698</td>\n      <td>0.00098896</td>\n      <td>0</td>\n    </tr>\n    <tr>\n      <th>7</th>\n      <td>0.9</td>\n      <td>0.90305</td>\n      <td>0.912698</td>\n      <td>0.000997305</td>\n      <td>0</td>\n    </tr>\n    <tr>\n      <th>8</th>\n      <td>0.9</td>\n      <td>0.90305</td>\n      <td>0.912698</td>\n      <td>0.00100541</td>\n      <td>0</td>\n    </tr>\n    <tr>\n      <th>9</th>\n      <td>0.9</td>\n      <td>0.90305</td>\n      <td>0.912698</td>\n      <td>0.000998497</td>\n      <td>0</td>\n    </tr>\n    <tr>\n      <th>10</th>\n      <td>0.9</td>\n      <td>0.90305</td>\n      <td>0.912698</td>\n      <td>0.00100851</td>\n      <td>0</td>\n    </tr>\n    <tr>\n      <th>11</th>\n      <td>0.9</td>\n      <td>0.90305</td>\n      <td>0.912698</td>\n      <td>0.000997543</td>\n      <td>0</td>\n    </tr>\n    <tr>\n      <th>12</th>\n      <td>0.9</td>\n      <td>0.90305</td>\n      <td>0.912698</td>\n      <td>0.000997066</td>\n      <td>0</td>\n    </tr>\n    <tr>\n      <th>13</th>\n      <td>0.9</td>\n      <td>0.90305</td>\n      <td>0.912698</td>\n      <td>0</td>\n      <td>0</td>\n    </tr>\n    <tr>\n      <th>14</th>\n      <td>0.9</td>\n      <td>0.90305</td>\n      <td>0.912698</td>\n      <td>0</td>\n      <td>0</td>\n    </tr>\n    <tr>\n      <th>15</th>\n      <td>0.9</td>\n      <td>0.90305</td>\n      <td>0.912698</td>\n      <td>0.00100446</td>\n      <td>0</td>\n    </tr>\n    <tr>\n      <th>16</th>\n      <td>0.9</td>\n      <td>0.90305</td>\n      <td>0.912698</td>\n      <td>0.000997305</td>\n      <td>0</td>\n    </tr>\n    <tr>\n      <th>17</th>\n      <td>0.9</td>\n      <td>0.90305</td>\n      <td>0.912698</td>\n      <td>0.000997543</td>\n      <td>0</td>\n    </tr>\n    <tr>\n      <th>18</th>\n      <td>0.9</td>\n      <td>0.90305</td>\n      <td>0.912698</td>\n      <td>0.000997305</td>\n      <td>0</td>\n    </tr>\n    <tr>\n      <th>19</th>\n      <td>0.9</td>\n      <td>0.90305</td>\n      <td>0.912698</td>\n      <td>0.00100875</td>\n      <td>0.000985861</td>\n    </tr>\n  </tbody>\n</table>\n</div>"
     },
     "metadata": {},
     "output_type": "display_data"
    },
    {
     "data": {
      "text/plain": "<matplotlib.axes._subplots.AxesSubplot at 0xe6b3d50>"
     },
     "execution_count": 10,
     "metadata": {},
     "output_type": "execute_result"
    },
    {
     "data": {
      "text/plain": "<Figure size 432x288 with 1 Axes>",
      "image/png": "[encoded data removed]"
     },
     "metadata": {
      "needs_background": "light"
     },
     "output_type": "display_data"
    }
   ],
   "source": [
    "# min sample leaf values values\n",
    "min_samples_leaf_values = range(2,20)\n",
    "max_depth = 30\n",
    "\n",
    "# Prepare dataframe for results\n",
    "decision_tree_results_iris_min_leaf = pd.DataFrame(columns=resultColumns, index=min_samples_leaf_values)\n",
    "\n",
    "for min_samples_leaf in min_samples_leaf_values:\n",
    "    classifier = tree.DecisionTreeClassifier(criterion='gini', max_depth=max_depth, min_samples_leaf=min_samples_leaf)\n",
    "    classifier.random_state = randomState\n",
    "\n",
    "    start_time_train = time.time()\n",
    "    classifier.fit(X_train, y_train)\n",
    "    end_time_train = time.time()\n",
    "\n",
    "    # predict the test set on our trained classifier\n",
    "    start_time_test = time.time()\n",
    "    y_test_predicted = classifier.predict(X_test)\n",
    "    end_time_test = time.time()\n",
    "\n",
    "    # Compute metrics\n",
    "    acc=metrics.accuracy_score(y_test, y_test_predicted)\n",
    "    precision=metrics.precision_score(y_test, y_test_predicted, average=averagingApproach, zero_division=zero_divisionApproach)\n",
    "    recall=metrics.recall_score(y_test, y_test_predicted, average=averagingApproach, zero_division=zero_divisionApproach)\n",
    "\n",
    "    # Report results of five fold validation metrics\n",
    "    scores = cross_val_score(classifier, data, target, cv=5)\n",
    "    print(\"5 Fold Results for Decision Tree and Iris with min_sample_leaf: \" + str(min_samples_leaf))\n",
    "    print(\"Accuracy: %0.2f (+/- %0.2f)\" % (scores.mean(), scores.std() * 2))\n",
    "\n",
    "    decision_tree_results_iris_min_leaf.loc[min_samples_leaf] = pd.Series({\n",
    "        'accuracy':acc,\n",
    "        'precision':precision,\n",
    "        'recall':recall,\n",
    "        'time training':end_time_train-start_time_train,\n",
    "        'time testing':end_time_test-start_time_test\n",
    "    })\n",
    "\n",
    "print(\"Holdout Results for Iris Dataset and Decision Tree when Iterating over Minimum Samples per Leaf Parameter:\")\n",
    "\n",
    "display(decision_tree_results_iris_min_leaf)\n",
    "decision_tree_results_iris_min_leaf[['accuracy','precision','recall']].plot.line()"
   ],
   "metadata": {
    "collapsed": false,
    "pycharm": {
     "name": "#%%\n"
    }
   }
  },
  {
   "cell_type": "markdown",
   "source": [
    "### Digits"
   ],
   "metadata": {
    "collapsed": false
   }
  },
  {
   "cell_type": "code",
   "execution_count": 11,
   "outputs": [
    {
     "name": "stdout",
     "output_type": "stream",
     "text": [
      "5 Fold Results for Decision Tree and Digits and max_depth: 1\n",
      "Accuracy: 0.20 (+/- 0.01)\n",
      "5 Fold Results for Decision Tree and Digits and max_depth: 2\n",
      "Accuracy: 0.32 (+/- 0.01)\n",
      "5 Fold Results for Decision Tree and Digits and max_depth: 3\n",
      "Accuracy: 0.47 (+/- 0.03)\n",
      "5 Fold Results for Decision Tree and Digits and max_depth: 4\n",
      "Accuracy: 0.57 (+/- 0.04)\n",
      "5 Fold Results for Decision Tree and Digits and max_depth: 5\n",
      "Accuracy: 0.65 (+/- 0.06)\n",
      "5 Fold Results for Decision Tree and Digits and max_depth: 6\n",
      "Accuracy: 0.75 (+/- 0.05)\n",
      "5 Fold Results for Decision Tree and Digits and max_depth: 7\n",
      "Accuracy: 0.81 (+/- 0.02)\n",
      "5 Fold Results for Decision Tree and Digits and max_depth: 8\n",
      "Accuracy: 0.84 (+/- 0.03)\n",
      "5 Fold Results for Decision Tree and Digits and max_depth: 9\n",
      "Accuracy: 0.85 (+/- 0.03)\n",
      "5 Fold Results for Decision Tree and Digits and max_depth: 10\n",
      "Accuracy: 0.86 (+/- 0.02)\n",
      "5 Fold Results for Decision Tree and Digits and max_depth: 11\n",
      "Accuracy: 0.86 (+/- 0.03)\n",
      "5 Fold Results for Decision Tree and Digits and max_depth: 12\n",
      "Accuracy: 0.86 (+/- 0.03)\n",
      "5 Fold Results for Decision Tree and Digits and max_depth: 13\n",
      "Accuracy: 0.86 (+/- 0.03)\n",
      "5 Fold Results for Decision Tree and Digits and max_depth: 14\n",
      "Accuracy: 0.87 (+/- 0.03)\n",
      "5 Fold Results for Decision Tree and Digits and max_depth: 15\n",
      "Accuracy: 0.87 (+/- 0.03)\n",
      "5 Fold Results for Decision Tree and Digits and max_depth: 16\n",
      "Accuracy: 0.87 (+/- 0.03)\n",
      "5 Fold Results for Decision Tree and Digits and max_depth: 17\n",
      "Accuracy: 0.87 (+/- 0.03)\n",
      "5 Fold Results for Decision Tree and Digits and max_depth: 18\n",
      "Accuracy: 0.87 (+/- 0.03)\n",
      "5 Fold Results for Decision Tree and Digits and max_depth: 19\n",
      "Accuracy: 0.87 (+/- 0.03)\n",
      "Results for Digits Dataset and Decision Tree:\n"
     ]
    },
    {
     "data": {
      "text/plain": "    accuracy  precision    recall time training time testing\n1   0.183502  0.0745474  0.198113    0.00199437            0\n2   0.294613   0.209627  0.315991    0.00398874            0\n3   0.462963   0.396473  0.471593    0.00498676  0.000997305\n4   0.550505   0.576076  0.558133    0.00797868            0\n5   0.664983   0.744789  0.665558    0.00897622            0\n6   0.750842   0.775607  0.751557    0.00997305            0\n7   0.801347   0.818605  0.803122     0.0109713   0.00099802\n8   0.826599   0.842328  0.830043     0.0129344            0\n9   0.838384   0.849072  0.841641     0.0139623            0\n10  0.851852   0.861205  0.853708     0.0129685  0.000999689\n11  0.856902   0.864214  0.858971     0.0149601            0\n12  0.855219   0.862779  0.856996     0.0139632  0.000997305\n13  0.851852   0.859355  0.853729     0.0139627  0.000996113\n14  0.853535   0.860797  0.855515     0.0149605  0.000999928\n15  0.853535   0.860797  0.855515     0.0149066            0\n16  0.853535   0.860797  0.855515     0.0149562            0\n17  0.853535   0.860797  0.855515     0.0149598            0\n18  0.853535   0.860797  0.855515     0.0149617            0\n19  0.853535   0.860797  0.855515     0.0149577            0",
      "text/html": "<div>\n<style scoped>\n    .dataframe tbody tr th:only-of-type {\n        vertical-align: middle;\n    }\n\n    .dataframe tbody tr th {\n        vertical-align: top;\n    }\n\n    .dataframe thead th {\n        text-align: right;\n    }\n</style>\n<table border=\"1\" class=\"dataframe\">\n  <thead>\n    <tr style=\"text-align: right;\">\n      <th></th>\n      <th>accuracy</th>\n      <th>precision</th>\n      <th>recall</th>\n      <th>time training</th>\n      <th>time testing</th>\n    </tr>\n  </thead>\n  <tbody>\n    <tr>\n      <th>1</th>\n      <td>0.183502</td>\n      <td>0.0745474</td>\n      <td>0.198113</td>\n      <td>0.00199437</td>\n      <td>0</td>\n    </tr>\n    <tr>\n      <th>2</th>\n      <td>0.294613</td>\n      <td>0.209627</td>\n      <td>0.315991</td>\n      <td>0.00398874</td>\n      <td>0</td>\n    </tr>\n    <tr>\n      <th>3</th>\n      <td>0.462963</td>\n      <td>0.396473</td>\n      <td>0.471593</td>\n      <td>0.00498676</td>\n      <td>0.000997305</td>\n    </tr>\n    <tr>\n      <th>4</th>\n      <td>0.550505</td>\n      <td>0.576076</td>\n      <td>0.558133</td>\n      <td>0.00797868</td>\n      <td>0</td>\n    </tr>\n    <tr>\n      <th>5</th>\n      <td>0.664983</td>\n      <td>0.744789</td>\n      <td>0.665558</td>\n      <td>0.00897622</td>\n      <td>0</td>\n    </tr>\n    <tr>\n      <th>6</th>\n      <td>0.750842</td>\n      <td>0.775607</td>\n      <td>0.751557</td>\n      <td>0.00997305</td>\n      <td>0</td>\n    </tr>\n    <tr>\n      <th>7</th>\n      <td>0.801347</td>\n      <td>0.818605</td>\n      <td>0.803122</td>\n      <td>0.0109713</td>\n      <td>0.00099802</td>\n    </tr>\n    <tr>\n      <th>8</th>\n      <td>0.826599</td>\n      <td>0.842328</td>\n      <td>0.830043</td>\n      <td>0.0129344</td>\n      <td>0</td>\n    </tr>\n    <tr>\n      <th>9</th>\n      <td>0.838384</td>\n      <td>0.849072</td>\n      <td>0.841641</td>\n      <td>0.0139623</td>\n      <td>0</td>\n    </tr>\n    <tr>\n      <th>10</th>\n      <td>0.851852</td>\n      <td>0.861205</td>\n      <td>0.853708</td>\n      <td>0.0129685</td>\n      <td>0.000999689</td>\n    </tr>\n    <tr>\n      <th>11</th>\n      <td>0.856902</td>\n      <td>0.864214</td>\n      <td>0.858971</td>\n      <td>0.0149601</td>\n      <td>0</td>\n    </tr>\n    <tr>\n      <th>12</th>\n      <td>0.855219</td>\n      <td>0.862779</td>\n      <td>0.856996</td>\n      <td>0.0139632</td>\n      <td>0.000997305</td>\n    </tr>\n    <tr>\n      <th>13</th>\n      <td>0.851852</td>\n      <td>0.859355</td>\n      <td>0.853729</td>\n      <td>0.0139627</td>\n      <td>0.000996113</td>\n    </tr>\n    <tr>\n      <th>14</th>\n      <td>0.853535</td>\n      <td>0.860797</td>\n      <td>0.855515</td>\n      <td>0.0149605</td>\n      <td>0.000999928</td>\n    </tr>\n    <tr>\n      <th>15</th>\n      <td>0.853535</td>\n      <td>0.860797</td>\n      <td>0.855515</td>\n      <td>0.0149066</td>\n      <td>0</td>\n    </tr>\n    <tr>\n      <th>16</th>\n      <td>0.853535</td>\n      <td>0.860797</td>\n      <td>0.855515</td>\n      <td>0.0149562</td>\n      <td>0</td>\n    </tr>\n    <tr>\n      <th>17</th>\n      <td>0.853535</td>\n      <td>0.860797</td>\n      <td>0.855515</td>\n      <td>0.0149598</td>\n      <td>0</td>\n    </tr>\n    <tr>\n      <th>18</th>\n      <td>0.853535</td>\n      <td>0.860797</td>\n      <td>0.855515</td>\n      <td>0.0149617</td>\n      <td>0</td>\n    </tr>\n    <tr>\n      <th>19</th>\n      <td>0.853535</td>\n      <td>0.860797</td>\n      <td>0.855515</td>\n      <td>0.0149577</td>\n      <td>0</td>\n    </tr>\n  </tbody>\n</table>\n</div>"
     },
     "metadata": {},
     "output_type": "display_data"
    },
    {
     "data": {
      "text/plain": "<Figure size 432x288 with 1 Axes>",
      "image/png": "[encoded data removed]"
     },
     "metadata": {
      "needs_background": "light"
     },
     "output_type": "display_data"
    },
    {
     "data": {
      "text/plain": "<Figure size 432x288 with 1 Axes>",
      "image/png": "[encoded data removed]"
     },
     "metadata": {
      "needs_background": "light"
     },
     "output_type": "display_data"
    }
   ],
   "source": [
    "from sklearn import tree\n",
    "\n",
    "# load the digit dataset\n",
    "dataSet = datasets.load_digits()\n",
    "\n",
    "# max depth values\n",
    "max_depth_values = range(1,20)\n",
    "\n",
    "data, target = shuffle(dataSet.data, dataSet.target, random_state=randomState)\n",
    "\n",
    "# Prepare dataframe for results\n",
    "decision_tree_results_digits = pd.DataFrame(columns=resultColumns, index=max_depth_values)\n",
    "\n",
    "# Prepare a train/test set split\n",
    "X_train, X_test, y_train, y_test = train_test_split(data, target, test_size=0.33, random_state=(randomState+1))\n",
    "\n",
    "for max_depth in max_depth_values:\n",
    "    classifier = tree.DecisionTreeClassifier(criterion='gini', max_depth=max_depth)\n",
    "    classifier.random_state = randomState\n",
    "\n",
    "    start_time_train = time.time()\n",
    "    classifier.fit(X_train, y_train)\n",
    "    end_time_train = time.time()\n",
    "\n",
    "    # predict the test set on our trained classifier\n",
    "    start_time_test = time.time()\n",
    "    y_test_predicted = classifier.predict(X_test)\n",
    "    end_time_test = time.time()\n",
    "\n",
    "    # Compute metrics\n",
    "    acc=metrics.accuracy_score(y_test, y_test_predicted)\n",
    "    precision=metrics.precision_score(y_test, y_test_predicted, average=averagingApproach, zero_division=zero_divisionApproach)\n",
    "    recall=metrics.recall_score(y_test, y_test_predicted, average=averagingApproach, zero_division=zero_divisionApproach)\n",
    "\n",
    "    # Report results of five fold validation metrics\n",
    "    scores = cross_val_score(classifier, data, target, cv=5)\n",
    "    print(\"5 Fold Results for Decision Tree and Digits and max_depth: \" + str(max_depth))\n",
    "    print(\"Accuracy: %0.2f (+/- %0.2f)\" % (scores.mean(), scores.std() * 2))\n",
    "\n",
    "    tree.plot_tree(classifier.fit(dataSet.data, dataSet.target),max_depth=5)\n",
    "\n",
    "    decision_tree_results_digits.loc[max_depth] = pd.Series({\n",
    "        'accuracy':acc,\n",
    "        'precision':precision,\n",
    "        'recall':recall,\n",
    "        'time training':end_time_train-start_time_train,\n",
    "        'time testing':end_time_test-start_time_test\n",
    "    })\n",
    "\n",
    "print(\"Results for Digits Dataset and Decision Tree:\")\n",
    "display(decision_tree_results_digits)\n",
    "decision_tree_results_digits[['accuracy','precision','recall']].plot.line()\n",
    "\n",
    "#Store result with best accuracy in overall results dataframe\n",
    "best_result = decision_tree_results_digits[decision_tree_results_digits['accuracy']==decision_tree_results_digits['accuracy'].max()]\n",
    "overall_results_digits.loc['decision tree']=best_result.loc[best_result.last_valid_index()]"
   ],
   "metadata": {
    "collapsed": false,
    "pycharm": {
     "name": "#%%\n"
    }
   }
  },
  {
   "cell_type": "markdown",
   "source": [
    "#### Results for Decision Tree on the Digits Dataset\n",
    "Analysis using the Decision Tree approach on the Digits Dataset show a high relevance of the defined max tree depth for accuracy, precision and recall with extremely low training and testing time.\n",
    "\n",
    "For a max depth of 7, the resulting tree yields good results with limited overfitting. Potential subsequent pruning could further reduce overfitting."
   ],
   "metadata": {
    "collapsed": false
   }
  },
  {
   "cell_type": "markdown",
   "source": [
    "# Overall Results\n",
    "## Iris Dataset"
   ],
   "metadata": {
    "collapsed": false,
    "pycharm": {
     "name": "#%% md\n"
    }
   }
  },
  {
   "cell_type": "code",
   "execution_count": 12,
   "outputs": [
    {
     "data": {
      "text/plain": "              accuracy precision    recall time training time testing\nk-NN              0.98  0.977778  0.984127   0.000997543   0.00199366\nbayes              0.9   0.90305  0.912698    0.00099802            0\nperceptron        0.34  0.432624       0.4    0.00299144            0\ndecision tree     0.92  0.919956  0.928571             0  0.000997305",
      "text/html": "<div>\n<style scoped>\n    .dataframe tbody tr th:only-of-type {\n        vertical-align: middle;\n    }\n\n    .dataframe tbody tr th {\n        vertical-align: top;\n    }\n\n    .dataframe thead th {\n        text-align: right;\n    }\n</style>\n<table border=\"1\" class=\"dataframe\">\n  <thead>\n    <tr style=\"text-align: right;\">\n      <th></th>\n      <th>accuracy</th>\n      <th>precision</th>\n      <th>recall</th>\n      <th>time training</th>\n      <th>time testing</th>\n    </tr>\n  </thead>\n  <tbody>\n    <tr>\n      <th>k-NN</th>\n      <td>0.98</td>\n      <td>0.977778</td>\n      <td>0.984127</td>\n      <td>0.000997543</td>\n      <td>0.00199366</td>\n    </tr>\n    <tr>\n      <th>bayes</th>\n      <td>0.9</td>\n      <td>0.90305</td>\n      <td>0.912698</td>\n      <td>0.00099802</td>\n      <td>0</td>\n    </tr>\n    <tr>\n      <th>perceptron</th>\n      <td>0.34</td>\n      <td>0.432624</td>\n      <td>0.4</td>\n      <td>0.00299144</td>\n      <td>0</td>\n    </tr>\n    <tr>\n      <th>decision tree</th>\n      <td>0.92</td>\n      <td>0.919956</td>\n      <td>0.928571</td>\n      <td>0</td>\n      <td>0.000997305</td>\n    </tr>\n  </tbody>\n</table>\n</div>"
     },
     "metadata": {},
     "output_type": "display_data"
    }
   ],
   "source": [
    "display(overall_results_iris)"
   ],
   "metadata": {
    "collapsed": false,
    "pycharm": {
     "name": "#%%\n"
    }
   }
  },
  {
   "cell_type": "markdown",
   "source": [
    "### Effectiveness\n",
    "Despite the heterogenous approaches used, acccuracy, precision and recall were good across most approaches with the notable exception of the Perceptron.\n",
    "\n",
    "The data set may hence be prone to ceiling effects for measuring effectiveness for such numerical categorization tasks.\n",
    "\n",
    "### Efficiency\n",
    "In the datasets used as well as in the approaches applied, the training and testing time measured were low to non-measurable.\n",
    "\n",
    "Benchmarking with these limited differences across approaches would be too prone to additional confounding variables such as running background tasks and other effects not associated with the machine learning tasks.\n"
   ],
   "metadata": {
    "collapsed": false
   }
  },
  {
   "cell_type": "markdown",
   "source": [
    "## Handwritten Numbers/Digit Dataset"
   ],
   "metadata": {
    "collapsed": false
   }
  },
  {
   "cell_type": "code",
   "execution_count": 13,
   "outputs": [
    {
     "data": {
      "text/plain": "               accuracy precision    recall time training time testing\nk-NN           0.991582   0.99161  0.991301     0.0169542    0.0917544\nbayes          0.833333  0.850641  0.833908    0.00199437   0.00299287\nperceptron     0.939394   0.94141   0.93962     0.0229361  0.000970125\ndecision tree  0.856902  0.864214  0.858971     0.0149601            0",
      "text/html": "<div>\n<style scoped>\n    .dataframe tbody tr th:only-of-type {\n        vertical-align: middle;\n    }\n\n    .dataframe tbody tr th {\n        vertical-align: top;\n    }\n\n    .dataframe thead th {\n        text-align: right;\n    }\n</style>\n<table border=\"1\" class=\"dataframe\">\n  <thead>\n    <tr style=\"text-align: right;\">\n      <th></th>\n      <th>accuracy</th>\n      <th>precision</th>\n      <th>recall</th>\n      <th>time training</th>\n      <th>time testing</th>\n    </tr>\n  </thead>\n  <tbody>\n    <tr>\n      <th>k-NN</th>\n      <td>0.991582</td>\n      <td>0.99161</td>\n      <td>0.991301</td>\n      <td>0.0169542</td>\n      <td>0.0917544</td>\n    </tr>\n    <tr>\n      <th>bayes</th>\n      <td>0.833333</td>\n      <td>0.850641</td>\n      <td>0.833908</td>\n      <td>0.00199437</td>\n      <td>0.00299287</td>\n    </tr>\n    <tr>\n      <th>perceptron</th>\n      <td>0.939394</td>\n      <td>0.94141</td>\n      <td>0.93962</td>\n      <td>0.0229361</td>\n      <td>0.000970125</td>\n    </tr>\n    <tr>\n      <th>decision tree</th>\n      <td>0.856902</td>\n      <td>0.864214</td>\n      <td>0.858971</td>\n      <td>0.0149601</td>\n      <td>0</td>\n    </tr>\n  </tbody>\n</table>\n</div>"
     },
     "metadata": {},
     "output_type": "display_data"
    }
   ],
   "source": [
    "display(overall_results_digits)"
   ],
   "metadata": {
    "collapsed": false,
    "pycharm": {
     "name": "#%%\n"
    }
   }
  },
  {
   "cell_type": "markdown",
   "source": [
    "### Effectiveness\n",
    "Again,  acccuracy, precision and recall were good across all approaches.\n",
    "In this specific case, also the perceptron yielded notable better results.\n",
    "\n",
    "Again, the data set may  be prone to ceiling effects for measuring effectiveness for such image recognition tasks.\n",
    "\n",
    "### Efficiency\n",
    "Similar to the Iris dataset the training and testing time measured were low to non-measurable.\n",
    "\n",
    "Benchmarking with these limited differences across approaches would be too prone to additional confounding variables such as running background tasks and other effects not associated with the machine learning tasks.\n",
    "Larger and more complex datasets would yield more meaningful results in terms of efficiency.\n",
    "\n",
    "## Splitting Techniques\n",
    "As described earlier (see kNN for the Iris Dataset), cross validation of results in Scikit proved to be easily applicable and a valuable additional information for the interpretation of the results yielded.\n"
   ],
   "metadata": {
    "collapsed": false
   }
  }
 ],
 "metadata": {
  "kernelspec": {
   "display_name": "Python 3",
   "language": "python",
   "name": "python3"
  },
  "language_info": {
   "codemirror_mode": {
    "name": "ipython",
    "version": 2
   },
   "file_extension": ".py",
   "mimetype": "text/x-python",
   "name": "python",
   "nbconvert_exporter": "python",
   "pygments_lexer": "ipython2",
   "version": "2.7.6"
  }
 },
 "nbformat": 4,
 "nbformat_minor": 0
}