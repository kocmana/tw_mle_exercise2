{
 "cells": [
  {
   "cell_type": "markdown",
   "metadata": {
    "collapsed": true,
    "pycharm": {
     "name": "#%% md\n"
    }
   },
   "source": [
    "# MLE - Exercise 2 - Comparative Experimentation\n",
    "## Andreas Kocman (se19m024)\n",
    "\n",
    "## Assignment\n",
    "In this exercise, you shall experiment with a number of (simple) algorithms on several datasets. The aim is to get a feeling how well each of these algorithms works, and whether there are differences depending on the dataset.\n",
    "\n",
    "The datasets are\n",
    "* [Iris](https://archive.ics.uci.edu/ml/datasets/Iris), for Python, use http://scikit-learn.org/stable/modules/generated/sklearn.datasets.load_iris.html)\n",
    "* [Handwritten digits](https://archive.ics.uci.edu/ml/datasets/Optical+Recognition+of+Handwritten+Digits), of which we only use the test set of 1797 instances; for Python, use http://scikit-learn.org/stable/modules/generated/sklearn.datasets.load_digits.html)\n",
    "* If you are a group of three (see below): [Breast Cancer dataset](https://archive.ics.uci.edu/ml/datasets/Breast+Cancer+Wisconsin+(Diagnostic)); skip the ID field; in Python: http://scikit-learn.org/stable/modules/generated/sklearn.datasets.load_breast_cancer.html)\n",
    "\n",
    "The classifiers you shall use are\n",
    "* k-NN (with 3 different values for k)\n",
    "* Naive Bayes\n",
    "* Perceptron, and\n",
    "* Decision Trees with 3 different parameter settings (e.g. some pre-pruning setting, different split criterion, ...)\n",
    "\n",
    "For each dataset, you shall train and evaluate each classifier (with parameter variations), and then compute several evaluation metrics\n",
    "* Effectiveness: Accuracy, and 1 more of your choice (precision, recall, F1, ...\n",
    "* Efficiency: runtime for training & testing\n",
    "* As evaluation set splitting technique, you shall use once the holdout method with 2/3 training and the rest for testing, and once cross validation with 5 folds.\n",
    "\n",
    "You shall present these results in a tabular form, with one table for each dataset & splitting combination approach.\n",
    "\n",
    "Iris/5-folds | Accuracy | Precision| Training time | Testing time\n",
    "---|---|---|---|---|---\n",
    "k-NN (3-NN) | .85 | .82 | 0.1 sec | 27 sec\n",
    "Naive Bayes | .72 | .82 | 1 sec | 2 sec\n",
    "Decision Tree | .92 | .76 | 5 sec | 2 sec\n",
    "... | ... | ...| ... | ...\n",
    "\n",
    "Then describe the results, and analyse e.g.:\n",
    "* Which classifiers work best?\n",
    "* Are there differences between the datasets?\n",
    "* Are the differences in the efficiency measurements?\n",
    "* How is the runtime changing with the different data sets?\n",
    "* ...\n",
    "\n",
    "You can solve this exercise alone, or in a group of two students. If you form a group, you need to extend your scope, by\n",
    "* Adding a third dataset, namely breast cancer wisconsin\n",
    "* For k-NN, using 5 different values for k instead of 3, and use both weighted and uniform distance (i.e. a total of 10 combinations); for Decision Trees, also add 3 more parameter variations\n",
    "* Adding a third efficiency evaluation metric\n",
    "\n",
    "## Deliverables\n",
    "Your submission shall contain\n",
    "* The textual report\n",
    "* All code samples and\n",
    "* All data sets (if not already included in your software package, e.g. Python)"
   ]
  },
  {
   "cell_type": "markdown",
   "source": [
    "## Sources used\n",
    "* Scikit documentation\n",
    "* https://simonhessner.de/why-are-precision-recall-and-f1-score-equal-when-using-micro-averaging-in-a-multi-class-problem/"
   ],
   "metadata": {
    "collapsed": false,
    "pycharm": {
     "name": "#%% md\n"
    }
   }
  },
  {
   "cell_type": "code",
   "execution_count": 1,
   "outputs": [],
   "source": [
    "#General Imports\n",
    "import numpy as numpy\n",
    "from sklearn.model_selection import train_test_split\n",
    "from sklearn import datasets\n",
    "from sklearn import metrics\n",
    "from sklearn.utils import shuffle\n",
    "from sklearn.model_selection import cross_val_score\n",
    "from sklearn.model_selection import cross_validate\n",
    "from sklearn.model_selection import KFold\n",
    "import pandas as pd\n",
    "import time\n",
    "\n",
    "#Data reporting\n",
    "from IPython.display import display\n",
    "\n",
    "#Global variables\n",
    "randomState=24  # change the state with the numeric parts of your matrikelnummer; if you are in a group, use the sume of the numeric parts\n",
    "                # se19m024\n",
    "averagingApproach = 'macro'\n",
    "scoring = ['accuracy', 'precision_macro', 'recall_macro']\n",
    "zero_divisionApproach = 0\n",
    "number_of_folds = 5\n",
    "\n",
    "#Overall report\n",
    "ml_approaches = ['k-NN', 'bayes', 'perceptron', 'decision tree']\n",
    "resultColumns = ['dataset','approach','arguments','split','accuracy','precision','recall','time training', 'time testing']\n",
    "\n",
    "#Helper funcitons\n",
    "def parse_k_fold_results(results):\n",
    "    return \"m: \" + str(numpy.average(results)) + \" std: \" + str(numpy.std(results)) # + \" values: \" + str(results)\n",
    "\n",
    "def parse_k_fold_timings(results):\n",
    "    return \"total: \" + str(numpy.sum(results)) + \" values: \" + str(results)\n"
   ],
   "metadata": {
    "collapsed": false,
    "pycharm": {
     "name": "#%%\n"
    }
   }
  },
  {
   "cell_type": "code",
   "execution_count": 2,
   "outputs": [],
   "source": [
    "from sklearn import neighbors\n",
    "\n",
    "knn_results = []\n",
    "testvalues = [3,10,15]\n",
    "\n",
    "# parameters for k-NN\n",
    "n_neighbors = testvalues\n",
    "for dataset in [('iris', datasets.load_iris()),('digits', datasets.load_digits())]:\n",
    "    # Shuffle our input data\n",
    "    data, target = shuffle(dataset[1].data, dataset[1].target, random_state=randomState)\n",
    "\n",
    "    # Prepare a train/test set split\n",
    "    X_train, X_test, y_train, y_test = train_test_split(data, target, test_size=0.33, random_state=(randomState+1))\n",
    "\n",
    "    for n in n_neighbors:\n",
    "        # train the k-NN\n",
    "        classifier = neighbors.KNeighborsClassifier(n)\n",
    "        classifier.random_state = randomState\n",
    "        start_time_train = time.time()\n",
    "        classifier.fit(X_train, y_train)\n",
    "        end_time_train = time.time()\n",
    "\n",
    "        # predict the test set on our trained classifier\n",
    "        start_time_test = time.time()\n",
    "        y_test_predicted = classifier.predict(X_test)\n",
    "        end_time_test = time.time()\n",
    "\n",
    "        # Compute metrics for holdout\n",
    "        acc = metrics.accuracy_score(y_test, y_test_predicted)\n",
    "        recall=metrics.recall_score(y_test, y_test_predicted, average=averagingApproach, zero_division=zero_divisionApproach)\n",
    "        precision = metrics.precision_score(y_test, y_test_predicted, average=averagingApproach, zero_division=zero_divisionApproach)\n",
    "\n",
    "        result = pd.Series({\n",
    "            'dataset': dataset[0],\n",
    "            'approach':'kNN',\n",
    "            'arguments': 'n=' + str(n),\n",
    "            'split': 'holdout',\n",
    "            'accuracy':acc,\n",
    "            'precision':precision,\n",
    "            'recall':recall,\n",
    "            'time training':end_time_train-start_time_train,\n",
    "            'time testing':end_time_test-start_time_test\n",
    "        })\n",
    "        knn_results.append(result)\n",
    "\n",
    "        # Compute metrics for k fold\n",
    "        scores = cross_validate(classifier, data, target,\n",
    "                                scoring = scoring,\n",
    "                                cv = number_of_folds,\n",
    "                                error_score = 0 )\n",
    "\n",
    "        result = pd.Series({\n",
    "            'dataset': dataset[0],\n",
    "            'approach':'kNN',\n",
    "            'arguments': 'n=' + str(n),\n",
    "            'split': 'k-fold',\n",
    "            'accuracy': parse_k_fold_results(scores.get('test_accuracy')),\n",
    "            'precision': parse_k_fold_results(scores.get('test_precision_macro')),\n",
    "            'recall':parse_k_fold_results(scores.get('test_recall_macro')),\n",
    "            'time training':parse_k_fold_timings(scores.get('fit_time')),\n",
    "            'time testing':parse_k_fold_timings(scores.get('score_time'))\n",
    "        })\n",
    "        knn_results.append(result)\n",
    "\n",
    "knn_results_df = pd.DataFrame(knn_results)"
   ],
   "metadata": {
    "collapsed": false,
    "pycharm": {
     "name": "#%%\n"
    }
   }
  },
  {
   "cell_type": "markdown",
   "source": [
    "### Iris\n",
    "The results below show extremely high accuracy for kNN both with N values of 3, 10 and 15."
   ],
   "metadata": {
    "collapsed": false
   }
  },
  {
   "cell_type": "code",
   "execution_count": 3,
   "outputs": [
    {
     "data": {
      "text/plain": "  dataset approach arguments    split accuracy precision    recall  \\\n0    iris      kNN       n=3  holdout     0.94  0.941176  0.952381   \n2    iris      kNN      n=10  holdout     0.92  0.925926  0.936508   \n4    iris      kNN      n=15  holdout     0.92  0.925926  0.936508   \n\n  time training time testing  \n0             0    0.0029912  \n2    0.00100708   0.00198483  \n4   0.000997543   0.00199461  ",
      "text/html": "<div>\n<style scoped>\n    .dataframe tbody tr th:only-of-type {\n        vertical-align: middle;\n    }\n\n    .dataframe tbody tr th {\n        vertical-align: top;\n    }\n\n    .dataframe thead th {\n        text-align: right;\n    }\n</style>\n<table border=\"1\" class=\"dataframe\">\n  <thead>\n    <tr style=\"text-align: right;\">\n      <th></th>\n      <th>dataset</th>\n      <th>approach</th>\n      <th>arguments</th>\n      <th>split</th>\n      <th>accuracy</th>\n      <th>precision</th>\n      <th>recall</th>\n      <th>time training</th>\n      <th>time testing</th>\n    </tr>\n  </thead>\n  <tbody>\n    <tr>\n      <th>0</th>\n      <td>iris</td>\n      <td>kNN</td>\n      <td>n=3</td>\n      <td>holdout</td>\n      <td>0.94</td>\n      <td>0.941176</td>\n      <td>0.952381</td>\n      <td>0</td>\n      <td>0.0029912</td>\n    </tr>\n    <tr>\n      <th>2</th>\n      <td>iris</td>\n      <td>kNN</td>\n      <td>n=10</td>\n      <td>holdout</td>\n      <td>0.92</td>\n      <td>0.925926</td>\n      <td>0.936508</td>\n      <td>0.00100708</td>\n      <td>0.00198483</td>\n    </tr>\n    <tr>\n      <th>4</th>\n      <td>iris</td>\n      <td>kNN</td>\n      <td>n=15</td>\n      <td>holdout</td>\n      <td>0.92</td>\n      <td>0.925926</td>\n      <td>0.936508</td>\n      <td>0.000997543</td>\n      <td>0.00199461</td>\n    </tr>\n  </tbody>\n</table>\n</div>"
     },
     "metadata": {},
     "output_type": "display_data"
    },
    {
     "data": {
      "text/plain": "  dataset approach arguments   split  \\\n1    iris      kNN       n=3  k-fold   \n3    iris      kNN      n=10  k-fold   \n5    iris      kNN      n=15  k-fold   \n\n                                          accuracy  \\\n1  m: 0.9600000000000002 std: 0.024944382578492935   \n3   m: 0.9733333333333334 std: 0.05333333333333332   \n5  m: 0.9733333333333334 std: 0.038873012632301994   \n\n                                         precision  \\\n1   m: 0.9612121212121212 std: 0.02530983396099532   \n3               m: 0.975 std: 0.049999999999999996   \n5  m: 0.9744107744107744 std: 0.037890383559960134   \n\n                                            recall  \\\n1                m: 0.96 std: 0.024944382578492984   \n3  m: 0.9733333333333334 std: 0.053333333333333365   \n5  m: 0.9733333333333334 std: 0.038873012632301994   \n\n                                       time training  \\\n1  total: 0.0029926300048828125 values: [0.000997...   \n3  total: 0.0019941329956054688 values: [0.      ...   \n5  total: 0.0019826889038085938 values: [0.000985...   \n\n                                        time testing  \n1  total: 0.013962507247924805 values: [0.0029921...  \n3  total: 0.012965917587280273 values: [0.0029921...  \n5  total: 0.014960050582885742 values: [0.0029919...  ",
      "text/html": "<div>\n<style scoped>\n    .dataframe tbody tr th:only-of-type {\n        vertical-align: middle;\n    }\n\n    .dataframe tbody tr th {\n        vertical-align: top;\n    }\n\n    .dataframe thead th {\n        text-align: right;\n    }\n</style>\n<table border=\"1\" class=\"dataframe\">\n  <thead>\n    <tr style=\"text-align: right;\">\n      <th></th>\n      <th>dataset</th>\n      <th>approach</th>\n      <th>arguments</th>\n      <th>split</th>\n      <th>accuracy</th>\n      <th>precision</th>\n      <th>recall</th>\n      <th>time training</th>\n      <th>time testing</th>\n    </tr>\n  </thead>\n  <tbody>\n    <tr>\n      <th>1</th>\n      <td>iris</td>\n      <td>kNN</td>\n      <td>n=3</td>\n      <td>k-fold</td>\n      <td>m: 0.9600000000000002 std: 0.024944382578492935</td>\n      <td>m: 0.9612121212121212 std: 0.02530983396099532</td>\n      <td>m: 0.96 std: 0.024944382578492984</td>\n      <td>total: 0.0029926300048828125 values: [0.000997...</td>\n      <td>total: 0.013962507247924805 values: [0.0029921...</td>\n    </tr>\n    <tr>\n      <th>3</th>\n      <td>iris</td>\n      <td>kNN</td>\n      <td>n=10</td>\n      <td>k-fold</td>\n      <td>m: 0.9733333333333334 std: 0.05333333333333332</td>\n      <td>m: 0.975 std: 0.049999999999999996</td>\n      <td>m: 0.9733333333333334 std: 0.053333333333333365</td>\n      <td>total: 0.0019941329956054688 values: [0.      ...</td>\n      <td>total: 0.012965917587280273 values: [0.0029921...</td>\n    </tr>\n    <tr>\n      <th>5</th>\n      <td>iris</td>\n      <td>kNN</td>\n      <td>n=15</td>\n      <td>k-fold</td>\n      <td>m: 0.9733333333333334 std: 0.038873012632301994</td>\n      <td>m: 0.9744107744107744 std: 0.037890383559960134</td>\n      <td>m: 0.9733333333333334 std: 0.038873012632301994</td>\n      <td>total: 0.0019826889038085938 values: [0.000985...</td>\n      <td>total: 0.014960050582885742 values: [0.0029919...</td>\n    </tr>\n  </tbody>\n</table>\n</div>"
     },
     "metadata": {},
     "output_type": "display_data"
    }
   ],
   "source": [
    "display(knn_results_df[(knn_results_df['dataset']=='iris') & (knn_results_df['split']=='holdout')])\n",
    "display(knn_results_df[(knn_results_df['dataset']=='iris') & (knn_results_df['split']=='k-fold')])"
   ],
   "metadata": {
    "collapsed": false,
    "pycharm": {
     "name": "#%%\n"
    }
   }
  },
  {
   "cell_type": "markdown",
   "source": [
    "### Handwritten Numbers"
   ],
   "metadata": {
    "collapsed": false,
    "pycharm": {
     "name": "#%% md\n"
    }
   }
  },
  {
   "cell_type": "code",
   "execution_count": 4,
   "outputs": [
    {
     "data": {
      "text/plain": "   dataset approach arguments    split  accuracy precision    recall  \\\n6   digits      kNN       n=3  holdout  0.991582   0.99161  0.991301   \n8   digits      kNN      n=10  holdout  0.976431  0.976702  0.976281   \n10  digits      kNN      n=15  holdout  0.969697  0.969727  0.969164   \n\n   time training time testing  \n6      0.0179558    0.0987611  \n8       0.017952     0.102726  \n10     0.0159569     0.092752  ",
      "text/html": "<div>\n<style scoped>\n    .dataframe tbody tr th:only-of-type {\n        vertical-align: middle;\n    }\n\n    .dataframe tbody tr th {\n        vertical-align: top;\n    }\n\n    .dataframe thead th {\n        text-align: right;\n    }\n</style>\n<table border=\"1\" class=\"dataframe\">\n  <thead>\n    <tr style=\"text-align: right;\">\n      <th></th>\n      <th>dataset</th>\n      <th>approach</th>\n      <th>arguments</th>\n      <th>split</th>\n      <th>accuracy</th>\n      <th>precision</th>\n      <th>recall</th>\n      <th>time training</th>\n      <th>time testing</th>\n    </tr>\n  </thead>\n  <tbody>\n    <tr>\n      <th>6</th>\n      <td>digits</td>\n      <td>kNN</td>\n      <td>n=3</td>\n      <td>holdout</td>\n      <td>0.991582</td>\n      <td>0.99161</td>\n      <td>0.991301</td>\n      <td>0.0179558</td>\n      <td>0.0987611</td>\n    </tr>\n    <tr>\n      <th>8</th>\n      <td>digits</td>\n      <td>kNN</td>\n      <td>n=10</td>\n      <td>holdout</td>\n      <td>0.976431</td>\n      <td>0.976702</td>\n      <td>0.976281</td>\n      <td>0.017952</td>\n      <td>0.102726</td>\n    </tr>\n    <tr>\n      <th>10</th>\n      <td>digits</td>\n      <td>kNN</td>\n      <td>n=15</td>\n      <td>holdout</td>\n      <td>0.969697</td>\n      <td>0.969727</td>\n      <td>0.969164</td>\n      <td>0.0159569</td>\n      <td>0.092752</td>\n    </tr>\n  </tbody>\n</table>\n</div>"
     },
     "metadata": {},
     "output_type": "display_data"
    },
    {
     "data": {
      "text/plain": "   dataset approach arguments   split  \\\n7   digits      kNN       n=3  k-fold   \n9   digits      kNN      n=10  k-fold   \n11  digits      kNN      n=15  k-fold   \n\n                                           accuracy  \\\n7   m: 0.9883209532652429 std: 0.007323832501573226   \n9   m: 0.9805277004023523 std: 0.007241231361602902   \n11  m: 0.9771850820179511 std: 0.008687630086523833   \n\n                                          precision  \\\n7    m: 0.9888385412595939 std: 0.00712739147876576   \n9    m: 0.9816830468409415 std: 0.00662931853158472   \n11  m: 0.9786983227511679 std: 0.007575736564379982   \n\n                                             recall  \\\n7   m: 0.9882972972972972 std: 0.007208664307978579   \n9    m: 0.9804048249930603 std: 0.00715395193374626   \n11  m: 0.9770371716254068 std: 0.008674693211716449   \n\n                                        time training  \\\n7   total: 0.10275459289550781 values: [0.02094388...   \n9   total: 0.10275840759277344 values: [0.02194023...   \n11  total: 0.09970474243164062 values: [0.01994562...   \n\n                                         time testing  \n7   total: 0.3311154842376709 values: [0.06682134 ...  \n9   total: 0.337064266204834 values: [0.07081056 0...  \n11  total: 0.32419276237487793 values: [0.06382966...  ",
      "text/html": "<div>\n<style scoped>\n    .dataframe tbody tr th:only-of-type {\n        vertical-align: middle;\n    }\n\n    .dataframe tbody tr th {\n        vertical-align: top;\n    }\n\n    .dataframe thead th {\n        text-align: right;\n    }\n</style>\n<table border=\"1\" class=\"dataframe\">\n  <thead>\n    <tr style=\"text-align: right;\">\n      <th></th>\n      <th>dataset</th>\n      <th>approach</th>\n      <th>arguments</th>\n      <th>split</th>\n      <th>accuracy</th>\n      <th>precision</th>\n      <th>recall</th>\n      <th>time training</th>\n      <th>time testing</th>\n    </tr>\n  </thead>\n  <tbody>\n    <tr>\n      <th>7</th>\n      <td>digits</td>\n      <td>kNN</td>\n      <td>n=3</td>\n      <td>k-fold</td>\n      <td>m: 0.9883209532652429 std: 0.007323832501573226</td>\n      <td>m: 0.9888385412595939 std: 0.00712739147876576</td>\n      <td>m: 0.9882972972972972 std: 0.007208664307978579</td>\n      <td>total: 0.10275459289550781 values: [0.02094388...</td>\n      <td>total: 0.3311154842376709 values: [0.06682134 ...</td>\n    </tr>\n    <tr>\n      <th>9</th>\n      <td>digits</td>\n      <td>kNN</td>\n      <td>n=10</td>\n      <td>k-fold</td>\n      <td>m: 0.9805277004023523 std: 0.007241231361602902</td>\n      <td>m: 0.9816830468409415 std: 0.00662931853158472</td>\n      <td>m: 0.9804048249930603 std: 0.00715395193374626</td>\n      <td>total: 0.10275840759277344 values: [0.02194023...</td>\n      <td>total: 0.337064266204834 values: [0.07081056 0...</td>\n    </tr>\n    <tr>\n      <th>11</th>\n      <td>digits</td>\n      <td>kNN</td>\n      <td>n=15</td>\n      <td>k-fold</td>\n      <td>m: 0.9771850820179511 std: 0.008687630086523833</td>\n      <td>m: 0.9786983227511679 std: 0.007575736564379982</td>\n      <td>m: 0.9770371716254068 std: 0.008674693211716449</td>\n      <td>total: 0.09970474243164062 values: [0.01994562...</td>\n      <td>total: 0.32419276237487793 values: [0.06382966...</td>\n    </tr>\n  </tbody>\n</table>\n</div>"
     },
     "metadata": {},
     "output_type": "display_data"
    }
   ],
   "source": [
    "display(knn_results_df[(knn_results_df['dataset']=='digits') & (knn_results_df['split']=='holdout')])\n",
    "display(knn_results_df[(knn_results_df['dataset']=='digits') & (knn_results_df['split']=='k-fold')])"
   ],
   "metadata": {
    "collapsed": false,
    "pycharm": {
     "name": "#%%\n"
    }
   }
  },
  {
   "cell_type": "markdown",
   "source": [
    "##### Results:\n",
    "The results indicate a best fit of a solution for n=9."
   ],
   "metadata": {
    "collapsed": false
   }
  },
  {
   "cell_type": "markdown",
   "source": [
    "## Naive Bayes"
   ],
   "metadata": {
    "collapsed": false
   }
  },
  {
   "cell_type": "code",
   "execution_count": 5,
   "outputs": [],
   "source": [
    "from sklearn import naive_bayes\n",
    "\n",
    "bayes_results = []\n",
    "\n",
    "for dataset in [('iris', datasets.load_iris()),('digits', datasets.load_digits())]:\n",
    "    # Shuffle our input data\n",
    "    data, target = shuffle(dataset[1].data, dataset[1].target, random_state=randomState)\n",
    "\n",
    "    # Prepare a train/test set split\n",
    "    X_train, X_test, y_train, y_test = train_test_split(data, target, test_size=0.33, random_state=(randomState+1))\n",
    "\n",
    "    # train the bayes model\n",
    "    classifier = naive_bayes.GaussianNB()\n",
    "    classifier.random_state = randomState\n",
    "    start_time_train = time.time()\n",
    "    classifier.fit(X_train, y_train)\n",
    "    end_time_train = time.time()\n",
    "\n",
    "    # predict the test set on our trained classifier\n",
    "    start_time_test = time.time()\n",
    "    y_test_predicted = classifier.predict(X_test)\n",
    "    end_time_test = time.time()\n",
    "\n",
    "    # Compute metrics for holdout\n",
    "    acc = metrics.accuracy_score(y_test, y_test_predicted)\n",
    "    recall=metrics.recall_score(y_test, y_test_predicted, average=averagingApproach, zero_division=zero_divisionApproach)\n",
    "    precision = metrics.precision_score(y_test, y_test_predicted, average=averagingApproach, zero_division=zero_divisionApproach)\n",
    "\n",
    "    result = pd.Series({\n",
    "        'dataset': dataset[0],\n",
    "        'approach':'bayes',\n",
    "        'arguments': 'none',\n",
    "        'split': 'holdout',\n",
    "        'accuracy':acc,\n",
    "        'precision':precision,\n",
    "        'recall':recall,\n",
    "        'time training':end_time_train-start_time_train,\n",
    "        'time testing':end_time_test-start_time_test\n",
    "    })\n",
    "    bayes_results.append(result)\n",
    "\n",
    "    # Compute metrics for k fold\n",
    "    scores = cross_validate(classifier, data, target,\n",
    "                            scoring = scoring,\n",
    "                            cv = number_of_folds,\n",
    "                            error_score = 0)\n",
    "\n",
    "    result = pd.Series({\n",
    "        'dataset': dataset[0],\n",
    "        'approach': 'bayes',\n",
    "        'arguments': 'none',\n",
    "        'split': 'k-fold',\n",
    "        'accuracy': parse_k_fold_results(scores.get('test_accuracy')),\n",
    "        'precision': parse_k_fold_results(scores.get('test_precision_macro')),\n",
    "        'recall':parse_k_fold_results(scores.get('test_recall_macro')),\n",
    "        'time training':parse_k_fold_timings(scores.get('fit_time')),\n",
    "        'time testing':parse_k_fold_timings(scores.get('score_time'))\n",
    "    })\n",
    "    bayes_results.append(result)\n",
    "\n",
    "bayes_results_df = pd.DataFrame(bayes_results)\n"
   ],
   "metadata": {
    "collapsed": false,
    "pycharm": {
     "name": "#%%\n"
    }
   }
  },
  {
   "cell_type": "markdown",
   "source": [
    "### Iris"
   ],
   "metadata": {
    "collapsed": false,
    "pycharm": {
     "name": "#%% md\n"
    }
   }
  },
  {
   "cell_type": "code",
   "execution_count": 6,
   "outputs": [
    {
     "data": {
      "text/plain": "  dataset approach arguments    split accuracy precision    recall  \\\n0    iris    bayes      none  holdout      0.9   0.90305  0.912698   \n\n  time training time testing  \n0   0.000997305            0  ",
      "text/html": "<div>\n<style scoped>\n    .dataframe tbody tr th:only-of-type {\n        vertical-align: middle;\n    }\n\n    .dataframe tbody tr th {\n        vertical-align: top;\n    }\n\n    .dataframe thead th {\n        text-align: right;\n    }\n</style>\n<table border=\"1\" class=\"dataframe\">\n  <thead>\n    <tr style=\"text-align: right;\">\n      <th></th>\n      <th>dataset</th>\n      <th>approach</th>\n      <th>arguments</th>\n      <th>split</th>\n      <th>accuracy</th>\n      <th>precision</th>\n      <th>recall</th>\n      <th>time training</th>\n      <th>time testing</th>\n    </tr>\n  </thead>\n  <tbody>\n    <tr>\n      <th>0</th>\n      <td>iris</td>\n      <td>bayes</td>\n      <td>none</td>\n      <td>holdout</td>\n      <td>0.9</td>\n      <td>0.90305</td>\n      <td>0.912698</td>\n      <td>0.000997305</td>\n      <td>0</td>\n    </tr>\n  </tbody>\n</table>\n</div>"
     },
     "metadata": {},
     "output_type": "display_data"
    },
    {
     "data": {
      "text/plain": "  dataset approach arguments   split  \\\n1    iris    bayes      none  k-fold   \n\n                                         accuracy  \\\n1  m: 0.9533333333333334 std: 0.03399346342395189   \n\n                                        precision  \\\n1  m: 0.9550168350168351 std: 0.03375719358407477   \n\n                                          recall  \\\n1  m: 0.9533333333333334 std: 0.0339934634239519   \n\n                                       time training  \\\n1  total: 0.0029859542846679688 values: [0.000996...   \n\n                                        time testing  \n1  total: 0.005992412567138672 values: [0.0009999...  ",
      "text/html": "<div>\n<style scoped>\n    .dataframe tbody tr th:only-of-type {\n        vertical-align: middle;\n    }\n\n    .dataframe tbody tr th {\n        vertical-align: top;\n    }\n\n    .dataframe thead th {\n        text-align: right;\n    }\n</style>\n<table border=\"1\" class=\"dataframe\">\n  <thead>\n    <tr style=\"text-align: right;\">\n      <th></th>\n      <th>dataset</th>\n      <th>approach</th>\n      <th>arguments</th>\n      <th>split</th>\n      <th>accuracy</th>\n      <th>precision</th>\n      <th>recall</th>\n      <th>time training</th>\n      <th>time testing</th>\n    </tr>\n  </thead>\n  <tbody>\n    <tr>\n      <th>1</th>\n      <td>iris</td>\n      <td>bayes</td>\n      <td>none</td>\n      <td>k-fold</td>\n      <td>m: 0.9533333333333334 std: 0.03399346342395189</td>\n      <td>m: 0.9550168350168351 std: 0.03375719358407477</td>\n      <td>m: 0.9533333333333334 std: 0.0339934634239519</td>\n      <td>total: 0.0029859542846679688 values: [0.000996...</td>\n      <td>total: 0.005992412567138672 values: [0.0009999...</td>\n    </tr>\n  </tbody>\n</table>\n</div>"
     },
     "metadata": {},
     "output_type": "display_data"
    }
   ],
   "source": [
    "display(bayes_results_df[(bayes_results_df['dataset']=='iris') & (bayes_results_df['split']=='holdout')])\n",
    "display(bayes_results_df[(bayes_results_df['dataset']=='iris') & (bayes_results_df['split']=='k-fold')])"
   ],
   "metadata": {
    "collapsed": false,
    "pycharm": {
     "name": "#%%\n"
    }
   }
  },
  {
   "cell_type": "markdown",
   "source": [
    "### Handwritten Numbers"
   ],
   "metadata": {
    "collapsed": false
   }
  },
  {
   "cell_type": "code",
   "execution_count": 7,
   "outputs": [
    {
     "data": {
      "text/plain": "  dataset approach arguments    split  accuracy precision    recall  \\\n2  digits    bayes      none  holdout  0.833333  0.850641  0.833908   \n\n  time training time testing  \n2    0.00199437    0.0019691  ",
      "text/html": "<div>\n<style scoped>\n    .dataframe tbody tr th:only-of-type {\n        vertical-align: middle;\n    }\n\n    .dataframe tbody tr th {\n        vertical-align: top;\n    }\n\n    .dataframe thead th {\n        text-align: right;\n    }\n</style>\n<table border=\"1\" class=\"dataframe\">\n  <thead>\n    <tr style=\"text-align: right;\">\n      <th></th>\n      <th>dataset</th>\n      <th>approach</th>\n      <th>arguments</th>\n      <th>split</th>\n      <th>accuracy</th>\n      <th>precision</th>\n      <th>recall</th>\n      <th>time training</th>\n      <th>time testing</th>\n    </tr>\n  </thead>\n  <tbody>\n    <tr>\n      <th>2</th>\n      <td>digits</td>\n      <td>bayes</td>\n      <td>none</td>\n      <td>holdout</td>\n      <td>0.833333</td>\n      <td>0.850641</td>\n      <td>0.833908</td>\n      <td>0.00199437</td>\n      <td>0.0019691</td>\n    </tr>\n  </tbody>\n</table>\n</div>"
     },
     "metadata": {},
     "output_type": "display_data"
    },
    {
     "data": {
      "text/plain": "  dataset approach arguments   split  \\\n3  digits    bayes      none  k-fold   \n\n                                          accuracy  \\\n3  m: 0.8324945837202105 std: 0.009286635323422067   \n\n                                         precision  \\\n3  m: 0.8598088622118409 std: 0.015147678383072103   \n\n                                            recall  \\\n3  m: 0.8325454614278144 std: 0.009764788694682724   \n\n                                       time training  \\\n3  total: 0.01199197769165039 values: [0.00199556...   \n\n                                        time testing  \n3  total: 0.01297307014465332 values: [0.00299144...  ",
      "text/html": "<div>\n<style scoped>\n    .dataframe tbody tr th:only-of-type {\n        vertical-align: middle;\n    }\n\n    .dataframe tbody tr th {\n        vertical-align: top;\n    }\n\n    .dataframe thead th {\n        text-align: right;\n    }\n</style>\n<table border=\"1\" class=\"dataframe\">\n  <thead>\n    <tr style=\"text-align: right;\">\n      <th></th>\n      <th>dataset</th>\n      <th>approach</th>\n      <th>arguments</th>\n      <th>split</th>\n      <th>accuracy</th>\n      <th>precision</th>\n      <th>recall</th>\n      <th>time training</th>\n      <th>time testing</th>\n    </tr>\n  </thead>\n  <tbody>\n    <tr>\n      <th>3</th>\n      <td>digits</td>\n      <td>bayes</td>\n      <td>none</td>\n      <td>k-fold</td>\n      <td>m: 0.8324945837202105 std: 0.009286635323422067</td>\n      <td>m: 0.8598088622118409 std: 0.015147678383072103</td>\n      <td>m: 0.8325454614278144 std: 0.009764788694682724</td>\n      <td>total: 0.01199197769165039 values: [0.00199556...</td>\n      <td>total: 0.01297307014465332 values: [0.00299144...</td>\n    </tr>\n  </tbody>\n</table>\n</div>"
     },
     "metadata": {},
     "output_type": "display_data"
    }
   ],
   "source": [
    "display(bayes_results_df[(bayes_results_df['dataset']=='digits') & (bayes_results_df['split']=='holdout')])\n",
    "display(bayes_results_df[(bayes_results_df['dataset']=='digits') & (bayes_results_df['split']=='k-fold')])"
   ],
   "metadata": {
    "collapsed": false,
    "pycharm": {
     "name": "#%%\n"
    }
   }
  },
  {
   "cell_type": "markdown",
   "source": [
    "##### Results:\n",
    "* Analysis using Bayes on the *Iris* dataset show good values for accuracy, precision and recall with extremely low training and testing time.\n",
    "* Analysis using Bayes on the *Digit Dataset* show still good values for accuracy, precision and recall with extremely low training and testing time.\n",
    "\n",
    "However, compared to k NN, the results for this data set are significantly lower for Bayes. While this was similar for the Iris dataset, with lower accuracy for bayes than for the k-nn, the difference was not similarly strong.\n"
   ],
   "metadata": {
    "collapsed": false
   }
  },
  {
   "cell_type": "markdown",
   "source": [
    "## Perceptron"
   ],
   "metadata": {
    "collapsed": false
   }
  },
  {
   "cell_type": "code",
   "execution_count": 8,
   "outputs": [
    {
     "name": "stderr",
     "output_type": "stream",
     "text": [
      "f:\\informatik\\tw_mle_exercise2\\venv\\lib\\site-packages\\sklearn\\metrics\\_classification.py:1272: UndefinedMetricWarning: Precision is ill-defined and being set to 0.0 in labels with no predicted samples. Use `zero_division` parameter to control this behavior.\n",
      "  _warn_prf(average, modifier, msg_start, len(result))\n",
      "f:\\informatik\\tw_mle_exercise2\\venv\\lib\\site-packages\\sklearn\\metrics\\_classification.py:1272: UndefinedMetricWarning: Precision is ill-defined and being set to 0.0 in labels with no predicted samples. Use `zero_division` parameter to control this behavior.\n",
      "  _warn_prf(average, modifier, msg_start, len(result))\n"
     ]
    }
   ],
   "source": [
    "from sklearn import linear_model\n",
    "\n",
    "perceptron_results = []\n",
    "\n",
    "for dataset in [('iris', datasets.load_iris()),('digits', datasets.load_digits())]:\n",
    "    # Shuffle our input data\n",
    "    data, target = shuffle(dataset[1].data, dataset[1].target, random_state=randomState)\n",
    "\n",
    "    # Prepare a train/test set split\n",
    "    X_train, X_test, y_train, y_test = train_test_split(data, target, test_size=0.33, random_state=(randomState+1))\n",
    "\n",
    "    # train the bayes model\n",
    "    classifier = linear_model.Perceptron()\n",
    "    classifier.random_state = randomState\n",
    "    start_time_train = time.time()\n",
    "    classifier.fit(X_train, y_train)\n",
    "    end_time_train = time.time()\n",
    "\n",
    "    # predict the test set on our trained classifier\n",
    "    start_time_test = time.time()\n",
    "    y_test_predicted = classifier.predict(X_test)\n",
    "    end_time_test = time.time()\n",
    "\n",
    "    # Compute metrics for holdout\n",
    "    acc = metrics.accuracy_score(y_test, y_test_predicted)\n",
    "    recall=metrics.recall_score(y_test, y_test_predicted, average=averagingApproach, zero_division=zero_divisionApproach)\n",
    "    precision = metrics.precision_score(y_test, y_test_predicted, average=averagingApproach, zero_division=zero_divisionApproach)\n",
    "\n",
    "    result = pd.Series({\n",
    "        'dataset': dataset[0],\n",
    "        'approach':'perceptron',\n",
    "        'arguments': 'none',\n",
    "        'split': 'holdout',\n",
    "        'accuracy':acc,\n",
    "        'precision':precision,\n",
    "        'recall':recall,\n",
    "        'time training':end_time_train-start_time_train,\n",
    "        'time testing':end_time_test-start_time_test\n",
    "    })\n",
    "    perceptron_results.append(result)\n",
    "\n",
    "    # Compute metrics for k fold\n",
    "    scores = cross_validate(classifier, data, target,\n",
    "                            scoring = scoring,\n",
    "                            cv = number_of_folds,\n",
    "                            error_score = 0)\n",
    "\n",
    "    result = pd.Series({\n",
    "        'dataset': dataset[0],\n",
    "        'approach': 'perceptron',\n",
    "        'arguments': 'none',\n",
    "        'split': 'k-fold',\n",
    "        'accuracy': parse_k_fold_results(scores.get('test_accuracy')),\n",
    "        'precision': parse_k_fold_results(scores.get('test_precision_macro')),\n",
    "        'recall':parse_k_fold_results(scores.get('test_recall_macro')),\n",
    "        'time training':parse_k_fold_timings(scores.get('fit_time')),\n",
    "        'time testing':parse_k_fold_timings(scores.get('score_time'))\n",
    "    })\n",
    "    perceptron_results.append(result)\n",
    "\n",
    "perceptron_results_df = pd.DataFrame(perceptron_results)\n"
   ],
   "metadata": {
    "collapsed": false,
    "pycharm": {
     "name": "#%%\n"
    }
   }
  },
  {
   "cell_type": "markdown",
   "source": [
    "### Iris"
   ],
   "metadata": {
    "collapsed": false
   }
  },
  {
   "cell_type": "code",
   "execution_count": 9,
   "outputs": [
    {
     "data": {
      "text/plain": "  dataset    approach arguments    split accuracy precision recall  \\\n0    iris  perceptron      none  holdout     0.34  0.432624    0.4   \n\n  time training time testing  \n0    0.00202298            0  ",
      "text/html": "<div>\n<style scoped>\n    .dataframe tbody tr th:only-of-type {\n        vertical-align: middle;\n    }\n\n    .dataframe tbody tr th {\n        vertical-align: top;\n    }\n\n    .dataframe thead th {\n        text-align: right;\n    }\n</style>\n<table border=\"1\" class=\"dataframe\">\n  <thead>\n    <tr style=\"text-align: right;\">\n      <th></th>\n      <th>dataset</th>\n      <th>approach</th>\n      <th>arguments</th>\n      <th>split</th>\n      <th>accuracy</th>\n      <th>precision</th>\n      <th>recall</th>\n      <th>time training</th>\n      <th>time testing</th>\n    </tr>\n  </thead>\n  <tbody>\n    <tr>\n      <th>0</th>\n      <td>iris</td>\n      <td>perceptron</td>\n      <td>none</td>\n      <td>holdout</td>\n      <td>0.34</td>\n      <td>0.432624</td>\n      <td>0.4</td>\n      <td>0.00202298</td>\n      <td>0</td>\n    </tr>\n  </tbody>\n</table>\n</div>"
     },
     "metadata": {},
     "output_type": "display_data"
    },
    {
     "data": {
      "text/plain": "  dataset    approach arguments   split                          accuracy  \\\n1    iris  perceptron      none  k-fold  m: 0.74 std: 0.10413666234542207   \n\n                                        precision  \\\n1  m: 0.6742889463477699 std: 0.19998100699035673   \n\n                             recall  \\\n1  m: 0.74 std: 0.10413666234542203   \n\n                                       time training  \\\n1  total: 0.009000301361083984 values: [0.0019946...   \n\n                                        time testing  \n1  total: 0.008951425552368164 values: [0.0029592...  ",
      "text/html": "<div>\n<style scoped>\n    .dataframe tbody tr th:only-of-type {\n        vertical-align: middle;\n    }\n\n    .dataframe tbody tr th {\n        vertical-align: top;\n    }\n\n    .dataframe thead th {\n        text-align: right;\n    }\n</style>\n<table border=\"1\" class=\"dataframe\">\n  <thead>\n    <tr style=\"text-align: right;\">\n      <th></th>\n      <th>dataset</th>\n      <th>approach</th>\n      <th>arguments</th>\n      <th>split</th>\n      <th>accuracy</th>\n      <th>precision</th>\n      <th>recall</th>\n      <th>time training</th>\n      <th>time testing</th>\n    </tr>\n  </thead>\n  <tbody>\n    <tr>\n      <th>1</th>\n      <td>iris</td>\n      <td>perceptron</td>\n      <td>none</td>\n      <td>k-fold</td>\n      <td>m: 0.74 std: 0.10413666234542207</td>\n      <td>m: 0.6742889463477699 std: 0.19998100699035673</td>\n      <td>m: 0.74 std: 0.10413666234542203</td>\n      <td>total: 0.009000301361083984 values: [0.0019946...</td>\n      <td>total: 0.008951425552368164 values: [0.0029592...</td>\n    </tr>\n  </tbody>\n</table>\n</div>"
     },
     "metadata": {},
     "output_type": "display_data"
    }
   ],
   "source": [
    "display(perceptron_results_df[(perceptron_results_df['dataset']=='iris') & (perceptron_results_df['split']=='holdout')])\n",
    "display(perceptron_results_df[(perceptron_results_df['dataset']=='iris') & (perceptron_results_df['split']=='k-fold')])"
   ],
   "metadata": {
    "collapsed": false,
    "pycharm": {
     "name": "#%%\n"
    }
   }
  },
  {
   "cell_type": "markdown",
   "source": [
    "### Handwritten Numbers"
   ],
   "metadata": {
    "collapsed": false
   }
  },
  {
   "cell_type": "code",
   "execution_count": 10,
   "outputs": [
    {
     "data": {
      "text/plain": "  dataset    approach arguments    split  accuracy precision   recall  \\\n2  digits  perceptron      none  holdout  0.939394   0.94141  0.93962   \n\n  time training time testing  \n2     0.0239067            0  ",
      "text/html": "<div>\n<style scoped>\n    .dataframe tbody tr th:only-of-type {\n        vertical-align: middle;\n    }\n\n    .dataframe tbody tr th {\n        vertical-align: top;\n    }\n\n    .dataframe thead th {\n        text-align: right;\n    }\n</style>\n<table border=\"1\" class=\"dataframe\">\n  <thead>\n    <tr style=\"text-align: right;\">\n      <th></th>\n      <th>dataset</th>\n      <th>approach</th>\n      <th>arguments</th>\n      <th>split</th>\n      <th>accuracy</th>\n      <th>precision</th>\n      <th>recall</th>\n      <th>time training</th>\n      <th>time testing</th>\n    </tr>\n  </thead>\n  <tbody>\n    <tr>\n      <th>2</th>\n      <td>digits</td>\n      <td>perceptron</td>\n      <td>none</td>\n      <td>holdout</td>\n      <td>0.939394</td>\n      <td>0.94141</td>\n      <td>0.93962</td>\n      <td>0.0239067</td>\n      <td>0</td>\n    </tr>\n  </tbody>\n</table>\n</div>"
     },
     "metadata": {},
     "output_type": "display_data"
    },
    {
     "data": {
      "text/plain": "  dataset    approach arguments   split  \\\n3  digits  perceptron      none  k-fold   \n\n                                          accuracy  \\\n3  m: 0.9410229031259671 std: 0.015849668296257387   \n\n                                        precision  \\\n3  m: 0.9472330796425998 std: 0.01371753706347739   \n\n                                            recall  \\\n3  m: 0.9410189264895147 std: 0.015777826142176866   \n\n                                       time training  \\\n3  total: 0.13663363456726074 values: [0.02892208...   \n\n                                        time testing  \n3  total: 0.00698399543762207 values: [0.00099802...  ",
      "text/html": "<div>\n<style scoped>\n    .dataframe tbody tr th:only-of-type {\n        vertical-align: middle;\n    }\n\n    .dataframe tbody tr th {\n        vertical-align: top;\n    }\n\n    .dataframe thead th {\n        text-align: right;\n    }\n</style>\n<table border=\"1\" class=\"dataframe\">\n  <thead>\n    <tr style=\"text-align: right;\">\n      <th></th>\n      <th>dataset</th>\n      <th>approach</th>\n      <th>arguments</th>\n      <th>split</th>\n      <th>accuracy</th>\n      <th>precision</th>\n      <th>recall</th>\n      <th>time training</th>\n      <th>time testing</th>\n    </tr>\n  </thead>\n  <tbody>\n    <tr>\n      <th>3</th>\n      <td>digits</td>\n      <td>perceptron</td>\n      <td>none</td>\n      <td>k-fold</td>\n      <td>m: 0.9410229031259671 std: 0.015849668296257387</td>\n      <td>m: 0.9472330796425998 std: 0.01371753706347739</td>\n      <td>m: 0.9410189264895147 std: 0.015777826142176866</td>\n      <td>total: 0.13663363456726074 values: [0.02892208...</td>\n      <td>total: 0.00698399543762207 values: [0.00099802...</td>\n    </tr>\n  </tbody>\n</table>\n</div>"
     },
     "metadata": {},
     "output_type": "display_data"
    }
   ],
   "source": [
    "display(perceptron_results_df[(perceptron_results_df['dataset']=='digits') & (perceptron_results_df['split']=='holdout')])\n",
    "display(perceptron_results_df[(perceptron_results_df['dataset']=='digits') & (perceptron_results_df['split']=='k-fold')])"
   ],
   "metadata": {
    "collapsed": false,
    "pycharm": {
     "name": "#%%\n"
    }
   }
  },
  {
   "cell_type": "markdown",
   "source": [
    "##### Results:\n",
    "* Analysis using the Perceptron approach on the *Iris dataset* show low values for accuracy, precision and recall with extremely low training and testing time.\n",
    "Compared to both Bayes and k NN, the results for this data set are significantly lower.\n",
    "* Analysis using the Perceptron approach on the *Digits dataset* show very good values for accuracy, precision and recall with extremely low training and testing time.\n",
    "Both Bayes and kNN yielded comparable results. The difference between the Digit and Iris dataset show Perceptron's high susceptibility to the data it is used for."
   ],
   "metadata": {
    "collapsed": false
   }
  },
  {
   "cell_type": "markdown",
   "source": [
    "## Decision Tree"
   ],
   "metadata": {
    "collapsed": false
   }
  },
  {
   "cell_type": "code",
   "execution_count": 11,
   "outputs": [
    {
     "name": "stderr",
     "output_type": "stream",
     "text": [
      "f:\\informatik\\tw_mle_exercise2\\venv\\lib\\site-packages\\sklearn\\metrics\\_classification.py:1272: UndefinedMetricWarning: Precision is ill-defined and being set to 0.0 in labels with no predicted samples. Use `zero_division` parameter to control this behavior.\n",
      "  _warn_prf(average, modifier, msg_start, len(result))\n",
      "f:\\informatik\\tw_mle_exercise2\\venv\\lib\\site-packages\\sklearn\\metrics\\_classification.py:1272: UndefinedMetricWarning: Precision is ill-defined and being set to 0.0 in labels with no predicted samples. Use `zero_division` parameter to control this behavior.\n",
      "  _warn_prf(average, modifier, msg_start, len(result))\n",
      "f:\\informatik\\tw_mle_exercise2\\venv\\lib\\site-packages\\sklearn\\metrics\\_classification.py:1272: UndefinedMetricWarning: Precision is ill-defined and being set to 0.0 in labels with no predicted samples. Use `zero_division` parameter to control this behavior.\n",
      "  _warn_prf(average, modifier, msg_start, len(result))\n",
      "f:\\informatik\\tw_mle_exercise2\\venv\\lib\\site-packages\\sklearn\\metrics\\_classification.py:1272: UndefinedMetricWarning: Precision is ill-defined and being set to 0.0 in labels with no predicted samples. Use `zero_division` parameter to control this behavior.\n",
      "  _warn_prf(average, modifier, msg_start, len(result))\n",
      "f:\\informatik\\tw_mle_exercise2\\venv\\lib\\site-packages\\sklearn\\metrics\\_classification.py:1272: UndefinedMetricWarning: Precision is ill-defined and being set to 0.0 in labels with no predicted samples. Use `zero_division` parameter to control this behavior.\n",
      "  _warn_prf(average, modifier, msg_start, len(result))\n",
      "f:\\informatik\\tw_mle_exercise2\\venv\\lib\\site-packages\\sklearn\\metrics\\_classification.py:1272: UndefinedMetricWarning: Precision is ill-defined and being set to 0.0 in labels with no predicted samples. Use `zero_division` parameter to control this behavior.\n",
      "  _warn_prf(average, modifier, msg_start, len(result))\n",
      "f:\\informatik\\tw_mle_exercise2\\venv\\lib\\site-packages\\sklearn\\metrics\\_classification.py:1272: UndefinedMetricWarning: Precision is ill-defined and being set to 0.0 in labels with no predicted samples. Use `zero_division` parameter to control this behavior.\n",
      "  _warn_prf(average, modifier, msg_start, len(result))\n",
      "f:\\informatik\\tw_mle_exercise2\\venv\\lib\\site-packages\\sklearn\\metrics\\_classification.py:1272: UndefinedMetricWarning: Precision is ill-defined and being set to 0.0 in labels with no predicted samples. Use `zero_division` parameter to control this behavior.\n",
      "  _warn_prf(average, modifier, msg_start, len(result))\n",
      "f:\\informatik\\tw_mle_exercise2\\venv\\lib\\site-packages\\sklearn\\metrics\\_classification.py:1272: UndefinedMetricWarning: Precision is ill-defined and being set to 0.0 in labels with no predicted samples. Use `zero_division` parameter to control this behavior.\n",
      "  _warn_prf(average, modifier, msg_start, len(result))\n",
      "f:\\informatik\\tw_mle_exercise2\\venv\\lib\\site-packages\\sklearn\\metrics\\_classification.py:1272: UndefinedMetricWarning: Precision is ill-defined and being set to 0.0 in labels with no predicted samples. Use `zero_division` parameter to control this behavior.\n",
      "  _warn_prf(average, modifier, msg_start, len(result))\n",
      "f:\\informatik\\tw_mle_exercise2\\venv\\lib\\site-packages\\sklearn\\metrics\\_classification.py:1272: UndefinedMetricWarning: Precision is ill-defined and being set to 0.0 in labels with no predicted samples. Use `zero_division` parameter to control this behavior.\n",
      "  _warn_prf(average, modifier, msg_start, len(result))\n",
      "f:\\informatik\\tw_mle_exercise2\\venv\\lib\\site-packages\\sklearn\\metrics\\_classification.py:1272: UndefinedMetricWarning: Precision is ill-defined and being set to 0.0 in labels with no predicted samples. Use `zero_division` parameter to control this behavior.\n",
      "  _warn_prf(average, modifier, msg_start, len(result))\n",
      "f:\\informatik\\tw_mle_exercise2\\venv\\lib\\site-packages\\sklearn\\metrics\\_classification.py:1272: UndefinedMetricWarning: Precision is ill-defined and being set to 0.0 in labels with no predicted samples. Use `zero_division` parameter to control this behavior.\n",
      "  _warn_prf(average, modifier, msg_start, len(result))\n",
      "f:\\informatik\\tw_mle_exercise2\\venv\\lib\\site-packages\\sklearn\\metrics\\_classification.py:1272: UndefinedMetricWarning: Precision is ill-defined and being set to 0.0 in labels with no predicted samples. Use `zero_division` parameter to control this behavior.\n",
      "  _warn_prf(average, modifier, msg_start, len(result))\n",
      "f:\\informatik\\tw_mle_exercise2\\venv\\lib\\site-packages\\sklearn\\metrics\\_classification.py:1272: UndefinedMetricWarning: Precision is ill-defined and being set to 0.0 in labels with no predicted samples. Use `zero_division` parameter to control this behavior.\n",
      "  _warn_prf(average, modifier, msg_start, len(result))\n",
      "f:\\informatik\\tw_mle_exercise2\\venv\\lib\\site-packages\\sklearn\\metrics\\_classification.py:1272: UndefinedMetricWarning: Precision is ill-defined and being set to 0.0 in labels with no predicted samples. Use `zero_division` parameter to control this behavior.\n",
      "  _warn_prf(average, modifier, msg_start, len(result))\n",
      "f:\\informatik\\tw_mle_exercise2\\venv\\lib\\site-packages\\sklearn\\metrics\\_classification.py:1272: UndefinedMetricWarning: Precision is ill-defined and being set to 0.0 in labels with no predicted samples. Use `zero_division` parameter to control this behavior.\n",
      "  _warn_prf(average, modifier, msg_start, len(result))\n",
      "f:\\informatik\\tw_mle_exercise2\\venv\\lib\\site-packages\\sklearn\\metrics\\_classification.py:1272: UndefinedMetricWarning: Precision is ill-defined and being set to 0.0 in labels with no predicted samples. Use `zero_division` parameter to control this behavior.\n",
      "  _warn_prf(average, modifier, msg_start, len(result))\n",
      "f:\\informatik\\tw_mle_exercise2\\venv\\lib\\site-packages\\sklearn\\metrics\\_classification.py:1272: UndefinedMetricWarning: Precision is ill-defined and being set to 0.0 in labels with no predicted samples. Use `zero_division` parameter to control this behavior.\n",
      "  _warn_prf(average, modifier, msg_start, len(result))\n",
      "f:\\informatik\\tw_mle_exercise2\\venv\\lib\\site-packages\\sklearn\\metrics\\_classification.py:1272: UndefinedMetricWarning: Precision is ill-defined and being set to 0.0 in labels with no predicted samples. Use `zero_division` parameter to control this behavior.\n",
      "  _warn_prf(average, modifier, msg_start, len(result))\n",
      "f:\\informatik\\tw_mle_exercise2\\venv\\lib\\site-packages\\sklearn\\metrics\\_classification.py:1272: UndefinedMetricWarning: Precision is ill-defined and being set to 0.0 in labels with no predicted samples. Use `zero_division` parameter to control this behavior.\n",
      "  _warn_prf(average, modifier, msg_start, len(result))\n",
      "f:\\informatik\\tw_mle_exercise2\\venv\\lib\\site-packages\\sklearn\\metrics\\_classification.py:1272: UndefinedMetricWarning: Precision is ill-defined and being set to 0.0 in labels with no predicted samples. Use `zero_division` parameter to control this behavior.\n",
      "  _warn_prf(average, modifier, msg_start, len(result))\n",
      "f:\\informatik\\tw_mle_exercise2\\venv\\lib\\site-packages\\sklearn\\metrics\\_classification.py:1272: UndefinedMetricWarning: Precision is ill-defined and being set to 0.0 in labels with no predicted samples. Use `zero_division` parameter to control this behavior.\n",
      "  _warn_prf(average, modifier, msg_start, len(result))\n",
      "f:\\informatik\\tw_mle_exercise2\\venv\\lib\\site-packages\\sklearn\\metrics\\_classification.py:1272: UndefinedMetricWarning: Precision is ill-defined and being set to 0.0 in labels with no predicted samples. Use `zero_division` parameter to control this behavior.\n",
      "  _warn_prf(average, modifier, msg_start, len(result))\n",
      "f:\\informatik\\tw_mle_exercise2\\venv\\lib\\site-packages\\sklearn\\metrics\\_classification.py:1272: UndefinedMetricWarning: Precision is ill-defined and being set to 0.0 in labels with no predicted samples. Use `zero_division` parameter to control this behavior.\n",
      "  _warn_prf(average, modifier, msg_start, len(result))\n",
      "f:\\informatik\\tw_mle_exercise2\\venv\\lib\\site-packages\\sklearn\\metrics\\_classification.py:1272: UndefinedMetricWarning: Precision is ill-defined and being set to 0.0 in labels with no predicted samples. Use `zero_division` parameter to control this behavior.\n",
      "  _warn_prf(average, modifier, msg_start, len(result))\n",
      "f:\\informatik\\tw_mle_exercise2\\venv\\lib\\site-packages\\sklearn\\metrics\\_classification.py:1272: UndefinedMetricWarning: Precision is ill-defined and being set to 0.0 in labels with no predicted samples. Use `zero_division` parameter to control this behavior.\n",
      "  _warn_prf(average, modifier, msg_start, len(result))\n",
      "f:\\informatik\\tw_mle_exercise2\\venv\\lib\\site-packages\\sklearn\\metrics\\_classification.py:1272: UndefinedMetricWarning: Precision is ill-defined and being set to 0.0 in labels with no predicted samples. Use `zero_division` parameter to control this behavior.\n",
      "  _warn_prf(average, modifier, msg_start, len(result))\n",
      "f:\\informatik\\tw_mle_exercise2\\venv\\lib\\site-packages\\sklearn\\metrics\\_classification.py:1272: UndefinedMetricWarning: Precision is ill-defined and being set to 0.0 in labels with no predicted samples. Use `zero_division` parameter to control this behavior.\n",
      "  _warn_prf(average, modifier, msg_start, len(result))\n",
      "f:\\informatik\\tw_mle_exercise2\\venv\\lib\\site-packages\\sklearn\\metrics\\_classification.py:1272: UndefinedMetricWarning: Precision is ill-defined and being set to 0.0 in labels with no predicted samples. Use `zero_division` parameter to control this behavior.\n",
      "  _warn_prf(average, modifier, msg_start, len(result))\n",
      "f:\\informatik\\tw_mle_exercise2\\venv\\lib\\site-packages\\sklearn\\metrics\\_classification.py:1272: UndefinedMetricWarning: Precision is ill-defined and being set to 0.0 in labels with no predicted samples. Use `zero_division` parameter to control this behavior.\n",
      "  _warn_prf(average, modifier, msg_start, len(result))\n",
      "f:\\informatik\\tw_mle_exercise2\\venv\\lib\\site-packages\\sklearn\\metrics\\_classification.py:1272: UndefinedMetricWarning: Precision is ill-defined and being set to 0.0 in labels with no predicted samples. Use `zero_division` parameter to control this behavior.\n",
      "  _warn_prf(average, modifier, msg_start, len(result))\n",
      "f:\\informatik\\tw_mle_exercise2\\venv\\lib\\site-packages\\sklearn\\metrics\\_classification.py:1272: UndefinedMetricWarning: Precision is ill-defined and being set to 0.0 in labels with no predicted samples. Use `zero_division` parameter to control this behavior.\n",
      "  _warn_prf(average, modifier, msg_start, len(result))\n",
      "f:\\informatik\\tw_mle_exercise2\\venv\\lib\\site-packages\\sklearn\\metrics\\_classification.py:1272: UndefinedMetricWarning: Precision is ill-defined and being set to 0.0 in labels with no predicted samples. Use `zero_division` parameter to control this behavior.\n",
      "  _warn_prf(average, modifier, msg_start, len(result))\n",
      "f:\\informatik\\tw_mle_exercise2\\venv\\lib\\site-packages\\sklearn\\metrics\\_classification.py:1272: UndefinedMetricWarning: Precision is ill-defined and being set to 0.0 in labels with no predicted samples. Use `zero_division` parameter to control this behavior.\n",
      "  _warn_prf(average, modifier, msg_start, len(result))\n",
      "f:\\informatik\\tw_mle_exercise2\\venv\\lib\\site-packages\\sklearn\\metrics\\_classification.py:1272: UndefinedMetricWarning: Precision is ill-defined and being set to 0.0 in labels with no predicted samples. Use `zero_division` parameter to control this behavior.\n",
      "  _warn_prf(average, modifier, msg_start, len(result))\n",
      "f:\\informatik\\tw_mle_exercise2\\venv\\lib\\site-packages\\sklearn\\metrics\\_classification.py:1272: UndefinedMetricWarning: Precision is ill-defined and being set to 0.0 in labels with no predicted samples. Use `zero_division` parameter to control this behavior.\n",
      "  _warn_prf(average, modifier, msg_start, len(result))\n",
      "f:\\informatik\\tw_mle_exercise2\\venv\\lib\\site-packages\\sklearn\\metrics\\_classification.py:1272: UndefinedMetricWarning: Precision is ill-defined and being set to 0.0 in labels with no predicted samples. Use `zero_division` parameter to control this behavior.\n",
      "  _warn_prf(average, modifier, msg_start, len(result))\n",
      "f:\\informatik\\tw_mle_exercise2\\venv\\lib\\site-packages\\sklearn\\metrics\\_classification.py:1272: UndefinedMetricWarning: Precision is ill-defined and being set to 0.0 in labels with no predicted samples. Use `zero_division` parameter to control this behavior.\n",
      "  _warn_prf(average, modifier, msg_start, len(result))\n",
      "f:\\informatik\\tw_mle_exercise2\\venv\\lib\\site-packages\\sklearn\\metrics\\_classification.py:1272: UndefinedMetricWarning: Precision is ill-defined and being set to 0.0 in labels with no predicted samples. Use `zero_division` parameter to control this behavior.\n",
      "  _warn_prf(average, modifier, msg_start, len(result))\n",
      "f:\\informatik\\tw_mle_exercise2\\venv\\lib\\site-packages\\sklearn\\metrics\\_classification.py:1272: UndefinedMetricWarning: Precision is ill-defined and being set to 0.0 in labels with no predicted samples. Use `zero_division` parameter to control this behavior.\n",
      "  _warn_prf(average, modifier, msg_start, len(result))\n",
      "f:\\informatik\\tw_mle_exercise2\\venv\\lib\\site-packages\\sklearn\\metrics\\_classification.py:1272: UndefinedMetricWarning: Precision is ill-defined and being set to 0.0 in labels with no predicted samples. Use `zero_division` parameter to control this behavior.\n",
      "  _warn_prf(average, modifier, msg_start, len(result))\n",
      "f:\\informatik\\tw_mle_exercise2\\venv\\lib\\site-packages\\sklearn\\metrics\\_classification.py:1272: UndefinedMetricWarning: Precision is ill-defined and being set to 0.0 in labels with no predicted samples. Use `zero_division` parameter to control this behavior.\n",
      "  _warn_prf(average, modifier, msg_start, len(result))\n"
     ]
    }
   ],
   "source": [
    "from sklearn import tree\n",
    "import itertools\n",
    "\n",
    "decision_tree_results = []\n",
    "\n",
    "# Parameters for the decision tree\n",
    "max_depth_arguments = [5,10,15]\n",
    "min_samples_leaf_arguments = [2,20,40]\n",
    "splitting_approaches_arguments = ['random', 'best']\n",
    "argumentTuples = list(itertools.product(max_depth_arguments,\n",
    "                                        min_samples_leaf_arguments,\n",
    "                                        splitting_approaches_arguments))\n",
    "\n",
    "for dataset in [('iris', datasets.load_iris()),('digits', datasets.load_digits())]:\n",
    "    # Shuffle our input data\n",
    "    data, target = shuffle(dataset[1].data, dataset[1].target, random_state=randomState)\n",
    "\n",
    "    # Prepare a train/test set split\n",
    "    X_train, X_test, y_train, y_test = train_test_split(data, target, test_size=0.33, random_state=(randomState+1))\n",
    "\n",
    "    for argumentTuple in argumentTuples:\n",
    "        max_depth = argumentTuple[0]\n",
    "        min_samples_leaf = argumentTuple[1]\n",
    "        splitting_approach = argumentTuple[2]\n",
    "\n",
    "        # train the k-NN\n",
    "        classifier = tree.DecisionTreeClassifier(criterion = 'gini',\n",
    "                                                 max_depth = max_depth,\n",
    "                                                 min_samples_leaf = min_samples_leaf,\n",
    "                                                 splitter = splitting_approach)\n",
    "\n",
    "        classifier.random_state = randomState\n",
    "        start_time_train = time.time()\n",
    "        classifier.fit(X_train, y_train)\n",
    "        end_time_train = time.time()\n",
    "\n",
    "        # predict the test set on our trained classifier\n",
    "        start_time_test = time.time()\n",
    "        y_test_predicted = classifier.predict(X_test)\n",
    "        end_time_test = time.time()\n",
    "\n",
    "        # Compute metrics for holdout\n",
    "        acc = metrics.accuracy_score(y_test, y_test_predicted)\n",
    "        recall=metrics.recall_score(y_test, y_test_predicted, average=averagingApproach, zero_division=zero_divisionApproach)\n",
    "        precision = metrics.precision_score(y_test, y_test_predicted, average=averagingApproach, zero_division=zero_divisionApproach)\n",
    "\n",
    "        result = pd.Series({\n",
    "            'dataset': dataset[0],\n",
    "            'approach':'Decision Tree Classifier',\n",
    "            'arguments': argumentTuple,\n",
    "            'split': 'holdout',\n",
    "            'accuracy':acc,\n",
    "            'precision':precision,\n",
    "            'recall':recall,\n",
    "            'time training':end_time_train-start_time_train,\n",
    "            'time testing':end_time_test-start_time_test\n",
    "        })\n",
    "        decision_tree_results.append(result)\n",
    "\n",
    "        # Compute metrics for k fold\n",
    "        scores = cross_validate(classifier, data, target,\n",
    "                                scoring = scoring,\n",
    "                                cv = number_of_folds,\n",
    "                                error_score = 0)\n",
    "\n",
    "        result = pd.Series({\n",
    "            'dataset': dataset[0],\n",
    "            'approach':'Decision Tree Classifier',\n",
    "            'arguments': argumentTuple,\n",
    "            'split': 'k-fold',\n",
    "            'accuracy': parse_k_fold_results(scores.get('test_accuracy')),\n",
    "            'precision': parse_k_fold_results(scores.get('test_precision_macro')),\n",
    "            'recall':parse_k_fold_results(scores.get('test_recall_macro')),\n",
    "            'time training':parse_k_fold_timings(scores.get('fit_time')),\n",
    "            'time testing':parse_k_fold_timings(scores.get('score_time'))\n",
    "        })\n",
    "        decision_tree_results.append(result)\n",
    "\n",
    "decision_tree_results_df = pd.DataFrame(decision_tree_results)\n"
   ],
   "metadata": {
    "collapsed": false,
    "pycharm": {
     "name": "#%%\n"
    }
   }
  },
  {
   "cell_type": "markdown",
   "source": [
    "### Iris"
   ],
   "metadata": {
    "collapsed": false
   }
  },
  {
   "cell_type": "code",
   "execution_count": 12,
   "outputs": [
    {
     "data": {
      "text/plain": "   dataset                  approach         arguments    split accuracy  \\\n0     iris  Decision Tree Classifier    (5, 2, random)  holdout     0.88   \n2     iris  Decision Tree Classifier      (5, 2, best)  holdout      0.9   \n4     iris  Decision Tree Classifier   (5, 20, random)  holdout     0.48   \n6     iris  Decision Tree Classifier     (5, 20, best)  holdout      0.9   \n8     iris  Decision Tree Classifier   (5, 40, random)  holdout     0.28   \n10    iris  Decision Tree Classifier     (5, 40, best)  holdout     0.54   \n12    iris  Decision Tree Classifier   (10, 2, random)  holdout      0.9   \n14    iris  Decision Tree Classifier     (10, 2, best)  holdout      0.9   \n16    iris  Decision Tree Classifier  (10, 20, random)  holdout     0.48   \n18    iris  Decision Tree Classifier    (10, 20, best)  holdout      0.9   \n20    iris  Decision Tree Classifier  (10, 40, random)  holdout     0.28   \n22    iris  Decision Tree Classifier    (10, 40, best)  holdout     0.54   \n24    iris  Decision Tree Classifier   (15, 2, random)  holdout      0.9   \n26    iris  Decision Tree Classifier     (15, 2, best)  holdout      0.9   \n28    iris  Decision Tree Classifier  (15, 20, random)  holdout     0.48   \n30    iris  Decision Tree Classifier    (15, 20, best)  holdout      0.9   \n32    iris  Decision Tree Classifier  (15, 40, random)  holdout     0.28   \n34    iris  Decision Tree Classifier    (15, 40, best)  holdout     0.54   \n\n    precision    recall time training time testing  \n0    0.890278  0.865079    0.00099659            0  \n2     0.90305  0.912698             0            0  \n4        0.45  0.555556             0            0  \n6     0.90305  0.912698             0            0  \n8   0.0933333  0.333333   0.000997543            0  \n10    0.41533  0.619048   0.000997305            0  \n12   0.894956  0.904762   0.000997543            0  \n14    0.90305  0.912698             0  0.000997305  \n16       0.45  0.555556   0.000997543            0  \n18    0.90305  0.912698   0.000995874            0  \n20  0.0933333  0.333333             0            0  \n22    0.41533  0.619048             0            0  \n24   0.894956  0.904762   0.000999212            0  \n26    0.90305  0.912698             0  0.000968695  \n28       0.45  0.555556   0.000996351            0  \n30    0.90305  0.912698   0.000994921            0  \n32  0.0933333  0.333333             0  0.000997066  \n34    0.41533  0.619048   0.000997066            0  ",
      "text/html": "<div>\n<style scoped>\n    .dataframe tbody tr th:only-of-type {\n        vertical-align: middle;\n    }\n\n    .dataframe tbody tr th {\n        vertical-align: top;\n    }\n\n    .dataframe thead th {\n        text-align: right;\n    }\n</style>\n<table border=\"1\" class=\"dataframe\">\n  <thead>\n    <tr style=\"text-align: right;\">\n      <th></th>\n      <th>dataset</th>\n      <th>approach</th>\n      <th>arguments</th>\n      <th>split</th>\n      <th>accuracy</th>\n      <th>precision</th>\n      <th>recall</th>\n      <th>time training</th>\n      <th>time testing</th>\n    </tr>\n  </thead>\n  <tbody>\n    <tr>\n      <th>0</th>\n      <td>iris</td>\n      <td>Decision Tree Classifier</td>\n      <td>(5, 2, random)</td>\n      <td>holdout</td>\n      <td>0.88</td>\n      <td>0.890278</td>\n      <td>0.865079</td>\n      <td>0.00099659</td>\n      <td>0</td>\n    </tr>\n    <tr>\n      <th>2</th>\n      <td>iris</td>\n      <td>Decision Tree Classifier</td>\n      <td>(5, 2, best)</td>\n      <td>holdout</td>\n      <td>0.9</td>\n      <td>0.90305</td>\n      <td>0.912698</td>\n      <td>0</td>\n      <td>0</td>\n    </tr>\n    <tr>\n      <th>4</th>\n      <td>iris</td>\n      <td>Decision Tree Classifier</td>\n      <td>(5, 20, random)</td>\n      <td>holdout</td>\n      <td>0.48</td>\n      <td>0.45</td>\n      <td>0.555556</td>\n      <td>0</td>\n      <td>0</td>\n    </tr>\n    <tr>\n      <th>6</th>\n      <td>iris</td>\n      <td>Decision Tree Classifier</td>\n      <td>(5, 20, best)</td>\n      <td>holdout</td>\n      <td>0.9</td>\n      <td>0.90305</td>\n      <td>0.912698</td>\n      <td>0</td>\n      <td>0</td>\n    </tr>\n    <tr>\n      <th>8</th>\n      <td>iris</td>\n      <td>Decision Tree Classifier</td>\n      <td>(5, 40, random)</td>\n      <td>holdout</td>\n      <td>0.28</td>\n      <td>0.0933333</td>\n      <td>0.333333</td>\n      <td>0.000997543</td>\n      <td>0</td>\n    </tr>\n    <tr>\n      <th>10</th>\n      <td>iris</td>\n      <td>Decision Tree Classifier</td>\n      <td>(5, 40, best)</td>\n      <td>holdout</td>\n      <td>0.54</td>\n      <td>0.41533</td>\n      <td>0.619048</td>\n      <td>0.000997305</td>\n      <td>0</td>\n    </tr>\n    <tr>\n      <th>12</th>\n      <td>iris</td>\n      <td>Decision Tree Classifier</td>\n      <td>(10, 2, random)</td>\n      <td>holdout</td>\n      <td>0.9</td>\n      <td>0.894956</td>\n      <td>0.904762</td>\n      <td>0.000997543</td>\n      <td>0</td>\n    </tr>\n    <tr>\n      <th>14</th>\n      <td>iris</td>\n      <td>Decision Tree Classifier</td>\n      <td>(10, 2, best)</td>\n      <td>holdout</td>\n      <td>0.9</td>\n      <td>0.90305</td>\n      <td>0.912698</td>\n      <td>0</td>\n      <td>0.000997305</td>\n    </tr>\n    <tr>\n      <th>16</th>\n      <td>iris</td>\n      <td>Decision Tree Classifier</td>\n      <td>(10, 20, random)</td>\n      <td>holdout</td>\n      <td>0.48</td>\n      <td>0.45</td>\n      <td>0.555556</td>\n      <td>0.000997543</td>\n      <td>0</td>\n    </tr>\n    <tr>\n      <th>18</th>\n      <td>iris</td>\n      <td>Decision Tree Classifier</td>\n      <td>(10, 20, best)</td>\n      <td>holdout</td>\n      <td>0.9</td>\n      <td>0.90305</td>\n      <td>0.912698</td>\n      <td>0.000995874</td>\n      <td>0</td>\n    </tr>\n    <tr>\n      <th>20</th>\n      <td>iris</td>\n      <td>Decision Tree Classifier</td>\n      <td>(10, 40, random)</td>\n      <td>holdout</td>\n      <td>0.28</td>\n      <td>0.0933333</td>\n      <td>0.333333</td>\n      <td>0</td>\n      <td>0</td>\n    </tr>\n    <tr>\n      <th>22</th>\n      <td>iris</td>\n      <td>Decision Tree Classifier</td>\n      <td>(10, 40, best)</td>\n      <td>holdout</td>\n      <td>0.54</td>\n      <td>0.41533</td>\n      <td>0.619048</td>\n      <td>0</td>\n      <td>0</td>\n    </tr>\n    <tr>\n      <th>24</th>\n      <td>iris</td>\n      <td>Decision Tree Classifier</td>\n      <td>(15, 2, random)</td>\n      <td>holdout</td>\n      <td>0.9</td>\n      <td>0.894956</td>\n      <td>0.904762</td>\n      <td>0.000999212</td>\n      <td>0</td>\n    </tr>\n    <tr>\n      <th>26</th>\n      <td>iris</td>\n      <td>Decision Tree Classifier</td>\n      <td>(15, 2, best)</td>\n      <td>holdout</td>\n      <td>0.9</td>\n      <td>0.90305</td>\n      <td>0.912698</td>\n      <td>0</td>\n      <td>0.000968695</td>\n    </tr>\n    <tr>\n      <th>28</th>\n      <td>iris</td>\n      <td>Decision Tree Classifier</td>\n      <td>(15, 20, random)</td>\n      <td>holdout</td>\n      <td>0.48</td>\n      <td>0.45</td>\n      <td>0.555556</td>\n      <td>0.000996351</td>\n      <td>0</td>\n    </tr>\n    <tr>\n      <th>30</th>\n      <td>iris</td>\n      <td>Decision Tree Classifier</td>\n      <td>(15, 20, best)</td>\n      <td>holdout</td>\n      <td>0.9</td>\n      <td>0.90305</td>\n      <td>0.912698</td>\n      <td>0.000994921</td>\n      <td>0</td>\n    </tr>\n    <tr>\n      <th>32</th>\n      <td>iris</td>\n      <td>Decision Tree Classifier</td>\n      <td>(15, 40, random)</td>\n      <td>holdout</td>\n      <td>0.28</td>\n      <td>0.0933333</td>\n      <td>0.333333</td>\n      <td>0</td>\n      <td>0.000997066</td>\n    </tr>\n    <tr>\n      <th>34</th>\n      <td>iris</td>\n      <td>Decision Tree Classifier</td>\n      <td>(15, 40, best)</td>\n      <td>holdout</td>\n      <td>0.54</td>\n      <td>0.41533</td>\n      <td>0.619048</td>\n      <td>0.000997066</td>\n      <td>0</td>\n    </tr>\n  </tbody>\n</table>\n</div>"
     },
     "metadata": {},
     "output_type": "display_data"
    },
    {
     "data": {
      "text/plain": "   dataset                  approach         arguments   split  \\\n1     iris  Decision Tree Classifier    (5, 2, random)  k-fold   \n3     iris  Decision Tree Classifier      (5, 2, best)  k-fold   \n5     iris  Decision Tree Classifier   (5, 20, random)  k-fold   \n7     iris  Decision Tree Classifier     (5, 20, best)  k-fold   \n9     iris  Decision Tree Classifier   (5, 40, random)  k-fold   \n11    iris  Decision Tree Classifier     (5, 40, best)  k-fold   \n13    iris  Decision Tree Classifier   (10, 2, random)  k-fold   \n15    iris  Decision Tree Classifier     (10, 2, best)  k-fold   \n17    iris  Decision Tree Classifier  (10, 20, random)  k-fold   \n19    iris  Decision Tree Classifier    (10, 20, best)  k-fold   \n21    iris  Decision Tree Classifier  (10, 40, random)  k-fold   \n23    iris  Decision Tree Classifier    (10, 40, best)  k-fold   \n25    iris  Decision Tree Classifier   (15, 2, random)  k-fold   \n27    iris  Decision Tree Classifier     (15, 2, best)  k-fold   \n29    iris  Decision Tree Classifier  (15, 20, random)  k-fold   \n31    iris  Decision Tree Classifier    (15, 20, best)  k-fold   \n33    iris  Decision Tree Classifier  (15, 40, random)  k-fold   \n35    iris  Decision Tree Classifier    (15, 40, best)  k-fold   \n\n                                           accuracy  \\\n1    m: 0.8800000000000001 std: 0.05416025603090639   \n3    m: 0.9400000000000001 std: 0.04422166387140532   \n5   m: 0.5599999999999999 std: 0.024944382578492935   \n7    m: 0.9266666666666667 std: 0.04422166387140532   \n9                    m: 0.3333333333333333 std: 0.0   \n11   m: 0.7666666666666666 std: 0.12292725943057185   \n13   m: 0.9199999999999999 std: 0.04521553322083511   \n15   m: 0.9400000000000001 std: 0.04422166387140532   \n17  m: 0.5599999999999999 std: 0.024944382578492935   \n19   m: 0.9266666666666667 std: 0.04422166387140532   \n21                   m: 0.3333333333333333 std: 0.0   \n23   m: 0.7666666666666666 std: 0.12292725943057185   \n25   m: 0.9199999999999999 std: 0.04521553322083511   \n27   m: 0.9400000000000001 std: 0.04422166387140532   \n29  m: 0.5599999999999999 std: 0.024944382578492935   \n31   m: 0.9266666666666667 std: 0.04422166387140532   \n33                   m: 0.3333333333333333 std: 0.0   \n35   m: 0.7666666666666666 std: 0.12292725943057185   \n\n                                            precision  \\\n1      m: 0.9151709401709403 std: 0.02856862378351845   \n3      m: 0.9444949494949496 std: 0.04164152899506982   \n5    m: 0.47716293368467283 std: 0.004696804926703416   \n7      m: 0.9332491582491583 std: 0.04255264892173636   \n9   m: 0.11111111111111112 std: 1.3877787807814457...   \n11     m: 0.6693602693602694 std: 0.20784967494940076   \n13     m: 0.9307840307840308 std: 0.03813348030226439   \n15     m: 0.9444949494949496 std: 0.04164152899506982   \n17   m: 0.47716293368467283 std: 0.004696804926703416   \n19     m: 0.9332491582491583 std: 0.04255264892173636   \n21  m: 0.11111111111111112 std: 1.3877787807814457...   \n23     m: 0.6693602693602694 std: 0.20784967494940076   \n25     m: 0.9307840307840308 std: 0.03813348030226439   \n27     m: 0.9444949494949496 std: 0.04164152899506982   \n29   m: 0.47716293368467283 std: 0.004696804926703416   \n31     m: 0.9332491582491583 std: 0.04255264892173636   \n33  m: 0.11111111111111112 std: 1.3877787807814457...   \n35     m: 0.6693602693602694 std: 0.20784967494940076   \n\n                                             recall  \\\n1    m: 0.8799999999999999 std: 0.05416025603090637   \n3   m: 0.9400000000000001 std: 0.044221663871405366   \n5   m: 0.5599999999999999 std: 0.024944382578492935   \n7   m: 0.9266666666666665 std: 0.044221663871405345   \n9                    m: 0.3333333333333333 std: 0.0   \n11   m: 0.7666666666666666 std: 0.12292725943057183   \n13    m: 0.9199999999999999 std: 0.0452155332208351   \n15  m: 0.9400000000000001 std: 0.044221663871405366   \n17  m: 0.5599999999999999 std: 0.024944382578492935   \n19  m: 0.9266666666666665 std: 0.044221663871405345   \n21                   m: 0.3333333333333333 std: 0.0   \n23   m: 0.7666666666666666 std: 0.12292725943057183   \n25    m: 0.9199999999999999 std: 0.0452155332208351   \n27  m: 0.9400000000000001 std: 0.044221663871405366   \n29  m: 0.5599999999999999 std: 0.024944382578492935   \n31  m: 0.9266666666666665 std: 0.044221663871405345   \n33                   m: 0.3333333333333333 std: 0.0   \n35   m: 0.7666666666666666 std: 0.12292725943057183   \n\n                                        time training  \\\n1   total: 0.004986286163330078 values: [0.0009970...   \n3   total: 0.005007743835449219 values: [0.0009973...   \n5   total: 0.002966165542602539 values: [0.0010004...   \n7   total: 0.001994609832763672 values: [0.0009973...   \n9   total: 0.0020182132720947266 values: [0.      ...   \n11  total: 0.003008127212524414 values: [0.       ...   \n13  total: 0.000997304916381836 values: [0.       ...   \n15  total: 0.00399017333984375 values: [0.        ...   \n17  total: 0.0029053688049316406 values: [0.000910...   \n19  total: 0.001962423324584961 values: [0.       ...   \n21  total: 0.003957986831665039 values: [0.       ...   \n23  total: 0.0030341148376464844 values: [0.001024...   \n25  total: 0.0019943714141845703 values: [0.      ...   \n27  total: 0.004981040954589844 values: [0.0009982...   \n29  total: 0.0009975433349609375 values: [0.      ...   \n31  total: 0.0009970664978027344 values: [0.      ...   \n33  total: 0.003989458084106445 values: [0.       ...   \n35  total: 0.0029926300048828125 values: [0.      ...   \n\n                                         time testing  \n1   total: 0.004987001419067383 values: [0.0009975...  \n3   total: 0.0049974918365478516 values: [0.000997...  \n5   total: 0.007972002029418945 values: [0.0019595...  \n7   total: 0.0069811344146728516 values: [0.000997...  \n9   total: 0.007998228073120117 values: [0.0020265...  \n11  total: 0.0069658756256103516 values: [0.002012...  \n13  total: 0.005967140197753906 values: [0.0019621...  \n15  total: 0.004956722259521484 values: [0.0009965...  \n17  total: 0.009946107864379883 values: [0.0009987...  \n19  total: 0.00900721549987793 values: [0.00202441...  \n21  total: 0.009007692337036133 values: [0.0020244...  \n23  total: 0.009942293167114258 values: [0.0019755...  \n25  total: 0.008007287979125977 values: [0.0020215...  \n27  total: 0.006959438323974609 values: [0.0009689...  \n29  total: 0.012934446334838867 values: [0.0059530...  \n31  total: 0.008981704711914062 values: [0.0019881...  \n33  total: 0.008990049362182617 values: [0.0019953...  \n35  total: 0.00897669792175293 values: [0.00199628...  ",
      "text/html": "<div>\n<style scoped>\n    .dataframe tbody tr th:only-of-type {\n        vertical-align: middle;\n    }\n\n    .dataframe tbody tr th {\n        vertical-align: top;\n    }\n\n    .dataframe thead th {\n        text-align: right;\n    }\n</style>\n<table border=\"1\" class=\"dataframe\">\n  <thead>\n    <tr style=\"text-align: right;\">\n      <th></th>\n      <th>dataset</th>\n      <th>approach</th>\n      <th>arguments</th>\n      <th>split</th>\n      <th>accuracy</th>\n      <th>precision</th>\n      <th>recall</th>\n      <th>time training</th>\n      <th>time testing</th>\n    </tr>\n  </thead>\n  <tbody>\n    <tr>\n      <th>1</th>\n      <td>iris</td>\n      <td>Decision Tree Classifier</td>\n      <td>(5, 2, random)</td>\n      <td>k-fold</td>\n      <td>m: 0.8800000000000001 std: 0.05416025603090639</td>\n      <td>m: 0.9151709401709403 std: 0.02856862378351845</td>\n      <td>m: 0.8799999999999999 std: 0.05416025603090637</td>\n      <td>total: 0.004986286163330078 values: [0.0009970...</td>\n      <td>total: 0.004987001419067383 values: [0.0009975...</td>\n    </tr>\n    <tr>\n      <th>3</th>\n      <td>iris</td>\n      <td>Decision Tree Classifier</td>\n      <td>(5, 2, best)</td>\n      <td>k-fold</td>\n      <td>m: 0.9400000000000001 std: 0.04422166387140532</td>\n      <td>m: 0.9444949494949496 std: 0.04164152899506982</td>\n      <td>m: 0.9400000000000001 std: 0.044221663871405366</td>\n      <td>total: 0.005007743835449219 values: [0.0009973...</td>\n      <td>total: 0.0049974918365478516 values: [0.000997...</td>\n    </tr>\n    <tr>\n      <th>5</th>\n      <td>iris</td>\n      <td>Decision Tree Classifier</td>\n      <td>(5, 20, random)</td>\n      <td>k-fold</td>\n      <td>m: 0.5599999999999999 std: 0.024944382578492935</td>\n      <td>m: 0.47716293368467283 std: 0.004696804926703416</td>\n      <td>m: 0.5599999999999999 std: 0.024944382578492935</td>\n      <td>total: 0.002966165542602539 values: [0.0010004...</td>\n      <td>total: 0.007972002029418945 values: [0.0019595...</td>\n    </tr>\n    <tr>\n      <th>7</th>\n      <td>iris</td>\n      <td>Decision Tree Classifier</td>\n      <td>(5, 20, best)</td>\n      <td>k-fold</td>\n      <td>m: 0.9266666666666667 std: 0.04422166387140532</td>\n      <td>m: 0.9332491582491583 std: 0.04255264892173636</td>\n      <td>m: 0.9266666666666665 std: 0.044221663871405345</td>\n      <td>total: 0.001994609832763672 values: [0.0009973...</td>\n      <td>total: 0.0069811344146728516 values: [0.000997...</td>\n    </tr>\n    <tr>\n      <th>9</th>\n      <td>iris</td>\n      <td>Decision Tree Classifier</td>\n      <td>(5, 40, random)</td>\n      <td>k-fold</td>\n      <td>m: 0.3333333333333333 std: 0.0</td>\n      <td>m: 0.11111111111111112 std: 1.3877787807814457...</td>\n      <td>m: 0.3333333333333333 std: 0.0</td>\n      <td>total: 0.0020182132720947266 values: [0.      ...</td>\n      <td>total: 0.007998228073120117 values: [0.0020265...</td>\n    </tr>\n    <tr>\n      <th>11</th>\n      <td>iris</td>\n      <td>Decision Tree Classifier</td>\n      <td>(5, 40, best)</td>\n      <td>k-fold</td>\n      <td>m: 0.7666666666666666 std: 0.12292725943057185</td>\n      <td>m: 0.6693602693602694 std: 0.20784967494940076</td>\n      <td>m: 0.7666666666666666 std: 0.12292725943057183</td>\n      <td>total: 0.003008127212524414 values: [0.       ...</td>\n      <td>total: 0.0069658756256103516 values: [0.002012...</td>\n    </tr>\n    <tr>\n      <th>13</th>\n      <td>iris</td>\n      <td>Decision Tree Classifier</td>\n      <td>(10, 2, random)</td>\n      <td>k-fold</td>\n      <td>m: 0.9199999999999999 std: 0.04521553322083511</td>\n      <td>m: 0.9307840307840308 std: 0.03813348030226439</td>\n      <td>m: 0.9199999999999999 std: 0.0452155332208351</td>\n      <td>total: 0.000997304916381836 values: [0.       ...</td>\n      <td>total: 0.005967140197753906 values: [0.0019621...</td>\n    </tr>\n    <tr>\n      <th>15</th>\n      <td>iris</td>\n      <td>Decision Tree Classifier</td>\n      <td>(10, 2, best)</td>\n      <td>k-fold</td>\n      <td>m: 0.9400000000000001 std: 0.04422166387140532</td>\n      <td>m: 0.9444949494949496 std: 0.04164152899506982</td>\n      <td>m: 0.9400000000000001 std: 0.044221663871405366</td>\n      <td>total: 0.00399017333984375 values: [0.        ...</td>\n      <td>total: 0.004956722259521484 values: [0.0009965...</td>\n    </tr>\n    <tr>\n      <th>17</th>\n      <td>iris</td>\n      <td>Decision Tree Classifier</td>\n      <td>(10, 20, random)</td>\n      <td>k-fold</td>\n      <td>m: 0.5599999999999999 std: 0.024944382578492935</td>\n      <td>m: 0.47716293368467283 std: 0.004696804926703416</td>\n      <td>m: 0.5599999999999999 std: 0.024944382578492935</td>\n      <td>total: 0.0029053688049316406 values: [0.000910...</td>\n      <td>total: 0.009946107864379883 values: [0.0009987...</td>\n    </tr>\n    <tr>\n      <th>19</th>\n      <td>iris</td>\n      <td>Decision Tree Classifier</td>\n      <td>(10, 20, best)</td>\n      <td>k-fold</td>\n      <td>m: 0.9266666666666667 std: 0.04422166387140532</td>\n      <td>m: 0.9332491582491583 std: 0.04255264892173636</td>\n      <td>m: 0.9266666666666665 std: 0.044221663871405345</td>\n      <td>total: 0.001962423324584961 values: [0.       ...</td>\n      <td>total: 0.00900721549987793 values: [0.00202441...</td>\n    </tr>\n    <tr>\n      <th>21</th>\n      <td>iris</td>\n      <td>Decision Tree Classifier</td>\n      <td>(10, 40, random)</td>\n      <td>k-fold</td>\n      <td>m: 0.3333333333333333 std: 0.0</td>\n      <td>m: 0.11111111111111112 std: 1.3877787807814457...</td>\n      <td>m: 0.3333333333333333 std: 0.0</td>\n      <td>total: 0.003957986831665039 values: [0.       ...</td>\n      <td>total: 0.009007692337036133 values: [0.0020244...</td>\n    </tr>\n    <tr>\n      <th>23</th>\n      <td>iris</td>\n      <td>Decision Tree Classifier</td>\n      <td>(10, 40, best)</td>\n      <td>k-fold</td>\n      <td>m: 0.7666666666666666 std: 0.12292725943057185</td>\n      <td>m: 0.6693602693602694 std: 0.20784967494940076</td>\n      <td>m: 0.7666666666666666 std: 0.12292725943057183</td>\n      <td>total: 0.0030341148376464844 values: [0.001024...</td>\n      <td>total: 0.009942293167114258 values: [0.0019755...</td>\n    </tr>\n    <tr>\n      <th>25</th>\n      <td>iris</td>\n      <td>Decision Tree Classifier</td>\n      <td>(15, 2, random)</td>\n      <td>k-fold</td>\n      <td>m: 0.9199999999999999 std: 0.04521553322083511</td>\n      <td>m: 0.9307840307840308 std: 0.03813348030226439</td>\n      <td>m: 0.9199999999999999 std: 0.0452155332208351</td>\n      <td>total: 0.0019943714141845703 values: [0.      ...</td>\n      <td>total: 0.008007287979125977 values: [0.0020215...</td>\n    </tr>\n    <tr>\n      <th>27</th>\n      <td>iris</td>\n      <td>Decision Tree Classifier</td>\n      <td>(15, 2, best)</td>\n      <td>k-fold</td>\n      <td>m: 0.9400000000000001 std: 0.04422166387140532</td>\n      <td>m: 0.9444949494949496 std: 0.04164152899506982</td>\n      <td>m: 0.9400000000000001 std: 0.044221663871405366</td>\n      <td>total: 0.004981040954589844 values: [0.0009982...</td>\n      <td>total: 0.006959438323974609 values: [0.0009689...</td>\n    </tr>\n    <tr>\n      <th>29</th>\n      <td>iris</td>\n      <td>Decision Tree Classifier</td>\n      <td>(15, 20, random)</td>\n      <td>k-fold</td>\n      <td>m: 0.5599999999999999 std: 0.024944382578492935</td>\n      <td>m: 0.47716293368467283 std: 0.004696804926703416</td>\n      <td>m: 0.5599999999999999 std: 0.024944382578492935</td>\n      <td>total: 0.0009975433349609375 values: [0.      ...</td>\n      <td>total: 0.012934446334838867 values: [0.0059530...</td>\n    </tr>\n    <tr>\n      <th>31</th>\n      <td>iris</td>\n      <td>Decision Tree Classifier</td>\n      <td>(15, 20, best)</td>\n      <td>k-fold</td>\n      <td>m: 0.9266666666666667 std: 0.04422166387140532</td>\n      <td>m: 0.9332491582491583 std: 0.04255264892173636</td>\n      <td>m: 0.9266666666666665 std: 0.044221663871405345</td>\n      <td>total: 0.0009970664978027344 values: [0.      ...</td>\n      <td>total: 0.008981704711914062 values: [0.0019881...</td>\n    </tr>\n    <tr>\n      <th>33</th>\n      <td>iris</td>\n      <td>Decision Tree Classifier</td>\n      <td>(15, 40, random)</td>\n      <td>k-fold</td>\n      <td>m: 0.3333333333333333 std: 0.0</td>\n      <td>m: 0.11111111111111112 std: 1.3877787807814457...</td>\n      <td>m: 0.3333333333333333 std: 0.0</td>\n      <td>total: 0.003989458084106445 values: [0.       ...</td>\n      <td>total: 0.008990049362182617 values: [0.0019953...</td>\n    </tr>\n    <tr>\n      <th>35</th>\n      <td>iris</td>\n      <td>Decision Tree Classifier</td>\n      <td>(15, 40, best)</td>\n      <td>k-fold</td>\n      <td>m: 0.7666666666666666 std: 0.12292725943057185</td>\n      <td>m: 0.6693602693602694 std: 0.20784967494940076</td>\n      <td>m: 0.7666666666666666 std: 0.12292725943057183</td>\n      <td>total: 0.0029926300048828125 values: [0.      ...</td>\n      <td>total: 0.00897669792175293 values: [0.00199628...</td>\n    </tr>\n  </tbody>\n</table>\n</div>"
     },
     "metadata": {},
     "output_type": "display_data"
    },
    {
     "data": {
      "text/plain": "<Figure size 432x288 with 1 Axes>",
      "image/png": "[encoded data removed]"
     },
     "metadata": {
      "needs_background": "light"
     },
     "output_type": "display_data"
    }
   ],
   "source": [
    "datasetIris = datasets.load_iris();\n",
    "classifier = tree.DecisionTreeClassifier(criterion = 'gini',\n",
    "                                         max_depth = 10,\n",
    "                                         min_samples_leaf = 20,\n",
    "                                         splitter = 'best')\n",
    "tree.plot_tree(classifier.fit(datasetIris.data, datasetIris.target),max_depth=5)\n",
    "display(decision_tree_results_df[(decision_tree_results_df['dataset']=='iris') & (decision_tree_results_df['split']=='holdout')])\n",
    "display(decision_tree_results_df[(decision_tree_results_df['dataset']=='iris') & (decision_tree_results_df['split']=='k-fold')])"
   ],
   "metadata": {
    "collapsed": false,
    "pycharm": {
     "name": "#%%\n"
    }
   }
  },
  {
   "cell_type": "markdown",
   "source": [
    "### Handwritten Numbers"
   ],
   "metadata": {
    "collapsed": false
   }
  },
  {
   "cell_type": "code",
   "execution_count": 13,
   "outputs": [
    {
     "data": {
      "text/plain": "   dataset                  approach         arguments    split  accuracy  \\\n36  digits  Decision Tree Classifier    (5, 2, random)  holdout  0.673401   \n38  digits  Decision Tree Classifier      (5, 2, best)  holdout    0.6633   \n40  digits  Decision Tree Classifier   (5, 20, random)  holdout  0.643098   \n42  digits  Decision Tree Classifier     (5, 20, best)  holdout  0.658249   \n44  digits  Decision Tree Classifier   (5, 40, random)  holdout  0.624579   \n46  digits  Decision Tree Classifier     (5, 40, best)  holdout  0.607744   \n48  digits  Decision Tree Classifier   (10, 2, random)  holdout  0.821549   \n50  digits  Decision Tree Classifier     (10, 2, best)  holdout  0.833333   \n52  digits  Decision Tree Classifier  (10, 20, random)  holdout  0.742424   \n54  digits  Decision Tree Classifier    (10, 20, best)  holdout  0.794613   \n56  digits  Decision Tree Classifier  (10, 40, random)  holdout  0.621212   \n58  digits  Decision Tree Classifier    (10, 40, best)  holdout  0.734007   \n60  digits  Decision Tree Classifier   (15, 2, random)  holdout  0.826599   \n62  digits  Decision Tree Classifier     (15, 2, best)  holdout   0.83165   \n64  digits  Decision Tree Classifier  (15, 20, random)  holdout  0.742424   \n66  digits  Decision Tree Classifier    (15, 20, best)  holdout  0.794613   \n68  digits  Decision Tree Classifier  (15, 40, random)  holdout  0.621212   \n70  digits  Decision Tree Classifier    (15, 40, best)  holdout  0.734007   \n\n   precision    recall time training time testing  \n36  0.717454  0.677103    0.00298977  0.000997066  \n38  0.746121  0.663671      0.010972  0.000997543  \n40  0.637573  0.641345    0.00299096            0  \n42  0.720075  0.657125    0.00797844            0  \n44  0.595066  0.623683    0.00297952            0  \n46   0.59806  0.604756     0.0069809  0.000997782  \n48  0.827151  0.822762    0.00501871            0  \n50   0.84214  0.836688     0.0139635            0  \n52  0.749126  0.743035    0.00299191  0.000997782  \n54   0.80054  0.797709    0.00900817  0.000998735  \n56  0.649174  0.622869    0.00299168            0  \n58  0.764335   0.73374    0.00894618  0.000997543  \n60  0.832276  0.828587    0.00498676            0  \n62  0.839983  0.835681     0.0139632            0  \n64  0.749126  0.743035    0.00299168  0.000997782  \n66   0.80054  0.797709    0.00997281            0  \n68  0.649174  0.622869    0.00300646            0  \n70  0.764335   0.73374    0.00897861            0  ",
      "text/html": "<div>\n<style scoped>\n    .dataframe tbody tr th:only-of-type {\n        vertical-align: middle;\n    }\n\n    .dataframe tbody tr th {\n        vertical-align: top;\n    }\n\n    .dataframe thead th {\n        text-align: right;\n    }\n</style>\n<table border=\"1\" class=\"dataframe\">\n  <thead>\n    <tr style=\"text-align: right;\">\n      <th></th>\n      <th>dataset</th>\n      <th>approach</th>\n      <th>arguments</th>\n      <th>split</th>\n      <th>accuracy</th>\n      <th>precision</th>\n      <th>recall</th>\n      <th>time training</th>\n      <th>time testing</th>\n    </tr>\n  </thead>\n  <tbody>\n    <tr>\n      <th>36</th>\n      <td>digits</td>\n      <td>Decision Tree Classifier</td>\n      <td>(5, 2, random)</td>\n      <td>holdout</td>\n      <td>0.673401</td>\n      <td>0.717454</td>\n      <td>0.677103</td>\n      <td>0.00298977</td>\n      <td>0.000997066</td>\n    </tr>\n    <tr>\n      <th>38</th>\n      <td>digits</td>\n      <td>Decision Tree Classifier</td>\n      <td>(5, 2, best)</td>\n      <td>holdout</td>\n      <td>0.6633</td>\n      <td>0.746121</td>\n      <td>0.663671</td>\n      <td>0.010972</td>\n      <td>0.000997543</td>\n    </tr>\n    <tr>\n      <th>40</th>\n      <td>digits</td>\n      <td>Decision Tree Classifier</td>\n      <td>(5, 20, random)</td>\n      <td>holdout</td>\n      <td>0.643098</td>\n      <td>0.637573</td>\n      <td>0.641345</td>\n      <td>0.00299096</td>\n      <td>0</td>\n    </tr>\n    <tr>\n      <th>42</th>\n      <td>digits</td>\n      <td>Decision Tree Classifier</td>\n      <td>(5, 20, best)</td>\n      <td>holdout</td>\n      <td>0.658249</td>\n      <td>0.720075</td>\n      <td>0.657125</td>\n      <td>0.00797844</td>\n      <td>0</td>\n    </tr>\n    <tr>\n      <th>44</th>\n      <td>digits</td>\n      <td>Decision Tree Classifier</td>\n      <td>(5, 40, random)</td>\n      <td>holdout</td>\n      <td>0.624579</td>\n      <td>0.595066</td>\n      <td>0.623683</td>\n      <td>0.00297952</td>\n      <td>0</td>\n    </tr>\n    <tr>\n      <th>46</th>\n      <td>digits</td>\n      <td>Decision Tree Classifier</td>\n      <td>(5, 40, best)</td>\n      <td>holdout</td>\n      <td>0.607744</td>\n      <td>0.59806</td>\n      <td>0.604756</td>\n      <td>0.0069809</td>\n      <td>0.000997782</td>\n    </tr>\n    <tr>\n      <th>48</th>\n      <td>digits</td>\n      <td>Decision Tree Classifier</td>\n      <td>(10, 2, random)</td>\n      <td>holdout</td>\n      <td>0.821549</td>\n      <td>0.827151</td>\n      <td>0.822762</td>\n      <td>0.00501871</td>\n      <td>0</td>\n    </tr>\n    <tr>\n      <th>50</th>\n      <td>digits</td>\n      <td>Decision Tree Classifier</td>\n      <td>(10, 2, best)</td>\n      <td>holdout</td>\n      <td>0.833333</td>\n      <td>0.84214</td>\n      <td>0.836688</td>\n      <td>0.0139635</td>\n      <td>0</td>\n    </tr>\n    <tr>\n      <th>52</th>\n      <td>digits</td>\n      <td>Decision Tree Classifier</td>\n      <td>(10, 20, random)</td>\n      <td>holdout</td>\n      <td>0.742424</td>\n      <td>0.749126</td>\n      <td>0.743035</td>\n      <td>0.00299191</td>\n      <td>0.000997782</td>\n    </tr>\n    <tr>\n      <th>54</th>\n      <td>digits</td>\n      <td>Decision Tree Classifier</td>\n      <td>(10, 20, best)</td>\n      <td>holdout</td>\n      <td>0.794613</td>\n      <td>0.80054</td>\n      <td>0.797709</td>\n      <td>0.00900817</td>\n      <td>0.000998735</td>\n    </tr>\n    <tr>\n      <th>56</th>\n      <td>digits</td>\n      <td>Decision Tree Classifier</td>\n      <td>(10, 40, random)</td>\n      <td>holdout</td>\n      <td>0.621212</td>\n      <td>0.649174</td>\n      <td>0.622869</td>\n      <td>0.00299168</td>\n      <td>0</td>\n    </tr>\n    <tr>\n      <th>58</th>\n      <td>digits</td>\n      <td>Decision Tree Classifier</td>\n      <td>(10, 40, best)</td>\n      <td>holdout</td>\n      <td>0.734007</td>\n      <td>0.764335</td>\n      <td>0.73374</td>\n      <td>0.00894618</td>\n      <td>0.000997543</td>\n    </tr>\n    <tr>\n      <th>60</th>\n      <td>digits</td>\n      <td>Decision Tree Classifier</td>\n      <td>(15, 2, random)</td>\n      <td>holdout</td>\n      <td>0.826599</td>\n      <td>0.832276</td>\n      <td>0.828587</td>\n      <td>0.00498676</td>\n      <td>0</td>\n    </tr>\n    <tr>\n      <th>62</th>\n      <td>digits</td>\n      <td>Decision Tree Classifier</td>\n      <td>(15, 2, best)</td>\n      <td>holdout</td>\n      <td>0.83165</td>\n      <td>0.839983</td>\n      <td>0.835681</td>\n      <td>0.0139632</td>\n      <td>0</td>\n    </tr>\n    <tr>\n      <th>64</th>\n      <td>digits</td>\n      <td>Decision Tree Classifier</td>\n      <td>(15, 20, random)</td>\n      <td>holdout</td>\n      <td>0.742424</td>\n      <td>0.749126</td>\n      <td>0.743035</td>\n      <td>0.00299168</td>\n      <td>0.000997782</td>\n    </tr>\n    <tr>\n      <th>66</th>\n      <td>digits</td>\n      <td>Decision Tree Classifier</td>\n      <td>(15, 20, best)</td>\n      <td>holdout</td>\n      <td>0.794613</td>\n      <td>0.80054</td>\n      <td>0.797709</td>\n      <td>0.00997281</td>\n      <td>0</td>\n    </tr>\n    <tr>\n      <th>68</th>\n      <td>digits</td>\n      <td>Decision Tree Classifier</td>\n      <td>(15, 40, random)</td>\n      <td>holdout</td>\n      <td>0.621212</td>\n      <td>0.649174</td>\n      <td>0.622869</td>\n      <td>0.00300646</td>\n      <td>0</td>\n    </tr>\n    <tr>\n      <th>70</th>\n      <td>digits</td>\n      <td>Decision Tree Classifier</td>\n      <td>(15, 40, best)</td>\n      <td>holdout</td>\n      <td>0.734007</td>\n      <td>0.764335</td>\n      <td>0.73374</td>\n      <td>0.00897861</td>\n      <td>0</td>\n    </tr>\n  </tbody>\n</table>\n</div>"
     },
     "metadata": {},
     "output_type": "display_data"
    },
    {
     "data": {
      "text/plain": "   dataset                  approach         arguments   split  \\\n37  digits  Decision Tree Classifier    (5, 2, random)  k-fold   \n39  digits  Decision Tree Classifier      (5, 2, best)  k-fold   \n41  digits  Decision Tree Classifier   (5, 20, random)  k-fold   \n43  digits  Decision Tree Classifier     (5, 20, best)  k-fold   \n45  digits  Decision Tree Classifier   (5, 40, random)  k-fold   \n47  digits  Decision Tree Classifier     (5, 40, best)  k-fold   \n49  digits  Decision Tree Classifier   (10, 2, random)  k-fold   \n51  digits  Decision Tree Classifier     (10, 2, best)  k-fold   \n53  digits  Decision Tree Classifier  (10, 20, random)  k-fold   \n55  digits  Decision Tree Classifier    (10, 20, best)  k-fold   \n57  digits  Decision Tree Classifier  (10, 40, random)  k-fold   \n59  digits  Decision Tree Classifier    (10, 40, best)  k-fold   \n61  digits  Decision Tree Classifier   (15, 2, random)  k-fold   \n63  digits  Decision Tree Classifier     (15, 2, best)  k-fold   \n65  digits  Decision Tree Classifier  (15, 20, random)  k-fold   \n67  digits  Decision Tree Classifier    (15, 20, best)  k-fold   \n69  digits  Decision Tree Classifier  (15, 40, random)  k-fold   \n71  digits  Decision Tree Classifier    (15, 40, best)  k-fold   \n\n                                           accuracy  \\\n37     m: 0.682799442896936 std: 0.0225789955736832   \n39  m: 0.6521990095945527 std: 0.029293764851288196   \n41  m: 0.6750278551532034 std: 0.040755563742608684   \n43   m: 0.642189724543485 std: 0.026859596447899876   \n45   m: 0.6282559579077684 std: 0.04962782791262363   \n47  m: 0.6271649644073042 std: 0.022340010709646117   \n49  m: 0.8492169606932837 std: 0.024701250873822116   \n51  m: 0.8497415660786135 std: 0.016289255420700997   \n53  m: 0.7334292788610337 std: 0.020905478914734647   \n55   m: 0.7879712163416899 std: 0.01638106112774851   \n57  m: 0.6956360259981429 std: 0.030311998503533933   \n59   m: 0.7551593933766635 std: 0.02118747834909684   \n61    m: 0.8480857319715259 std: 0.0160451900425344   \n63  m: 0.8503002166511916 std: 0.009784061096593345   \n65  m: 0.7334292788610337 std: 0.020905478914734647   \n67   m: 0.7879712163416899 std: 0.01638106112774851   \n69  m: 0.6956360259981429 std: 0.030311998503533933   \n71   m: 0.7551593933766635 std: 0.02118747834909684   \n\n                                          precision  \\\n37   m: 0.717660567564935 std: 0.026132446284686445   \n39   m: 0.7298174310895975 std: 0.01717008365700091   \n41  m: 0.6950497115958991 std: 0.061857032803490745   \n43    m: 0.703735266738326 std: 0.01501969790860612   \n45   m: 0.6253692157304211 std: 0.05839129334704999   \n47   m: 0.6660513441822741 std: 0.02980445680574132   \n49  m: 0.8535964619626707 std: 0.024247845316340284   \n51  m: 0.8559045305923447 std: 0.016949978229067093   \n53   m: 0.7394966477817702 std: 0.02134785363906439   \n55  m: 0.7966323249656977 std: 0.019183878519583475   \n57   m: 0.7156065230428587 std: 0.03517987997097763   \n59  m: 0.7708872928512271 std: 0.018327983630086836   \n61  m: 0.8518270691602231 std: 0.014618370518263432   \n63  m: 0.8570756527976207 std: 0.010812556072823007   \n65   m: 0.7394966477817702 std: 0.02134785363906439   \n67  m: 0.7966323249656977 std: 0.019183878519583475   \n69   m: 0.7156065230428587 std: 0.03517987997097763   \n71  m: 0.7708872928512271 std: 0.018327983630086836   \n\n                                             recall  \\\n37  m: 0.6822451106568753 std: 0.022306835943359964   \n39  m: 0.6520541549953315 std: 0.028721061472361847   \n41    m: 0.674860019683549 std: 0.04133979548873456   \n43  m: 0.6420215509627274 std: 0.026807715646732715   \n45  m: 0.6283112019582608 std: 0.050742761166004666   \n47  m: 0.6270297019708784 std: 0.022343553593636677   \n49   m: 0.848803896333308 std: 0.024983989383474584   \n51  m: 0.8496446109975521 std: 0.016132101050840803   \n53   m: 0.7331400055517703 std: 0.02089872408546371   \n55    m: 0.7882291114644057 std: 0.0162673398542481   \n57   m: 0.6946652282534636 std: 0.03080685318605075   \n59   m: 0.754918641330406 std: 0.021705452983571242   \n61   m: 0.847657531481061 std: 0.016500416901784897   \n63  m: 0.8501242334771746 std: 0.009676746964727485   \n65   m: 0.7331400055517703 std: 0.02089872408546371   \n67    m: 0.7882291114644057 std: 0.0162673398542481   \n69   m: 0.6946652282534636 std: 0.03080685318605075   \n71   m: 0.754918641330406 std: 0.021705452983571242   \n\n                                        time training  \\\n37  total: 0.028920888900756836 values: [0.0049846...   \n39  total: 0.06482982635498047 values: [0.01196933...   \n41  total: 0.021940946578979492 values: [0.0049874...   \n43  total: 0.04886913299560547 values: [0.00997281...   \n45  total: 0.01900506019592285 values: [0.00398517...   \n47  total: 0.04684734344482422 values: [0.00897574...   \n49  total: 0.03191232681274414 values: [0.00694966...   \n51  total: 0.07774758338928223 values: [0.01592493...   \n53  total: 0.022938013076782227 values: [0.0039889...   \n55  total: 0.06482529640197754 values: [0.01296425...   \n57  total: 0.020895957946777344 values: [0.0049526...   \n59  total: 0.05485177040100098 values: [0.01097035...   \n61  total: 0.03197884559631348 values: [0.00698113...   \n63  total: 0.08279752731323242 values: [0.0169549 ...   \n65  total: 0.022937297821044922 values: [0.0039892...   \n67  total: 0.06186532974243164 values: [0.01196742...   \n69  total: 0.019953012466430664 values: [0.0039923...   \n71  total: 0.054949045181274414 values: [0.0109748...   \n\n                                         time testing  \n37  total: 0.009973526000976562 values: [0.0019960...  \n39  total: 0.00997304916381836 values: [0.00199485...  \n41  total: 0.009973526000976562 values: [0.0029909...  \n43  total: 0.00997304916381836 values: [0.00199485...  \n45  total: 0.008919239044189453 values: [0.0019950...  \n47  total: 0.009006738662719727 values: [0.0019977...  \n49  total: 0.007977724075317383 values: [0.0009980...  \n51  total: 0.008978128433227539 values: [0.0019953...  \n53  total: 0.008977651596069336 values: [0.0019950...  \n55  total: 0.00897359848022461 values: [0.00099754...  \n57  total: 0.0080108642578125 values: [0.00099778 ...  \n59  total: 0.008977174758911133 values: [0.0009977...  \n61  total: 0.006985902786254883 values: [0.0009975...  \n63  total: 0.006951332092285156 values: [0.0009977...  \n65  total: 0.006983041763305664 values: [0.0019948...  \n67  total: 0.0079803466796875 values: [0.00099802 ...  \n69  total: 0.009967565536499023 values: [0.0019919...  \n71  total: 0.005019426345825195 values: [0.0009949...  ",
      "text/html": "<div>\n<style scoped>\n    .dataframe tbody tr th:only-of-type {\n        vertical-align: middle;\n    }\n\n    .dataframe tbody tr th {\n        vertical-align: top;\n    }\n\n    .dataframe thead th {\n        text-align: right;\n    }\n</style>\n<table border=\"1\" class=\"dataframe\">\n  <thead>\n    <tr style=\"text-align: right;\">\n      <th></th>\n      <th>dataset</th>\n      <th>approach</th>\n      <th>arguments</th>\n      <th>split</th>\n      <th>accuracy</th>\n      <th>precision</th>\n      <th>recall</th>\n      <th>time training</th>\n      <th>time testing</th>\n    </tr>\n  </thead>\n  <tbody>\n    <tr>\n      <th>37</th>\n      <td>digits</td>\n      <td>Decision Tree Classifier</td>\n      <td>(5, 2, random)</td>\n      <td>k-fold</td>\n      <td>m: 0.682799442896936 std: 0.0225789955736832</td>\n      <td>m: 0.717660567564935 std: 0.026132446284686445</td>\n      <td>m: 0.6822451106568753 std: 0.022306835943359964</td>\n      <td>total: 0.028920888900756836 values: [0.0049846...</td>\n      <td>total: 0.009973526000976562 values: [0.0019960...</td>\n    </tr>\n    <tr>\n      <th>39</th>\n      <td>digits</td>\n      <td>Decision Tree Classifier</td>\n      <td>(5, 2, best)</td>\n      <td>k-fold</td>\n      <td>m: 0.6521990095945527 std: 0.029293764851288196</td>\n      <td>m: 0.7298174310895975 std: 0.01717008365700091</td>\n      <td>m: 0.6520541549953315 std: 0.028721061472361847</td>\n      <td>total: 0.06482982635498047 values: [0.01196933...</td>\n      <td>total: 0.00997304916381836 values: [0.00199485...</td>\n    </tr>\n    <tr>\n      <th>41</th>\n      <td>digits</td>\n      <td>Decision Tree Classifier</td>\n      <td>(5, 20, random)</td>\n      <td>k-fold</td>\n      <td>m: 0.6750278551532034 std: 0.040755563742608684</td>\n      <td>m: 0.6950497115958991 std: 0.061857032803490745</td>\n      <td>m: 0.674860019683549 std: 0.04133979548873456</td>\n      <td>total: 0.021940946578979492 values: [0.0049874...</td>\n      <td>total: 0.009973526000976562 values: [0.0029909...</td>\n    </tr>\n    <tr>\n      <th>43</th>\n      <td>digits</td>\n      <td>Decision Tree Classifier</td>\n      <td>(5, 20, best)</td>\n      <td>k-fold</td>\n      <td>m: 0.642189724543485 std: 0.026859596447899876</td>\n      <td>m: 0.703735266738326 std: 0.01501969790860612</td>\n      <td>m: 0.6420215509627274 std: 0.026807715646732715</td>\n      <td>total: 0.04886913299560547 values: [0.00997281...</td>\n      <td>total: 0.00997304916381836 values: [0.00199485...</td>\n    </tr>\n    <tr>\n      <th>45</th>\n      <td>digits</td>\n      <td>Decision Tree Classifier</td>\n      <td>(5, 40, random)</td>\n      <td>k-fold</td>\n      <td>m: 0.6282559579077684 std: 0.04962782791262363</td>\n      <td>m: 0.6253692157304211 std: 0.05839129334704999</td>\n      <td>m: 0.6283112019582608 std: 0.050742761166004666</td>\n      <td>total: 0.01900506019592285 values: [0.00398517...</td>\n      <td>total: 0.008919239044189453 values: [0.0019950...</td>\n    </tr>\n    <tr>\n      <th>47</th>\n      <td>digits</td>\n      <td>Decision Tree Classifier</td>\n      <td>(5, 40, best)</td>\n      <td>k-fold</td>\n      <td>m: 0.6271649644073042 std: 0.022340010709646117</td>\n      <td>m: 0.6660513441822741 std: 0.02980445680574132</td>\n      <td>m: 0.6270297019708784 std: 0.022343553593636677</td>\n      <td>total: 0.04684734344482422 values: [0.00897574...</td>\n      <td>total: 0.009006738662719727 values: [0.0019977...</td>\n    </tr>\n    <tr>\n      <th>49</th>\n      <td>digits</td>\n      <td>Decision Tree Classifier</td>\n      <td>(10, 2, random)</td>\n      <td>k-fold</td>\n      <td>m: 0.8492169606932837 std: 0.024701250873822116</td>\n      <td>m: 0.8535964619626707 std: 0.024247845316340284</td>\n      <td>m: 0.848803896333308 std: 0.024983989383474584</td>\n      <td>total: 0.03191232681274414 values: [0.00694966...</td>\n      <td>total: 0.007977724075317383 values: [0.0009980...</td>\n    </tr>\n    <tr>\n      <th>51</th>\n      <td>digits</td>\n      <td>Decision Tree Classifier</td>\n      <td>(10, 2, best)</td>\n      <td>k-fold</td>\n      <td>m: 0.8497415660786135 std: 0.016289255420700997</td>\n      <td>m: 0.8559045305923447 std: 0.016949978229067093</td>\n      <td>m: 0.8496446109975521 std: 0.016132101050840803</td>\n      <td>total: 0.07774758338928223 values: [0.01592493...</td>\n      <td>total: 0.008978128433227539 values: [0.0019953...</td>\n    </tr>\n    <tr>\n      <th>53</th>\n      <td>digits</td>\n      <td>Decision Tree Classifier</td>\n      <td>(10, 20, random)</td>\n      <td>k-fold</td>\n      <td>m: 0.7334292788610337 std: 0.020905478914734647</td>\n      <td>m: 0.7394966477817702 std: 0.02134785363906439</td>\n      <td>m: 0.7331400055517703 std: 0.02089872408546371</td>\n      <td>total: 0.022938013076782227 values: [0.0039889...</td>\n      <td>total: 0.008977651596069336 values: [0.0019950...</td>\n    </tr>\n    <tr>\n      <th>55</th>\n      <td>digits</td>\n      <td>Decision Tree Classifier</td>\n      <td>(10, 20, best)</td>\n      <td>k-fold</td>\n      <td>m: 0.7879712163416899 std: 0.01638106112774851</td>\n      <td>m: 0.7966323249656977 std: 0.019183878519583475</td>\n      <td>m: 0.7882291114644057 std: 0.0162673398542481</td>\n      <td>total: 0.06482529640197754 values: [0.01296425...</td>\n      <td>total: 0.00897359848022461 values: [0.00099754...</td>\n    </tr>\n    <tr>\n      <th>57</th>\n      <td>digits</td>\n      <td>Decision Tree Classifier</td>\n      <td>(10, 40, random)</td>\n      <td>k-fold</td>\n      <td>m: 0.6956360259981429 std: 0.030311998503533933</td>\n      <td>m: 0.7156065230428587 std: 0.03517987997097763</td>\n      <td>m: 0.6946652282534636 std: 0.03080685318605075</td>\n      <td>total: 0.020895957946777344 values: [0.0049526...</td>\n      <td>total: 0.0080108642578125 values: [0.00099778 ...</td>\n    </tr>\n    <tr>\n      <th>59</th>\n      <td>digits</td>\n      <td>Decision Tree Classifier</td>\n      <td>(10, 40, best)</td>\n      <td>k-fold</td>\n      <td>m: 0.7551593933766635 std: 0.02118747834909684</td>\n      <td>m: 0.7708872928512271 std: 0.018327983630086836</td>\n      <td>m: 0.754918641330406 std: 0.021705452983571242</td>\n      <td>total: 0.05485177040100098 values: [0.01097035...</td>\n      <td>total: 0.008977174758911133 values: [0.0009977...</td>\n    </tr>\n    <tr>\n      <th>61</th>\n      <td>digits</td>\n      <td>Decision Tree Classifier</td>\n      <td>(15, 2, random)</td>\n      <td>k-fold</td>\n      <td>m: 0.8480857319715259 std: 0.0160451900425344</td>\n      <td>m: 0.8518270691602231 std: 0.014618370518263432</td>\n      <td>m: 0.847657531481061 std: 0.016500416901784897</td>\n      <td>total: 0.03197884559631348 values: [0.00698113...</td>\n      <td>total: 0.006985902786254883 values: [0.0009975...</td>\n    </tr>\n    <tr>\n      <th>63</th>\n      <td>digits</td>\n      <td>Decision Tree Classifier</td>\n      <td>(15, 2, best)</td>\n      <td>k-fold</td>\n      <td>m: 0.8503002166511916 std: 0.009784061096593345</td>\n      <td>m: 0.8570756527976207 std: 0.010812556072823007</td>\n      <td>m: 0.8501242334771746 std: 0.009676746964727485</td>\n      <td>total: 0.08279752731323242 values: [0.0169549 ...</td>\n      <td>total: 0.006951332092285156 values: [0.0009977...</td>\n    </tr>\n    <tr>\n      <th>65</th>\n      <td>digits</td>\n      <td>Decision Tree Classifier</td>\n      <td>(15, 20, random)</td>\n      <td>k-fold</td>\n      <td>m: 0.7334292788610337 std: 0.020905478914734647</td>\n      <td>m: 0.7394966477817702 std: 0.02134785363906439</td>\n      <td>m: 0.7331400055517703 std: 0.02089872408546371</td>\n      <td>total: 0.022937297821044922 values: [0.0039892...</td>\n      <td>total: 0.006983041763305664 values: [0.0019948...</td>\n    </tr>\n    <tr>\n      <th>67</th>\n      <td>digits</td>\n      <td>Decision Tree Classifier</td>\n      <td>(15, 20, best)</td>\n      <td>k-fold</td>\n      <td>m: 0.7879712163416899 std: 0.01638106112774851</td>\n      <td>m: 0.7966323249656977 std: 0.019183878519583475</td>\n      <td>m: 0.7882291114644057 std: 0.0162673398542481</td>\n      <td>total: 0.06186532974243164 values: [0.01196742...</td>\n      <td>total: 0.0079803466796875 values: [0.00099802 ...</td>\n    </tr>\n    <tr>\n      <th>69</th>\n      <td>digits</td>\n      <td>Decision Tree Classifier</td>\n      <td>(15, 40, random)</td>\n      <td>k-fold</td>\n      <td>m: 0.6956360259981429 std: 0.030311998503533933</td>\n      <td>m: 0.7156065230428587 std: 0.03517987997097763</td>\n      <td>m: 0.6946652282534636 std: 0.03080685318605075</td>\n      <td>total: 0.019953012466430664 values: [0.0039923...</td>\n      <td>total: 0.009967565536499023 values: [0.0019919...</td>\n    </tr>\n    <tr>\n      <th>71</th>\n      <td>digits</td>\n      <td>Decision Tree Classifier</td>\n      <td>(15, 40, best)</td>\n      <td>k-fold</td>\n      <td>m: 0.7551593933766635 std: 0.02118747834909684</td>\n      <td>m: 0.7708872928512271 std: 0.018327983630086836</td>\n      <td>m: 0.754918641330406 std: 0.021705452983571242</td>\n      <td>total: 0.054949045181274414 values: [0.0109748...</td>\n      <td>total: 0.005019426345825195 values: [0.0009949...</td>\n    </tr>\n  </tbody>\n</table>\n</div>"
     },
     "metadata": {},
     "output_type": "display_data"
    },
    {
     "data": {
      "text/plain": "<Figure size 432x288 with 1 Axes>",
      "image/png": "[encoded data removed]"
     },
     "metadata": {
      "needs_background": "light"
     },
     "output_type": "display_data"
    }
   ],
   "source": [
    "datasetDigits = datasets.load_digits();\n",
    "classifier = tree.DecisionTreeClassifier(criterion = 'gini',\n",
    "                                         max_depth = 10,\n",
    "                                         min_samples_leaf = 20,\n",
    "                                         splitter = 'best')\n",
    "tree.plot_tree(classifier.fit(datasetDigits.data, datasetDigits.target),max_depth=5)\n",
    "\n",
    "display(decision_tree_results_df[(decision_tree_results_df['dataset']=='digits') & (decision_tree_results_df['split']=='holdout')])\n",
    "display(decision_tree_results_df[(decision_tree_results_df['dataset']=='digits') & (decision_tree_results_df['split']=='k-fold')])"
   ],
   "metadata": {
    "collapsed": false,
    "pycharm": {
     "name": "#%%\n"
    }
   }
  },
  {
   "cell_type": "markdown",
   "source": [
    "##### Results:\n",
    "* Random and Best Splitting Approach for the Decision Tree on both the Iris and Digits Dataset:\n",
    "The overall results indicate that the \"best\" splitting parameter yields by far superior results compared to the \"random\" approach.\n",
    "* Min Sample Leaf Values: Additional analyses of the results from the previous step show that there is overfitting after a max depth of 2 with only limited benefits of additional splits.\n",
    "To counteract the creation of additional nodes, min_samples_leaf was added as parameter for an extensive high maximum depth (30).\n",
    "* Analysis using the Decision Tree approach on the Digits Dataset show a high relevance of the defined max tree depth for accuracy, precision and recall with extremely low training and testing time. For a max depth of 7, the resulting tree yields good results with limited overfitting. Potential subsequent pruning could further reduce overfitting."
   ],
   "metadata": {
    "collapsed": false
   }
  },
  {
   "cell_type": "markdown",
   "source": [
    "# Overall Results"
   ],
   "metadata": {
    "collapsed": false,
    "pycharm": {
     "name": "#%% md\n"
    }
   }
  },
  {
   "cell_type": "code",
   "execution_count": 14,
   "outputs": [],
   "source": [
    "overall_results = knn_results + bayes_results + perceptron_results + decision_tree_results\n",
    "overall_results_df = pd.DataFrame(overall_results)"
   ],
   "metadata": {
    "collapsed": false,
    "pycharm": {
     "name": "#%%\n"
    }
   }
  },
  {
   "cell_type": "markdown",
   "source": [
    "## Iris Dataset\n",
    "### Holdout"
   ],
   "metadata": {
    "collapsed": false,
    "pycharm": {
     "name": "#%% md\n"
    }
   }
  },
  {
   "cell_type": "code",
   "execution_count": 15,
   "outputs": [
    {
     "data": {
      "text/plain": "   dataset                  approach         arguments    split accuracy  \\\n0     iris                       kNN               n=3  holdout     0.94   \n2     iris                       kNN              n=10  holdout     0.92   \n4     iris                       kNN              n=15  holdout     0.92   \n12    iris                     bayes              none  holdout      0.9   \n16    iris                perceptron              none  holdout     0.34   \n20    iris  Decision Tree Classifier    (5, 2, random)  holdout     0.88   \n22    iris  Decision Tree Classifier      (5, 2, best)  holdout      0.9   \n24    iris  Decision Tree Classifier   (5, 20, random)  holdout     0.48   \n26    iris  Decision Tree Classifier     (5, 20, best)  holdout      0.9   \n28    iris  Decision Tree Classifier   (5, 40, random)  holdout     0.28   \n30    iris  Decision Tree Classifier     (5, 40, best)  holdout     0.54   \n32    iris  Decision Tree Classifier   (10, 2, random)  holdout      0.9   \n34    iris  Decision Tree Classifier     (10, 2, best)  holdout      0.9   \n36    iris  Decision Tree Classifier  (10, 20, random)  holdout     0.48   \n38    iris  Decision Tree Classifier    (10, 20, best)  holdout      0.9   \n40    iris  Decision Tree Classifier  (10, 40, random)  holdout     0.28   \n42    iris  Decision Tree Classifier    (10, 40, best)  holdout     0.54   \n44    iris  Decision Tree Classifier   (15, 2, random)  holdout      0.9   \n46    iris  Decision Tree Classifier     (15, 2, best)  holdout      0.9   \n48    iris  Decision Tree Classifier  (15, 20, random)  holdout     0.48   \n50    iris  Decision Tree Classifier    (15, 20, best)  holdout      0.9   \n52    iris  Decision Tree Classifier  (15, 40, random)  holdout     0.28   \n54    iris  Decision Tree Classifier    (15, 40, best)  holdout     0.54   \n\n    precision    recall time training time testing  \n0    0.941176  0.952381             0    0.0029912  \n2    0.925926  0.936508    0.00100708   0.00198483  \n4    0.925926  0.936508   0.000997543   0.00199461  \n12    0.90305  0.912698   0.000997305            0  \n16   0.432624       0.4    0.00202298            0  \n20   0.890278  0.865079    0.00099659            0  \n22    0.90305  0.912698             0            0  \n24       0.45  0.555556             0            0  \n26    0.90305  0.912698             0            0  \n28  0.0933333  0.333333   0.000997543            0  \n30    0.41533  0.619048   0.000997305            0  \n32   0.894956  0.904762   0.000997543            0  \n34    0.90305  0.912698             0  0.000997305  \n36       0.45  0.555556   0.000997543            0  \n38    0.90305  0.912698   0.000995874            0  \n40  0.0933333  0.333333             0            0  \n42    0.41533  0.619048             0            0  \n44   0.894956  0.904762   0.000999212            0  \n46    0.90305  0.912698             0  0.000968695  \n48       0.45  0.555556   0.000996351            0  \n50    0.90305  0.912698   0.000994921            0  \n52  0.0933333  0.333333             0  0.000997066  \n54    0.41533  0.619048   0.000997066            0  ",
      "text/html": "<div>\n<style scoped>\n    .dataframe tbody tr th:only-of-type {\n        vertical-align: middle;\n    }\n\n    .dataframe tbody tr th {\n        vertical-align: top;\n    }\n\n    .dataframe thead th {\n        text-align: right;\n    }\n</style>\n<table border=\"1\" class=\"dataframe\">\n  <thead>\n    <tr style=\"text-align: right;\">\n      <th></th>\n      <th>dataset</th>\n      <th>approach</th>\n      <th>arguments</th>\n      <th>split</th>\n      <th>accuracy</th>\n      <th>precision</th>\n      <th>recall</th>\n      <th>time training</th>\n      <th>time testing</th>\n    </tr>\n  </thead>\n  <tbody>\n    <tr>\n      <th>0</th>\n      <td>iris</td>\n      <td>kNN</td>\n      <td>n=3</td>\n      <td>holdout</td>\n      <td>0.94</td>\n      <td>0.941176</td>\n      <td>0.952381</td>\n      <td>0</td>\n      <td>0.0029912</td>\n    </tr>\n    <tr>\n      <th>2</th>\n      <td>iris</td>\n      <td>kNN</td>\n      <td>n=10</td>\n      <td>holdout</td>\n      <td>0.92</td>\n      <td>0.925926</td>\n      <td>0.936508</td>\n      <td>0.00100708</td>\n      <td>0.00198483</td>\n    </tr>\n    <tr>\n      <th>4</th>\n      <td>iris</td>\n      <td>kNN</td>\n      <td>n=15</td>\n      <td>holdout</td>\n      <td>0.92</td>\n      <td>0.925926</td>\n      <td>0.936508</td>\n      <td>0.000997543</td>\n      <td>0.00199461</td>\n    </tr>\n    <tr>\n      <th>12</th>\n      <td>iris</td>\n      <td>bayes</td>\n      <td>none</td>\n      <td>holdout</td>\n      <td>0.9</td>\n      <td>0.90305</td>\n      <td>0.912698</td>\n      <td>0.000997305</td>\n      <td>0</td>\n    </tr>\n    <tr>\n      <th>16</th>\n      <td>iris</td>\n      <td>perceptron</td>\n      <td>none</td>\n      <td>holdout</td>\n      <td>0.34</td>\n      <td>0.432624</td>\n      <td>0.4</td>\n      <td>0.00202298</td>\n      <td>0</td>\n    </tr>\n    <tr>\n      <th>20</th>\n      <td>iris</td>\n      <td>Decision Tree Classifier</td>\n      <td>(5, 2, random)</td>\n      <td>holdout</td>\n      <td>0.88</td>\n      <td>0.890278</td>\n      <td>0.865079</td>\n      <td>0.00099659</td>\n      <td>0</td>\n    </tr>\n    <tr>\n      <th>22</th>\n      <td>iris</td>\n      <td>Decision Tree Classifier</td>\n      <td>(5, 2, best)</td>\n      <td>holdout</td>\n      <td>0.9</td>\n      <td>0.90305</td>\n      <td>0.912698</td>\n      <td>0</td>\n      <td>0</td>\n    </tr>\n    <tr>\n      <th>24</th>\n      <td>iris</td>\n      <td>Decision Tree Classifier</td>\n      <td>(5, 20, random)</td>\n      <td>holdout</td>\n      <td>0.48</td>\n      <td>0.45</td>\n      <td>0.555556</td>\n      <td>0</td>\n      <td>0</td>\n    </tr>\n    <tr>\n      <th>26</th>\n      <td>iris</td>\n      <td>Decision Tree Classifier</td>\n      <td>(5, 20, best)</td>\n      <td>holdout</td>\n      <td>0.9</td>\n      <td>0.90305</td>\n      <td>0.912698</td>\n      <td>0</td>\n      <td>0</td>\n    </tr>\n    <tr>\n      <th>28</th>\n      <td>iris</td>\n      <td>Decision Tree Classifier</td>\n      <td>(5, 40, random)</td>\n      <td>holdout</td>\n      <td>0.28</td>\n      <td>0.0933333</td>\n      <td>0.333333</td>\n      <td>0.000997543</td>\n      <td>0</td>\n    </tr>\n    <tr>\n      <th>30</th>\n      <td>iris</td>\n      <td>Decision Tree Classifier</td>\n      <td>(5, 40, best)</td>\n      <td>holdout</td>\n      <td>0.54</td>\n      <td>0.41533</td>\n      <td>0.619048</td>\n      <td>0.000997305</td>\n      <td>0</td>\n    </tr>\n    <tr>\n      <th>32</th>\n      <td>iris</td>\n      <td>Decision Tree Classifier</td>\n      <td>(10, 2, random)</td>\n      <td>holdout</td>\n      <td>0.9</td>\n      <td>0.894956</td>\n      <td>0.904762</td>\n      <td>0.000997543</td>\n      <td>0</td>\n    </tr>\n    <tr>\n      <th>34</th>\n      <td>iris</td>\n      <td>Decision Tree Classifier</td>\n      <td>(10, 2, best)</td>\n      <td>holdout</td>\n      <td>0.9</td>\n      <td>0.90305</td>\n      <td>0.912698</td>\n      <td>0</td>\n      <td>0.000997305</td>\n    </tr>\n    <tr>\n      <th>36</th>\n      <td>iris</td>\n      <td>Decision Tree Classifier</td>\n      <td>(10, 20, random)</td>\n      <td>holdout</td>\n      <td>0.48</td>\n      <td>0.45</td>\n      <td>0.555556</td>\n      <td>0.000997543</td>\n      <td>0</td>\n    </tr>\n    <tr>\n      <th>38</th>\n      <td>iris</td>\n      <td>Decision Tree Classifier</td>\n      <td>(10, 20, best)</td>\n      <td>holdout</td>\n      <td>0.9</td>\n      <td>0.90305</td>\n      <td>0.912698</td>\n      <td>0.000995874</td>\n      <td>0</td>\n    </tr>\n    <tr>\n      <th>40</th>\n      <td>iris</td>\n      <td>Decision Tree Classifier</td>\n      <td>(10, 40, random)</td>\n      <td>holdout</td>\n      <td>0.28</td>\n      <td>0.0933333</td>\n      <td>0.333333</td>\n      <td>0</td>\n      <td>0</td>\n    </tr>\n    <tr>\n      <th>42</th>\n      <td>iris</td>\n      <td>Decision Tree Classifier</td>\n      <td>(10, 40, best)</td>\n      <td>holdout</td>\n      <td>0.54</td>\n      <td>0.41533</td>\n      <td>0.619048</td>\n      <td>0</td>\n      <td>0</td>\n    </tr>\n    <tr>\n      <th>44</th>\n      <td>iris</td>\n      <td>Decision Tree Classifier</td>\n      <td>(15, 2, random)</td>\n      <td>holdout</td>\n      <td>0.9</td>\n      <td>0.894956</td>\n      <td>0.904762</td>\n      <td>0.000999212</td>\n      <td>0</td>\n    </tr>\n    <tr>\n      <th>46</th>\n      <td>iris</td>\n      <td>Decision Tree Classifier</td>\n      <td>(15, 2, best)</td>\n      <td>holdout</td>\n      <td>0.9</td>\n      <td>0.90305</td>\n      <td>0.912698</td>\n      <td>0</td>\n      <td>0.000968695</td>\n    </tr>\n    <tr>\n      <th>48</th>\n      <td>iris</td>\n      <td>Decision Tree Classifier</td>\n      <td>(15, 20, random)</td>\n      <td>holdout</td>\n      <td>0.48</td>\n      <td>0.45</td>\n      <td>0.555556</td>\n      <td>0.000996351</td>\n      <td>0</td>\n    </tr>\n    <tr>\n      <th>50</th>\n      <td>iris</td>\n      <td>Decision Tree Classifier</td>\n      <td>(15, 20, best)</td>\n      <td>holdout</td>\n      <td>0.9</td>\n      <td>0.90305</td>\n      <td>0.912698</td>\n      <td>0.000994921</td>\n      <td>0</td>\n    </tr>\n    <tr>\n      <th>52</th>\n      <td>iris</td>\n      <td>Decision Tree Classifier</td>\n      <td>(15, 40, random)</td>\n      <td>holdout</td>\n      <td>0.28</td>\n      <td>0.0933333</td>\n      <td>0.333333</td>\n      <td>0</td>\n      <td>0.000997066</td>\n    </tr>\n    <tr>\n      <th>54</th>\n      <td>iris</td>\n      <td>Decision Tree Classifier</td>\n      <td>(15, 40, best)</td>\n      <td>holdout</td>\n      <td>0.54</td>\n      <td>0.41533</td>\n      <td>0.619048</td>\n      <td>0.000997066</td>\n      <td>0</td>\n    </tr>\n  </tbody>\n</table>\n</div>"
     },
     "metadata": {},
     "output_type": "display_data"
    }
   ],
   "source": [
    "display(overall_results_df[\n",
    "            (overall_results_df['dataset']=='iris') &\n",
    "            (overall_results_df['split']=='holdout')])"
   ],
   "metadata": {
    "collapsed": false,
    "pycharm": {
     "name": "#%%\n"
    }
   }
  },
  {
   "cell_type": "markdown",
   "source": [
    "### K Fold"
   ],
   "metadata": {
    "collapsed": false
   }
  },
  {
   "cell_type": "code",
   "execution_count": 16,
   "outputs": [
    {
     "data": {
      "text/plain": "   dataset                  approach         arguments   split  \\\n1     iris                       kNN               n=3  k-fold   \n3     iris                       kNN              n=10  k-fold   \n5     iris                       kNN              n=15  k-fold   \n13    iris                     bayes              none  k-fold   \n17    iris                perceptron              none  k-fold   \n21    iris  Decision Tree Classifier    (5, 2, random)  k-fold   \n23    iris  Decision Tree Classifier      (5, 2, best)  k-fold   \n25    iris  Decision Tree Classifier   (5, 20, random)  k-fold   \n27    iris  Decision Tree Classifier     (5, 20, best)  k-fold   \n29    iris  Decision Tree Classifier   (5, 40, random)  k-fold   \n31    iris  Decision Tree Classifier     (5, 40, best)  k-fold   \n33    iris  Decision Tree Classifier   (10, 2, random)  k-fold   \n35    iris  Decision Tree Classifier     (10, 2, best)  k-fold   \n37    iris  Decision Tree Classifier  (10, 20, random)  k-fold   \n39    iris  Decision Tree Classifier    (10, 20, best)  k-fold   \n41    iris  Decision Tree Classifier  (10, 40, random)  k-fold   \n43    iris  Decision Tree Classifier    (10, 40, best)  k-fold   \n45    iris  Decision Tree Classifier   (15, 2, random)  k-fold   \n47    iris  Decision Tree Classifier     (15, 2, best)  k-fold   \n49    iris  Decision Tree Classifier  (15, 20, random)  k-fold   \n51    iris  Decision Tree Classifier    (15, 20, best)  k-fold   \n53    iris  Decision Tree Classifier  (15, 40, random)  k-fold   \n55    iris  Decision Tree Classifier    (15, 40, best)  k-fold   \n\n                                           accuracy  \\\n1   m: 0.9600000000000002 std: 0.024944382578492935   \n3    m: 0.9733333333333334 std: 0.05333333333333332   \n5   m: 0.9733333333333334 std: 0.038873012632301994   \n13   m: 0.9533333333333334 std: 0.03399346342395189   \n17                 m: 0.74 std: 0.10413666234542207   \n21   m: 0.8800000000000001 std: 0.05416025603090639   \n23   m: 0.9400000000000001 std: 0.04422166387140532   \n25  m: 0.5599999999999999 std: 0.024944382578492935   \n27   m: 0.9266666666666667 std: 0.04422166387140532   \n29                   m: 0.3333333333333333 std: 0.0   \n31   m: 0.7666666666666666 std: 0.12292725943057185   \n33   m: 0.9199999999999999 std: 0.04521553322083511   \n35   m: 0.9400000000000001 std: 0.04422166387140532   \n37  m: 0.5599999999999999 std: 0.024944382578492935   \n39   m: 0.9266666666666667 std: 0.04422166387140532   \n41                   m: 0.3333333333333333 std: 0.0   \n43   m: 0.7666666666666666 std: 0.12292725943057185   \n45   m: 0.9199999999999999 std: 0.04521553322083511   \n47   m: 0.9400000000000001 std: 0.04422166387140532   \n49  m: 0.5599999999999999 std: 0.024944382578492935   \n51   m: 0.9266666666666667 std: 0.04422166387140532   \n53                   m: 0.3333333333333333 std: 0.0   \n55   m: 0.7666666666666666 std: 0.12292725943057185   \n\n                                            precision  \\\n1      m: 0.9612121212121212 std: 0.02530983396099532   \n3                  m: 0.975 std: 0.049999999999999996   \n5     m: 0.9744107744107744 std: 0.037890383559960134   \n13     m: 0.9550168350168351 std: 0.03375719358407477   \n17     m: 0.6742889463477699 std: 0.19998100699035673   \n21     m: 0.9151709401709403 std: 0.02856862378351845   \n23     m: 0.9444949494949496 std: 0.04164152899506982   \n25   m: 0.47716293368467283 std: 0.004696804926703416   \n27     m: 0.9332491582491583 std: 0.04255264892173636   \n29  m: 0.11111111111111112 std: 1.3877787807814457...   \n31     m: 0.6693602693602694 std: 0.20784967494940076   \n33     m: 0.9307840307840308 std: 0.03813348030226439   \n35     m: 0.9444949494949496 std: 0.04164152899506982   \n37   m: 0.47716293368467283 std: 0.004696804926703416   \n39     m: 0.9332491582491583 std: 0.04255264892173636   \n41  m: 0.11111111111111112 std: 1.3877787807814457...   \n43     m: 0.6693602693602694 std: 0.20784967494940076   \n45     m: 0.9307840307840308 std: 0.03813348030226439   \n47     m: 0.9444949494949496 std: 0.04164152899506982   \n49   m: 0.47716293368467283 std: 0.004696804926703416   \n51     m: 0.9332491582491583 std: 0.04255264892173636   \n53  m: 0.11111111111111112 std: 1.3877787807814457...   \n55     m: 0.6693602693602694 std: 0.20784967494940076   \n\n                                             recall  \\\n1                 m: 0.96 std: 0.024944382578492984   \n3   m: 0.9733333333333334 std: 0.053333333333333365   \n5   m: 0.9733333333333334 std: 0.038873012632301994   \n13    m: 0.9533333333333334 std: 0.0339934634239519   \n17                 m: 0.74 std: 0.10413666234542203   \n21   m: 0.8799999999999999 std: 0.05416025603090637   \n23  m: 0.9400000000000001 std: 0.044221663871405366   \n25  m: 0.5599999999999999 std: 0.024944382578492935   \n27  m: 0.9266666666666665 std: 0.044221663871405345   \n29                   m: 0.3333333333333333 std: 0.0   \n31   m: 0.7666666666666666 std: 0.12292725943057183   \n33    m: 0.9199999999999999 std: 0.0452155332208351   \n35  m: 0.9400000000000001 std: 0.044221663871405366   \n37  m: 0.5599999999999999 std: 0.024944382578492935   \n39  m: 0.9266666666666665 std: 0.044221663871405345   \n41                   m: 0.3333333333333333 std: 0.0   \n43   m: 0.7666666666666666 std: 0.12292725943057183   \n45    m: 0.9199999999999999 std: 0.0452155332208351   \n47  m: 0.9400000000000001 std: 0.044221663871405366   \n49  m: 0.5599999999999999 std: 0.024944382578492935   \n51  m: 0.9266666666666665 std: 0.044221663871405345   \n53                   m: 0.3333333333333333 std: 0.0   \n55   m: 0.7666666666666666 std: 0.12292725943057183   \n\n                                        time training  \\\n1   total: 0.0029926300048828125 values: [0.000997...   \n3   total: 0.0019941329956054688 values: [0.      ...   \n5   total: 0.0019826889038085938 values: [0.000985...   \n13  total: 0.0029859542846679688 values: [0.000996...   \n17  total: 0.009000301361083984 values: [0.0019946...   \n21  total: 0.004986286163330078 values: [0.0009970...   \n23  total: 0.005007743835449219 values: [0.0009973...   \n25  total: 0.002966165542602539 values: [0.0010004...   \n27  total: 0.001994609832763672 values: [0.0009973...   \n29  total: 0.0020182132720947266 values: [0.      ...   \n31  total: 0.003008127212524414 values: [0.       ...   \n33  total: 0.000997304916381836 values: [0.       ...   \n35  total: 0.00399017333984375 values: [0.        ...   \n37  total: 0.0029053688049316406 values: [0.000910...   \n39  total: 0.001962423324584961 values: [0.       ...   \n41  total: 0.003957986831665039 values: [0.       ...   \n43  total: 0.0030341148376464844 values: [0.001024...   \n45  total: 0.0019943714141845703 values: [0.      ...   \n47  total: 0.004981040954589844 values: [0.0009982...   \n49  total: 0.0009975433349609375 values: [0.      ...   \n51  total: 0.0009970664978027344 values: [0.      ...   \n53  total: 0.003989458084106445 values: [0.       ...   \n55  total: 0.0029926300048828125 values: [0.      ...   \n\n                                         time testing  \n1   total: 0.013962507247924805 values: [0.0029921...  \n3   total: 0.012965917587280273 values: [0.0029921...  \n5   total: 0.014960050582885742 values: [0.0029919...  \n13  total: 0.005992412567138672 values: [0.0009999...  \n17  total: 0.008951425552368164 values: [0.0029592...  \n21  total: 0.004987001419067383 values: [0.0009975...  \n23  total: 0.0049974918365478516 values: [0.000997...  \n25  total: 0.007972002029418945 values: [0.0019595...  \n27  total: 0.0069811344146728516 values: [0.000997...  \n29  total: 0.007998228073120117 values: [0.0020265...  \n31  total: 0.0069658756256103516 values: [0.002012...  \n33  total: 0.005967140197753906 values: [0.0019621...  \n35  total: 0.004956722259521484 values: [0.0009965...  \n37  total: 0.009946107864379883 values: [0.0009987...  \n39  total: 0.00900721549987793 values: [0.00202441...  \n41  total: 0.009007692337036133 values: [0.0020244...  \n43  total: 0.009942293167114258 values: [0.0019755...  \n45  total: 0.008007287979125977 values: [0.0020215...  \n47  total: 0.006959438323974609 values: [0.0009689...  \n49  total: 0.012934446334838867 values: [0.0059530...  \n51  total: 0.008981704711914062 values: [0.0019881...  \n53  total: 0.008990049362182617 values: [0.0019953...  \n55  total: 0.00897669792175293 values: [0.00199628...  ",
      "text/html": "<div>\n<style scoped>\n    .dataframe tbody tr th:only-of-type {\n        vertical-align: middle;\n    }\n\n    .dataframe tbody tr th {\n        vertical-align: top;\n    }\n\n    .dataframe thead th {\n        text-align: right;\n    }\n</style>\n<table border=\"1\" class=\"dataframe\">\n  <thead>\n    <tr style=\"text-align: right;\">\n      <th></th>\n      <th>dataset</th>\n      <th>approach</th>\n      <th>arguments</th>\n      <th>split</th>\n      <th>accuracy</th>\n      <th>precision</th>\n      <th>recall</th>\n      <th>time training</th>\n      <th>time testing</th>\n    </tr>\n  </thead>\n  <tbody>\n    <tr>\n      <th>1</th>\n      <td>iris</td>\n      <td>kNN</td>\n      <td>n=3</td>\n      <td>k-fold</td>\n      <td>m: 0.9600000000000002 std: 0.024944382578492935</td>\n      <td>m: 0.9612121212121212 std: 0.02530983396099532</td>\n      <td>m: 0.96 std: 0.024944382578492984</td>\n      <td>total: 0.0029926300048828125 values: [0.000997...</td>\n      <td>total: 0.013962507247924805 values: [0.0029921...</td>\n    </tr>\n    <tr>\n      <th>3</th>\n      <td>iris</td>\n      <td>kNN</td>\n      <td>n=10</td>\n      <td>k-fold</td>\n      <td>m: 0.9733333333333334 std: 0.05333333333333332</td>\n      <td>m: 0.975 std: 0.049999999999999996</td>\n      <td>m: 0.9733333333333334 std: 0.053333333333333365</td>\n      <td>total: 0.0019941329956054688 values: [0.      ...</td>\n      <td>total: 0.012965917587280273 values: [0.0029921...</td>\n    </tr>\n    <tr>\n      <th>5</th>\n      <td>iris</td>\n      <td>kNN</td>\n      <td>n=15</td>\n      <td>k-fold</td>\n      <td>m: 0.9733333333333334 std: 0.038873012632301994</td>\n      <td>m: 0.9744107744107744 std: 0.037890383559960134</td>\n      <td>m: 0.9733333333333334 std: 0.038873012632301994</td>\n      <td>total: 0.0019826889038085938 values: [0.000985...</td>\n      <td>total: 0.014960050582885742 values: [0.0029919...</td>\n    </tr>\n    <tr>\n      <th>13</th>\n      <td>iris</td>\n      <td>bayes</td>\n      <td>none</td>\n      <td>k-fold</td>\n      <td>m: 0.9533333333333334 std: 0.03399346342395189</td>\n      <td>m: 0.9550168350168351 std: 0.03375719358407477</td>\n      <td>m: 0.9533333333333334 std: 0.0339934634239519</td>\n      <td>total: 0.0029859542846679688 values: [0.000996...</td>\n      <td>total: 0.005992412567138672 values: [0.0009999...</td>\n    </tr>\n    <tr>\n      <th>17</th>\n      <td>iris</td>\n      <td>perceptron</td>\n      <td>none</td>\n      <td>k-fold</td>\n      <td>m: 0.74 std: 0.10413666234542207</td>\n      <td>m: 0.6742889463477699 std: 0.19998100699035673</td>\n      <td>m: 0.74 std: 0.10413666234542203</td>\n      <td>total: 0.009000301361083984 values: [0.0019946...</td>\n      <td>total: 0.008951425552368164 values: [0.0029592...</td>\n    </tr>\n    <tr>\n      <th>21</th>\n      <td>iris</td>\n      <td>Decision Tree Classifier</td>\n      <td>(5, 2, random)</td>\n      <td>k-fold</td>\n      <td>m: 0.8800000000000001 std: 0.05416025603090639</td>\n      <td>m: 0.9151709401709403 std: 0.02856862378351845</td>\n      <td>m: 0.8799999999999999 std: 0.05416025603090637</td>\n      <td>total: 0.004986286163330078 values: [0.0009970...</td>\n      <td>total: 0.004987001419067383 values: [0.0009975...</td>\n    </tr>\n    <tr>\n      <th>23</th>\n      <td>iris</td>\n      <td>Decision Tree Classifier</td>\n      <td>(5, 2, best)</td>\n      <td>k-fold</td>\n      <td>m: 0.9400000000000001 std: 0.04422166387140532</td>\n      <td>m: 0.9444949494949496 std: 0.04164152899506982</td>\n      <td>m: 0.9400000000000001 std: 0.044221663871405366</td>\n      <td>total: 0.005007743835449219 values: [0.0009973...</td>\n      <td>total: 0.0049974918365478516 values: [0.000997...</td>\n    </tr>\n    <tr>\n      <th>25</th>\n      <td>iris</td>\n      <td>Decision Tree Classifier</td>\n      <td>(5, 20, random)</td>\n      <td>k-fold</td>\n      <td>m: 0.5599999999999999 std: 0.024944382578492935</td>\n      <td>m: 0.47716293368467283 std: 0.004696804926703416</td>\n      <td>m: 0.5599999999999999 std: 0.024944382578492935</td>\n      <td>total: 0.002966165542602539 values: [0.0010004...</td>\n      <td>total: 0.007972002029418945 values: [0.0019595...</td>\n    </tr>\n    <tr>\n      <th>27</th>\n      <td>iris</td>\n      <td>Decision Tree Classifier</td>\n      <td>(5, 20, best)</td>\n      <td>k-fold</td>\n      <td>m: 0.9266666666666667 std: 0.04422166387140532</td>\n      <td>m: 0.9332491582491583 std: 0.04255264892173636</td>\n      <td>m: 0.9266666666666665 std: 0.044221663871405345</td>\n      <td>total: 0.001994609832763672 values: [0.0009973...</td>\n      <td>total: 0.0069811344146728516 values: [0.000997...</td>\n    </tr>\n    <tr>\n      <th>29</th>\n      <td>iris</td>\n      <td>Decision Tree Classifier</td>\n      <td>(5, 40, random)</td>\n      <td>k-fold</td>\n      <td>m: 0.3333333333333333 std: 0.0</td>\n      <td>m: 0.11111111111111112 std: 1.3877787807814457...</td>\n      <td>m: 0.3333333333333333 std: 0.0</td>\n      <td>total: 0.0020182132720947266 values: [0.      ...</td>\n      <td>total: 0.007998228073120117 values: [0.0020265...</td>\n    </tr>\n    <tr>\n      <th>31</th>\n      <td>iris</td>\n      <td>Decision Tree Classifier</td>\n      <td>(5, 40, best)</td>\n      <td>k-fold</td>\n      <td>m: 0.7666666666666666 std: 0.12292725943057185</td>\n      <td>m: 0.6693602693602694 std: 0.20784967494940076</td>\n      <td>m: 0.7666666666666666 std: 0.12292725943057183</td>\n      <td>total: 0.003008127212524414 values: [0.       ...</td>\n      <td>total: 0.0069658756256103516 values: [0.002012...</td>\n    </tr>\n    <tr>\n      <th>33</th>\n      <td>iris</td>\n      <td>Decision Tree Classifier</td>\n      <td>(10, 2, random)</td>\n      <td>k-fold</td>\n      <td>m: 0.9199999999999999 std: 0.04521553322083511</td>\n      <td>m: 0.9307840307840308 std: 0.03813348030226439</td>\n      <td>m: 0.9199999999999999 std: 0.0452155332208351</td>\n      <td>total: 0.000997304916381836 values: [0.       ...</td>\n      <td>total: 0.005967140197753906 values: [0.0019621...</td>\n    </tr>\n    <tr>\n      <th>35</th>\n      <td>iris</td>\n      <td>Decision Tree Classifier</td>\n      <td>(10, 2, best)</td>\n      <td>k-fold</td>\n      <td>m: 0.9400000000000001 std: 0.04422166387140532</td>\n      <td>m: 0.9444949494949496 std: 0.04164152899506982</td>\n      <td>m: 0.9400000000000001 std: 0.044221663871405366</td>\n      <td>total: 0.00399017333984375 values: [0.        ...</td>\n      <td>total: 0.004956722259521484 values: [0.0009965...</td>\n    </tr>\n    <tr>\n      <th>37</th>\n      <td>iris</td>\n      <td>Decision Tree Classifier</td>\n      <td>(10, 20, random)</td>\n      <td>k-fold</td>\n      <td>m: 0.5599999999999999 std: 0.024944382578492935</td>\n      <td>m: 0.47716293368467283 std: 0.004696804926703416</td>\n      <td>m: 0.5599999999999999 std: 0.024944382578492935</td>\n      <td>total: 0.0029053688049316406 values: [0.000910...</td>\n      <td>total: 0.009946107864379883 values: [0.0009987...</td>\n    </tr>\n    <tr>\n      <th>39</th>\n      <td>iris</td>\n      <td>Decision Tree Classifier</td>\n      <td>(10, 20, best)</td>\n      <td>k-fold</td>\n      <td>m: 0.9266666666666667 std: 0.04422166387140532</td>\n      <td>m: 0.9332491582491583 std: 0.04255264892173636</td>\n      <td>m: 0.9266666666666665 std: 0.044221663871405345</td>\n      <td>total: 0.001962423324584961 values: [0.       ...</td>\n      <td>total: 0.00900721549987793 values: [0.00202441...</td>\n    </tr>\n    <tr>\n      <th>41</th>\n      <td>iris</td>\n      <td>Decision Tree Classifier</td>\n      <td>(10, 40, random)</td>\n      <td>k-fold</td>\n      <td>m: 0.3333333333333333 std: 0.0</td>\n      <td>m: 0.11111111111111112 std: 1.3877787807814457...</td>\n      <td>m: 0.3333333333333333 std: 0.0</td>\n      <td>total: 0.003957986831665039 values: [0.       ...</td>\n      <td>total: 0.009007692337036133 values: [0.0020244...</td>\n    </tr>\n    <tr>\n      <th>43</th>\n      <td>iris</td>\n      <td>Decision Tree Classifier</td>\n      <td>(10, 40, best)</td>\n      <td>k-fold</td>\n      <td>m: 0.7666666666666666 std: 0.12292725943057185</td>\n      <td>m: 0.6693602693602694 std: 0.20784967494940076</td>\n      <td>m: 0.7666666666666666 std: 0.12292725943057183</td>\n      <td>total: 0.0030341148376464844 values: [0.001024...</td>\n      <td>total: 0.009942293167114258 values: [0.0019755...</td>\n    </tr>\n    <tr>\n      <th>45</th>\n      <td>iris</td>\n      <td>Decision Tree Classifier</td>\n      <td>(15, 2, random)</td>\n      <td>k-fold</td>\n      <td>m: 0.9199999999999999 std: 0.04521553322083511</td>\n      <td>m: 0.9307840307840308 std: 0.03813348030226439</td>\n      <td>m: 0.9199999999999999 std: 0.0452155332208351</td>\n      <td>total: 0.0019943714141845703 values: [0.      ...</td>\n      <td>total: 0.008007287979125977 values: [0.0020215...</td>\n    </tr>\n    <tr>\n      <th>47</th>\n      <td>iris</td>\n      <td>Decision Tree Classifier</td>\n      <td>(15, 2, best)</td>\n      <td>k-fold</td>\n      <td>m: 0.9400000000000001 std: 0.04422166387140532</td>\n      <td>m: 0.9444949494949496 std: 0.04164152899506982</td>\n      <td>m: 0.9400000000000001 std: 0.044221663871405366</td>\n      <td>total: 0.004981040954589844 values: [0.0009982...</td>\n      <td>total: 0.006959438323974609 values: [0.0009689...</td>\n    </tr>\n    <tr>\n      <th>49</th>\n      <td>iris</td>\n      <td>Decision Tree Classifier</td>\n      <td>(15, 20, random)</td>\n      <td>k-fold</td>\n      <td>m: 0.5599999999999999 std: 0.024944382578492935</td>\n      <td>m: 0.47716293368467283 std: 0.004696804926703416</td>\n      <td>m: 0.5599999999999999 std: 0.024944382578492935</td>\n      <td>total: 0.0009975433349609375 values: [0.      ...</td>\n      <td>total: 0.012934446334838867 values: [0.0059530...</td>\n    </tr>\n    <tr>\n      <th>51</th>\n      <td>iris</td>\n      <td>Decision Tree Classifier</td>\n      <td>(15, 20, best)</td>\n      <td>k-fold</td>\n      <td>m: 0.9266666666666667 std: 0.04422166387140532</td>\n      <td>m: 0.9332491582491583 std: 0.04255264892173636</td>\n      <td>m: 0.9266666666666665 std: 0.044221663871405345</td>\n      <td>total: 0.0009970664978027344 values: [0.      ...</td>\n      <td>total: 0.008981704711914062 values: [0.0019881...</td>\n    </tr>\n    <tr>\n      <th>53</th>\n      <td>iris</td>\n      <td>Decision Tree Classifier</td>\n      <td>(15, 40, random)</td>\n      <td>k-fold</td>\n      <td>m: 0.3333333333333333 std: 0.0</td>\n      <td>m: 0.11111111111111112 std: 1.3877787807814457...</td>\n      <td>m: 0.3333333333333333 std: 0.0</td>\n      <td>total: 0.003989458084106445 values: [0.       ...</td>\n      <td>total: 0.008990049362182617 values: [0.0019953...</td>\n    </tr>\n    <tr>\n      <th>55</th>\n      <td>iris</td>\n      <td>Decision Tree Classifier</td>\n      <td>(15, 40, best)</td>\n      <td>k-fold</td>\n      <td>m: 0.7666666666666666 std: 0.12292725943057185</td>\n      <td>m: 0.6693602693602694 std: 0.20784967494940076</td>\n      <td>m: 0.7666666666666666 std: 0.12292725943057183</td>\n      <td>total: 0.0029926300048828125 values: [0.      ...</td>\n      <td>total: 0.00897669792175293 values: [0.00199628...</td>\n    </tr>\n  </tbody>\n</table>\n</div>"
     },
     "metadata": {},
     "output_type": "display_data"
    }
   ],
   "source": [
    "display(overall_results_df[\n",
    "            (overall_results_df['dataset']=='iris') &\n",
    "            (overall_results_df['split']=='k-fold')])\n"
   ],
   "metadata": {
    "collapsed": false,
    "pycharm": {
     "name": "#%%\n"
    }
   }
  },
  {
   "cell_type": "markdown",
   "source": [
    "### Effectiveness\n",
    "Despite the heterogenous approaches used, acccuracy, precision and recall were good across most approaches with the notable exception of the Perceptron.\n",
    "\n",
    "The data set may hence be prone to ceiling effects for measuring effectiveness for such numerical categorization tasks.\n",
    "\n",
    "### Efficiency\n",
    "In the datasets used as well as in the approaches applied, the training and testing time measured were low to non-measurable.\n",
    "\n",
    "Benchmarking with these limited differences across approaches would be too prone to additional confounding variables such as running background tasks and other effects not associated with the machine learning tasks."
   ],
   "metadata": {
    "collapsed": false
   }
  },
  {
   "cell_type": "markdown",
   "source": [
    "## Handwritten Numbers Dataset\n",
    "### Holdout"
   ],
   "metadata": {
    "collapsed": false
   }
  },
  {
   "cell_type": "code",
   "execution_count": 17,
   "outputs": [
    {
     "data": {
      "text/plain": "   dataset                  approach         arguments    split  accuracy  \\\n6   digits                       kNN               n=3  holdout  0.991582   \n8   digits                       kNN              n=10  holdout  0.976431   \n10  digits                       kNN              n=15  holdout  0.969697   \n14  digits                     bayes              none  holdout  0.833333   \n18  digits                perceptron              none  holdout  0.939394   \n56  digits  Decision Tree Classifier    (5, 2, random)  holdout  0.673401   \n58  digits  Decision Tree Classifier      (5, 2, best)  holdout    0.6633   \n60  digits  Decision Tree Classifier   (5, 20, random)  holdout  0.643098   \n62  digits  Decision Tree Classifier     (5, 20, best)  holdout  0.658249   \n64  digits  Decision Tree Classifier   (5, 40, random)  holdout  0.624579   \n66  digits  Decision Tree Classifier     (5, 40, best)  holdout  0.607744   \n68  digits  Decision Tree Classifier   (10, 2, random)  holdout  0.821549   \n70  digits  Decision Tree Classifier     (10, 2, best)  holdout  0.833333   \n72  digits  Decision Tree Classifier  (10, 20, random)  holdout  0.742424   \n74  digits  Decision Tree Classifier    (10, 20, best)  holdout  0.794613   \n76  digits  Decision Tree Classifier  (10, 40, random)  holdout  0.621212   \n78  digits  Decision Tree Classifier    (10, 40, best)  holdout  0.734007   \n80  digits  Decision Tree Classifier   (15, 2, random)  holdout  0.826599   \n82  digits  Decision Tree Classifier     (15, 2, best)  holdout   0.83165   \n84  digits  Decision Tree Classifier  (15, 20, random)  holdout  0.742424   \n86  digits  Decision Tree Classifier    (15, 20, best)  holdout  0.794613   \n88  digits  Decision Tree Classifier  (15, 40, random)  holdout  0.621212   \n90  digits  Decision Tree Classifier    (15, 40, best)  holdout  0.734007   \n\n   precision    recall time training time testing  \n6    0.99161  0.991301     0.0179558    0.0987611  \n8   0.976702  0.976281      0.017952     0.102726  \n10  0.969727  0.969164     0.0159569     0.092752  \n14  0.850641  0.833908    0.00199437    0.0019691  \n18   0.94141   0.93962     0.0239067            0  \n56  0.717454  0.677103    0.00298977  0.000997066  \n58  0.746121  0.663671      0.010972  0.000997543  \n60  0.637573  0.641345    0.00299096            0  \n62  0.720075  0.657125    0.00797844            0  \n64  0.595066  0.623683    0.00297952            0  \n66   0.59806  0.604756     0.0069809  0.000997782  \n68  0.827151  0.822762    0.00501871            0  \n70   0.84214  0.836688     0.0139635            0  \n72  0.749126  0.743035    0.00299191  0.000997782  \n74   0.80054  0.797709    0.00900817  0.000998735  \n76  0.649174  0.622869    0.00299168            0  \n78  0.764335   0.73374    0.00894618  0.000997543  \n80  0.832276  0.828587    0.00498676            0  \n82  0.839983  0.835681     0.0139632            0  \n84  0.749126  0.743035    0.00299168  0.000997782  \n86   0.80054  0.797709    0.00997281            0  \n88  0.649174  0.622869    0.00300646            0  \n90  0.764335   0.73374    0.00897861            0  ",
      "text/html": "<div>\n<style scoped>\n    .dataframe tbody tr th:only-of-type {\n        vertical-align: middle;\n    }\n\n    .dataframe tbody tr th {\n        vertical-align: top;\n    }\n\n    .dataframe thead th {\n        text-align: right;\n    }\n</style>\n<table border=\"1\" class=\"dataframe\">\n  <thead>\n    <tr style=\"text-align: right;\">\n      <th></th>\n      <th>dataset</th>\n      <th>approach</th>\n      <th>arguments</th>\n      <th>split</th>\n      <th>accuracy</th>\n      <th>precision</th>\n      <th>recall</th>\n      <th>time training</th>\n      <th>time testing</th>\n    </tr>\n  </thead>\n  <tbody>\n    <tr>\n      <th>6</th>\n      <td>digits</td>\n      <td>kNN</td>\n      <td>n=3</td>\n      <td>holdout</td>\n      <td>0.991582</td>\n      <td>0.99161</td>\n      <td>0.991301</td>\n      <td>0.0179558</td>\n      <td>0.0987611</td>\n    </tr>\n    <tr>\n      <th>8</th>\n      <td>digits</td>\n      <td>kNN</td>\n      <td>n=10</td>\n      <td>holdout</td>\n      <td>0.976431</td>\n      <td>0.976702</td>\n      <td>0.976281</td>\n      <td>0.017952</td>\n      <td>0.102726</td>\n    </tr>\n    <tr>\n      <th>10</th>\n      <td>digits</td>\n      <td>kNN</td>\n      <td>n=15</td>\n      <td>holdout</td>\n      <td>0.969697</td>\n      <td>0.969727</td>\n      <td>0.969164</td>\n      <td>0.0159569</td>\n      <td>0.092752</td>\n    </tr>\n    <tr>\n      <th>14</th>\n      <td>digits</td>\n      <td>bayes</td>\n      <td>none</td>\n      <td>holdout</td>\n      <td>0.833333</td>\n      <td>0.850641</td>\n      <td>0.833908</td>\n      <td>0.00199437</td>\n      <td>0.0019691</td>\n    </tr>\n    <tr>\n      <th>18</th>\n      <td>digits</td>\n      <td>perceptron</td>\n      <td>none</td>\n      <td>holdout</td>\n      <td>0.939394</td>\n      <td>0.94141</td>\n      <td>0.93962</td>\n      <td>0.0239067</td>\n      <td>0</td>\n    </tr>\n    <tr>\n      <th>56</th>\n      <td>digits</td>\n      <td>Decision Tree Classifier</td>\n      <td>(5, 2, random)</td>\n      <td>holdout</td>\n      <td>0.673401</td>\n      <td>0.717454</td>\n      <td>0.677103</td>\n      <td>0.00298977</td>\n      <td>0.000997066</td>\n    </tr>\n    <tr>\n      <th>58</th>\n      <td>digits</td>\n      <td>Decision Tree Classifier</td>\n      <td>(5, 2, best)</td>\n      <td>holdout</td>\n      <td>0.6633</td>\n      <td>0.746121</td>\n      <td>0.663671</td>\n      <td>0.010972</td>\n      <td>0.000997543</td>\n    </tr>\n    <tr>\n      <th>60</th>\n      <td>digits</td>\n      <td>Decision Tree Classifier</td>\n      <td>(5, 20, random)</td>\n      <td>holdout</td>\n      <td>0.643098</td>\n      <td>0.637573</td>\n      <td>0.641345</td>\n      <td>0.00299096</td>\n      <td>0</td>\n    </tr>\n    <tr>\n      <th>62</th>\n      <td>digits</td>\n      <td>Decision Tree Classifier</td>\n      <td>(5, 20, best)</td>\n      <td>holdout</td>\n      <td>0.658249</td>\n      <td>0.720075</td>\n      <td>0.657125</td>\n      <td>0.00797844</td>\n      <td>0</td>\n    </tr>\n    <tr>\n      <th>64</th>\n      <td>digits</td>\n      <td>Decision Tree Classifier</td>\n      <td>(5, 40, random)</td>\n      <td>holdout</td>\n      <td>0.624579</td>\n      <td>0.595066</td>\n      <td>0.623683</td>\n      <td>0.00297952</td>\n      <td>0</td>\n    </tr>\n    <tr>\n      <th>66</th>\n      <td>digits</td>\n      <td>Decision Tree Classifier</td>\n      <td>(5, 40, best)</td>\n      <td>holdout</td>\n      <td>0.607744</td>\n      <td>0.59806</td>\n      <td>0.604756</td>\n      <td>0.0069809</td>\n      <td>0.000997782</td>\n    </tr>\n    <tr>\n      <th>68</th>\n      <td>digits</td>\n      <td>Decision Tree Classifier</td>\n      <td>(10, 2, random)</td>\n      <td>holdout</td>\n      <td>0.821549</td>\n      <td>0.827151</td>\n      <td>0.822762</td>\n      <td>0.00501871</td>\n      <td>0</td>\n    </tr>\n    <tr>\n      <th>70</th>\n      <td>digits</td>\n      <td>Decision Tree Classifier</td>\n      <td>(10, 2, best)</td>\n      <td>holdout</td>\n      <td>0.833333</td>\n      <td>0.84214</td>\n      <td>0.836688</td>\n      <td>0.0139635</td>\n      <td>0</td>\n    </tr>\n    <tr>\n      <th>72</th>\n      <td>digits</td>\n      <td>Decision Tree Classifier</td>\n      <td>(10, 20, random)</td>\n      <td>holdout</td>\n      <td>0.742424</td>\n      <td>0.749126</td>\n      <td>0.743035</td>\n      <td>0.00299191</td>\n      <td>0.000997782</td>\n    </tr>\n    <tr>\n      <th>74</th>\n      <td>digits</td>\n      <td>Decision Tree Classifier</td>\n      <td>(10, 20, best)</td>\n      <td>holdout</td>\n      <td>0.794613</td>\n      <td>0.80054</td>\n      <td>0.797709</td>\n      <td>0.00900817</td>\n      <td>0.000998735</td>\n    </tr>\n    <tr>\n      <th>76</th>\n      <td>digits</td>\n      <td>Decision Tree Classifier</td>\n      <td>(10, 40, random)</td>\n      <td>holdout</td>\n      <td>0.621212</td>\n      <td>0.649174</td>\n      <td>0.622869</td>\n      <td>0.00299168</td>\n      <td>0</td>\n    </tr>\n    <tr>\n      <th>78</th>\n      <td>digits</td>\n      <td>Decision Tree Classifier</td>\n      <td>(10, 40, best)</td>\n      <td>holdout</td>\n      <td>0.734007</td>\n      <td>0.764335</td>\n      <td>0.73374</td>\n      <td>0.00894618</td>\n      <td>0.000997543</td>\n    </tr>\n    <tr>\n      <th>80</th>\n      <td>digits</td>\n      <td>Decision Tree Classifier</td>\n      <td>(15, 2, random)</td>\n      <td>holdout</td>\n      <td>0.826599</td>\n      <td>0.832276</td>\n      <td>0.828587</td>\n      <td>0.00498676</td>\n      <td>0</td>\n    </tr>\n    <tr>\n      <th>82</th>\n      <td>digits</td>\n      <td>Decision Tree Classifier</td>\n      <td>(15, 2, best)</td>\n      <td>holdout</td>\n      <td>0.83165</td>\n      <td>0.839983</td>\n      <td>0.835681</td>\n      <td>0.0139632</td>\n      <td>0</td>\n    </tr>\n    <tr>\n      <th>84</th>\n      <td>digits</td>\n      <td>Decision Tree Classifier</td>\n      <td>(15, 20, random)</td>\n      <td>holdout</td>\n      <td>0.742424</td>\n      <td>0.749126</td>\n      <td>0.743035</td>\n      <td>0.00299168</td>\n      <td>0.000997782</td>\n    </tr>\n    <tr>\n      <th>86</th>\n      <td>digits</td>\n      <td>Decision Tree Classifier</td>\n      <td>(15, 20, best)</td>\n      <td>holdout</td>\n      <td>0.794613</td>\n      <td>0.80054</td>\n      <td>0.797709</td>\n      <td>0.00997281</td>\n      <td>0</td>\n    </tr>\n    <tr>\n      <th>88</th>\n      <td>digits</td>\n      <td>Decision Tree Classifier</td>\n      <td>(15, 40, random)</td>\n      <td>holdout</td>\n      <td>0.621212</td>\n      <td>0.649174</td>\n      <td>0.622869</td>\n      <td>0.00300646</td>\n      <td>0</td>\n    </tr>\n    <tr>\n      <th>90</th>\n      <td>digits</td>\n      <td>Decision Tree Classifier</td>\n      <td>(15, 40, best)</td>\n      <td>holdout</td>\n      <td>0.734007</td>\n      <td>0.764335</td>\n      <td>0.73374</td>\n      <td>0.00897861</td>\n      <td>0</td>\n    </tr>\n  </tbody>\n</table>\n</div>"
     },
     "metadata": {},
     "output_type": "display_data"
    }
   ],
   "source": [
    "display(overall_results_df[\n",
    "            (overall_results_df['dataset']=='digits') &\n",
    "            (overall_results_df['split']=='holdout')])"
   ],
   "metadata": {
    "collapsed": false,
    "pycharm": {
     "name": "#%%\n"
    }
   }
  },
  {
   "cell_type": "markdown",
   "source": [
    "### K Fold"
   ],
   "metadata": {
    "collapsed": false
   }
  },
  {
   "cell_type": "code",
   "execution_count": 18,
   "outputs": [
    {
     "data": {
      "text/plain": "   dataset                  approach         arguments   split  \\\n7   digits                       kNN               n=3  k-fold   \n9   digits                       kNN              n=10  k-fold   \n11  digits                       kNN              n=15  k-fold   \n15  digits                     bayes              none  k-fold   \n19  digits                perceptron              none  k-fold   \n57  digits  Decision Tree Classifier    (5, 2, random)  k-fold   \n59  digits  Decision Tree Classifier      (5, 2, best)  k-fold   \n61  digits  Decision Tree Classifier   (5, 20, random)  k-fold   \n63  digits  Decision Tree Classifier     (5, 20, best)  k-fold   \n65  digits  Decision Tree Classifier   (5, 40, random)  k-fold   \n67  digits  Decision Tree Classifier     (5, 40, best)  k-fold   \n69  digits  Decision Tree Classifier   (10, 2, random)  k-fold   \n71  digits  Decision Tree Classifier     (10, 2, best)  k-fold   \n73  digits  Decision Tree Classifier  (10, 20, random)  k-fold   \n75  digits  Decision Tree Classifier    (10, 20, best)  k-fold   \n77  digits  Decision Tree Classifier  (10, 40, random)  k-fold   \n79  digits  Decision Tree Classifier    (10, 40, best)  k-fold   \n81  digits  Decision Tree Classifier   (15, 2, random)  k-fold   \n83  digits  Decision Tree Classifier     (15, 2, best)  k-fold   \n85  digits  Decision Tree Classifier  (15, 20, random)  k-fold   \n87  digits  Decision Tree Classifier    (15, 20, best)  k-fold   \n89  digits  Decision Tree Classifier  (15, 40, random)  k-fold   \n91  digits  Decision Tree Classifier    (15, 40, best)  k-fold   \n\n                                           accuracy  \\\n7   m: 0.9883209532652429 std: 0.007323832501573226   \n9   m: 0.9805277004023523 std: 0.007241231361602902   \n11  m: 0.9771850820179511 std: 0.008687630086523833   \n15  m: 0.8324945837202105 std: 0.009286635323422067   \n19  m: 0.9410229031259671 std: 0.015849668296257387   \n57     m: 0.682799442896936 std: 0.0225789955736832   \n59  m: 0.6521990095945527 std: 0.029293764851288196   \n61  m: 0.6750278551532034 std: 0.040755563742608684   \n63   m: 0.642189724543485 std: 0.026859596447899876   \n65   m: 0.6282559579077684 std: 0.04962782791262363   \n67  m: 0.6271649644073042 std: 0.022340010709646117   \n69  m: 0.8492169606932837 std: 0.024701250873822116   \n71  m: 0.8497415660786135 std: 0.016289255420700997   \n73  m: 0.7334292788610337 std: 0.020905478914734647   \n75   m: 0.7879712163416899 std: 0.01638106112774851   \n77  m: 0.6956360259981429 std: 0.030311998503533933   \n79   m: 0.7551593933766635 std: 0.02118747834909684   \n81    m: 0.8480857319715259 std: 0.0160451900425344   \n83  m: 0.8503002166511916 std: 0.009784061096593345   \n85  m: 0.7334292788610337 std: 0.020905478914734647   \n87   m: 0.7879712163416899 std: 0.01638106112774851   \n89  m: 0.6956360259981429 std: 0.030311998503533933   \n91   m: 0.7551593933766635 std: 0.02118747834909684   \n\n                                          precision  \\\n7    m: 0.9888385412595939 std: 0.00712739147876576   \n9    m: 0.9816830468409415 std: 0.00662931853158472   \n11  m: 0.9786983227511679 std: 0.007575736564379982   \n15  m: 0.8598088622118409 std: 0.015147678383072103   \n19   m: 0.9472330796425998 std: 0.01371753706347739   \n57   m: 0.717660567564935 std: 0.026132446284686445   \n59   m: 0.7298174310895975 std: 0.01717008365700091   \n61  m: 0.6950497115958991 std: 0.061857032803490745   \n63    m: 0.703735266738326 std: 0.01501969790860612   \n65   m: 0.6253692157304211 std: 0.05839129334704999   \n67   m: 0.6660513441822741 std: 0.02980445680574132   \n69  m: 0.8535964619626707 std: 0.024247845316340284   \n71  m: 0.8559045305923447 std: 0.016949978229067093   \n73   m: 0.7394966477817702 std: 0.02134785363906439   \n75  m: 0.7966323249656977 std: 0.019183878519583475   \n77   m: 0.7156065230428587 std: 0.03517987997097763   \n79  m: 0.7708872928512271 std: 0.018327983630086836   \n81  m: 0.8518270691602231 std: 0.014618370518263432   \n83  m: 0.8570756527976207 std: 0.010812556072823007   \n85   m: 0.7394966477817702 std: 0.02134785363906439   \n87  m: 0.7966323249656977 std: 0.019183878519583475   \n89   m: 0.7156065230428587 std: 0.03517987997097763   \n91  m: 0.7708872928512271 std: 0.018327983630086836   \n\n                                             recall  \\\n7   m: 0.9882972972972972 std: 0.007208664307978579   \n9    m: 0.9804048249930603 std: 0.00715395193374626   \n11  m: 0.9770371716254068 std: 0.008674693211716449   \n15  m: 0.8325454614278144 std: 0.009764788694682724   \n19  m: 0.9410189264895147 std: 0.015777826142176866   \n57  m: 0.6822451106568753 std: 0.022306835943359964   \n59  m: 0.6520541549953315 std: 0.028721061472361847   \n61    m: 0.674860019683549 std: 0.04133979548873456   \n63  m: 0.6420215509627274 std: 0.026807715646732715   \n65  m: 0.6283112019582608 std: 0.050742761166004666   \n67  m: 0.6270297019708784 std: 0.022343553593636677   \n69   m: 0.848803896333308 std: 0.024983989383474584   \n71  m: 0.8496446109975521 std: 0.016132101050840803   \n73   m: 0.7331400055517703 std: 0.02089872408546371   \n75    m: 0.7882291114644057 std: 0.0162673398542481   \n77   m: 0.6946652282534636 std: 0.03080685318605075   \n79   m: 0.754918641330406 std: 0.021705452983571242   \n81   m: 0.847657531481061 std: 0.016500416901784897   \n83  m: 0.8501242334771746 std: 0.009676746964727485   \n85   m: 0.7331400055517703 std: 0.02089872408546371   \n87    m: 0.7882291114644057 std: 0.0162673398542481   \n89   m: 0.6946652282534636 std: 0.03080685318605075   \n91   m: 0.754918641330406 std: 0.021705452983571242   \n\n                                        time training  \\\n7   total: 0.10275459289550781 values: [0.02094388...   \n9   total: 0.10275840759277344 values: [0.02194023...   \n11  total: 0.09970474243164062 values: [0.01994562...   \n15  total: 0.01199197769165039 values: [0.00199556...   \n19  total: 0.13663363456726074 values: [0.02892208...   \n57  total: 0.028920888900756836 values: [0.0049846...   \n59  total: 0.06482982635498047 values: [0.01196933...   \n61  total: 0.021940946578979492 values: [0.0049874...   \n63  total: 0.04886913299560547 values: [0.00997281...   \n65  total: 0.01900506019592285 values: [0.00398517...   \n67  total: 0.04684734344482422 values: [0.00897574...   \n69  total: 0.03191232681274414 values: [0.00694966...   \n71  total: 0.07774758338928223 values: [0.01592493...   \n73  total: 0.022938013076782227 values: [0.0039889...   \n75  total: 0.06482529640197754 values: [0.01296425...   \n77  total: 0.020895957946777344 values: [0.0049526...   \n79  total: 0.05485177040100098 values: [0.01097035...   \n81  total: 0.03197884559631348 values: [0.00698113...   \n83  total: 0.08279752731323242 values: [0.0169549 ...   \n85  total: 0.022937297821044922 values: [0.0039892...   \n87  total: 0.06186532974243164 values: [0.01196742...   \n89  total: 0.019953012466430664 values: [0.0039923...   \n91  total: 0.054949045181274414 values: [0.0109748...   \n\n                                         time testing  \n7   total: 0.3311154842376709 values: [0.06682134 ...  \n9   total: 0.337064266204834 values: [0.07081056 0...  \n11  total: 0.32419276237487793 values: [0.06382966...  \n15  total: 0.01297307014465332 values: [0.00299144...  \n19  total: 0.00698399543762207 values: [0.00099802...  \n57  total: 0.009973526000976562 values: [0.0019960...  \n59  total: 0.00997304916381836 values: [0.00199485...  \n61  total: 0.009973526000976562 values: [0.0029909...  \n63  total: 0.00997304916381836 values: [0.00199485...  \n65  total: 0.008919239044189453 values: [0.0019950...  \n67  total: 0.009006738662719727 values: [0.0019977...  \n69  total: 0.007977724075317383 values: [0.0009980...  \n71  total: 0.008978128433227539 values: [0.0019953...  \n73  total: 0.008977651596069336 values: [0.0019950...  \n75  total: 0.00897359848022461 values: [0.00099754...  \n77  total: 0.0080108642578125 values: [0.00099778 ...  \n79  total: 0.008977174758911133 values: [0.0009977...  \n81  total: 0.006985902786254883 values: [0.0009975...  \n83  total: 0.006951332092285156 values: [0.0009977...  \n85  total: 0.006983041763305664 values: [0.0019948...  \n87  total: 0.0079803466796875 values: [0.00099802 ...  \n89  total: 0.009967565536499023 values: [0.0019919...  \n91  total: 0.005019426345825195 values: [0.0009949...  ",
      "text/html": "<div>\n<style scoped>\n    .dataframe tbody tr th:only-of-type {\n        vertical-align: middle;\n    }\n\n    .dataframe tbody tr th {\n        vertical-align: top;\n    }\n\n    .dataframe thead th {\n        text-align: right;\n    }\n</style>\n<table border=\"1\" class=\"dataframe\">\n  <thead>\n    <tr style=\"text-align: right;\">\n      <th></th>\n      <th>dataset</th>\n      <th>approach</th>\n      <th>arguments</th>\n      <th>split</th>\n      <th>accuracy</th>\n      <th>precision</th>\n      <th>recall</th>\n      <th>time training</th>\n      <th>time testing</th>\n    </tr>\n  </thead>\n  <tbody>\n    <tr>\n      <th>7</th>\n      <td>digits</td>\n      <td>kNN</td>\n      <td>n=3</td>\n      <td>k-fold</td>\n      <td>m: 0.9883209532652429 std: 0.007323832501573226</td>\n      <td>m: 0.9888385412595939 std: 0.00712739147876576</td>\n      <td>m: 0.9882972972972972 std: 0.007208664307978579</td>\n      <td>total: 0.10275459289550781 values: [0.02094388...</td>\n      <td>total: 0.3311154842376709 values: [0.06682134 ...</td>\n    </tr>\n    <tr>\n      <th>9</th>\n      <td>digits</td>\n      <td>kNN</td>\n      <td>n=10</td>\n      <td>k-fold</td>\n      <td>m: 0.9805277004023523 std: 0.007241231361602902</td>\n      <td>m: 0.9816830468409415 std: 0.00662931853158472</td>\n      <td>m: 0.9804048249930603 std: 0.00715395193374626</td>\n      <td>total: 0.10275840759277344 values: [0.02194023...</td>\n      <td>total: 0.337064266204834 values: [0.07081056 0...</td>\n    </tr>\n    <tr>\n      <th>11</th>\n      <td>digits</td>\n      <td>kNN</td>\n      <td>n=15</td>\n      <td>k-fold</td>\n      <td>m: 0.9771850820179511 std: 0.008687630086523833</td>\n      <td>m: 0.9786983227511679 std: 0.007575736564379982</td>\n      <td>m: 0.9770371716254068 std: 0.008674693211716449</td>\n      <td>total: 0.09970474243164062 values: [0.01994562...</td>\n      <td>total: 0.32419276237487793 values: [0.06382966...</td>\n    </tr>\n    <tr>\n      <th>15</th>\n      <td>digits</td>\n      <td>bayes</td>\n      <td>none</td>\n      <td>k-fold</td>\n      <td>m: 0.8324945837202105 std: 0.009286635323422067</td>\n      <td>m: 0.8598088622118409 std: 0.015147678383072103</td>\n      <td>m: 0.8325454614278144 std: 0.009764788694682724</td>\n      <td>total: 0.01199197769165039 values: [0.00199556...</td>\n      <td>total: 0.01297307014465332 values: [0.00299144...</td>\n    </tr>\n    <tr>\n      <th>19</th>\n      <td>digits</td>\n      <td>perceptron</td>\n      <td>none</td>\n      <td>k-fold</td>\n      <td>m: 0.9410229031259671 std: 0.015849668296257387</td>\n      <td>m: 0.9472330796425998 std: 0.01371753706347739</td>\n      <td>m: 0.9410189264895147 std: 0.015777826142176866</td>\n      <td>total: 0.13663363456726074 values: [0.02892208...</td>\n      <td>total: 0.00698399543762207 values: [0.00099802...</td>\n    </tr>\n    <tr>\n      <th>57</th>\n      <td>digits</td>\n      <td>Decision Tree Classifier</td>\n      <td>(5, 2, random)</td>\n      <td>k-fold</td>\n      <td>m: 0.682799442896936 std: 0.0225789955736832</td>\n      <td>m: 0.717660567564935 std: 0.026132446284686445</td>\n      <td>m: 0.6822451106568753 std: 0.022306835943359964</td>\n      <td>total: 0.028920888900756836 values: [0.0049846...</td>\n      <td>total: 0.009973526000976562 values: [0.0019960...</td>\n    </tr>\n    <tr>\n      <th>59</th>\n      <td>digits</td>\n      <td>Decision Tree Classifier</td>\n      <td>(5, 2, best)</td>\n      <td>k-fold</td>\n      <td>m: 0.6521990095945527 std: 0.029293764851288196</td>\n      <td>m: 0.7298174310895975 std: 0.01717008365700091</td>\n      <td>m: 0.6520541549953315 std: 0.028721061472361847</td>\n      <td>total: 0.06482982635498047 values: [0.01196933...</td>\n      <td>total: 0.00997304916381836 values: [0.00199485...</td>\n    </tr>\n    <tr>\n      <th>61</th>\n      <td>digits</td>\n      <td>Decision Tree Classifier</td>\n      <td>(5, 20, random)</td>\n      <td>k-fold</td>\n      <td>m: 0.6750278551532034 std: 0.040755563742608684</td>\n      <td>m: 0.6950497115958991 std: 0.061857032803490745</td>\n      <td>m: 0.674860019683549 std: 0.04133979548873456</td>\n      <td>total: 0.021940946578979492 values: [0.0049874...</td>\n      <td>total: 0.009973526000976562 values: [0.0029909...</td>\n    </tr>\n    <tr>\n      <th>63</th>\n      <td>digits</td>\n      <td>Decision Tree Classifier</td>\n      <td>(5, 20, best)</td>\n      <td>k-fold</td>\n      <td>m: 0.642189724543485 std: 0.026859596447899876</td>\n      <td>m: 0.703735266738326 std: 0.01501969790860612</td>\n      <td>m: 0.6420215509627274 std: 0.026807715646732715</td>\n      <td>total: 0.04886913299560547 values: [0.00997281...</td>\n      <td>total: 0.00997304916381836 values: [0.00199485...</td>\n    </tr>\n    <tr>\n      <th>65</th>\n      <td>digits</td>\n      <td>Decision Tree Classifier</td>\n      <td>(5, 40, random)</td>\n      <td>k-fold</td>\n      <td>m: 0.6282559579077684 std: 0.04962782791262363</td>\n      <td>m: 0.6253692157304211 std: 0.05839129334704999</td>\n      <td>m: 0.6283112019582608 std: 0.050742761166004666</td>\n      <td>total: 0.01900506019592285 values: [0.00398517...</td>\n      <td>total: 0.008919239044189453 values: [0.0019950...</td>\n    </tr>\n    <tr>\n      <th>67</th>\n      <td>digits</td>\n      <td>Decision Tree Classifier</td>\n      <td>(5, 40, best)</td>\n      <td>k-fold</td>\n      <td>m: 0.6271649644073042 std: 0.022340010709646117</td>\n      <td>m: 0.6660513441822741 std: 0.02980445680574132</td>\n      <td>m: 0.6270297019708784 std: 0.022343553593636677</td>\n      <td>total: 0.04684734344482422 values: [0.00897574...</td>\n      <td>total: 0.009006738662719727 values: [0.0019977...</td>\n    </tr>\n    <tr>\n      <th>69</th>\n      <td>digits</td>\n      <td>Decision Tree Classifier</td>\n      <td>(10, 2, random)</td>\n      <td>k-fold</td>\n      <td>m: 0.8492169606932837 std: 0.024701250873822116</td>\n      <td>m: 0.8535964619626707 std: 0.024247845316340284</td>\n      <td>m: 0.848803896333308 std: 0.024983989383474584</td>\n      <td>total: 0.03191232681274414 values: [0.00694966...</td>\n      <td>total: 0.007977724075317383 values: [0.0009980...</td>\n    </tr>\n    <tr>\n      <th>71</th>\n      <td>digits</td>\n      <td>Decision Tree Classifier</td>\n      <td>(10, 2, best)</td>\n      <td>k-fold</td>\n      <td>m: 0.8497415660786135 std: 0.016289255420700997</td>\n      <td>m: 0.8559045305923447 std: 0.016949978229067093</td>\n      <td>m: 0.8496446109975521 std: 0.016132101050840803</td>\n      <td>total: 0.07774758338928223 values: [0.01592493...</td>\n      <td>total: 0.008978128433227539 values: [0.0019953...</td>\n    </tr>\n    <tr>\n      <th>73</th>\n      <td>digits</td>\n      <td>Decision Tree Classifier</td>\n      <td>(10, 20, random)</td>\n      <td>k-fold</td>\n      <td>m: 0.7334292788610337 std: 0.020905478914734647</td>\n      <td>m: 0.7394966477817702 std: 0.02134785363906439</td>\n      <td>m: 0.7331400055517703 std: 0.02089872408546371</td>\n      <td>total: 0.022938013076782227 values: [0.0039889...</td>\n      <td>total: 0.008977651596069336 values: [0.0019950...</td>\n    </tr>\n    <tr>\n      <th>75</th>\n      <td>digits</td>\n      <td>Decision Tree Classifier</td>\n      <td>(10, 20, best)</td>\n      <td>k-fold</td>\n      <td>m: 0.7879712163416899 std: 0.01638106112774851</td>\n      <td>m: 0.7966323249656977 std: 0.019183878519583475</td>\n      <td>m: 0.7882291114644057 std: 0.0162673398542481</td>\n      <td>total: 0.06482529640197754 values: [0.01296425...</td>\n      <td>total: 0.00897359848022461 values: [0.00099754...</td>\n    </tr>\n    <tr>\n      <th>77</th>\n      <td>digits</td>\n      <td>Decision Tree Classifier</td>\n      <td>(10, 40, random)</td>\n      <td>k-fold</td>\n      <td>m: 0.6956360259981429 std: 0.030311998503533933</td>\n      <td>m: 0.7156065230428587 std: 0.03517987997097763</td>\n      <td>m: 0.6946652282534636 std: 0.03080685318605075</td>\n      <td>total: 0.020895957946777344 values: [0.0049526...</td>\n      <td>total: 0.0080108642578125 values: [0.00099778 ...</td>\n    </tr>\n    <tr>\n      <th>79</th>\n      <td>digits</td>\n      <td>Decision Tree Classifier</td>\n      <td>(10, 40, best)</td>\n      <td>k-fold</td>\n      <td>m: 0.7551593933766635 std: 0.02118747834909684</td>\n      <td>m: 0.7708872928512271 std: 0.018327983630086836</td>\n      <td>m: 0.754918641330406 std: 0.021705452983571242</td>\n      <td>total: 0.05485177040100098 values: [0.01097035...</td>\n      <td>total: 0.008977174758911133 values: [0.0009977...</td>\n    </tr>\n    <tr>\n      <th>81</th>\n      <td>digits</td>\n      <td>Decision Tree Classifier</td>\n      <td>(15, 2, random)</td>\n      <td>k-fold</td>\n      <td>m: 0.8480857319715259 std: 0.0160451900425344</td>\n      <td>m: 0.8518270691602231 std: 0.014618370518263432</td>\n      <td>m: 0.847657531481061 std: 0.016500416901784897</td>\n      <td>total: 0.03197884559631348 values: [0.00698113...</td>\n      <td>total: 0.006985902786254883 values: [0.0009975...</td>\n    </tr>\n    <tr>\n      <th>83</th>\n      <td>digits</td>\n      <td>Decision Tree Classifier</td>\n      <td>(15, 2, best)</td>\n      <td>k-fold</td>\n      <td>m: 0.8503002166511916 std: 0.009784061096593345</td>\n      <td>m: 0.8570756527976207 std: 0.010812556072823007</td>\n      <td>m: 0.8501242334771746 std: 0.009676746964727485</td>\n      <td>total: 0.08279752731323242 values: [0.0169549 ...</td>\n      <td>total: 0.006951332092285156 values: [0.0009977...</td>\n    </tr>\n    <tr>\n      <th>85</th>\n      <td>digits</td>\n      <td>Decision Tree Classifier</td>\n      <td>(15, 20, random)</td>\n      <td>k-fold</td>\n      <td>m: 0.7334292788610337 std: 0.020905478914734647</td>\n      <td>m: 0.7394966477817702 std: 0.02134785363906439</td>\n      <td>m: 0.7331400055517703 std: 0.02089872408546371</td>\n      <td>total: 0.022937297821044922 values: [0.0039892...</td>\n      <td>total: 0.006983041763305664 values: [0.0019948...</td>\n    </tr>\n    <tr>\n      <th>87</th>\n      <td>digits</td>\n      <td>Decision Tree Classifier</td>\n      <td>(15, 20, best)</td>\n      <td>k-fold</td>\n      <td>m: 0.7879712163416899 std: 0.01638106112774851</td>\n      <td>m: 0.7966323249656977 std: 0.019183878519583475</td>\n      <td>m: 0.7882291114644057 std: 0.0162673398542481</td>\n      <td>total: 0.06186532974243164 values: [0.01196742...</td>\n      <td>total: 0.0079803466796875 values: [0.00099802 ...</td>\n    </tr>\n    <tr>\n      <th>89</th>\n      <td>digits</td>\n      <td>Decision Tree Classifier</td>\n      <td>(15, 40, random)</td>\n      <td>k-fold</td>\n      <td>m: 0.6956360259981429 std: 0.030311998503533933</td>\n      <td>m: 0.7156065230428587 std: 0.03517987997097763</td>\n      <td>m: 0.6946652282534636 std: 0.03080685318605075</td>\n      <td>total: 0.019953012466430664 values: [0.0039923...</td>\n      <td>total: 0.009967565536499023 values: [0.0019919...</td>\n    </tr>\n    <tr>\n      <th>91</th>\n      <td>digits</td>\n      <td>Decision Tree Classifier</td>\n      <td>(15, 40, best)</td>\n      <td>k-fold</td>\n      <td>m: 0.7551593933766635 std: 0.02118747834909684</td>\n      <td>m: 0.7708872928512271 std: 0.018327983630086836</td>\n      <td>m: 0.754918641330406 std: 0.021705452983571242</td>\n      <td>total: 0.054949045181274414 values: [0.0109748...</td>\n      <td>total: 0.005019426345825195 values: [0.0009949...</td>\n    </tr>\n  </tbody>\n</table>\n</div>"
     },
     "metadata": {},
     "output_type": "display_data"
    }
   ],
   "source": [
    "display(overall_results_df[\n",
    "            (overall_results_df['dataset']=='digits') &\n",
    "            (overall_results_df['split']=='k-fold')])"
   ],
   "metadata": {
    "collapsed": false,
    "pycharm": {
     "name": "#%%\n"
    }
   }
  },
  {
   "cell_type": "markdown",
   "source": [
    "### Effectiveness\n",
    "Again,  acccuracy, precision and recall were good across all approaches.\n",
    "In this specific case, also the perceptron yielded notable better results.\n",
    "\n",
    "Again, the data set may  be prone to ceiling effects for measuring effectiveness for such image recognition tasks.\n",
    "\n",
    "### Efficiency\n",
    "Similar to the Iris dataset the training and testing time measured were low to non-measurable.\n",
    "\n",
    "Benchmarking with these limited differences across approaches would be too prone to additional confounding variables such as running background tasks and other effects not associated with the machine learning tasks.\n",
    "Larger and more complex datasets would yield more meaningful results in terms of efficiency."
   ],
   "metadata": {
    "collapsed": false
   }
  }
 ],
 "metadata": {
  "kernelspec": {
   "display_name": "Python 3",
   "language": "python",
   "name": "python3"
  },
  "language_info": {
   "codemirror_mode": {
    "name": "ipython",
    "version": 2
   },
   "file_extension": ".py",
   "mimetype": "text/x-python",
   "name": "python",
   "nbconvert_exporter": "python",
   "pygments_lexer": "ipython2",
   "version": "2.7.6"
  }
 },
 "nbformat": 4,
 "nbformat_minor": 0
}