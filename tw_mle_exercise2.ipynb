{
 "cells": [
  {
   "cell_type": "markdown",
   "metadata": {
    "collapsed": true,
    "pycharm": {
     "name": "#%% md\n"
    }
   },
   "source": [
    "# MLE - Exercise 2 - Comparative Experimentation\n",
    "## Andreas Kocman (se19m024)\n",
    "\n",
    "## Assignment\n",
    "In this exercise, you shall experiment with a number of (simple) algorithms on several datasets. The aim is to get a feeling how well each of these algorithms works, and whether there are differences depending on the dataset.\n",
    "\n",
    "The datasets are\n",
    "* [Iris](https://archive.ics.uci.edu/ml/datasets/Iris), for Python, use http://scikit-learn.org/stable/modules/generated/sklearn.datasets.load_iris.html)\n",
    "* [Handwritten digits](https://archive.ics.uci.edu/ml/datasets/Optical+Recognition+of+Handwritten+Digits), of which we only use the test set of 1797 instances; for Python, use http://scikit-learn.org/stable/modules/generated/sklearn.datasets.load_digits.html)\n",
    "* If you are a group of three (see below): [Breast Cancer dataset](https://archive.ics.uci.edu/ml/datasets/Breast+Cancer+Wisconsin+(Diagnostic)); skip the ID field; in Python: http://scikit-learn.org/stable/modules/generated/sklearn.datasets.load_breast_cancer.html)\n",
    "\n",
    "The classifiers you shall use are\n",
    "* k-NN (with 3 different values for k)\n",
    "* Naive Bayes\n",
    "* Perceptron, and\n",
    "* Decision Trees with 3 different parameter settings (e.g. some pre-pruning setting, different split criterion, ...)\n",
    "\n",
    "For each dataset, you shall train and evaluate each classifier (with parameter variations), and then compute several evaluation metrics\n",
    "* Effectiveness: Accuracy, and 1 more of your choice (precision, recall, F1, ...\n",
    "* Efficiency: runtime for training & testing\n",
    "* As evaluation set splitting technique, you shall use once the holdout method with 2/3 training and the rest for testing, and once cross validation with 5 folds.\n",
    "\n",
    "You shall present these results in a tabular form, with one table for each dataset & splitting combination approach.\n",
    "\n",
    "Iris/5-folds | Accuracy | Precision| Training time | Testing time\n",
    "---|---|---|---|---|---\n",
    "k-NN (3-NN) | .85 | .82 | 0.1 sec | 27 sec\n",
    "Naive Bayes | .72 | .82 | 1 sec | 2 sec\n",
    "Decision Tree | .92 | .76 | 5 sec | 2 sec\n",
    "... | ... | ...| ... | ...\n",
    "\n",
    "\n",
    "Then describe the results, and analyse e.g.:\n",
    "* Which classifiers work best?\n",
    "* Are there differences between the datasets?\n",
    "* Are the differences in the efficiency measurements?\n",
    "* How is the runtime changing with the different data sets?\n",
    "* ...\n",
    "\n",
    "You can solve this exercise alone, or in a group of two students. If you form a group, you need to extend your scope, by\n",
    "* Adding a third dataset, namely breast cancer wisconsin\n",
    "* For k-NN, using 5 different values for k instead of 3, and use both weighted and uniform distance (i.e. a total of 10 combinations); for Decision Trees, also add 3 more parameter variations\n",
    "* Adding a third efficiency evaluation metric\n",
    "\n",
    "Your submission shall contain\n",
    "* The textual report\n",
    "* All code samples and\n",
    "* All data sets (if not already included in your software package, e.g. Python)"
   ]
  },
  {
   "cell_type": "code",
   "execution_count": 1,
   "outputs": [],
   "source": [
    "#General Imports\n",
    "\n",
    "import numpy as np\n",
    "from sklearn.model_selection import train_test_split\n",
    "from sklearn import datasets\n",
    "from sklearn import metrics\n",
    "from sklearn.utils import shuffle\n",
    "import pandas as pd\n",
    "import time\n",
    "import datetime\n",
    "\n",
    "#Data reporting\n",
    "from IPython.display import display, HTML\n",
    "import matplotlib.pyplot as plt\n",
    "\n",
    "#Global variables\n",
    "randomState=24  # change the state with the numeric parts of your matrikelnummer; if you are in a group, use the sume of the numeric parts\n",
    "                # se19m024\n",
    "\n",
    "#Overall report\n",
    "ml_approaches = ['k-NN', 'bayes', 'perceptron', 'decision tree']\n",
    "overall_results_iris = pd.DataFrame(columns=['accuracy','precision','time training', 'time testing'], index=ml_approaches)\n",
    "overall_results_digits = pd.DataFrame(columns=['accuracy','precision','time training', 'time testing'], index=ml_approaches)"
   ],
   "metadata": {
    "collapsed": false,
    "pycharm": {
     "name": "#%%\n"
    }
   }
  },
  {
   "cell_type": "markdown",
   "source": [
    "## k-NN\n",
    "\n",
    "### Iris"
   ],
   "metadata": {
    "collapsed": false,
    "pycharm": {
     "name": "#%% md\n"
    }
   }
  },
  {
   "cell_type": "code",
   "execution_count": 2,
   "outputs": [
    {
     "data": {
      "text/plain": "   accuracy precision time training time testing\n1       0.9       0.9             0   0.00299191\n2      0.92      0.92             0   0.00199413\n3      0.94      0.94             0   0.00199485\n4      0.92      0.92             0   0.00199509\n5      0.96      0.96             0   0.00199437\n6      0.92      0.92             0   0.00199509\n7      0.96      0.96   0.000996828   0.00199509\n8      0.92      0.92             0   0.00299191\n9      0.98      0.98             0   0.00199437\n10     0.92      0.92             0   0.00199461\n11     0.92      0.92   0.000997543   0.00199461\n12     0.92      0.92             0   0.00199437\n13     0.96      0.96             0   0.00199413\n14     0.92      0.92             0   0.00199485\n15     0.92      0.92             0   0.00299239\n16      0.9       0.9    0.00099802  0.000997066\n17      0.9       0.9             0   0.00199485\n18     0.88      0.88             0   0.00199461\n19      0.9       0.9             0   0.00199389",
      "text/html": "<div>\n<style scoped>\n    .dataframe tbody tr th:only-of-type {\n        vertical-align: middle;\n    }\n\n    .dataframe tbody tr th {\n        vertical-align: top;\n    }\n\n    .dataframe thead th {\n        text-align: right;\n    }\n</style>\n<table border=\"1\" class=\"dataframe\">\n  <thead>\n    <tr style=\"text-align: right;\">\n      <th></th>\n      <th>accuracy</th>\n      <th>precision</th>\n      <th>time training</th>\n      <th>time testing</th>\n    </tr>\n  </thead>\n  <tbody>\n    <tr>\n      <th>1</th>\n      <td>0.9</td>\n      <td>0.9</td>\n      <td>0</td>\n      <td>0.00299191</td>\n    </tr>\n    <tr>\n      <th>2</th>\n      <td>0.92</td>\n      <td>0.92</td>\n      <td>0</td>\n      <td>0.00199413</td>\n    </tr>\n    <tr>\n      <th>3</th>\n      <td>0.94</td>\n      <td>0.94</td>\n      <td>0</td>\n      <td>0.00199485</td>\n    </tr>\n    <tr>\n      <th>4</th>\n      <td>0.92</td>\n      <td>0.92</td>\n      <td>0</td>\n      <td>0.00199509</td>\n    </tr>\n    <tr>\n      <th>5</th>\n      <td>0.96</td>\n      <td>0.96</td>\n      <td>0</td>\n      <td>0.00199437</td>\n    </tr>\n    <tr>\n      <th>6</th>\n      <td>0.92</td>\n      <td>0.92</td>\n      <td>0</td>\n      <td>0.00199509</td>\n    </tr>\n    <tr>\n      <th>7</th>\n      <td>0.96</td>\n      <td>0.96</td>\n      <td>0.000996828</td>\n      <td>0.00199509</td>\n    </tr>\n    <tr>\n      <th>8</th>\n      <td>0.92</td>\n      <td>0.92</td>\n      <td>0</td>\n      <td>0.00299191</td>\n    </tr>\n    <tr>\n      <th>9</th>\n      <td>0.98</td>\n      <td>0.98</td>\n      <td>0</td>\n      <td>0.00199437</td>\n    </tr>\n    <tr>\n      <th>10</th>\n      <td>0.92</td>\n      <td>0.92</td>\n      <td>0</td>\n      <td>0.00199461</td>\n    </tr>\n    <tr>\n      <th>11</th>\n      <td>0.92</td>\n      <td>0.92</td>\n      <td>0.000997543</td>\n      <td>0.00199461</td>\n    </tr>\n    <tr>\n      <th>12</th>\n      <td>0.92</td>\n      <td>0.92</td>\n      <td>0</td>\n      <td>0.00199437</td>\n    </tr>\n    <tr>\n      <th>13</th>\n      <td>0.96</td>\n      <td>0.96</td>\n      <td>0</td>\n      <td>0.00199413</td>\n    </tr>\n    <tr>\n      <th>14</th>\n      <td>0.92</td>\n      <td>0.92</td>\n      <td>0</td>\n      <td>0.00199485</td>\n    </tr>\n    <tr>\n      <th>15</th>\n      <td>0.92</td>\n      <td>0.92</td>\n      <td>0</td>\n      <td>0.00299239</td>\n    </tr>\n    <tr>\n      <th>16</th>\n      <td>0.9</td>\n      <td>0.9</td>\n      <td>0.00099802</td>\n      <td>0.000997066</td>\n    </tr>\n    <tr>\n      <th>17</th>\n      <td>0.9</td>\n      <td>0.9</td>\n      <td>0</td>\n      <td>0.00199485</td>\n    </tr>\n    <tr>\n      <th>18</th>\n      <td>0.88</td>\n      <td>0.88</td>\n      <td>0</td>\n      <td>0.00199461</td>\n    </tr>\n    <tr>\n      <th>19</th>\n      <td>0.9</td>\n      <td>0.9</td>\n      <td>0</td>\n      <td>0.00199389</td>\n    </tr>\n  </tbody>\n</table>\n</div>"
     },
     "metadata": {},
     "output_type": "display_data"
    },
    {
     "data": {
      "text/plain": "<Figure size 432x288 with 1 Axes>",
      "image/png": "[encoded data removed]"
     },
     "metadata": {
      "needs_background": "light"
     },
     "output_type": "display_data"
    }
   ],
   "source": [
    "from sklearn import neighbors\n",
    "\n",
    "# load the Iris dataset\n",
    "dataSet = datasets.load_iris()\n",
    "\n",
    "# Shuffle our input data\n",
    "data, target = shuffle(dataSet.data, dataSet.target, random_state=randomState)\n",
    "\n",
    "testvalues = range(1,20)\n",
    "\n",
    "# Prepare dataframe for results\n",
    "knn_results_iris = pd.DataFrame(columns=['accuracy','precision','time training', 'time testing'], index=testvalues)\n",
    "\n",
    "# Prepare a train/test set split\n",
    "# split 2/3 1/3 into training & test set\n",
    "# We use the random number generator state +1; this will influence how our data is split\n",
    "X_train, X_test, y_train, y_test = train_test_split(data, target, test_size=0.33, random_state=(randomState+1))\n",
    "\n",
    "# parameters for k-NN\n",
    "n_neighbors = testvalues\n",
    "\n",
    "for n in n_neighbors:\n",
    "    # train the k-NN\n",
    "    classifier = neighbors.KNeighborsClassifier(n)\n",
    "    classifier.random_state = randomState\n",
    "    start_time_train = time.time()\n",
    "    classifier.fit(X_train, y_train)\n",
    "    end_time_train = time.time()\n",
    "\n",
    "    # predict the test set on our trained classifier\n",
    "    start_time_test = time.time()\n",
    "    y_test_predicted = classifier.predict(X_test)\n",
    "    end_time_test = time.time()\n",
    "\n",
    "    # Compute metrics\n",
    "    acc=metrics.accuracy_score(y_test, y_test_predicted)\n",
    "    precision=metrics.precision_score(y_test, y_test_predicted, average=\"micro\")\n",
    "\n",
    "    result = pd.Series({\n",
    "        'accuracy':acc,\n",
    "        'precision':precision,\n",
    "        'time training':end_time_train-start_time_train,\n",
    "        'time testing':end_time_test-start_time_test\n",
    "    })\n",
    "    knn_results_iris.loc[n] = result\n",
    "\n",
    "display(knn_results_iris)\n",
    "knn_results_iris[['accuracy','precision']].plot.line()\n",
    "\n",
    "#Store result with best accuracy in overall results dataframe\n",
    "best_result = knn_results_iris[knn_results_iris['accuracy']==knn_results_iris['accuracy'].max()]\n",
    "overall_results_iris.loc['k-NN']=best_result.loc[best_result.last_valid_index()]"
   ],
   "metadata": {
    "collapsed": false,
    "pycharm": {
     "name": "#%%\n"
    }
   }
  },
  {
   "cell_type": "markdown",
   "source": [
    "### Handwritten Numbers"
   ],
   "metadata": {
    "collapsed": false,
    "pycharm": {
     "name": "#%% md\n"
    }
   }
  },
  {
   "cell_type": "code",
   "execution_count": 3,
   "outputs": [
    {
     "data": {
      "text/plain": "    accuracy precision time training time testing\n1   0.989899  0.989899     0.0189214    0.0967405\n2   0.984848  0.984848     0.0189495    0.0977378\n3   0.991582  0.991582     0.0169542    0.0962479\n4   0.984848  0.984848     0.0159564    0.0988359\n5   0.983165  0.983165     0.0169544    0.0972459\n6   0.981481  0.981481     0.0179534     0.098737\n7   0.984848  0.984848     0.0179808     0.100701\n8   0.984848  0.984848     0.0179515    0.0983233\n9   0.979798  0.979798     0.0179522     0.105748\n10  0.976431  0.976431      0.017952     0.102726\n11  0.978114  0.978114     0.0199754     0.102696\n12  0.974747  0.974747     0.0169549      0.10073\n13   0.97138   0.97138     0.0169256     0.102757\n14   0.97138   0.97138     0.0169833     0.101724\n15  0.969697  0.969697     0.0169542     0.101701\n16  0.969697  0.969697     0.0179796     0.102697\n17   0.96633   0.96633     0.0179515     0.105231\n18  0.964646  0.964646     0.0169551     0.103753\n19  0.962963  0.962963     0.0179551       0.1017",
      "text/html": "<div>\n<style scoped>\n    .dataframe tbody tr th:only-of-type {\n        vertical-align: middle;\n    }\n\n    .dataframe tbody tr th {\n        vertical-align: top;\n    }\n\n    .dataframe thead th {\n        text-align: right;\n    }\n</style>\n<table border=\"1\" class=\"dataframe\">\n  <thead>\n    <tr style=\"text-align: right;\">\n      <th></th>\n      <th>accuracy</th>\n      <th>precision</th>\n      <th>time training</th>\n      <th>time testing</th>\n    </tr>\n  </thead>\n  <tbody>\n    <tr>\n      <th>1</th>\n      <td>0.989899</td>\n      <td>0.989899</td>\n      <td>0.0189214</td>\n      <td>0.0967405</td>\n    </tr>\n    <tr>\n      <th>2</th>\n      <td>0.984848</td>\n      <td>0.984848</td>\n      <td>0.0189495</td>\n      <td>0.0977378</td>\n    </tr>\n    <tr>\n      <th>3</th>\n      <td>0.991582</td>\n      <td>0.991582</td>\n      <td>0.0169542</td>\n      <td>0.0962479</td>\n    </tr>\n    <tr>\n      <th>4</th>\n      <td>0.984848</td>\n      <td>0.984848</td>\n      <td>0.0159564</td>\n      <td>0.0988359</td>\n    </tr>\n    <tr>\n      <th>5</th>\n      <td>0.983165</td>\n      <td>0.983165</td>\n      <td>0.0169544</td>\n      <td>0.0972459</td>\n    </tr>\n    <tr>\n      <th>6</th>\n      <td>0.981481</td>\n      <td>0.981481</td>\n      <td>0.0179534</td>\n      <td>0.098737</td>\n    </tr>\n    <tr>\n      <th>7</th>\n      <td>0.984848</td>\n      <td>0.984848</td>\n      <td>0.0179808</td>\n      <td>0.100701</td>\n    </tr>\n    <tr>\n      <th>8</th>\n      <td>0.984848</td>\n      <td>0.984848</td>\n      <td>0.0179515</td>\n      <td>0.0983233</td>\n    </tr>\n    <tr>\n      <th>9</th>\n      <td>0.979798</td>\n      <td>0.979798</td>\n      <td>0.0179522</td>\n      <td>0.105748</td>\n    </tr>\n    <tr>\n      <th>10</th>\n      <td>0.976431</td>\n      <td>0.976431</td>\n      <td>0.017952</td>\n      <td>0.102726</td>\n    </tr>\n    <tr>\n      <th>11</th>\n      <td>0.978114</td>\n      <td>0.978114</td>\n      <td>0.0199754</td>\n      <td>0.102696</td>\n    </tr>\n    <tr>\n      <th>12</th>\n      <td>0.974747</td>\n      <td>0.974747</td>\n      <td>0.0169549</td>\n      <td>0.10073</td>\n    </tr>\n    <tr>\n      <th>13</th>\n      <td>0.97138</td>\n      <td>0.97138</td>\n      <td>0.0169256</td>\n      <td>0.102757</td>\n    </tr>\n    <tr>\n      <th>14</th>\n      <td>0.97138</td>\n      <td>0.97138</td>\n      <td>0.0169833</td>\n      <td>0.101724</td>\n    </tr>\n    <tr>\n      <th>15</th>\n      <td>0.969697</td>\n      <td>0.969697</td>\n      <td>0.0169542</td>\n      <td>0.101701</td>\n    </tr>\n    <tr>\n      <th>16</th>\n      <td>0.969697</td>\n      <td>0.969697</td>\n      <td>0.0179796</td>\n      <td>0.102697</td>\n    </tr>\n    <tr>\n      <th>17</th>\n      <td>0.96633</td>\n      <td>0.96633</td>\n      <td>0.0179515</td>\n      <td>0.105231</td>\n    </tr>\n    <tr>\n      <th>18</th>\n      <td>0.964646</td>\n      <td>0.964646</td>\n      <td>0.0169551</td>\n      <td>0.103753</td>\n    </tr>\n    <tr>\n      <th>19</th>\n      <td>0.962963</td>\n      <td>0.962963</td>\n      <td>0.0179551</td>\n      <td>0.1017</td>\n    </tr>\n  </tbody>\n</table>\n</div>"
     },
     "metadata": {},
     "output_type": "display_data"
    },
    {
     "data": {
      "text/plain": "<Figure size 432x288 with 1 Axes>",
      "image/png": "[encoded data removed]"
     },
     "metadata": {
      "needs_background": "light"
     },
     "output_type": "display_data"
    }
   ],
   "source": [
    "from sklearn import neighbors\n",
    "\n",
    "# load the digit dataset\n",
    "dataSet = datasets.load_digits()\n",
    "\n",
    "data, target = shuffle(dataSet.data, dataSet.target, random_state=randomState)\n",
    "\n",
    "testvalues = range(1,20)\n",
    "\n",
    "# Prepare dataframe for results\n",
    "knn_results_digits = pd.DataFrame(columns=['accuracy','precision','time training', 'time testing'], index=testvalues)\n",
    "\n",
    "# Prepare a train/test set split\n",
    "# split 2/3 1/3 into training & test set\n",
    "# We use the random number generator state +1; this will influence how our data is split\n",
    "X_train, X_test, y_train, y_test = train_test_split(data, target, test_size=0.33, random_state=(randomState+1))\n",
    "\n",
    "# parameters for k-NN\n",
    "n_neighbors = testvalues\n",
    "\n",
    "for n in n_neighbors:\n",
    "    # train the k-NN\n",
    "    classifier = neighbors.KNeighborsClassifier(n)\n",
    "    classifier.random_state = randomState\n",
    "\n",
    "    start_time_train = time.time()\n",
    "    classifier.fit(X_train, y_train)\n",
    "    end_time_train = time.time()\n",
    "\n",
    "    # predict the test set on our trained classifier\n",
    "    start_time_test = time.time()\n",
    "    y_test_predicted = classifier.predict(X_test)\n",
    "    end_time_test = time.time()\n",
    "\n",
    "    # Compute metrics\n",
    "    acc=metrics.accuracy_score(y_test, y_test_predicted)\n",
    "    precision=metrics.precision_score(y_test, y_test_predicted, average=\"micro\")\n",
    "\n",
    "    knn_results_digits.loc[n] = pd.Series({\n",
    "        'accuracy':acc,\n",
    "        'precision':precision,\n",
    "        'time training':end_time_train-start_time_train,\n",
    "        'time testing':end_time_test-start_time_test\n",
    "    })\n",
    "\n",
    "display(knn_results_digits)\n",
    "knn_results_digits[['accuracy','precision']].plot.line()\n",
    "\n",
    "#Store result with best accuracy in overall results dataframe\n",
    "best_result = knn_results_iris[knn_results_iris['accuracy']==knn_results_iris['accuracy'].max()]\n",
    "overall_results_digits.loc['k-NN']=best_result.loc[best_result.last_valid_index()]"
   ],
   "metadata": {
    "collapsed": false,
    "pycharm": {
     "name": "#%%\n"
    }
   }
  },
  {
   "cell_type": "markdown",
   "source": [
    "## Naive Bayes\n",
    "\n",
    "### Iris"
   ],
   "metadata": {
    "collapsed": false
   }
  },
  {
   "cell_type": "code",
   "execution_count": 4,
   "outputs": [
    {
     "data": {
      "text/plain": "  accuracy precision time training time testing\n1      0.9       0.9             0  0.000998259",
      "text/html": "<div>\n<style scoped>\n    .dataframe tbody tr th:only-of-type {\n        vertical-align: middle;\n    }\n\n    .dataframe tbody tr th {\n        vertical-align: top;\n    }\n\n    .dataframe thead th {\n        text-align: right;\n    }\n</style>\n<table border=\"1\" class=\"dataframe\">\n  <thead>\n    <tr style=\"text-align: right;\">\n      <th></th>\n      <th>accuracy</th>\n      <th>precision</th>\n      <th>time training</th>\n      <th>time testing</th>\n    </tr>\n  </thead>\n  <tbody>\n    <tr>\n      <th>1</th>\n      <td>0.9</td>\n      <td>0.9</td>\n      <td>0</td>\n      <td>0.000998259</td>\n    </tr>\n  </tbody>\n</table>\n</div>"
     },
     "metadata": {},
     "output_type": "display_data"
    }
   ],
   "source": [
    "from sklearn import naive_bayes\n",
    "\n",
    "# load the Iris dataset\n",
    "dataSet = datasets.load_iris()\n",
    "\n",
    "data, target = shuffle(dataSet.data, dataSet.target, random_state=randomState)\n",
    "\n",
    "# Prepare dataframe for results\n",
    "bayes_results_iris = pd.DataFrame(columns=['accuracy','precision','time training', 'time testing'], index=[1])\n",
    "\n",
    "# Prepare a train/test set split\n",
    "# split 2/3 1/3 into training & test set\n",
    "# We use the random number generator state +1; this will influence how our data is split\n",
    "X_train, X_test, y_train, y_test = train_test_split(data, target, test_size=0.33, random_state=(randomState+1))\n",
    "\n",
    "classifier = naive_bayes.GaussianNB()\n",
    "classifier.random_state=randomState\n",
    "\n",
    "start_time_train = time.time()\n",
    "classifier.fit(X_train, y_train)\n",
    "end_time_train = time.time()\n",
    "\n",
    "# predict the test set on our trained classifier\n",
    "start_time_test = time.time()\n",
    "y_test_predicted = classifier.predict(X_test)\n",
    "end_time_test = time.time()\n",
    "\n",
    "# Compute metrics\n",
    "acc=metrics.accuracy_score(y_test, y_test_predicted)\n",
    "precision=metrics.precision_score(y_test, y_test_predicted, average=\"micro\")\n",
    "\n",
    "bayes_results_iris.loc[1] = pd.Series({\n",
    "    'accuracy':acc,\n",
    "    'precision':precision,\n",
    "    'time training':end_time_train-start_time_train,\n",
    "    'time testing':end_time_test-start_time_test\n",
    "})\n",
    "\n",
    "display(bayes_results_iris)\n",
    "\n",
    "#Store result with best accuracy in overall results dataframe\n",
    "overall_results_iris.loc['bayes']=bayes_results_iris.loc[1]"
   ],
   "metadata": {
    "collapsed": false,
    "pycharm": {
     "name": "#%%\n"
    }
   }
  },
  {
   "cell_type": "markdown",
   "source": [
    "### Digits\n"
   ],
   "metadata": {
    "collapsed": false,
    "pycharm": {
     "name": "#%% md\n"
    }
   }
  },
  {
   "cell_type": "code",
   "execution_count": 5,
   "outputs": [
    {
     "data": {
      "text/plain": "   accuracy precision time training time testing\n1  0.833333  0.833333    0.00199389   0.00199509",
      "text/html": "<div>\n<style scoped>\n    .dataframe tbody tr th:only-of-type {\n        vertical-align: middle;\n    }\n\n    .dataframe tbody tr th {\n        vertical-align: top;\n    }\n\n    .dataframe thead th {\n        text-align: right;\n    }\n</style>\n<table border=\"1\" class=\"dataframe\">\n  <thead>\n    <tr style=\"text-align: right;\">\n      <th></th>\n      <th>accuracy</th>\n      <th>precision</th>\n      <th>time training</th>\n      <th>time testing</th>\n    </tr>\n  </thead>\n  <tbody>\n    <tr>\n      <th>1</th>\n      <td>0.833333</td>\n      <td>0.833333</td>\n      <td>0.00199389</td>\n      <td>0.00199509</td>\n    </tr>\n  </tbody>\n</table>\n</div>"
     },
     "metadata": {},
     "output_type": "display_data"
    }
   ],
   "source": [
    "from sklearn import naive_bayes\n",
    "\n",
    "# load the digit dataset\n",
    "dataSet = datasets.load_digits()\n",
    "\n",
    "data, target = shuffle(dataSet.data, dataSet.target, random_state=randomState)\n",
    "\n",
    "# Prepare dataframe for results\n",
    "bayes_results_digits = pd.DataFrame(columns=['accuracy','precision','time training', 'time testing'], index=[1])\n",
    "\n",
    "# Prepare a train/test set split\n",
    "# split 2/3 1/3 into training & test set\n",
    "# We use the random number generator state +1; this will influence how our data is split\n",
    "X_train, X_test, y_train, y_test = train_test_split(data, target, test_size=0.33, random_state=(randomState+1))\n",
    "\n",
    "classifier = naive_bayes.GaussianNB()\n",
    "classifier.random_state=randomState\n",
    "\n",
    "start_time_train = time.time()\n",
    "classifier.fit(X_train, y_train)\n",
    "end_time_train = time.time()\n",
    "\n",
    "# predict the test set on our trained classifier\n",
    "start_time_test = time.time()\n",
    "y_test_predicted = classifier.predict(X_test)\n",
    "end_time_test = time.time()\n",
    "\n",
    "# Compute metrics\n",
    "acc=metrics.accuracy_score(y_test, y_test_predicted)\n",
    "precision=metrics.precision_score(y_test, y_test_predicted, average=\"micro\")\n",
    "\n",
    "bayes_results_digits.loc[1] = pd.Series({\n",
    "    'accuracy':acc,\n",
    "    'precision':precision,\n",
    "    'time training':end_time_train-start_time_train,\n",
    "    'time testing':end_time_test-start_time_test\n",
    "})\n",
    "\n",
    "display(bayes_results_digits)\n",
    "\n",
    "#Store result with best accuracy in overall results dataframe\n",
    "overall_results_digits.loc['bayes']=bayes_results_digits.loc[1]"
   ],
   "metadata": {
    "collapsed": false,
    "pycharm": {
     "name": "#%%\n"
    }
   }
  },
  {
   "cell_type": "markdown",
   "source": [
    "## Perceptron\n",
    "\n",
    "### Iris"
   ],
   "metadata": {
    "collapsed": false
   }
  },
  {
   "cell_type": "code",
   "execution_count": 6,
   "outputs": [
    {
     "data": {
      "text/plain": "  accuracy precision time training time testing\n1     0.34      0.34    0.00299191            0",
      "text/html": "<div>\n<style scoped>\n    .dataframe tbody tr th:only-of-type {\n        vertical-align: middle;\n    }\n\n    .dataframe tbody tr th {\n        vertical-align: top;\n    }\n\n    .dataframe thead th {\n        text-align: right;\n    }\n</style>\n<table border=\"1\" class=\"dataframe\">\n  <thead>\n    <tr style=\"text-align: right;\">\n      <th></th>\n      <th>accuracy</th>\n      <th>precision</th>\n      <th>time training</th>\n      <th>time testing</th>\n    </tr>\n  </thead>\n  <tbody>\n    <tr>\n      <th>1</th>\n      <td>0.34</td>\n      <td>0.34</td>\n      <td>0.00299191</td>\n      <td>0</td>\n    </tr>\n  </tbody>\n</table>\n</div>"
     },
     "metadata": {},
     "output_type": "display_data"
    }
   ],
   "source": [
    "from sklearn import linear_model\n",
    "\n",
    "# load the Iris dataset\n",
    "dataSet = datasets.load_iris()\n",
    "\n",
    "data, target = shuffle(dataSet.data, dataSet.target, random_state=randomState)\n",
    "\n",
    "# Prepare dataframe for results\n",
    "perceptron_results_iris = pd.DataFrame(columns=['accuracy','precision','time training', 'time testing'], index=[1])\n",
    "\n",
    "# Prepare a train/test set split\n",
    "# split 2/3 1/3 into training & test set\n",
    "# We use the random number generator state +1; this will influence how our data is split\n",
    "X_train, X_test, y_train, y_test = train_test_split(data, target, test_size=0.33, random_state=(randomState+1))\n",
    "\n",
    "classifier = linear_model.Perceptron()\n",
    "classifier.random_state = randomState\n",
    "start_time_train = time.time()\n",
    "classifier.fit(X_train, y_train)\n",
    "end_time_train = time.time()\n",
    "\n",
    "# predict the test set on our trained classifier\n",
    "start_time_test = time.time()\n",
    "y_test_predicted = classifier.predict(X_test)\n",
    "end_time_test = time.time()\n",
    "\n",
    "# Compute metrics\n",
    "acc=metrics.accuracy_score(y_test, y_test_predicted)\n",
    "precision=metrics.precision_score(y_test, y_test_predicted, average=\"micro\")\n",
    "\n",
    "perceptron_results_iris.loc[1] = pd.Series({\n",
    "    'accuracy':acc,\n",
    "    'precision':precision,\n",
    "    'time training':end_time_train-start_time_train,\n",
    "    'time testing':end_time_test-start_time_test\n",
    "})\n",
    "\n",
    "display(perceptron_results_iris)\n",
    "\n",
    "#Store result with best accuracy in overall results dataframe\n",
    "overall_results_iris.loc['perceptron']=perceptron_results_iris.loc[1]"
   ],
   "metadata": {
    "collapsed": false,
    "pycharm": {
     "name": "#%%\n"
    }
   }
  },
  {
   "cell_type": "markdown",
   "source": [
    "### Digits"
   ],
   "metadata": {
    "collapsed": false
   }
  },
  {
   "cell_type": "code",
   "execution_count": 7,
   "outputs": [
    {
     "data": {
      "text/plain": "   accuracy precision time training time testing\n1  0.939394  0.939394     0.0279253            0",
      "text/html": "<div>\n<style scoped>\n    .dataframe tbody tr th:only-of-type {\n        vertical-align: middle;\n    }\n\n    .dataframe tbody tr th {\n        vertical-align: top;\n    }\n\n    .dataframe thead th {\n        text-align: right;\n    }\n</style>\n<table border=\"1\" class=\"dataframe\">\n  <thead>\n    <tr style=\"text-align: right;\">\n      <th></th>\n      <th>accuracy</th>\n      <th>precision</th>\n      <th>time training</th>\n      <th>time testing</th>\n    </tr>\n  </thead>\n  <tbody>\n    <tr>\n      <th>1</th>\n      <td>0.939394</td>\n      <td>0.939394</td>\n      <td>0.0279253</td>\n      <td>0</td>\n    </tr>\n  </tbody>\n</table>\n</div>"
     },
     "metadata": {},
     "output_type": "display_data"
    }
   ],
   "source": [
    "from sklearn import linear_model\n",
    "\n",
    "# load the digit dataset\n",
    "dataSet = datasets.load_digits()\n",
    "\n",
    "data, target = shuffle(dataSet.data, dataSet.target, random_state=randomState)\n",
    "\n",
    "# Prepare dataframe for results\n",
    "perceptron_results_digits = pd.DataFrame(columns=['accuracy','precision','time training', 'time testing'], index=[1])\n",
    "\n",
    "# Prepare a train/test set split\n",
    "# split 2/3 1/3 into training & test set\n",
    "# We use the random number generator state +1; this will influence how our data is split\n",
    "X_train, X_test, y_train, y_test = train_test_split(data, target, test_size=0.33, random_state=(randomState+1))\n",
    "\n",
    "classifier = linear_model.Perceptron()\n",
    "classifier.random_state = randomState\n",
    "\n",
    "start_time_train = time.time()\n",
    "classifier.fit(X_train, y_train)\n",
    "end_time_train = time.time()\n",
    "\n",
    "# predict the test set on our trained classifier\n",
    "start_time_test = time.time()\n",
    "y_test_predicted = classifier.predict(X_test)\n",
    "end_time_test = time.time()\n",
    "\n",
    "# Compute metrics\n",
    "acc=metrics.accuracy_score(y_test, y_test_predicted)\n",
    "precision=metrics.precision_score(y_test, y_test_predicted, average=\"micro\")\n",
    "\n",
    "perceptron_results_digits.loc[1] = pd.Series({\n",
    "    'accuracy':acc,\n",
    "    'precision':precision,\n",
    "    'time training':end_time_train-start_time_train,\n",
    "    'time testing':end_time_test-start_time_test\n",
    "})\n",
    "\n",
    "display(perceptron_results_digits)\n",
    "\n",
    "#Store result with best accuracy in overall results dataframe\n",
    "overall_results_digits.loc['perceptron']=perceptron_results_digits.loc[1]"
   ],
   "metadata": {
    "collapsed": false,
    "pycharm": {
     "name": "#%%\n"
    }
   }
  },
  {
   "cell_type": "markdown",
   "source": [
    "## Decision Tree\n",
    "\n",
    "### Iris"
   ],
   "metadata": {
    "collapsed": false
   }
  },
  {
   "cell_type": "code",
   "execution_count": 8,
   "outputs": [
    {
     "data": {
      "text/plain": "  accuracy precision time training time testing\n1     0.58      0.58    0.00100017            0\n2      0.9       0.9    0.00102806            0\n3     0.92      0.92   0.000996113            0\n4     0.92      0.92             0            0\n5     0.92      0.92   0.000997305            0\n6     0.92      0.92             0            0\n7     0.92      0.92   0.000999212            0\n8     0.92      0.92             0  0.000997305\n9     0.92      0.92   0.000997543            0",
      "text/html": "<div>\n<style scoped>\n    .dataframe tbody tr th:only-of-type {\n        vertical-align: middle;\n    }\n\n    .dataframe tbody tr th {\n        vertical-align: top;\n    }\n\n    .dataframe thead th {\n        text-align: right;\n    }\n</style>\n<table border=\"1\" class=\"dataframe\">\n  <thead>\n    <tr style=\"text-align: right;\">\n      <th></th>\n      <th>accuracy</th>\n      <th>precision</th>\n      <th>time training</th>\n      <th>time testing</th>\n    </tr>\n  </thead>\n  <tbody>\n    <tr>\n      <th>1</th>\n      <td>0.58</td>\n      <td>0.58</td>\n      <td>0.00100017</td>\n      <td>0</td>\n    </tr>\n    <tr>\n      <th>2</th>\n      <td>0.9</td>\n      <td>0.9</td>\n      <td>0.00102806</td>\n      <td>0</td>\n    </tr>\n    <tr>\n      <th>3</th>\n      <td>0.92</td>\n      <td>0.92</td>\n      <td>0.000996113</td>\n      <td>0</td>\n    </tr>\n    <tr>\n      <th>4</th>\n      <td>0.92</td>\n      <td>0.92</td>\n      <td>0</td>\n      <td>0</td>\n    </tr>\n    <tr>\n      <th>5</th>\n      <td>0.92</td>\n      <td>0.92</td>\n      <td>0.000997305</td>\n      <td>0</td>\n    </tr>\n    <tr>\n      <th>6</th>\n      <td>0.92</td>\n      <td>0.92</td>\n      <td>0</td>\n      <td>0</td>\n    </tr>\n    <tr>\n      <th>7</th>\n      <td>0.92</td>\n      <td>0.92</td>\n      <td>0.000999212</td>\n      <td>0</td>\n    </tr>\n    <tr>\n      <th>8</th>\n      <td>0.92</td>\n      <td>0.92</td>\n      <td>0</td>\n      <td>0.000997305</td>\n    </tr>\n    <tr>\n      <th>9</th>\n      <td>0.92</td>\n      <td>0.92</td>\n      <td>0.000997543</td>\n      <td>0</td>\n    </tr>\n  </tbody>\n</table>\n</div>"
     },
     "metadata": {},
     "output_type": "display_data"
    },
    {
     "data": {
      "text/plain": "<Figure size 432x288 with 1 Axes>",
      "image/png": "[encoded data removed]"
     },
     "metadata": {
      "needs_background": "light"
     },
     "output_type": "display_data"
    },
    {
     "data": {
      "text/plain": "<Figure size 432x288 with 1 Axes>",
      "image/png": "[encoded data removed]"
     },
     "metadata": {
      "needs_background": "light"
     },
     "output_type": "display_data"
    }
   ],
   "source": [
    "from sklearn import tree\n",
    "\n",
    "# load the Iris dataset\n",
    "dataSet = datasets.load_iris()\n",
    "\n",
    "# max depth values\n",
    "max_depth_values = range(1,10)\n",
    "\n",
    "data, target = shuffle(dataSet.data, dataSet.target, random_state=randomState)\n",
    "\n",
    "# Prepare dataframe for results\n",
    "decision_tree_results_iris = pd.DataFrame(columns=['accuracy','precision','time training', 'time testing'], index=max_depth_values)\n",
    "\n",
    "\n",
    "# Prepare a train/test set split\n",
    "# split 2/3 1/3 into training & test set\n",
    "# We use the random number generator state +1; this will influence how our data is split\n",
    "X_train, X_test, y_train, y_test = train_test_split(data, target, test_size=0.33, random_state=(randomState+1))\n",
    "\n",
    "for max_depth in max_depth_values:\n",
    "    classifier = tree.DecisionTreeClassifier(criterion='gini', max_depth=max_depth)\n",
    "    classifier.random_state = randomState\n",
    "\n",
    "    start_time_train = time.time()\n",
    "    classifier.fit(X_train, y_train)\n",
    "    end_time_train = time.time()\n",
    "\n",
    "    # predict the test set on our trained classifier\n",
    "    start_time_test = time.time()\n",
    "    y_test_predicted = classifier.predict(X_test)\n",
    "    end_time_test = time.time()\n",
    "\n",
    "    # Compute metrics\n",
    "    acc=metrics.accuracy_score(y_test, y_test_predicted)\n",
    "    precision=metrics.precision_score(y_test, y_test_predicted, average=\"micro\")\n",
    "\n",
    "    tree.plot_tree(classifier.fit(dataSet.data, dataSet.target))\n",
    "\n",
    "    decision_tree_results_iris.loc[max_depth] = pd.Series({\n",
    "        'accuracy':acc,\n",
    "        'precision':precision,\n",
    "        'time training':end_time_train-start_time_train,\n",
    "        'time testing':end_time_test-start_time_test\n",
    "    })\n",
    "\n",
    "display(decision_tree_results_iris)\n",
    "decision_tree_results_iris[['accuracy','precision']].plot.line()\n",
    "\n",
    "#Store result with best accuracy in overall results dataframe\n",
    "best_result = decision_tree_results_iris[decision_tree_results_iris['accuracy']==decision_tree_results_iris['accuracy'].max()]\n",
    "overall_results_iris.loc['decision tree']=best_result.loc[best_result.last_valid_index()]"
   ],
   "metadata": {
    "collapsed": false,
    "pycharm": {
     "name": "#%%\n"
    }
   }
  },
  {
   "cell_type": "markdown",
   "source": [
    "### Digits"
   ],
   "metadata": {
    "collapsed": false
   }
  },
  {
   "cell_type": "code",
   "execution_count": 9,
   "outputs": [
    {
     "data": {
      "text/plain": "    accuracy precision time training time testing\n1   0.183502  0.183502    0.00199461            0\n2   0.294613  0.294613    0.00398922            0\n3   0.462963  0.462963      0.004987            0\n4   0.550505  0.550505    0.00897574            0\n5   0.664983  0.664983    0.00994015            0\n6   0.750842  0.750842     0.0109708            0\n7   0.801347  0.801347      0.011941            0\n8   0.826599  0.826599     0.0129936            0\n9   0.838384  0.838384      0.012965            0\n10  0.851852  0.851852      0.013967            0\n11  0.856902  0.856902     0.0139904            0\n12  0.855219  0.855219     0.0149872            0\n13  0.851852  0.851852     0.0159571            0\n14  0.853535  0.853535     0.0149601            0\n15  0.853535  0.853535     0.0159581  0.000997305\n16  0.853535  0.853535     0.0149601  0.000997305\n17  0.853535  0.853535     0.0149598            0\n18  0.853535  0.853535     0.0159619            0\n19  0.853535  0.853535     0.0139644  0.000969172",
      "text/html": "<div>\n<style scoped>\n    .dataframe tbody tr th:only-of-type {\n        vertical-align: middle;\n    }\n\n    .dataframe tbody tr th {\n        vertical-align: top;\n    }\n\n    .dataframe thead th {\n        text-align: right;\n    }\n</style>\n<table border=\"1\" class=\"dataframe\">\n  <thead>\n    <tr style=\"text-align: right;\">\n      <th></th>\n      <th>accuracy</th>\n      <th>precision</th>\n      <th>time training</th>\n      <th>time testing</th>\n    </tr>\n  </thead>\n  <tbody>\n    <tr>\n      <th>1</th>\n      <td>0.183502</td>\n      <td>0.183502</td>\n      <td>0.00199461</td>\n      <td>0</td>\n    </tr>\n    <tr>\n      <th>2</th>\n      <td>0.294613</td>\n      <td>0.294613</td>\n      <td>0.00398922</td>\n      <td>0</td>\n    </tr>\n    <tr>\n      <th>3</th>\n      <td>0.462963</td>\n      <td>0.462963</td>\n      <td>0.004987</td>\n      <td>0</td>\n    </tr>\n    <tr>\n      <th>4</th>\n      <td>0.550505</td>\n      <td>0.550505</td>\n      <td>0.00897574</td>\n      <td>0</td>\n    </tr>\n    <tr>\n      <th>5</th>\n      <td>0.664983</td>\n      <td>0.664983</td>\n      <td>0.00994015</td>\n      <td>0</td>\n    </tr>\n    <tr>\n      <th>6</th>\n      <td>0.750842</td>\n      <td>0.750842</td>\n      <td>0.0109708</td>\n      <td>0</td>\n    </tr>\n    <tr>\n      <th>7</th>\n      <td>0.801347</td>\n      <td>0.801347</td>\n      <td>0.011941</td>\n      <td>0</td>\n    </tr>\n    <tr>\n      <th>8</th>\n      <td>0.826599</td>\n      <td>0.826599</td>\n      <td>0.0129936</td>\n      <td>0</td>\n    </tr>\n    <tr>\n      <th>9</th>\n      <td>0.838384</td>\n      <td>0.838384</td>\n      <td>0.012965</td>\n      <td>0</td>\n    </tr>\n    <tr>\n      <th>10</th>\n      <td>0.851852</td>\n      <td>0.851852</td>\n      <td>0.013967</td>\n      <td>0</td>\n    </tr>\n    <tr>\n      <th>11</th>\n      <td>0.856902</td>\n      <td>0.856902</td>\n      <td>0.0139904</td>\n      <td>0</td>\n    </tr>\n    <tr>\n      <th>12</th>\n      <td>0.855219</td>\n      <td>0.855219</td>\n      <td>0.0149872</td>\n      <td>0</td>\n    </tr>\n    <tr>\n      <th>13</th>\n      <td>0.851852</td>\n      <td>0.851852</td>\n      <td>0.0159571</td>\n      <td>0</td>\n    </tr>\n    <tr>\n      <th>14</th>\n      <td>0.853535</td>\n      <td>0.853535</td>\n      <td>0.0149601</td>\n      <td>0</td>\n    </tr>\n    <tr>\n      <th>15</th>\n      <td>0.853535</td>\n      <td>0.853535</td>\n      <td>0.0159581</td>\n      <td>0.000997305</td>\n    </tr>\n    <tr>\n      <th>16</th>\n      <td>0.853535</td>\n      <td>0.853535</td>\n      <td>0.0149601</td>\n      <td>0.000997305</td>\n    </tr>\n    <tr>\n      <th>17</th>\n      <td>0.853535</td>\n      <td>0.853535</td>\n      <td>0.0149598</td>\n      <td>0</td>\n    </tr>\n    <tr>\n      <th>18</th>\n      <td>0.853535</td>\n      <td>0.853535</td>\n      <td>0.0159619</td>\n      <td>0</td>\n    </tr>\n    <tr>\n      <th>19</th>\n      <td>0.853535</td>\n      <td>0.853535</td>\n      <td>0.0139644</td>\n      <td>0.000969172</td>\n    </tr>\n  </tbody>\n</table>\n</div>"
     },
     "metadata": {},
     "output_type": "display_data"
    },
    {
     "data": {
      "text/plain": "<Figure size 432x288 with 1 Axes>",
      "image/png": "[encoded data removed]"
     },
     "metadata": {
      "needs_background": "light"
     },
     "output_type": "display_data"
    },
    {
     "data": {
      "text/plain": "<Figure size 432x288 with 1 Axes>",
      "image/png": "[encoded data removed]"
     },
     "metadata": {
      "needs_background": "light"
     },
     "output_type": "display_data"
    }
   ],
   "source": [
    "from sklearn import tree\n",
    "\n",
    "# load the digit dataset\n",
    "dataSet = datasets.load_digits()\n",
    "\n",
    "# max depth values\n",
    "max_depth_values = range(1,20)\n",
    "\n",
    "data, target = shuffle(dataSet.data, dataSet.target, random_state=randomState)\n",
    "\n",
    "# Prepare dataframe for results\n",
    "decision_tree_results_digits = pd.DataFrame(columns=['accuracy','precision','time training', 'time testing'], index=max_depth_values)\n",
    "\n",
    "\n",
    "# Prepare a train/test set split\n",
    "# split 2/3 1/3 into training & test set\n",
    "# We use the random number generator state +1; this will influence how our data is split\n",
    "X_train, X_test, y_train, y_test = train_test_split(data, target, test_size=0.33, random_state=(randomState+1))\n",
    "\n",
    "for max_depth in max_depth_values:\n",
    "    classifier = tree.DecisionTreeClassifier(criterion='gini', max_depth=max_depth)\n",
    "    classifier.random_state = randomState\n",
    "\n",
    "    start_time_train = time.time()\n",
    "    classifier.fit(X_train, y_train)\n",
    "    end_time_train = time.time()\n",
    "\n",
    "    # predict the test set on our trained classifier\n",
    "    start_time_test = time.time()\n",
    "    y_test_predicted = classifier.predict(X_test)\n",
    "    end_time_test = time.time()\n",
    "\n",
    "    # Compute metrics\n",
    "    acc=metrics.accuracy_score(y_test, y_test_predicted)\n",
    "    precision=metrics.precision_score(y_test, y_test_predicted, average=\"micro\")\n",
    "\n",
    "    tree.plot_tree(classifier.fit(dataSet.data, dataSet.target))\n",
    "\n",
    "    decision_tree_results_digits.loc[max_depth] = pd.Series({\n",
    "        'accuracy':acc,\n",
    "        'precision':precision,\n",
    "        'time training':end_time_train-start_time_train,\n",
    "        'time testing':end_time_test-start_time_test\n",
    "    })\n",
    "\n",
    "display(decision_tree_results_digits)\n",
    "decision_tree_results_digits[['accuracy','precision']].plot.line()\n",
    "\n",
    "#Store result with best accuracy in overall results dataframe\n",
    "best_result = decision_tree_results_digits[decision_tree_results_digits['accuracy']==decision_tree_results_digits['accuracy'].max()]\n",
    "overall_results_digits.loc['decision tree']=best_result.loc[best_result.last_valid_index()]"
   ],
   "metadata": {
    "collapsed": false,
    "pycharm": {
     "name": "#%%\n"
    }
   }
  },
  {
   "cell_type": "markdown",
   "source": [
    "# Overall Results\n",
    "## Iris Dataset"
   ],
   "metadata": {
    "collapsed": false,
    "pycharm": {
     "name": "#%% md\n"
    }
   }
  },
  {
   "cell_type": "code",
   "execution_count": 10,
   "outputs": [
    {
     "data": {
      "text/plain": "              accuracy precision time training time testing\nk-NN              0.98      0.98             0   0.00199437\nbayes              0.9       0.9             0  0.000998259\nperceptron        0.34      0.34    0.00299191            0\ndecision tree     0.92      0.92   0.000997543            0",
      "text/html": "<div>\n<style scoped>\n    .dataframe tbody tr th:only-of-type {\n        vertical-align: middle;\n    }\n\n    .dataframe tbody tr th {\n        vertical-align: top;\n    }\n\n    .dataframe thead th {\n        text-align: right;\n    }\n</style>\n<table border=\"1\" class=\"dataframe\">\n  <thead>\n    <tr style=\"text-align: right;\">\n      <th></th>\n      <th>accuracy</th>\n      <th>precision</th>\n      <th>time training</th>\n      <th>time testing</th>\n    </tr>\n  </thead>\n  <tbody>\n    <tr>\n      <th>k-NN</th>\n      <td>0.98</td>\n      <td>0.98</td>\n      <td>0</td>\n      <td>0.00199437</td>\n    </tr>\n    <tr>\n      <th>bayes</th>\n      <td>0.9</td>\n      <td>0.9</td>\n      <td>0</td>\n      <td>0.000998259</td>\n    </tr>\n    <tr>\n      <th>perceptron</th>\n      <td>0.34</td>\n      <td>0.34</td>\n      <td>0.00299191</td>\n      <td>0</td>\n    </tr>\n    <tr>\n      <th>decision tree</th>\n      <td>0.92</td>\n      <td>0.92</td>\n      <td>0.000997543</td>\n      <td>0</td>\n    </tr>\n  </tbody>\n</table>\n</div>"
     },
     "metadata": {},
     "output_type": "display_data"
    }
   ],
   "source": [
    "display(overall_results_iris)"
   ],
   "metadata": {
    "collapsed": false,
    "pycharm": {
     "name": "#%%\n"
    }
   }
  },
  {
   "cell_type": "markdown",
   "source": [
    "## Handwritten Numbers Dataset"
   ],
   "metadata": {
    "collapsed": false
   }
  },
  {
   "cell_type": "code",
   "execution_count": 11,
   "outputs": [
    {
     "data": {
      "text/plain": "               accuracy precision time training time testing\nk-NN               0.98      0.98             0   0.00199437\nbayes          0.833333  0.833333    0.00199389   0.00199509\nperceptron     0.939394  0.939394     0.0279253            0\ndecision tree  0.856902  0.856902     0.0139904            0",
      "text/html": "<div>\n<style scoped>\n    .dataframe tbody tr th:only-of-type {\n        vertical-align: middle;\n    }\n\n    .dataframe tbody tr th {\n        vertical-align: top;\n    }\n\n    .dataframe thead th {\n        text-align: right;\n    }\n</style>\n<table border=\"1\" class=\"dataframe\">\n  <thead>\n    <tr style=\"text-align: right;\">\n      <th></th>\n      <th>accuracy</th>\n      <th>precision</th>\n      <th>time training</th>\n      <th>time testing</th>\n    </tr>\n  </thead>\n  <tbody>\n    <tr>\n      <th>k-NN</th>\n      <td>0.98</td>\n      <td>0.98</td>\n      <td>0</td>\n      <td>0.00199437</td>\n    </tr>\n    <tr>\n      <th>bayes</th>\n      <td>0.833333</td>\n      <td>0.833333</td>\n      <td>0.00199389</td>\n      <td>0.00199509</td>\n    </tr>\n    <tr>\n      <th>perceptron</th>\n      <td>0.939394</td>\n      <td>0.939394</td>\n      <td>0.0279253</td>\n      <td>0</td>\n    </tr>\n    <tr>\n      <th>decision tree</th>\n      <td>0.856902</td>\n      <td>0.856902</td>\n      <td>0.0139904</td>\n      <td>0</td>\n    </tr>\n  </tbody>\n</table>\n</div>"
     },
     "metadata": {},
     "output_type": "display_data"
    }
   ],
   "source": [
    "display(overall_results_digits)\n"
   ],
   "metadata": {
    "collapsed": false,
    "pycharm": {
     "name": "#%%\n"
    }
   }
  }
 ],
 "metadata": {
  "kernelspec": {
   "display_name": "Python 3",
   "language": "python",
   "name": "python3"
  },
  "language_info": {
   "codemirror_mode": {
    "name": "ipython",
    "version": 2
   },
   "file_extension": ".py",
   "mimetype": "text/x-python",
   "name": "python",
   "nbconvert_exporter": "python",
   "pygments_lexer": "ipython2",
   "version": "2.7.6"
  }
 },
 "nbformat": 4,
 "nbformat_minor": 0
}